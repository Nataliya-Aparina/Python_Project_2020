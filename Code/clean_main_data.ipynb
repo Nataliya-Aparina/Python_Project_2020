{
 "cells": [
  {
   "cell_type": "markdown",
   "metadata": {},
   "source": [
    "### Dataset from the World Bank with 7 variables (1991-2016) to analyse and predict CO2 per capita "
   ]
  },
  {
   "cell_type": "code",
   "execution_count": 1,
   "metadata": {},
   "outputs": [],
   "source": [
    "import pandas as pd\n",
    "import numpy as np\n",
    "import plotly.express as px\n",
    "import matplotlib.pyplot as plt\n",
    "import seaborn as sns"
   ]
  },
  {
   "cell_type": "code",
   "execution_count": 2,
   "metadata": {
    "scrolled": true
   },
   "outputs": [],
   "source": [
    "df = pd.read_csv('../data/forecast/0d1ad230-68ef-4006-81dd-63fabf671a64_Data.csv', sep = ',')"
   ]
  },
  {
   "cell_type": "code",
   "execution_count": 3,
   "metadata": {},
   "outputs": [
    {
     "data": {
      "text/html": [
       "<div>\n",
       "<style scoped>\n",
       "    .dataframe tbody tr th:only-of-type {\n",
       "        vertical-align: middle;\n",
       "    }\n",
       "\n",
       "    .dataframe tbody tr th {\n",
       "        vertical-align: top;\n",
       "    }\n",
       "\n",
       "    .dataframe thead th {\n",
       "        text-align: right;\n",
       "    }\n",
       "</style>\n",
       "<table border=\"1\" class=\"dataframe\">\n",
       "  <thead>\n",
       "    <tr style=\"text-align: right;\">\n",
       "      <th></th>\n",
       "      <th>Country Name</th>\n",
       "      <th>Country Code</th>\n",
       "      <th>Series Name</th>\n",
       "      <th>Series Code</th>\n",
       "      <th>1991 [YR1991]</th>\n",
       "      <th>1992 [YR1992]</th>\n",
       "      <th>1993 [YR1993]</th>\n",
       "      <th>1994 [YR1994]</th>\n",
       "      <th>1995 [YR1995]</th>\n",
       "      <th>1996 [YR1996]</th>\n",
       "      <th>...</th>\n",
       "      <th>2007 [YR2007]</th>\n",
       "      <th>2008 [YR2008]</th>\n",
       "      <th>2009 [YR2009]</th>\n",
       "      <th>2010 [YR2010]</th>\n",
       "      <th>2011 [YR2011]</th>\n",
       "      <th>2012 [YR2012]</th>\n",
       "      <th>2013 [YR2013]</th>\n",
       "      <th>2014 [YR2014]</th>\n",
       "      <th>2015 [YR2015]</th>\n",
       "      <th>2016 [YR2016]</th>\n",
       "    </tr>\n",
       "  </thead>\n",
       "  <tbody>\n",
       "    <tr>\n",
       "      <th>0</th>\n",
       "      <td>Afghanistan</td>\n",
       "      <td>AFG</td>\n",
       "      <td>CO2 emissions (metric tons per capita)</td>\n",
       "      <td>EN.ATM.CO2E.PC</td>\n",
       "      <td>0.183363552358795</td>\n",
       "      <td>0.0961965810608727</td>\n",
       "      <td>0.0850871075160703</td>\n",
       "      <td>0.0758064942125158</td>\n",
       "      <td>0.0686398621540897</td>\n",
       "      <td>0.0624346107290676</td>\n",
       "      <td>...</td>\n",
       "      <td>0.0838928056625891</td>\n",
       "      <td>0.151720912092499</td>\n",
       "      <td>0.238398541311049</td>\n",
       "      <td>0.289987629819143</td>\n",
       "      <td>0.406424217113203</td>\n",
       "      <td>0.345148782903553</td>\n",
       "      <td>0.280454641055391</td>\n",
       "      <td>0.253727945460333</td>\n",
       "      <td>0.262555710891417</td>\n",
       "      <td>0.245101422350223</td>\n",
       "    </tr>\n",
       "    <tr>\n",
       "      <th>1</th>\n",
       "      <td>Afghanistan</td>\n",
       "      <td>AFG</td>\n",
       "      <td>GDP per capita (constant 2010 US$)</td>\n",
       "      <td>NY.GDP.PCAP.KD</td>\n",
       "      <td>..</td>\n",
       "      <td>..</td>\n",
       "      <td>..</td>\n",
       "      <td>..</td>\n",
       "      <td>..</td>\n",
       "      <td>..</td>\n",
       "      <td>...</td>\n",
       "      <td>405.548979051796</td>\n",
       "      <td>412.014286663305</td>\n",
       "      <td>488.300250990155</td>\n",
       "      <td>543.303041863931</td>\n",
       "      <td>528.736648057768</td>\n",
       "      <td>576.190125450699</td>\n",
       "      <td>587.565090150175</td>\n",
       "      <td>583.656192833123</td>\n",
       "      <td>574.184114271259</td>\n",
       "      <td>571.07377452356</td>\n",
       "    </tr>\n",
       "    <tr>\n",
       "      <th>2</th>\n",
       "      <td>Afghanistan</td>\n",
       "      <td>AFG</td>\n",
       "      <td>Urban population</td>\n",
       "      <td>SP.URB.TOTL</td>\n",
       "      <td>2828169</td>\n",
       "      <td>3093388</td>\n",
       "      <td>3391712</td>\n",
       "      <td>3677087</td>\n",
       "      <td>3916248</td>\n",
       "      <td>4093835</td>\n",
       "      <td>...</td>\n",
       "      <td>6263747</td>\n",
       "      <td>6464835</td>\n",
       "      <td>6680732</td>\n",
       "      <td>6927764</td>\n",
       "      <td>7212518</td>\n",
       "      <td>7528588</td>\n",
       "      <td>7865067</td>\n",
       "      <td>8204877</td>\n",
       "      <td>8535606</td>\n",
       "      <td>8852859</td>\n",
       "    </tr>\n",
       "    <tr>\n",
       "      <th>3</th>\n",
       "      <td>Afghanistan</td>\n",
       "      <td>AFG</td>\n",
       "      <td>Forest area (% of land area)</td>\n",
       "      <td>AG.LND.FRST.ZS</td>\n",
       "      <td>2.06782464846981</td>\n",
       "      <td>2.06782464846981</td>\n",
       "      <td>2.06782464846981</td>\n",
       "      <td>2.06782464846981</td>\n",
       "      <td>2.06782464846981</td>\n",
       "      <td>2.06782464846981</td>\n",
       "      <td>...</td>\n",
       "      <td>2.06782464846981</td>\n",
       "      <td>2.06782464846981</td>\n",
       "      <td>2.06782464846981</td>\n",
       "      <td>2.06782464846981</td>\n",
       "      <td>2.06782464846981</td>\n",
       "      <td>2.06782464846981</td>\n",
       "      <td>2.06782464846981</td>\n",
       "      <td>2.06782464846981</td>\n",
       "      <td>2.06782464846981</td>\n",
       "      <td>2.06782464846981</td>\n",
       "    </tr>\n",
       "    <tr>\n",
       "      <th>4</th>\n",
       "      <td>Afghanistan</td>\n",
       "      <td>AFG</td>\n",
       "      <td>Forest area (sq. km)</td>\n",
       "      <td>AG.LND.FRST.K2</td>\n",
       "      <td>13500</td>\n",
       "      <td>13500</td>\n",
       "      <td>13500</td>\n",
       "      <td>13500</td>\n",
       "      <td>13500</td>\n",
       "      <td>13500</td>\n",
       "      <td>...</td>\n",
       "      <td>13500</td>\n",
       "      <td>13500</td>\n",
       "      <td>13500</td>\n",
       "      <td>13500</td>\n",
       "      <td>13500</td>\n",
       "      <td>13500</td>\n",
       "      <td>13500</td>\n",
       "      <td>13500</td>\n",
       "      <td>13500</td>\n",
       "      <td>13500</td>\n",
       "    </tr>\n",
       "    <tr>\n",
       "      <th>...</th>\n",
       "      <td>...</td>\n",
       "      <td>...</td>\n",
       "      <td>...</td>\n",
       "      <td>...</td>\n",
       "      <td>...</td>\n",
       "      <td>...</td>\n",
       "      <td>...</td>\n",
       "      <td>...</td>\n",
       "      <td>...</td>\n",
       "      <td>...</td>\n",
       "      <td>...</td>\n",
       "      <td>...</td>\n",
       "      <td>...</td>\n",
       "      <td>...</td>\n",
       "      <td>...</td>\n",
       "      <td>...</td>\n",
       "      <td>...</td>\n",
       "      <td>...</td>\n",
       "      <td>...</td>\n",
       "      <td>...</td>\n",
       "      <td>...</td>\n",
       "    </tr>\n",
       "    <tr>\n",
       "      <th>1848</th>\n",
       "      <td>NaN</td>\n",
       "      <td>NaN</td>\n",
       "      <td>NaN</td>\n",
       "      <td>NaN</td>\n",
       "      <td>NaN</td>\n",
       "      <td>NaN</td>\n",
       "      <td>NaN</td>\n",
       "      <td>NaN</td>\n",
       "      <td>NaN</td>\n",
       "      <td>NaN</td>\n",
       "      <td>...</td>\n",
       "      <td>NaN</td>\n",
       "      <td>NaN</td>\n",
       "      <td>NaN</td>\n",
       "      <td>NaN</td>\n",
       "      <td>NaN</td>\n",
       "      <td>NaN</td>\n",
       "      <td>NaN</td>\n",
       "      <td>NaN</td>\n",
       "      <td>NaN</td>\n",
       "      <td>NaN</td>\n",
       "    </tr>\n",
       "    <tr>\n",
       "      <th>1849</th>\n",
       "      <td>NaN</td>\n",
       "      <td>NaN</td>\n",
       "      <td>NaN</td>\n",
       "      <td>NaN</td>\n",
       "      <td>NaN</td>\n",
       "      <td>NaN</td>\n",
       "      <td>NaN</td>\n",
       "      <td>NaN</td>\n",
       "      <td>NaN</td>\n",
       "      <td>NaN</td>\n",
       "      <td>...</td>\n",
       "      <td>NaN</td>\n",
       "      <td>NaN</td>\n",
       "      <td>NaN</td>\n",
       "      <td>NaN</td>\n",
       "      <td>NaN</td>\n",
       "      <td>NaN</td>\n",
       "      <td>NaN</td>\n",
       "      <td>NaN</td>\n",
       "      <td>NaN</td>\n",
       "      <td>NaN</td>\n",
       "    </tr>\n",
       "    <tr>\n",
       "      <th>1850</th>\n",
       "      <td>NaN</td>\n",
       "      <td>NaN</td>\n",
       "      <td>NaN</td>\n",
       "      <td>NaN</td>\n",
       "      <td>NaN</td>\n",
       "      <td>NaN</td>\n",
       "      <td>NaN</td>\n",
       "      <td>NaN</td>\n",
       "      <td>NaN</td>\n",
       "      <td>NaN</td>\n",
       "      <td>...</td>\n",
       "      <td>NaN</td>\n",
       "      <td>NaN</td>\n",
       "      <td>NaN</td>\n",
       "      <td>NaN</td>\n",
       "      <td>NaN</td>\n",
       "      <td>NaN</td>\n",
       "      <td>NaN</td>\n",
       "      <td>NaN</td>\n",
       "      <td>NaN</td>\n",
       "      <td>NaN</td>\n",
       "    </tr>\n",
       "    <tr>\n",
       "      <th>1851</th>\n",
       "      <td>Data from database: World Development Indicators</td>\n",
       "      <td>NaN</td>\n",
       "      <td>NaN</td>\n",
       "      <td>NaN</td>\n",
       "      <td>NaN</td>\n",
       "      <td>NaN</td>\n",
       "      <td>NaN</td>\n",
       "      <td>NaN</td>\n",
       "      <td>NaN</td>\n",
       "      <td>NaN</td>\n",
       "      <td>...</td>\n",
       "      <td>NaN</td>\n",
       "      <td>NaN</td>\n",
       "      <td>NaN</td>\n",
       "      <td>NaN</td>\n",
       "      <td>NaN</td>\n",
       "      <td>NaN</td>\n",
       "      <td>NaN</td>\n",
       "      <td>NaN</td>\n",
       "      <td>NaN</td>\n",
       "      <td>NaN</td>\n",
       "    </tr>\n",
       "    <tr>\n",
       "      <th>1852</th>\n",
       "      <td>Last Updated: 12/16/2020</td>\n",
       "      <td>NaN</td>\n",
       "      <td>NaN</td>\n",
       "      <td>NaN</td>\n",
       "      <td>NaN</td>\n",
       "      <td>NaN</td>\n",
       "      <td>NaN</td>\n",
       "      <td>NaN</td>\n",
       "      <td>NaN</td>\n",
       "      <td>NaN</td>\n",
       "      <td>...</td>\n",
       "      <td>NaN</td>\n",
       "      <td>NaN</td>\n",
       "      <td>NaN</td>\n",
       "      <td>NaN</td>\n",
       "      <td>NaN</td>\n",
       "      <td>NaN</td>\n",
       "      <td>NaN</td>\n",
       "      <td>NaN</td>\n",
       "      <td>NaN</td>\n",
       "      <td>NaN</td>\n",
       "    </tr>\n",
       "  </tbody>\n",
       "</table>\n",
       "<p>1853 rows × 30 columns</p>\n",
       "</div>"
      ],
      "text/plain": [
       "                                          Country Name Country Code  \\\n",
       "0                                          Afghanistan          AFG   \n",
       "1                                          Afghanistan          AFG   \n",
       "2                                          Afghanistan          AFG   \n",
       "3                                          Afghanistan          AFG   \n",
       "4                                          Afghanistan          AFG   \n",
       "...                                                ...          ...   \n",
       "1848                                               NaN          NaN   \n",
       "1849                                               NaN          NaN   \n",
       "1850                                               NaN          NaN   \n",
       "1851  Data from database: World Development Indicators          NaN   \n",
       "1852                          Last Updated: 12/16/2020          NaN   \n",
       "\n",
       "                                 Series Name     Series Code  \\\n",
       "0     CO2 emissions (metric tons per capita)  EN.ATM.CO2E.PC   \n",
       "1         GDP per capita (constant 2010 US$)  NY.GDP.PCAP.KD   \n",
       "2                           Urban population     SP.URB.TOTL   \n",
       "3               Forest area (% of land area)  AG.LND.FRST.ZS   \n",
       "4                       Forest area (sq. km)  AG.LND.FRST.K2   \n",
       "...                                      ...             ...   \n",
       "1848                                     NaN             NaN   \n",
       "1849                                     NaN             NaN   \n",
       "1850                                     NaN             NaN   \n",
       "1851                                     NaN             NaN   \n",
       "1852                                     NaN             NaN   \n",
       "\n",
       "          1991 [YR1991]       1992 [YR1992]       1993 [YR1993]  \\\n",
       "0     0.183363552358795  0.0961965810608727  0.0850871075160703   \n",
       "1                    ..                  ..                  ..   \n",
       "2               2828169             3093388             3391712   \n",
       "3      2.06782464846981    2.06782464846981    2.06782464846981   \n",
       "4                 13500               13500               13500   \n",
       "...                 ...                 ...                 ...   \n",
       "1848                NaN                 NaN                 NaN   \n",
       "1849                NaN                 NaN                 NaN   \n",
       "1850                NaN                 NaN                 NaN   \n",
       "1851                NaN                 NaN                 NaN   \n",
       "1852                NaN                 NaN                 NaN   \n",
       "\n",
       "           1994 [YR1994]       1995 [YR1995]       1996 [YR1996]  ...  \\\n",
       "0     0.0758064942125158  0.0686398621540897  0.0624346107290676  ...   \n",
       "1                     ..                  ..                  ..  ...   \n",
       "2                3677087             3916248             4093835  ...   \n",
       "3       2.06782464846981    2.06782464846981    2.06782464846981  ...   \n",
       "4                  13500               13500               13500  ...   \n",
       "...                  ...                 ...                 ...  ...   \n",
       "1848                 NaN                 NaN                 NaN  ...   \n",
       "1849                 NaN                 NaN                 NaN  ...   \n",
       "1850                 NaN                 NaN                 NaN  ...   \n",
       "1851                 NaN                 NaN                 NaN  ...   \n",
       "1852                 NaN                 NaN                 NaN  ...   \n",
       "\n",
       "           2007 [YR2007]      2008 [YR2008]      2009 [YR2009]  \\\n",
       "0     0.0838928056625891  0.151720912092499  0.238398541311049   \n",
       "1       405.548979051796   412.014286663305   488.300250990155   \n",
       "2                6263747            6464835            6680732   \n",
       "3       2.06782464846981   2.06782464846981   2.06782464846981   \n",
       "4                  13500              13500              13500   \n",
       "...                  ...                ...                ...   \n",
       "1848                 NaN                NaN                NaN   \n",
       "1849                 NaN                NaN                NaN   \n",
       "1850                 NaN                NaN                NaN   \n",
       "1851                 NaN                NaN                NaN   \n",
       "1852                 NaN                NaN                NaN   \n",
       "\n",
       "          2010 [YR2010]      2011 [YR2011]      2012 [YR2012]  \\\n",
       "0     0.289987629819143  0.406424217113203  0.345148782903553   \n",
       "1      543.303041863931   528.736648057768   576.190125450699   \n",
       "2               6927764            7212518            7528588   \n",
       "3      2.06782464846981   2.06782464846981   2.06782464846981   \n",
       "4                 13500              13500              13500   \n",
       "...                 ...                ...                ...   \n",
       "1848                NaN                NaN                NaN   \n",
       "1849                NaN                NaN                NaN   \n",
       "1850                NaN                NaN                NaN   \n",
       "1851                NaN                NaN                NaN   \n",
       "1852                NaN                NaN                NaN   \n",
       "\n",
       "          2013 [YR2013]      2014 [YR2014]      2015 [YR2015]  \\\n",
       "0     0.280454641055391  0.253727945460333  0.262555710891417   \n",
       "1      587.565090150175   583.656192833123   574.184114271259   \n",
       "2               7865067            8204877            8535606   \n",
       "3      2.06782464846981   2.06782464846981   2.06782464846981   \n",
       "4                 13500              13500              13500   \n",
       "...                 ...                ...                ...   \n",
       "1848                NaN                NaN                NaN   \n",
       "1849                NaN                NaN                NaN   \n",
       "1850                NaN                NaN                NaN   \n",
       "1851                NaN                NaN                NaN   \n",
       "1852                NaN                NaN                NaN   \n",
       "\n",
       "          2016 [YR2016]  \n",
       "0     0.245101422350223  \n",
       "1       571.07377452356  \n",
       "2               8852859  \n",
       "3      2.06782464846981  \n",
       "4                 13500  \n",
       "...                 ...  \n",
       "1848                NaN  \n",
       "1849                NaN  \n",
       "1850                NaN  \n",
       "1851                NaN  \n",
       "1852                NaN  \n",
       "\n",
       "[1853 rows x 30 columns]"
      ]
     },
     "execution_count": 3,
     "metadata": {},
     "output_type": "execute_result"
    }
   ],
   "source": [
    "df"
   ]
  },
  {
   "cell_type": "code",
   "execution_count": 4,
   "metadata": {},
   "outputs": [],
   "source": [
    "df = df.dropna(axis = 0)\n",
    "df = df.drop(['Series Code', 'Country Code'], axis = 1)"
   ]
  },
  {
   "cell_type": "code",
   "execution_count": 5,
   "metadata": {},
   "outputs": [
    {
     "name": "stdout",
     "output_type": "stream",
     "text": [
      "<class 'pandas.core.frame.DataFrame'>\n",
      "Int64Index: 1848 entries, 0 to 1847\n",
      "Data columns (total 28 columns):\n",
      " #   Column         Non-Null Count  Dtype \n",
      "---  ------         --------------  ----- \n",
      " 0   Country Name   1848 non-null   object\n",
      " 1   Series Name    1848 non-null   object\n",
      " 2   1991 [YR1991]  1848 non-null   object\n",
      " 3   1992 [YR1992]  1848 non-null   object\n",
      " 4   1993 [YR1993]  1848 non-null   object\n",
      " 5   1994 [YR1994]  1848 non-null   object\n",
      " 6   1995 [YR1995]  1848 non-null   object\n",
      " 7   1996 [YR1996]  1848 non-null   object\n",
      " 8   1997 [YR1997]  1848 non-null   object\n",
      " 9   1998 [YR1998]  1848 non-null   object\n",
      " 10  1999 [YR1999]  1848 non-null   object\n",
      " 11  2000 [YR2000]  1848 non-null   object\n",
      " 12  2001 [YR2001]  1848 non-null   object\n",
      " 13  2002 [YR2002]  1848 non-null   object\n",
      " 14  2003 [YR2003]  1848 non-null   object\n",
      " 15  2004 [YR2004]  1848 non-null   object\n",
      " 16  2005 [YR2005]  1848 non-null   object\n",
      " 17  2006 [YR2006]  1848 non-null   object\n",
      " 18  2007 [YR2007]  1848 non-null   object\n",
      " 19  2008 [YR2008]  1848 non-null   object\n",
      " 20  2009 [YR2009]  1848 non-null   object\n",
      " 21  2010 [YR2010]  1848 non-null   object\n",
      " 22  2011 [YR2011]  1848 non-null   object\n",
      " 23  2012 [YR2012]  1848 non-null   object\n",
      " 24  2013 [YR2013]  1848 non-null   object\n",
      " 25  2014 [YR2014]  1848 non-null   object\n",
      " 26  2015 [YR2015]  1848 non-null   object\n",
      " 27  2016 [YR2016]  1848 non-null   object\n",
      "dtypes: object(28)\n",
      "memory usage: 418.7+ KB\n"
     ]
    }
   ],
   "source": [
    "df.info()"
   ]
  },
  {
   "cell_type": "code",
   "execution_count": 6,
   "metadata": {},
   "outputs": [
    {
     "data": {
      "text/plain": [
       "Index(['Country Name', 'Series Name', '1991 [YR1991]', '1992 [YR1992]',\n",
       "       '1993 [YR1993]', '1994 [YR1994]', '1995 [YR1995]', '1996 [YR1996]',\n",
       "       '1997 [YR1997]', '1998 [YR1998]', '1999 [YR1999]', '2000 [YR2000]',\n",
       "       '2001 [YR2001]', '2002 [YR2002]', '2003 [YR2003]', '2004 [YR2004]',\n",
       "       '2005 [YR2005]', '2006 [YR2006]', '2007 [YR2007]', '2008 [YR2008]',\n",
       "       '2009 [YR2009]', '2010 [YR2010]', '2011 [YR2011]', '2012 [YR2012]',\n",
       "       '2013 [YR2013]', '2014 [YR2014]', '2015 [YR2015]', '2016 [YR2016]'],\n",
       "      dtype='object')"
      ]
     },
     "execution_count": 6,
     "metadata": {},
     "output_type": "execute_result"
    }
   ],
   "source": [
    "df.columns"
   ]
  },
  {
   "cell_type": "code",
   "execution_count": 7,
   "metadata": {},
   "outputs": [],
   "source": [
    "df = df.replace('..', 0)"
   ]
  },
  {
   "cell_type": "code",
   "execution_count": 8,
   "metadata": {},
   "outputs": [
    {
     "data": {
      "text/html": [
       "<div>\n",
       "<style scoped>\n",
       "    .dataframe tbody tr th:only-of-type {\n",
       "        vertical-align: middle;\n",
       "    }\n",
       "\n",
       "    .dataframe tbody tr th {\n",
       "        vertical-align: top;\n",
       "    }\n",
       "\n",
       "    .dataframe thead th {\n",
       "        text-align: right;\n",
       "    }\n",
       "</style>\n",
       "<table border=\"1\" class=\"dataframe\">\n",
       "  <thead>\n",
       "    <tr style=\"text-align: right;\">\n",
       "      <th></th>\n",
       "      <th>Country Name</th>\n",
       "      <th>Series Name</th>\n",
       "      <th>1991 [YR1991]</th>\n",
       "      <th>1992 [YR1992]</th>\n",
       "      <th>1993 [YR1993]</th>\n",
       "      <th>1994 [YR1994]</th>\n",
       "      <th>1995 [YR1995]</th>\n",
       "      <th>1996 [YR1996]</th>\n",
       "      <th>1997 [YR1997]</th>\n",
       "      <th>1998 [YR1998]</th>\n",
       "      <th>...</th>\n",
       "      <th>2007 [YR2007]</th>\n",
       "      <th>2008 [YR2008]</th>\n",
       "      <th>2009 [YR2009]</th>\n",
       "      <th>2010 [YR2010]</th>\n",
       "      <th>2011 [YR2011]</th>\n",
       "      <th>2012 [YR2012]</th>\n",
       "      <th>2013 [YR2013]</th>\n",
       "      <th>2014 [YR2014]</th>\n",
       "      <th>2015 [YR2015]</th>\n",
       "      <th>2016 [YR2016]</th>\n",
       "    </tr>\n",
       "  </thead>\n",
       "  <tbody>\n",
       "    <tr>\n",
       "      <th>0</th>\n",
       "      <td>Afghanistan</td>\n",
       "      <td>CO2 emissions (metric tons per capita)</td>\n",
       "      <td>0.183363552358795</td>\n",
       "      <td>0.0961965810608727</td>\n",
       "      <td>0.0850871075160703</td>\n",
       "      <td>0.0758064942125158</td>\n",
       "      <td>0.0686398621540897</td>\n",
       "      <td>0.0624346107290676</td>\n",
       "      <td>0.0566423445298646</td>\n",
       "      <td>0.0527632181252538</td>\n",
       "      <td>...</td>\n",
       "      <td>0.0838928056625891</td>\n",
       "      <td>0.151720912092499</td>\n",
       "      <td>0.238398541311049</td>\n",
       "      <td>0.289987629819143</td>\n",
       "      <td>0.406424217113203</td>\n",
       "      <td>0.345148782903553</td>\n",
       "      <td>0.280454641055391</td>\n",
       "      <td>0.253727945460333</td>\n",
       "      <td>0.262555710891417</td>\n",
       "      <td>0.245101422350223</td>\n",
       "    </tr>\n",
       "    <tr>\n",
       "      <th>1</th>\n",
       "      <td>Afghanistan</td>\n",
       "      <td>GDP per capita (constant 2010 US$)</td>\n",
       "      <td>0</td>\n",
       "      <td>0</td>\n",
       "      <td>0</td>\n",
       "      <td>0</td>\n",
       "      <td>0</td>\n",
       "      <td>0</td>\n",
       "      <td>0</td>\n",
       "      <td>0</td>\n",
       "      <td>...</td>\n",
       "      <td>405.548979051796</td>\n",
       "      <td>412.014286663305</td>\n",
       "      <td>488.300250990155</td>\n",
       "      <td>543.303041863931</td>\n",
       "      <td>528.736648057768</td>\n",
       "      <td>576.190125450699</td>\n",
       "      <td>587.565090150175</td>\n",
       "      <td>583.656192833123</td>\n",
       "      <td>574.184114271259</td>\n",
       "      <td>571.07377452356</td>\n",
       "    </tr>\n",
       "    <tr>\n",
       "      <th>2</th>\n",
       "      <td>Afghanistan</td>\n",
       "      <td>Urban population</td>\n",
       "      <td>2828169</td>\n",
       "      <td>3093388</td>\n",
       "      <td>3391712</td>\n",
       "      <td>3677087</td>\n",
       "      <td>3916248</td>\n",
       "      <td>4093835</td>\n",
       "      <td>4220821</td>\n",
       "      <td>4321584</td>\n",
       "      <td>...</td>\n",
       "      <td>6263747</td>\n",
       "      <td>6464835</td>\n",
       "      <td>6680732</td>\n",
       "      <td>6927764</td>\n",
       "      <td>7212518</td>\n",
       "      <td>7528588</td>\n",
       "      <td>7865067</td>\n",
       "      <td>8204877</td>\n",
       "      <td>8535606</td>\n",
       "      <td>8852859</td>\n",
       "    </tr>\n",
       "    <tr>\n",
       "      <th>3</th>\n",
       "      <td>Afghanistan</td>\n",
       "      <td>Forest area (% of land area)</td>\n",
       "      <td>2.06782464846981</td>\n",
       "      <td>2.06782464846981</td>\n",
       "      <td>2.06782464846981</td>\n",
       "      <td>2.06782464846981</td>\n",
       "      <td>2.06782464846981</td>\n",
       "      <td>2.06782464846981</td>\n",
       "      <td>2.06782464846981</td>\n",
       "      <td>2.06782464846981</td>\n",
       "      <td>...</td>\n",
       "      <td>2.06782464846981</td>\n",
       "      <td>2.06782464846981</td>\n",
       "      <td>2.06782464846981</td>\n",
       "      <td>2.06782464846981</td>\n",
       "      <td>2.06782464846981</td>\n",
       "      <td>2.06782464846981</td>\n",
       "      <td>2.06782464846981</td>\n",
       "      <td>2.06782464846981</td>\n",
       "      <td>2.06782464846981</td>\n",
       "      <td>2.06782464846981</td>\n",
       "    </tr>\n",
       "    <tr>\n",
       "      <th>4</th>\n",
       "      <td>Afghanistan</td>\n",
       "      <td>Forest area (sq. km)</td>\n",
       "      <td>13500</td>\n",
       "      <td>13500</td>\n",
       "      <td>13500</td>\n",
       "      <td>13500</td>\n",
       "      <td>13500</td>\n",
       "      <td>13500</td>\n",
       "      <td>13500</td>\n",
       "      <td>13500</td>\n",
       "      <td>...</td>\n",
       "      <td>13500</td>\n",
       "      <td>13500</td>\n",
       "      <td>13500</td>\n",
       "      <td>13500</td>\n",
       "      <td>13500</td>\n",
       "      <td>13500</td>\n",
       "      <td>13500</td>\n",
       "      <td>13500</td>\n",
       "      <td>13500</td>\n",
       "      <td>13500</td>\n",
       "    </tr>\n",
       "    <tr>\n",
       "      <th>5</th>\n",
       "      <td>Afghanistan</td>\n",
       "      <td>Energy use (kg of oil equivalent per capita)</td>\n",
       "      <td>0</td>\n",
       "      <td>0</td>\n",
       "      <td>0</td>\n",
       "      <td>0</td>\n",
       "      <td>0</td>\n",
       "      <td>0</td>\n",
       "      <td>0</td>\n",
       "      <td>0</td>\n",
       "      <td>...</td>\n",
       "      <td>0</td>\n",
       "      <td>0</td>\n",
       "      <td>0</td>\n",
       "      <td>0</td>\n",
       "      <td>0</td>\n",
       "      <td>0</td>\n",
       "      <td>0</td>\n",
       "      <td>0</td>\n",
       "      <td>0</td>\n",
       "      <td>0</td>\n",
       "    </tr>\n",
       "    <tr>\n",
       "      <th>6</th>\n",
       "      <td>Afghanistan</td>\n",
       "      <td>Renewable energy consumption (% of total final...</td>\n",
       "      <td>17.0364435282942</td>\n",
       "      <td>26.5216286544368</td>\n",
       "      <td>30.5856670489932</td>\n",
       "      <td>32.7962505504008</td>\n",
       "      <td>35.0756402917937</td>\n",
       "      <td>37.9457475001443</td>\n",
       "      <td>41.4326008731029</td>\n",
       "      <td>44.0943368543633</td>\n",
       "      <td>...</td>\n",
       "      <td>33.8625788265031</td>\n",
       "      <td>21.3437080759002</td>\n",
       "      <td>17.8138547564602</td>\n",
       "      <td>14.8398059645804</td>\n",
       "      <td>11.4827062291243</td>\n",
       "      <td>13.9735856888609</td>\n",
       "      <td>16.3342925084743</td>\n",
       "      <td>19.3142686133983</td>\n",
       "      <td>18.4234771693218</td>\n",
       "      <td>0</td>\n",
       "    </tr>\n",
       "    <tr>\n",
       "      <th>7</th>\n",
       "      <td>Albania</td>\n",
       "      <td>CO2 emissions (metric tons per capita)</td>\n",
       "      <td>1.31221260013653</td>\n",
       "      <td>0.774724910911141</td>\n",
       "      <td>0.723790291969695</td>\n",
       "      <td>0.600203707768206</td>\n",
       "      <td>0.654537133005248</td>\n",
       "      <td>0.636625312930768</td>\n",
       "      <td>0.490365059535664</td>\n",
       "      <td>0.560271437384331</td>\n",
       "      <td>...</td>\n",
       "      <td>1.32233485532238</td>\n",
       "      <td>1.48431113888781</td>\n",
       "      <td>1.49560019934969</td>\n",
       "      <td>1.57857358391855</td>\n",
       "      <td>1.80371472482914</td>\n",
       "      <td>1.6979655571764</td>\n",
       "      <td>1.69727939561161</td>\n",
       "      <td>1.90006971019389</td>\n",
       "      <td>1.60264803417777</td>\n",
       "      <td>1.57716262398295</td>\n",
       "    </tr>\n",
       "  </tbody>\n",
       "</table>\n",
       "<p>8 rows × 28 columns</p>\n",
       "</div>"
      ],
      "text/plain": [
       "  Country Name                                        Series Name  \\\n",
       "0  Afghanistan             CO2 emissions (metric tons per capita)   \n",
       "1  Afghanistan                 GDP per capita (constant 2010 US$)   \n",
       "2  Afghanistan                                   Urban population   \n",
       "3  Afghanistan                       Forest area (% of land area)   \n",
       "4  Afghanistan                               Forest area (sq. km)   \n",
       "5  Afghanistan       Energy use (kg of oil equivalent per capita)   \n",
       "6  Afghanistan  Renewable energy consumption (% of total final...   \n",
       "7      Albania             CO2 emissions (metric tons per capita)   \n",
       "\n",
       "       1991 [YR1991]       1992 [YR1992]       1993 [YR1993]  \\\n",
       "0  0.183363552358795  0.0961965810608727  0.0850871075160703   \n",
       "1                  0                   0                   0   \n",
       "2            2828169             3093388             3391712   \n",
       "3   2.06782464846981    2.06782464846981    2.06782464846981   \n",
       "4              13500               13500               13500   \n",
       "5                  0                   0                   0   \n",
       "6   17.0364435282942    26.5216286544368    30.5856670489932   \n",
       "7   1.31221260013653   0.774724910911141   0.723790291969695   \n",
       "\n",
       "        1994 [YR1994]       1995 [YR1995]       1996 [YR1996]  \\\n",
       "0  0.0758064942125158  0.0686398621540897  0.0624346107290676   \n",
       "1                   0                   0                   0   \n",
       "2             3677087             3916248             4093835   \n",
       "3    2.06782464846981    2.06782464846981    2.06782464846981   \n",
       "4               13500               13500               13500   \n",
       "5                   0                   0                   0   \n",
       "6    32.7962505504008    35.0756402917937    37.9457475001443   \n",
       "7   0.600203707768206   0.654537133005248   0.636625312930768   \n",
       "\n",
       "        1997 [YR1997]       1998 [YR1998]  ...       2007 [YR2007]  \\\n",
       "0  0.0566423445298646  0.0527632181252538  ...  0.0838928056625891   \n",
       "1                   0                   0  ...    405.548979051796   \n",
       "2             4220821             4321584  ...             6263747   \n",
       "3    2.06782464846981    2.06782464846981  ...    2.06782464846981   \n",
       "4               13500               13500  ...               13500   \n",
       "5                   0                   0  ...                   0   \n",
       "6    41.4326008731029    44.0943368543633  ...    33.8625788265031   \n",
       "7   0.490365059535664   0.560271437384331  ...    1.32233485532238   \n",
       "\n",
       "       2008 [YR2008]      2009 [YR2009]      2010 [YR2010]      2011 [YR2011]  \\\n",
       "0  0.151720912092499  0.238398541311049  0.289987629819143  0.406424217113203   \n",
       "1   412.014286663305   488.300250990155   543.303041863931   528.736648057768   \n",
       "2            6464835            6680732            6927764            7212518   \n",
       "3   2.06782464846981   2.06782464846981   2.06782464846981   2.06782464846981   \n",
       "4              13500              13500              13500              13500   \n",
       "5                  0                  0                  0                  0   \n",
       "6   21.3437080759002   17.8138547564602   14.8398059645804   11.4827062291243   \n",
       "7   1.48431113888781   1.49560019934969   1.57857358391855   1.80371472482914   \n",
       "\n",
       "       2012 [YR2012]      2013 [YR2013]      2014 [YR2014]      2015 [YR2015]  \\\n",
       "0  0.345148782903553  0.280454641055391  0.253727945460333  0.262555710891417   \n",
       "1   576.190125450699   587.565090150175   583.656192833123   574.184114271259   \n",
       "2            7528588            7865067            8204877            8535606   \n",
       "3   2.06782464846981   2.06782464846981   2.06782464846981   2.06782464846981   \n",
       "4              13500              13500              13500              13500   \n",
       "5                  0                  0                  0                  0   \n",
       "6   13.9735856888609   16.3342925084743   19.3142686133983   18.4234771693218   \n",
       "7    1.6979655571764   1.69727939561161   1.90006971019389   1.60264803417777   \n",
       "\n",
       "       2016 [YR2016]  \n",
       "0  0.245101422350223  \n",
       "1    571.07377452356  \n",
       "2            8852859  \n",
       "3   2.06782464846981  \n",
       "4              13500  \n",
       "5                  0  \n",
       "6                  0  \n",
       "7   1.57716262398295  \n",
       "\n",
       "[8 rows x 28 columns]"
      ]
     },
     "execution_count": 8,
     "metadata": {},
     "output_type": "execute_result"
    }
   ],
   "source": [
    "df.head(8) # 7 variables in total"
   ]
  },
  {
   "cell_type": "code",
   "execution_count": 9,
   "metadata": {},
   "outputs": [],
   "source": [
    "df = df.rename(columns = {'Series Name':'Variables',\n",
    "       '1991 [YR1991]':'1991', '1992 [YR1992]':'1992', '1993 [YR1993]':'1993', '1994 [YR1994]':'1994',\n",
    "       '1995 [YR1995]':'1995', '1996 [YR1996]':'1996', '1997 [YR1997]':'1997', '1998 [YR1998]':'1998',\n",
    "       '1999 [YR1999]':'1999', '2000 [YR2000]':'2000', '2001 [YR2001]':'2001', '2002 [YR2002]':'2002',\n",
    "       '2003 [YR2003]':'2003', '2004 [YR2004]':'2004', '2005 [YR2005]':'2005', '2006 [YR2006]':'2006',\n",
    "       '2007 [YR2007]':'2007', '2008 [YR2008]':'2008', '2009 [YR2009]':'2009', '2010 [YR2010]':'2010',\n",
    "       '2011 [YR2011]':'2011', '2012 [YR2012]':'2012', '2013 [YR2013]':'2013', '2014 [YR2014]':'2014',\n",
    "       '2015 [YR2015]':'2015', '2016 [YR2016]':'2016'})"
   ]
  },
  {
   "cell_type": "code",
   "execution_count": 10,
   "metadata": {},
   "outputs": [
    {
     "data": {
      "text/html": [
       "<div>\n",
       "<style scoped>\n",
       "    .dataframe tbody tr th:only-of-type {\n",
       "        vertical-align: middle;\n",
       "    }\n",
       "\n",
       "    .dataframe tbody tr th {\n",
       "        vertical-align: top;\n",
       "    }\n",
       "\n",
       "    .dataframe thead th {\n",
       "        text-align: right;\n",
       "    }\n",
       "</style>\n",
       "<table border=\"1\" class=\"dataframe\">\n",
       "  <thead>\n",
       "    <tr style=\"text-align: right;\">\n",
       "      <th></th>\n",
       "      <th>Country Name</th>\n",
       "      <th>Variables</th>\n",
       "      <th>1991</th>\n",
       "      <th>1992</th>\n",
       "      <th>1993</th>\n",
       "      <th>1994</th>\n",
       "      <th>1995</th>\n",
       "      <th>1996</th>\n",
       "      <th>1997</th>\n",
       "      <th>1998</th>\n",
       "      <th>...</th>\n",
       "      <th>2007</th>\n",
       "      <th>2008</th>\n",
       "      <th>2009</th>\n",
       "      <th>2010</th>\n",
       "      <th>2011</th>\n",
       "      <th>2012</th>\n",
       "      <th>2013</th>\n",
       "      <th>2014</th>\n",
       "      <th>2015</th>\n",
       "      <th>2016</th>\n",
       "    </tr>\n",
       "  </thead>\n",
       "  <tbody>\n",
       "    <tr>\n",
       "      <th>0</th>\n",
       "      <td>Afghanistan</td>\n",
       "      <td>CO2 emissions (metric tons per capita)</td>\n",
       "      <td>0.183363552358795</td>\n",
       "      <td>0.0961965810608727</td>\n",
       "      <td>0.0850871075160703</td>\n",
       "      <td>0.0758064942125158</td>\n",
       "      <td>0.0686398621540897</td>\n",
       "      <td>0.0624346107290676</td>\n",
       "      <td>0.0566423445298646</td>\n",
       "      <td>0.0527632181252538</td>\n",
       "      <td>...</td>\n",
       "      <td>0.0838928056625891</td>\n",
       "      <td>0.151720912092499</td>\n",
       "      <td>0.238398541311049</td>\n",
       "      <td>0.289987629819143</td>\n",
       "      <td>0.406424217113203</td>\n",
       "      <td>0.345148782903553</td>\n",
       "      <td>0.280454641055391</td>\n",
       "      <td>0.253727945460333</td>\n",
       "      <td>0.262555710891417</td>\n",
       "      <td>0.245101422350223</td>\n",
       "    </tr>\n",
       "    <tr>\n",
       "      <th>1</th>\n",
       "      <td>Afghanistan</td>\n",
       "      <td>GDP per capita (constant 2010 US$)</td>\n",
       "      <td>0</td>\n",
       "      <td>0</td>\n",
       "      <td>0</td>\n",
       "      <td>0</td>\n",
       "      <td>0</td>\n",
       "      <td>0</td>\n",
       "      <td>0</td>\n",
       "      <td>0</td>\n",
       "      <td>...</td>\n",
       "      <td>405.548979051796</td>\n",
       "      <td>412.014286663305</td>\n",
       "      <td>488.300250990155</td>\n",
       "      <td>543.303041863931</td>\n",
       "      <td>528.736648057768</td>\n",
       "      <td>576.190125450699</td>\n",
       "      <td>587.565090150175</td>\n",
       "      <td>583.656192833123</td>\n",
       "      <td>574.184114271259</td>\n",
       "      <td>571.07377452356</td>\n",
       "    </tr>\n",
       "    <tr>\n",
       "      <th>2</th>\n",
       "      <td>Afghanistan</td>\n",
       "      <td>Urban population</td>\n",
       "      <td>2828169</td>\n",
       "      <td>3093388</td>\n",
       "      <td>3391712</td>\n",
       "      <td>3677087</td>\n",
       "      <td>3916248</td>\n",
       "      <td>4093835</td>\n",
       "      <td>4220821</td>\n",
       "      <td>4321584</td>\n",
       "      <td>...</td>\n",
       "      <td>6263747</td>\n",
       "      <td>6464835</td>\n",
       "      <td>6680732</td>\n",
       "      <td>6927764</td>\n",
       "      <td>7212518</td>\n",
       "      <td>7528588</td>\n",
       "      <td>7865067</td>\n",
       "      <td>8204877</td>\n",
       "      <td>8535606</td>\n",
       "      <td>8852859</td>\n",
       "    </tr>\n",
       "  </tbody>\n",
       "</table>\n",
       "<p>3 rows × 28 columns</p>\n",
       "</div>"
      ],
      "text/plain": [
       "  Country Name                               Variables               1991  \\\n",
       "0  Afghanistan  CO2 emissions (metric tons per capita)  0.183363552358795   \n",
       "1  Afghanistan      GDP per capita (constant 2010 US$)                  0   \n",
       "2  Afghanistan                        Urban population            2828169   \n",
       "\n",
       "                 1992                1993                1994  \\\n",
       "0  0.0961965810608727  0.0850871075160703  0.0758064942125158   \n",
       "1                   0                   0                   0   \n",
       "2             3093388             3391712             3677087   \n",
       "\n",
       "                 1995                1996                1997  \\\n",
       "0  0.0686398621540897  0.0624346107290676  0.0566423445298646   \n",
       "1                   0                   0                   0   \n",
       "2             3916248             4093835             4220821   \n",
       "\n",
       "                 1998  ...                2007               2008  \\\n",
       "0  0.0527632181252538  ...  0.0838928056625891  0.151720912092499   \n",
       "1                   0  ...    405.548979051796   412.014286663305   \n",
       "2             4321584  ...             6263747            6464835   \n",
       "\n",
       "                2009               2010               2011               2012  \\\n",
       "0  0.238398541311049  0.289987629819143  0.406424217113203  0.345148782903553   \n",
       "1   488.300250990155   543.303041863931   528.736648057768   576.190125450699   \n",
       "2            6680732            6927764            7212518            7528588   \n",
       "\n",
       "                2013               2014               2015               2016  \n",
       "0  0.280454641055391  0.253727945460333  0.262555710891417  0.245101422350223  \n",
       "1   587.565090150175   583.656192833123   574.184114271259    571.07377452356  \n",
       "2            7865067            8204877            8535606            8852859  \n",
       "\n",
       "[3 rows x 28 columns]"
      ]
     },
     "execution_count": 10,
     "metadata": {},
     "output_type": "execute_result"
    }
   ],
   "source": [
    "df.head(3)"
   ]
  },
  {
   "cell_type": "code",
   "execution_count": 42,
   "metadata": {},
   "outputs": [],
   "source": [
    "df.to_csv('kuznets_curve')"
   ]
  },
  {
   "cell_type": "code",
   "execution_count": 11,
   "metadata": {},
   "outputs": [
    {
     "data": {
      "text/html": [
       "<div>\n",
       "<style scoped>\n",
       "    .dataframe tbody tr th:only-of-type {\n",
       "        vertical-align: middle;\n",
       "    }\n",
       "\n",
       "    .dataframe tbody tr th {\n",
       "        vertical-align: top;\n",
       "    }\n",
       "\n",
       "    .dataframe thead th {\n",
       "        text-align: right;\n",
       "    }\n",
       "</style>\n",
       "<table border=\"1\" class=\"dataframe\">\n",
       "  <thead>\n",
       "    <tr style=\"text-align: right;\">\n",
       "      <th></th>\n",
       "      <th>Country Name</th>\n",
       "      <th>Variables</th>\n",
       "      <th>1991</th>\n",
       "      <th>1992</th>\n",
       "      <th>1993</th>\n",
       "      <th>1994</th>\n",
       "      <th>1995</th>\n",
       "      <th>1996</th>\n",
       "      <th>1997</th>\n",
       "      <th>1998</th>\n",
       "      <th>...</th>\n",
       "      <th>2007</th>\n",
       "      <th>2008</th>\n",
       "      <th>2009</th>\n",
       "      <th>2010</th>\n",
       "      <th>2011</th>\n",
       "      <th>2012</th>\n",
       "      <th>2013</th>\n",
       "      <th>2014</th>\n",
       "      <th>2015</th>\n",
       "      <th>2016</th>\n",
       "    </tr>\n",
       "  </thead>\n",
       "  <tbody>\n",
       "    <tr>\n",
       "      <th>637</th>\n",
       "      <td>Iran, Islamic Rep.</td>\n",
       "      <td>CO2 emissions (metric tons per capita)</td>\n",
       "      <td>3.94253605218146</td>\n",
       "      <td>3.88682085532976</td>\n",
       "      <td>3.97186223895734</td>\n",
       "      <td>4.37741797764254</td>\n",
       "      <td>4.44222509622955</td>\n",
       "      <td>4.43148645186477</td>\n",
       "      <td>4.26527097433249</td>\n",
       "      <td>4.82256562090855</td>\n",
       "      <td>...</td>\n",
       "      <td>7.27992526964642</td>\n",
       "      <td>7.50940600830243</td>\n",
       "      <td>7.60067589866536</td>\n",
       "      <td>7.76859435887758</td>\n",
       "      <td>7.89249315026058</td>\n",
       "      <td>8.09853138201391</td>\n",
       "      <td>8.10027776098732</td>\n",
       "      <td>8.42168671619315</td>\n",
       "      <td>8.28207518414406</td>\n",
       "      <td>8.31670123338168</td>\n",
       "    </tr>\n",
       "    <tr>\n",
       "      <th>638</th>\n",
       "      <td>Iran, Islamic Rep.</td>\n",
       "      <td>GDP per capita (constant 2010 US$)</td>\n",
       "      <td>4541.09832265763</td>\n",
       "      <td>4582.33009005096</td>\n",
       "      <td>4556.85116331007</td>\n",
       "      <td>4423.76244250285</td>\n",
       "      <td>4461.99553919884</td>\n",
       "      <td>4628.62470872619</td>\n",
       "      <td>4588.9557019275</td>\n",
       "      <td>4627.65427318618</td>\n",
       "      <td>...</td>\n",
       "      <td>6369.82193076155</td>\n",
       "      <td>6316.37162536933</td>\n",
       "      <td>6309.64160854798</td>\n",
       "      <td>6599.66093791004</td>\n",
       "      <td>6695.08228331152</td>\n",
       "      <td>6122.43208981298</td>\n",
       "      <td>6035.28220098466</td>\n",
       "      <td>6232.93541757903</td>\n",
       "      <td>6070.18728372393</td>\n",
       "      <td>6790.63900593297</td>\n",
       "    </tr>\n",
       "    <tr>\n",
       "      <th>639</th>\n",
       "      <td>Iran, Islamic Rep.</td>\n",
       "      <td>Urban population</td>\n",
       "      <td>32799183</td>\n",
       "      <td>33888647</td>\n",
       "      <td>34949749</td>\n",
       "      <td>35978707</td>\n",
       "      <td>37010603</td>\n",
       "      <td>38054098</td>\n",
       "      <td>39051703</td>\n",
       "      <td>40038693</td>\n",
       "      <td>...</td>\n",
       "      <td>49125150</td>\n",
       "      <td>50093529</td>\n",
       "      <td>51080202</td>\n",
       "      <td>52095517</td>\n",
       "      <td>53140089</td>\n",
       "      <td>54203628</td>\n",
       "      <td>55292621</td>\n",
       "      <td>56418308</td>\n",
       "      <td>57580319</td>\n",
       "      <td>58781895</td>\n",
       "    </tr>\n",
       "  </tbody>\n",
       "</table>\n",
       "<p>3 rows × 28 columns</p>\n",
       "</div>"
      ],
      "text/plain": [
       "           Country Name                               Variables  \\\n",
       "637  Iran, Islamic Rep.  CO2 emissions (metric tons per capita)   \n",
       "638  Iran, Islamic Rep.      GDP per capita (constant 2010 US$)   \n",
       "639  Iran, Islamic Rep.                        Urban population   \n",
       "\n",
       "                 1991              1992              1993              1994  \\\n",
       "637  3.94253605218146  3.88682085532976  3.97186223895734  4.37741797764254   \n",
       "638  4541.09832265763  4582.33009005096  4556.85116331007  4423.76244250285   \n",
       "639          32799183          33888647          34949749          35978707   \n",
       "\n",
       "                 1995              1996              1997              1998  \\\n",
       "637  4.44222509622955  4.43148645186477  4.26527097433249  4.82256562090855   \n",
       "638  4461.99553919884  4628.62470872619   4588.9557019275  4627.65427318618   \n",
       "639          37010603          38054098          39051703          40038693   \n",
       "\n",
       "     ...              2007              2008              2009  \\\n",
       "637  ...  7.27992526964642  7.50940600830243  7.60067589866536   \n",
       "638  ...  6369.82193076155  6316.37162536933  6309.64160854798   \n",
       "639  ...          49125150          50093529          51080202   \n",
       "\n",
       "                 2010              2011              2012              2013  \\\n",
       "637  7.76859435887758  7.89249315026058  8.09853138201391  8.10027776098732   \n",
       "638  6599.66093791004  6695.08228331152  6122.43208981298  6035.28220098466   \n",
       "639          52095517          53140089          54203628          55292621   \n",
       "\n",
       "                 2014              2015              2016  \n",
       "637  8.42168671619315  8.28207518414406  8.31670123338168  \n",
       "638  6232.93541757903  6070.18728372393  6790.63900593297  \n",
       "639          56418308          57580319          58781895  \n",
       "\n",
       "[3 rows x 28 columns]"
      ]
     },
     "execution_count": 11,
     "metadata": {},
     "output_type": "execute_result"
    }
   ],
   "source": [
    "df[df['Country Name'].str.contains(\"Iran\")].head(3)"
   ]
  },
  {
   "cell_type": "code",
   "execution_count": null,
   "metadata": {},
   "outputs": [],
   "source": [
    "#df_g = df.loc[df['Country Name'] == 'Germany']\n",
    "#df_germany = df_g.drop(['Country Name'], axis=1)\n",
    "#df_germany.to_csv('Germany')\n",
    "#df_germany_tr = df_germany.set_index('Variables').T\n",
    "\n"
   ]
  },
  {
   "cell_type": "code",
   "execution_count": 12,
   "metadata": {},
   "outputs": [],
   "source": [
    "df_new = df[df['Country Name'].isin(['Iran, Islamic Rep.','Germany', 'Japan'])]"
   ]
  },
  {
   "cell_type": "code",
   "execution_count": 13,
   "metadata": {},
   "outputs": [
    {
     "data": {
      "text/html": [
       "<div>\n",
       "<style scoped>\n",
       "    .dataframe tbody tr th:only-of-type {\n",
       "        vertical-align: middle;\n",
       "    }\n",
       "\n",
       "    .dataframe tbody tr th {\n",
       "        vertical-align: top;\n",
       "    }\n",
       "\n",
       "    .dataframe thead th {\n",
       "        text-align: right;\n",
       "    }\n",
       "</style>\n",
       "<table border=\"1\" class=\"dataframe\">\n",
       "  <thead>\n",
       "    <tr style=\"text-align: right;\">\n",
       "      <th></th>\n",
       "      <th>Country Name</th>\n",
       "      <th>Variables</th>\n",
       "      <th>1991</th>\n",
       "      <th>1992</th>\n",
       "      <th>1993</th>\n",
       "      <th>1994</th>\n",
       "      <th>1995</th>\n",
       "      <th>1996</th>\n",
       "      <th>1997</th>\n",
       "      <th>1998</th>\n",
       "      <th>...</th>\n",
       "      <th>2007</th>\n",
       "      <th>2008</th>\n",
       "      <th>2009</th>\n",
       "      <th>2010</th>\n",
       "      <th>2011</th>\n",
       "      <th>2012</th>\n",
       "      <th>2013</th>\n",
       "      <th>2014</th>\n",
       "      <th>2015</th>\n",
       "      <th>2016</th>\n",
       "    </tr>\n",
       "  </thead>\n",
       "  <tbody>\n",
       "    <tr>\n",
       "      <th>511</th>\n",
       "      <td>Germany</td>\n",
       "      <td>CO2 emissions (metric tons per capita)</td>\n",
       "      <td>11.62264617136</td>\n",
       "      <td>11.0633202537022</td>\n",
       "      <td>10.8142489332599</td>\n",
       "      <td>10.6283919217025</td>\n",
       "      <td>10.579466630515</td>\n",
       "      <td>10.8602336004331</td>\n",
       "      <td>10.5111125988271</td>\n",
       "      <td>10.4252731613799</td>\n",
       "      <td>...</td>\n",
       "      <td>9.49655365864439</td>\n",
       "      <td>9.49086897315442</td>\n",
       "      <td>8.79764186618089</td>\n",
       "      <td>9.26766133186952</td>\n",
       "      <td>9.09137541642332</td>\n",
       "      <td>9.17791579204605</td>\n",
       "      <td>9.39867170690827</td>\n",
       "      <td>8.89530225666039</td>\n",
       "      <td>8.90041929882487</td>\n",
       "      <td>8.84012879430996</td>\n",
       "    </tr>\n",
       "    <tr>\n",
       "      <th>512</th>\n",
       "      <td>Germany</td>\n",
       "      <td>GDP per capita (constant 2010 US$)</td>\n",
       "      <td>33839.4902602064</td>\n",
       "      <td>34228.9984716111</td>\n",
       "      <td>33672.5430228037</td>\n",
       "      <td>34358.5719956026</td>\n",
       "      <td>34786.728549099</td>\n",
       "      <td>34965.6844508481</td>\n",
       "      <td>35540.2875272631</td>\n",
       "      <td>36250.5549565626</td>\n",
       "      <td>...</td>\n",
       "      <td>41621.5118402428</td>\n",
       "      <td>42101.0040357854</td>\n",
       "      <td>39804.5722815573</td>\n",
       "      <td>41531.9341978689</td>\n",
       "      <td>43969.7074500187</td>\n",
       "      <td>44070.9085651782</td>\n",
       "      <td>44143.1278111535</td>\n",
       "      <td>44930.7921305433</td>\n",
       "      <td>45208.062454025</td>\n",
       "      <td>45844.6381197286</td>\n",
       "    </tr>\n",
       "    <tr>\n",
       "      <th>513</th>\n",
       "      <td>Germany</td>\n",
       "      <td>Urban population</td>\n",
       "      <td>58625381</td>\n",
       "      <td>59146205</td>\n",
       "      <td>59647492</td>\n",
       "      <td>60028206</td>\n",
       "      <td>60378049</td>\n",
       "      <td>60725922</td>\n",
       "      <td>60986289</td>\n",
       "      <td>61167004</td>\n",
       "      <td>...</td>\n",
       "      <td>62833410</td>\n",
       "      <td>62875807</td>\n",
       "      <td>62877220</td>\n",
       "      <td>62940432</td>\n",
       "      <td>61940177</td>\n",
       "      <td>62064608</td>\n",
       "      <td>62242278</td>\n",
       "      <td>62510392</td>\n",
       "      <td>63062064</td>\n",
       "      <td>63592936</td>\n",
       "    </tr>\n",
       "    <tr>\n",
       "      <th>514</th>\n",
       "      <td>Germany</td>\n",
       "      <td>Forest area (% of land area)</td>\n",
       "      <td>32.3816354670896</td>\n",
       "      <td>32.397100806827</td>\n",
       "      <td>32.4134973513763</td>\n",
       "      <td>32.429892037968</td>\n",
       "      <td>32.4462904611859</td>\n",
       "      <td>32.4626898238993</td>\n",
       "      <td>32.4818788273528</td>\n",
       "      <td>32.5001438178686</td>\n",
       "      <td>...</td>\n",
       "      <td>32.6784638770184</td>\n",
       "      <td>32.696555087055</td>\n",
       "      <td>32.7127735865294</td>\n",
       "      <td>32.7308718478354</td>\n",
       "      <td>32.7375487720909</td>\n",
       "      <td>32.7451655477133</td>\n",
       "      <td>32.7189864709929</td>\n",
       "      <td>32.7228432215535</td>\n",
       "      <td>32.7324234474218</td>\n",
       "      <td>32.6912067781085</td>\n",
       "    </tr>\n",
       "    <tr>\n",
       "      <th>515</th>\n",
       "      <td>Germany</td>\n",
       "      <td>Forest area (sq. km)</td>\n",
       "      <td>113054.00390625</td>\n",
       "      <td>113107.998046875</td>\n",
       "      <td>113162.001953125</td>\n",
       "      <td>113215.99609375</td>\n",
       "      <td>113270</td>\n",
       "      <td>113324.00390625</td>\n",
       "      <td>113377.998046875</td>\n",
       "      <td>113432.001953125</td>\n",
       "      <td>...</td>\n",
       "      <td>113940</td>\n",
       "      <td>113990</td>\n",
       "      <td>114040</td>\n",
       "      <td>114090</td>\n",
       "      <td>114110</td>\n",
       "      <td>114130</td>\n",
       "      <td>114150</td>\n",
       "      <td>114170</td>\n",
       "      <td>114190</td>\n",
       "      <td>114210</td>\n",
       "    </tr>\n",
       "  </tbody>\n",
       "</table>\n",
       "<p>5 rows × 28 columns</p>\n",
       "</div>"
      ],
      "text/plain": [
       "    Country Name                               Variables              1991  \\\n",
       "511      Germany  CO2 emissions (metric tons per capita)    11.62264617136   \n",
       "512      Germany      GDP per capita (constant 2010 US$)  33839.4902602064   \n",
       "513      Germany                        Urban population          58625381   \n",
       "514      Germany            Forest area (% of land area)  32.3816354670896   \n",
       "515      Germany                    Forest area (sq. km)   113054.00390625   \n",
       "\n",
       "                 1992              1993              1994              1995  \\\n",
       "511  11.0633202537022  10.8142489332599  10.6283919217025   10.579466630515   \n",
       "512  34228.9984716111  33672.5430228037  34358.5719956026   34786.728549099   \n",
       "513          59146205          59647492          60028206          60378049   \n",
       "514   32.397100806827  32.4134973513763   32.429892037968  32.4462904611859   \n",
       "515  113107.998046875  113162.001953125   113215.99609375            113270   \n",
       "\n",
       "                 1996              1997              1998  ...  \\\n",
       "511  10.8602336004331  10.5111125988271  10.4252731613799  ...   \n",
       "512  34965.6844508481  35540.2875272631  36250.5549565626  ...   \n",
       "513          60725922          60986289          61167004  ...   \n",
       "514  32.4626898238993  32.4818788273528  32.5001438178686  ...   \n",
       "515   113324.00390625  113377.998046875  113432.001953125  ...   \n",
       "\n",
       "                 2007              2008              2009              2010  \\\n",
       "511  9.49655365864439  9.49086897315442  8.79764186618089  9.26766133186952   \n",
       "512  41621.5118402428  42101.0040357854  39804.5722815573  41531.9341978689   \n",
       "513          62833410          62875807          62877220          62940432   \n",
       "514  32.6784638770184   32.696555087055  32.7127735865294  32.7308718478354   \n",
       "515            113940            113990            114040            114090   \n",
       "\n",
       "                 2011              2012              2013              2014  \\\n",
       "511  9.09137541642332  9.17791579204605  9.39867170690827  8.89530225666039   \n",
       "512  43969.7074500187  44070.9085651782  44143.1278111535  44930.7921305433   \n",
       "513          61940177          62064608          62242278          62510392   \n",
       "514  32.7375487720909  32.7451655477133  32.7189864709929  32.7228432215535   \n",
       "515            114110            114130            114150            114170   \n",
       "\n",
       "                 2015              2016  \n",
       "511  8.90041929882487  8.84012879430996  \n",
       "512   45208.062454025  45844.6381197286  \n",
       "513          63062064          63592936  \n",
       "514  32.7324234474218  32.6912067781085  \n",
       "515            114190            114210  \n",
       "\n",
       "[5 rows x 28 columns]"
      ]
     },
     "execution_count": 13,
     "metadata": {},
     "output_type": "execute_result"
    }
   ],
   "source": [
    "df_new.head(5)"
   ]
  },
  {
   "cell_type": "code",
   "execution_count": 14,
   "metadata": {},
   "outputs": [],
   "source": [
    "df_t = df_new.T"
   ]
  },
  {
   "cell_type": "code",
   "execution_count": 41,
   "metadata": {},
   "outputs": [
    {
     "data": {
      "text/html": [
       "<div>\n",
       "<style scoped>\n",
       "    .dataframe tbody tr th:only-of-type {\n",
       "        vertical-align: middle;\n",
       "    }\n",
       "\n",
       "    .dataframe tbody tr th {\n",
       "        vertical-align: top;\n",
       "    }\n",
       "\n",
       "    .dataframe thead th {\n",
       "        text-align: right;\n",
       "    }\n",
       "</style>\n",
       "<table border=\"1\" class=\"dataframe\">\n",
       "  <thead>\n",
       "    <tr style=\"text-align: right;\">\n",
       "      <th></th>\n",
       "      <th>CO2_pc_g</th>\n",
       "      <th>GDP_pc_g</th>\n",
       "      <th>pop_g</th>\n",
       "      <th>forest_%_g</th>\n",
       "      <th>forest_sqkm_g</th>\n",
       "      <th>energy_pc_g</th>\n",
       "      <th>renew_g</th>\n",
       "      <th>CO2_pc_i</th>\n",
       "      <th>GDP_pc_i</th>\n",
       "      <th>pop_i</th>\n",
       "      <th>...</th>\n",
       "      <th>forest_sqkm_i</th>\n",
       "      <th>energy_pc_i</th>\n",
       "      <th>renew_i</th>\n",
       "      <th>CO2_pc_j</th>\n",
       "      <th>GDP_pc_j</th>\n",
       "      <th>pop_j</th>\n",
       "      <th>forest_%_j</th>\n",
       "      <th>forest_sqkm_j</th>\n",
       "      <th>energy_pc_j</th>\n",
       "      <th>renew_j</th>\n",
       "    </tr>\n",
       "  </thead>\n",
       "  <tbody>\n",
       "    <tr>\n",
       "      <th>Country Name</th>\n",
       "      <td>Germany</td>\n",
       "      <td>Germany</td>\n",
       "      <td>Germany</td>\n",
       "      <td>Germany</td>\n",
       "      <td>Germany</td>\n",
       "      <td>Germany</td>\n",
       "      <td>Germany</td>\n",
       "      <td>Iran, Islamic Rep.</td>\n",
       "      <td>Iran, Islamic Rep.</td>\n",
       "      <td>Iran, Islamic Rep.</td>\n",
       "      <td>...</td>\n",
       "      <td>Iran, Islamic Rep.</td>\n",
       "      <td>Iran, Islamic Rep.</td>\n",
       "      <td>Iran, Islamic Rep.</td>\n",
       "      <td>Japan</td>\n",
       "      <td>Japan</td>\n",
       "      <td>Japan</td>\n",
       "      <td>Japan</td>\n",
       "      <td>Japan</td>\n",
       "      <td>Japan</td>\n",
       "      <td>Japan</td>\n",
       "    </tr>\n",
       "    <tr>\n",
       "      <th>Variables</th>\n",
       "      <td>CO2 emissions (metric tons per capita)</td>\n",
       "      <td>GDP per capita (constant 2010 US$)</td>\n",
       "      <td>Urban population</td>\n",
       "      <td>Forest area (% of land area)</td>\n",
       "      <td>Forest area (sq. km)</td>\n",
       "      <td>Energy use (kg of oil equivalent per capita)</td>\n",
       "      <td>Renewable energy consumption (% of total final...</td>\n",
       "      <td>CO2 emissions (metric tons per capita)</td>\n",
       "      <td>GDP per capita (constant 2010 US$)</td>\n",
       "      <td>Urban population</td>\n",
       "      <td>...</td>\n",
       "      <td>Forest area (sq. km)</td>\n",
       "      <td>Energy use (kg of oil equivalent per capita)</td>\n",
       "      <td>Renewable energy consumption (% of total final...</td>\n",
       "      <td>CO2 emissions (metric tons per capita)</td>\n",
       "      <td>GDP per capita (constant 2010 US$)</td>\n",
       "      <td>Urban population</td>\n",
       "      <td>Forest area (% of land area)</td>\n",
       "      <td>Forest area (sq. km)</td>\n",
       "      <td>Energy use (kg of oil equivalent per capita)</td>\n",
       "      <td>Renewable energy consumption (% of total final...</td>\n",
       "    </tr>\n",
       "    <tr>\n",
       "      <th>1991</th>\n",
       "      <td>11.62264617136</td>\n",
       "      <td>33839.4902602064</td>\n",
       "      <td>58625381</td>\n",
       "      <td>32.3816354670896</td>\n",
       "      <td>113054.00390625</td>\n",
       "      <td>4302.89117530285</td>\n",
       "      <td>1.98863280907619</td>\n",
       "      <td>3.94253605218146</td>\n",
       "      <td>4541.09832265763</td>\n",
       "      <td>32799183</td>\n",
       "      <td>...</td>\n",
       "      <td>91010.1953125</td>\n",
       "      <td>1332.47496828744</td>\n",
       "      <td>1.22691740882349</td>\n",
       "      <td>8.86402505628586</td>\n",
       "      <td>39253.6418413885</td>\n",
       "      <td>96005316</td>\n",
       "      <td>68.4108601463933</td>\n",
       "      <td>249425.99609375</td>\n",
       "      <td>3575.24609226846</td>\n",
       "      <td>4.73056921825984</td>\n",
       "    </tr>\n",
       "    <tr>\n",
       "      <th>1992</th>\n",
       "      <td>11.0633202537022</td>\n",
       "      <td>34228.9984716111</td>\n",
       "      <td>59146205</td>\n",
       "      <td>32.397100806827</td>\n",
       "      <td>113107.998046875</td>\n",
       "      <td>4190.98422047326</td>\n",
       "      <td>2.06262189491575</td>\n",
       "      <td>3.88682085532976</td>\n",
       "      <td>4582.33009005096</td>\n",
       "      <td>33888647</td>\n",
       "      <td>...</td>\n",
       "      <td>91259.8046875</td>\n",
       "      <td>1376.35736216019</td>\n",
       "      <td>1.44947071982901</td>\n",
       "      <td>9.03967200895121</td>\n",
       "      <td>39488.3934345327</td>\n",
       "      <td>96414127</td>\n",
       "      <td>68.3905628599835</td>\n",
       "      <td>249351.9921875</td>\n",
       "      <td>3649.94432056927</td>\n",
       "      <td>4.19771490131849</td>\n",
       "    </tr>\n",
       "    <tr>\n",
       "      <th>1993</th>\n",
       "      <td>10.8142489332599</td>\n",
       "      <td>33672.5430228037</td>\n",
       "      <td>59647492</td>\n",
       "      <td>32.4134973513763</td>\n",
       "      <td>113162.001953125</td>\n",
       "      <td>4122.69573982757</td>\n",
       "      <td>2.11093108509833</td>\n",
       "      <td>3.97186223895734</td>\n",
       "      <td>4556.85116331007</td>\n",
       "      <td>34949749</td>\n",
       "      <td>...</td>\n",
       "      <td>91509.404296875</td>\n",
       "      <td>1458.48325969542</td>\n",
       "      <td>1.52814706823082</td>\n",
       "      <td>8.89483651313676</td>\n",
       "      <td>39187.0345375322</td>\n",
       "      <td>96821759</td>\n",
       "      <td>68.3702709304718</td>\n",
       "      <td>249278.0078125</td>\n",
       "      <td>3664.56835774395</td>\n",
       "      <td>4.43560671218463</td>\n",
       "    </tr>\n",
       "  </tbody>\n",
       "</table>\n",
       "<p>5 rows × 21 columns</p>\n",
       "</div>"
      ],
      "text/plain": [
       "                                            CO2_pc_g  \\\n",
       "Country Name                                 Germany   \n",
       "Variables     CO2 emissions (metric tons per capita)   \n",
       "1991                                  11.62264617136   \n",
       "1992                                11.0633202537022   \n",
       "1993                                10.8142489332599   \n",
       "\n",
       "                                        GDP_pc_g             pop_g  \\\n",
       "Country Name                             Germany           Germany   \n",
       "Variables     GDP per capita (constant 2010 US$)  Urban population   \n",
       "1991                            33839.4902602064          58625381   \n",
       "1992                            34228.9984716111          59146205   \n",
       "1993                            33672.5430228037          59647492   \n",
       "\n",
       "                                forest_%_g         forest_sqkm_g  \\\n",
       "Country Name                       Germany               Germany   \n",
       "Variables     Forest area (% of land area)  Forest area (sq. km)   \n",
       "1991                      32.3816354670896       113054.00390625   \n",
       "1992                       32.397100806827      113107.998046875   \n",
       "1993                      32.4134973513763      113162.001953125   \n",
       "\n",
       "                                               energy_pc_g  \\\n",
       "Country Name                                       Germany   \n",
       "Variables     Energy use (kg of oil equivalent per capita)   \n",
       "1991                                      4302.89117530285   \n",
       "1992                                      4190.98422047326   \n",
       "1993                                      4122.69573982757   \n",
       "\n",
       "                                                        renew_g  \\\n",
       "Country Name                                            Germany   \n",
       "Variables     Renewable energy consumption (% of total final...   \n",
       "1991                                           1.98863280907619   \n",
       "1992                                           2.06262189491575   \n",
       "1993                                           2.11093108509833   \n",
       "\n",
       "                                            CO2_pc_i  \\\n",
       "Country Name                      Iran, Islamic Rep.   \n",
       "Variables     CO2 emissions (metric tons per capita)   \n",
       "1991                                3.94253605218146   \n",
       "1992                                3.88682085532976   \n",
       "1993                                3.97186223895734   \n",
       "\n",
       "                                        GDP_pc_i               pop_i  ...  \\\n",
       "Country Name                  Iran, Islamic Rep.  Iran, Islamic Rep.  ...   \n",
       "Variables     GDP per capita (constant 2010 US$)    Urban population  ...   \n",
       "1991                            4541.09832265763            32799183  ...   \n",
       "1992                            4582.33009005096            33888647  ...   \n",
       "1993                            4556.85116331007            34949749  ...   \n",
       "\n",
       "                     forest_sqkm_i  \\\n",
       "Country Name    Iran, Islamic Rep.   \n",
       "Variables     Forest area (sq. km)   \n",
       "1991                 91010.1953125   \n",
       "1992                 91259.8046875   \n",
       "1993               91509.404296875   \n",
       "\n",
       "                                               energy_pc_i  \\\n",
       "Country Name                            Iran, Islamic Rep.   \n",
       "Variables     Energy use (kg of oil equivalent per capita)   \n",
       "1991                                      1332.47496828744   \n",
       "1992                                      1376.35736216019   \n",
       "1993                                      1458.48325969542   \n",
       "\n",
       "                                                        renew_i  \\\n",
       "Country Name                                 Iran, Islamic Rep.   \n",
       "Variables     Renewable energy consumption (% of total final...   \n",
       "1991                                           1.22691740882349   \n",
       "1992                                           1.44947071982901   \n",
       "1993                                           1.52814706823082   \n",
       "\n",
       "                                            CO2_pc_j  \\\n",
       "Country Name                                   Japan   \n",
       "Variables     CO2 emissions (metric tons per capita)   \n",
       "1991                                8.86402505628586   \n",
       "1992                                9.03967200895121   \n",
       "1993                                8.89483651313676   \n",
       "\n",
       "                                        GDP_pc_j             pop_j  \\\n",
       "Country Name                               Japan             Japan   \n",
       "Variables     GDP per capita (constant 2010 US$)  Urban population   \n",
       "1991                            39253.6418413885          96005316   \n",
       "1992                            39488.3934345327          96414127   \n",
       "1993                            39187.0345375322          96821759   \n",
       "\n",
       "                                forest_%_j         forest_sqkm_j  \\\n",
       "Country Name                         Japan                 Japan   \n",
       "Variables     Forest area (% of land area)  Forest area (sq. km)   \n",
       "1991                      68.4108601463933       249425.99609375   \n",
       "1992                      68.3905628599835        249351.9921875   \n",
       "1993                      68.3702709304718        249278.0078125   \n",
       "\n",
       "                                               energy_pc_j  \\\n",
       "Country Name                                         Japan   \n",
       "Variables     Energy use (kg of oil equivalent per capita)   \n",
       "1991                                      3575.24609226846   \n",
       "1992                                      3649.94432056927   \n",
       "1993                                      3664.56835774395   \n",
       "\n",
       "                                                        renew_j  \n",
       "Country Name                                              Japan  \n",
       "Variables     Renewable energy consumption (% of total final...  \n",
       "1991                                           4.73056921825984  \n",
       "1992                                           4.19771490131849  \n",
       "1993                                           4.43560671218463  \n",
       "\n",
       "[5 rows x 21 columns]"
      ]
     },
     "execution_count": 41,
     "metadata": {},
     "output_type": "execute_result"
    }
   ],
   "source": [
    "df_t.head(5)"
   ]
  },
  {
   "cell_type": "code",
   "execution_count": 16,
   "metadata": {},
   "outputs": [
    {
     "data": {
      "text/plain": [
       "Int64Index([511, 512, 513, 514, 515, 516, 517, 637, 638, 639, 640, 641, 642,\n",
       "            643, 686, 687, 688, 689, 690, 691, 692],\n",
       "           dtype='int64')"
      ]
     },
     "execution_count": 16,
     "metadata": {},
     "output_type": "execute_result"
    }
   ],
   "source": [
    "df_t.columns"
   ]
  },
  {
   "cell_type": "code",
   "execution_count": 17,
   "metadata": {},
   "outputs": [],
   "source": [
    "df_t.columns = ['CO2_pc_g', 'GDP_pc_g', 'pop_g', 'forest_%_g', 'forest_sqkm_g', 'energy_pc_g', 'renew_g',\n",
    "               'CO2_pc_i', 'GDP_pc_i', 'pop_i', 'forest_%_i', 'forest_sqkm_i', 'energy_pc_i', 'renew_i',\n",
    "               'CO2_pc_j', 'GDP_pc_j', 'pop_j', 'forest_%_j', 'forest_sqkm_j', 'energy_pc_j', 'renew_j']"
   ]
  },
  {
   "cell_type": "code",
   "execution_count": 18,
   "metadata": {},
   "outputs": [
    {
     "data": {
      "text/html": [
       "<div>\n",
       "<style scoped>\n",
       "    .dataframe tbody tr th:only-of-type {\n",
       "        vertical-align: middle;\n",
       "    }\n",
       "\n",
       "    .dataframe tbody tr th {\n",
       "        vertical-align: top;\n",
       "    }\n",
       "\n",
       "    .dataframe thead th {\n",
       "        text-align: right;\n",
       "    }\n",
       "</style>\n",
       "<table border=\"1\" class=\"dataframe\">\n",
       "  <thead>\n",
       "    <tr style=\"text-align: right;\">\n",
       "      <th></th>\n",
       "      <th>CO2_pc_g</th>\n",
       "      <th>GDP_pc_g</th>\n",
       "      <th>pop_g</th>\n",
       "      <th>forest_%_g</th>\n",
       "      <th>forest_sqkm_g</th>\n",
       "      <th>energy_pc_g</th>\n",
       "      <th>renew_g</th>\n",
       "      <th>CO2_pc_i</th>\n",
       "      <th>GDP_pc_i</th>\n",
       "      <th>pop_i</th>\n",
       "      <th>...</th>\n",
       "      <th>forest_sqkm_i</th>\n",
       "      <th>energy_pc_i</th>\n",
       "      <th>renew_i</th>\n",
       "      <th>CO2_pc_j</th>\n",
       "      <th>GDP_pc_j</th>\n",
       "      <th>pop_j</th>\n",
       "      <th>forest_%_j</th>\n",
       "      <th>forest_sqkm_j</th>\n",
       "      <th>energy_pc_j</th>\n",
       "      <th>renew_j</th>\n",
       "    </tr>\n",
       "  </thead>\n",
       "  <tbody>\n",
       "    <tr>\n",
       "      <th>Country Name</th>\n",
       "      <td>Germany</td>\n",
       "      <td>Germany</td>\n",
       "      <td>Germany</td>\n",
       "      <td>Germany</td>\n",
       "      <td>Germany</td>\n",
       "      <td>Germany</td>\n",
       "      <td>Germany</td>\n",
       "      <td>Iran, Islamic Rep.</td>\n",
       "      <td>Iran, Islamic Rep.</td>\n",
       "      <td>Iran, Islamic Rep.</td>\n",
       "      <td>...</td>\n",
       "      <td>Iran, Islamic Rep.</td>\n",
       "      <td>Iran, Islamic Rep.</td>\n",
       "      <td>Iran, Islamic Rep.</td>\n",
       "      <td>Japan</td>\n",
       "      <td>Japan</td>\n",
       "      <td>Japan</td>\n",
       "      <td>Japan</td>\n",
       "      <td>Japan</td>\n",
       "      <td>Japan</td>\n",
       "      <td>Japan</td>\n",
       "    </tr>\n",
       "    <tr>\n",
       "      <th>Variables</th>\n",
       "      <td>CO2 emissions (metric tons per capita)</td>\n",
       "      <td>GDP per capita (constant 2010 US$)</td>\n",
       "      <td>Urban population</td>\n",
       "      <td>Forest area (% of land area)</td>\n",
       "      <td>Forest area (sq. km)</td>\n",
       "      <td>Energy use (kg of oil equivalent per capita)</td>\n",
       "      <td>Renewable energy consumption (% of total final...</td>\n",
       "      <td>CO2 emissions (metric tons per capita)</td>\n",
       "      <td>GDP per capita (constant 2010 US$)</td>\n",
       "      <td>Urban population</td>\n",
       "      <td>...</td>\n",
       "      <td>Forest area (sq. km)</td>\n",
       "      <td>Energy use (kg of oil equivalent per capita)</td>\n",
       "      <td>Renewable energy consumption (% of total final...</td>\n",
       "      <td>CO2 emissions (metric tons per capita)</td>\n",
       "      <td>GDP per capita (constant 2010 US$)</td>\n",
       "      <td>Urban population</td>\n",
       "      <td>Forest area (% of land area)</td>\n",
       "      <td>Forest area (sq. km)</td>\n",
       "      <td>Energy use (kg of oil equivalent per capita)</td>\n",
       "      <td>Renewable energy consumption (% of total final...</td>\n",
       "    </tr>\n",
       "    <tr>\n",
       "      <th>1991</th>\n",
       "      <td>11.62264617136</td>\n",
       "      <td>33839.4902602064</td>\n",
       "      <td>58625381</td>\n",
       "      <td>32.3816354670896</td>\n",
       "      <td>113054.00390625</td>\n",
       "      <td>4302.89117530285</td>\n",
       "      <td>1.98863280907619</td>\n",
       "      <td>3.94253605218146</td>\n",
       "      <td>4541.09832265763</td>\n",
       "      <td>32799183</td>\n",
       "      <td>...</td>\n",
       "      <td>91010.1953125</td>\n",
       "      <td>1332.47496828744</td>\n",
       "      <td>1.22691740882349</td>\n",
       "      <td>8.86402505628586</td>\n",
       "      <td>39253.6418413885</td>\n",
       "      <td>96005316</td>\n",
       "      <td>68.4108601463933</td>\n",
       "      <td>249425.99609375</td>\n",
       "      <td>3575.24609226846</td>\n",
       "      <td>4.73056921825984</td>\n",
       "    </tr>\n",
       "    <tr>\n",
       "      <th>1992</th>\n",
       "      <td>11.0633202537022</td>\n",
       "      <td>34228.9984716111</td>\n",
       "      <td>59146205</td>\n",
       "      <td>32.397100806827</td>\n",
       "      <td>113107.998046875</td>\n",
       "      <td>4190.98422047326</td>\n",
       "      <td>2.06262189491575</td>\n",
       "      <td>3.88682085532976</td>\n",
       "      <td>4582.33009005096</td>\n",
       "      <td>33888647</td>\n",
       "      <td>...</td>\n",
       "      <td>91259.8046875</td>\n",
       "      <td>1376.35736216019</td>\n",
       "      <td>1.44947071982901</td>\n",
       "      <td>9.03967200895121</td>\n",
       "      <td>39488.3934345327</td>\n",
       "      <td>96414127</td>\n",
       "      <td>68.3905628599835</td>\n",
       "      <td>249351.9921875</td>\n",
       "      <td>3649.94432056927</td>\n",
       "      <td>4.19771490131849</td>\n",
       "    </tr>\n",
       "    <tr>\n",
       "      <th>1993</th>\n",
       "      <td>10.8142489332599</td>\n",
       "      <td>33672.5430228037</td>\n",
       "      <td>59647492</td>\n",
       "      <td>32.4134973513763</td>\n",
       "      <td>113162.001953125</td>\n",
       "      <td>4122.69573982757</td>\n",
       "      <td>2.11093108509833</td>\n",
       "      <td>3.97186223895734</td>\n",
       "      <td>4556.85116331007</td>\n",
       "      <td>34949749</td>\n",
       "      <td>...</td>\n",
       "      <td>91509.404296875</td>\n",
       "      <td>1458.48325969542</td>\n",
       "      <td>1.52814706823082</td>\n",
       "      <td>8.89483651313676</td>\n",
       "      <td>39187.0345375322</td>\n",
       "      <td>96821759</td>\n",
       "      <td>68.3702709304718</td>\n",
       "      <td>249278.0078125</td>\n",
       "      <td>3664.56835774395</td>\n",
       "      <td>4.43560671218463</td>\n",
       "    </tr>\n",
       "  </tbody>\n",
       "</table>\n",
       "<p>5 rows × 21 columns</p>\n",
       "</div>"
      ],
      "text/plain": [
       "                                            CO2_pc_g  \\\n",
       "Country Name                                 Germany   \n",
       "Variables     CO2 emissions (metric tons per capita)   \n",
       "1991                                  11.62264617136   \n",
       "1992                                11.0633202537022   \n",
       "1993                                10.8142489332599   \n",
       "\n",
       "                                        GDP_pc_g             pop_g  \\\n",
       "Country Name                             Germany           Germany   \n",
       "Variables     GDP per capita (constant 2010 US$)  Urban population   \n",
       "1991                            33839.4902602064          58625381   \n",
       "1992                            34228.9984716111          59146205   \n",
       "1993                            33672.5430228037          59647492   \n",
       "\n",
       "                                forest_%_g         forest_sqkm_g  \\\n",
       "Country Name                       Germany               Germany   \n",
       "Variables     Forest area (% of land area)  Forest area (sq. km)   \n",
       "1991                      32.3816354670896       113054.00390625   \n",
       "1992                       32.397100806827      113107.998046875   \n",
       "1993                      32.4134973513763      113162.001953125   \n",
       "\n",
       "                                               energy_pc_g  \\\n",
       "Country Name                                       Germany   \n",
       "Variables     Energy use (kg of oil equivalent per capita)   \n",
       "1991                                      4302.89117530285   \n",
       "1992                                      4190.98422047326   \n",
       "1993                                      4122.69573982757   \n",
       "\n",
       "                                                        renew_g  \\\n",
       "Country Name                                            Germany   \n",
       "Variables     Renewable energy consumption (% of total final...   \n",
       "1991                                           1.98863280907619   \n",
       "1992                                           2.06262189491575   \n",
       "1993                                           2.11093108509833   \n",
       "\n",
       "                                            CO2_pc_i  \\\n",
       "Country Name                      Iran, Islamic Rep.   \n",
       "Variables     CO2 emissions (metric tons per capita)   \n",
       "1991                                3.94253605218146   \n",
       "1992                                3.88682085532976   \n",
       "1993                                3.97186223895734   \n",
       "\n",
       "                                        GDP_pc_i               pop_i  ...  \\\n",
       "Country Name                  Iran, Islamic Rep.  Iran, Islamic Rep.  ...   \n",
       "Variables     GDP per capita (constant 2010 US$)    Urban population  ...   \n",
       "1991                            4541.09832265763            32799183  ...   \n",
       "1992                            4582.33009005096            33888647  ...   \n",
       "1993                            4556.85116331007            34949749  ...   \n",
       "\n",
       "                     forest_sqkm_i  \\\n",
       "Country Name    Iran, Islamic Rep.   \n",
       "Variables     Forest area (sq. km)   \n",
       "1991                 91010.1953125   \n",
       "1992                 91259.8046875   \n",
       "1993               91509.404296875   \n",
       "\n",
       "                                               energy_pc_i  \\\n",
       "Country Name                            Iran, Islamic Rep.   \n",
       "Variables     Energy use (kg of oil equivalent per capita)   \n",
       "1991                                      1332.47496828744   \n",
       "1992                                      1376.35736216019   \n",
       "1993                                      1458.48325969542   \n",
       "\n",
       "                                                        renew_i  \\\n",
       "Country Name                                 Iran, Islamic Rep.   \n",
       "Variables     Renewable energy consumption (% of total final...   \n",
       "1991                                           1.22691740882349   \n",
       "1992                                           1.44947071982901   \n",
       "1993                                           1.52814706823082   \n",
       "\n",
       "                                            CO2_pc_j  \\\n",
       "Country Name                                   Japan   \n",
       "Variables     CO2 emissions (metric tons per capita)   \n",
       "1991                                8.86402505628586   \n",
       "1992                                9.03967200895121   \n",
       "1993                                8.89483651313676   \n",
       "\n",
       "                                        GDP_pc_j             pop_j  \\\n",
       "Country Name                               Japan             Japan   \n",
       "Variables     GDP per capita (constant 2010 US$)  Urban population   \n",
       "1991                            39253.6418413885          96005316   \n",
       "1992                            39488.3934345327          96414127   \n",
       "1993                            39187.0345375322          96821759   \n",
       "\n",
       "                                forest_%_j         forest_sqkm_j  \\\n",
       "Country Name                         Japan                 Japan   \n",
       "Variables     Forest area (% of land area)  Forest area (sq. km)   \n",
       "1991                      68.4108601463933       249425.99609375   \n",
       "1992                      68.3905628599835        249351.9921875   \n",
       "1993                      68.3702709304718        249278.0078125   \n",
       "\n",
       "                                               energy_pc_j  \\\n",
       "Country Name                                         Japan   \n",
       "Variables     Energy use (kg of oil equivalent per capita)   \n",
       "1991                                      3575.24609226846   \n",
       "1992                                      3649.94432056927   \n",
       "1993                                      3664.56835774395   \n",
       "\n",
       "                                                        renew_j  \n",
       "Country Name                                              Japan  \n",
       "Variables     Renewable energy consumption (% of total final...  \n",
       "1991                                           4.73056921825984  \n",
       "1992                                           4.19771490131849  \n",
       "1993                                           4.43560671218463  \n",
       "\n",
       "[5 rows x 21 columns]"
      ]
     },
     "execution_count": 18,
     "metadata": {},
     "output_type": "execute_result"
    }
   ],
   "source": [
    "df_t.head(5)"
   ]
  },
  {
   "cell_type": "code",
   "execution_count": 19,
   "metadata": {},
   "outputs": [],
   "source": [
    "df_clean = df_t.drop(['Country Name','Variables'])"
   ]
  },
  {
   "cell_type": "code",
   "execution_count": 20,
   "metadata": {},
   "outputs": [],
   "source": [
    "df_clean = df_clean.reset_index()"
   ]
  },
  {
   "cell_type": "code",
   "execution_count": 21,
   "metadata": {},
   "outputs": [
    {
     "data": {
      "text/html": [
       "<div>\n",
       "<style scoped>\n",
       "    .dataframe tbody tr th:only-of-type {\n",
       "        vertical-align: middle;\n",
       "    }\n",
       "\n",
       "    .dataframe tbody tr th {\n",
       "        vertical-align: top;\n",
       "    }\n",
       "\n",
       "    .dataframe thead th {\n",
       "        text-align: right;\n",
       "    }\n",
       "</style>\n",
       "<table border=\"1\" class=\"dataframe\">\n",
       "  <thead>\n",
       "    <tr style=\"text-align: right;\">\n",
       "      <th></th>\n",
       "      <th>index</th>\n",
       "      <th>CO2_pc_g</th>\n",
       "      <th>GDP_pc_g</th>\n",
       "      <th>pop_g</th>\n",
       "      <th>forest_%_g</th>\n",
       "      <th>forest_sqkm_g</th>\n",
       "      <th>energy_pc_g</th>\n",
       "      <th>renew_g</th>\n",
       "      <th>CO2_pc_i</th>\n",
       "      <th>GDP_pc_i</th>\n",
       "      <th>...</th>\n",
       "      <th>forest_sqkm_i</th>\n",
       "      <th>energy_pc_i</th>\n",
       "      <th>renew_i</th>\n",
       "      <th>CO2_pc_j</th>\n",
       "      <th>GDP_pc_j</th>\n",
       "      <th>pop_j</th>\n",
       "      <th>forest_%_j</th>\n",
       "      <th>forest_sqkm_j</th>\n",
       "      <th>energy_pc_j</th>\n",
       "      <th>renew_j</th>\n",
       "    </tr>\n",
       "  </thead>\n",
       "  <tbody>\n",
       "    <tr>\n",
       "      <th>0</th>\n",
       "      <td>1991</td>\n",
       "      <td>11.62264617136</td>\n",
       "      <td>33839.4902602064</td>\n",
       "      <td>58625381</td>\n",
       "      <td>32.3816354670896</td>\n",
       "      <td>113054.00390625</td>\n",
       "      <td>4302.89117530285</td>\n",
       "      <td>1.98863280907619</td>\n",
       "      <td>3.94253605218146</td>\n",
       "      <td>4541.09832265763</td>\n",
       "      <td>...</td>\n",
       "      <td>91010.1953125</td>\n",
       "      <td>1332.47496828744</td>\n",
       "      <td>1.22691740882349</td>\n",
       "      <td>8.86402505628586</td>\n",
       "      <td>39253.6418413885</td>\n",
       "      <td>96005316</td>\n",
       "      <td>68.4108601463933</td>\n",
       "      <td>249425.99609375</td>\n",
       "      <td>3575.24609226846</td>\n",
       "      <td>4.73056921825984</td>\n",
       "    </tr>\n",
       "    <tr>\n",
       "      <th>1</th>\n",
       "      <td>1992</td>\n",
       "      <td>11.0633202537022</td>\n",
       "      <td>34228.9984716111</td>\n",
       "      <td>59146205</td>\n",
       "      <td>32.397100806827</td>\n",
       "      <td>113107.998046875</td>\n",
       "      <td>4190.98422047326</td>\n",
       "      <td>2.06262189491575</td>\n",
       "      <td>3.88682085532976</td>\n",
       "      <td>4582.33009005096</td>\n",
       "      <td>...</td>\n",
       "      <td>91259.8046875</td>\n",
       "      <td>1376.35736216019</td>\n",
       "      <td>1.44947071982901</td>\n",
       "      <td>9.03967200895121</td>\n",
       "      <td>39488.3934345327</td>\n",
       "      <td>96414127</td>\n",
       "      <td>68.3905628599835</td>\n",
       "      <td>249351.9921875</td>\n",
       "      <td>3649.94432056927</td>\n",
       "      <td>4.19771490131849</td>\n",
       "    </tr>\n",
       "    <tr>\n",
       "      <th>2</th>\n",
       "      <td>1993</td>\n",
       "      <td>10.8142489332599</td>\n",
       "      <td>33672.5430228037</td>\n",
       "      <td>59647492</td>\n",
       "      <td>32.4134973513763</td>\n",
       "      <td>113162.001953125</td>\n",
       "      <td>4122.69573982757</td>\n",
       "      <td>2.11093108509833</td>\n",
       "      <td>3.97186223895734</td>\n",
       "      <td>4556.85116331007</td>\n",
       "      <td>...</td>\n",
       "      <td>91509.404296875</td>\n",
       "      <td>1458.48325969542</td>\n",
       "      <td>1.52814706823082</td>\n",
       "      <td>8.89483651313676</td>\n",
       "      <td>39187.0345375322</td>\n",
       "      <td>96821759</td>\n",
       "      <td>68.3702709304718</td>\n",
       "      <td>249278.0078125</td>\n",
       "      <td>3664.56835774395</td>\n",
       "      <td>4.43560671218463</td>\n",
       "    </tr>\n",
       "    <tr>\n",
       "      <th>3</th>\n",
       "      <td>1994</td>\n",
       "      <td>10.6283919217025</td>\n",
       "      <td>34358.5719956026</td>\n",
       "      <td>60028206</td>\n",
       "      <td>32.429892037968</td>\n",
       "      <td>113215.99609375</td>\n",
       "      <td>4088.79812984419</td>\n",
       "      <td>2.26620206067894</td>\n",
       "      <td>4.37741797764254</td>\n",
       "      <td>4423.76244250285</td>\n",
       "      <td>...</td>\n",
       "      <td>91759.00390625</td>\n",
       "      <td>1596.02528536846</td>\n",
       "      <td>1.08696505855375</td>\n",
       "      <td>9.39297350373317</td>\n",
       "      <td>39441.5867622873</td>\n",
       "      <td>97320876</td>\n",
       "      <td>68.349973644062</td>\n",
       "      <td>249204.00390625</td>\n",
       "      <td>3850.96244428262</td>\n",
       "      <td>3.56764577817821</td>\n",
       "    </tr>\n",
       "    <tr>\n",
       "      <th>4</th>\n",
       "      <td>1995</td>\n",
       "      <td>10.579466630515</td>\n",
       "      <td>34786.728549099</td>\n",
       "      <td>60378049</td>\n",
       "      <td>32.4462904611859</td>\n",
       "      <td>113270</td>\n",
       "      <td>4119.68894801371</td>\n",
       "      <td>2.31974899616167</td>\n",
       "      <td>4.44222509622955</td>\n",
       "      <td>4461.99553919884</td>\n",
       "      <td>...</td>\n",
       "      <td>92008.603515625</td>\n",
       "      <td>1647.24643124198</td>\n",
       "      <td>1.01808729977768</td>\n",
       "      <td>9.43508730936949</td>\n",
       "      <td>40368.7122822693</td>\n",
       "      <td>97862490</td>\n",
       "      <td>68.3296763576522</td>\n",
       "      <td>249130</td>\n",
       "      <td>3935.99475442247</td>\n",
       "      <td>3.91718852109581</td>\n",
       "    </tr>\n",
       "  </tbody>\n",
       "</table>\n",
       "<p>5 rows × 22 columns</p>\n",
       "</div>"
      ],
      "text/plain": [
       "  index          CO2_pc_g          GDP_pc_g     pop_g        forest_%_g  \\\n",
       "0  1991    11.62264617136  33839.4902602064  58625381  32.3816354670896   \n",
       "1  1992  11.0633202537022  34228.9984716111  59146205   32.397100806827   \n",
       "2  1993  10.8142489332599  33672.5430228037  59647492  32.4134973513763   \n",
       "3  1994  10.6283919217025  34358.5719956026  60028206   32.429892037968   \n",
       "4  1995   10.579466630515   34786.728549099  60378049  32.4462904611859   \n",
       "\n",
       "      forest_sqkm_g       energy_pc_g           renew_g          CO2_pc_i  \\\n",
       "0   113054.00390625  4302.89117530285  1.98863280907619  3.94253605218146   \n",
       "1  113107.998046875  4190.98422047326  2.06262189491575  3.88682085532976   \n",
       "2  113162.001953125  4122.69573982757  2.11093108509833  3.97186223895734   \n",
       "3   113215.99609375  4088.79812984419  2.26620206067894  4.37741797764254   \n",
       "4            113270  4119.68894801371  2.31974899616167  4.44222509622955   \n",
       "\n",
       "           GDP_pc_i  ...    forest_sqkm_i       energy_pc_i           renew_i  \\\n",
       "0  4541.09832265763  ...    91010.1953125  1332.47496828744  1.22691740882349   \n",
       "1  4582.33009005096  ...    91259.8046875  1376.35736216019  1.44947071982901   \n",
       "2  4556.85116331007  ...  91509.404296875  1458.48325969542  1.52814706823082   \n",
       "3  4423.76244250285  ...   91759.00390625  1596.02528536846  1.08696505855375   \n",
       "4  4461.99553919884  ...  92008.603515625  1647.24643124198  1.01808729977768   \n",
       "\n",
       "           CO2_pc_j          GDP_pc_j     pop_j        forest_%_j  \\\n",
       "0  8.86402505628586  39253.6418413885  96005316  68.4108601463933   \n",
       "1  9.03967200895121  39488.3934345327  96414127  68.3905628599835   \n",
       "2  8.89483651313676  39187.0345375322  96821759  68.3702709304718   \n",
       "3  9.39297350373317  39441.5867622873  97320876   68.349973644062   \n",
       "4  9.43508730936949  40368.7122822693  97862490  68.3296763576522   \n",
       "\n",
       "     forest_sqkm_j       energy_pc_j           renew_j  \n",
       "0  249425.99609375  3575.24609226846  4.73056921825984  \n",
       "1   249351.9921875  3649.94432056927  4.19771490131849  \n",
       "2   249278.0078125  3664.56835774395  4.43560671218463  \n",
       "3  249204.00390625  3850.96244428262  3.56764577817821  \n",
       "4           249130  3935.99475442247  3.91718852109581  \n",
       "\n",
       "[5 rows x 22 columns]"
      ]
     },
     "execution_count": 21,
     "metadata": {},
     "output_type": "execute_result"
    }
   ],
   "source": [
    "df_clean.head(5)"
   ]
  },
  {
   "cell_type": "code",
   "execution_count": 22,
   "metadata": {},
   "outputs": [],
   "source": [
    "#df_2['index'] = df_2['index'].astype('int') \n",
    "# list of columns = []\n",
    "# for i in df_2.columns: df_2[i]=df_2[i].astype('float')"
   ]
  },
  {
   "cell_type": "code",
   "execution_count": 23,
   "metadata": {},
   "outputs": [],
   "source": [
    "df_clean = df_clean.rename(columns = {'index':'date'})"
   ]
  },
  {
   "cell_type": "code",
   "execution_count": 24,
   "metadata": {},
   "outputs": [
    {
     "data": {
      "text/html": [
       "<div>\n",
       "<style scoped>\n",
       "    .dataframe tbody tr th:only-of-type {\n",
       "        vertical-align: middle;\n",
       "    }\n",
       "\n",
       "    .dataframe tbody tr th {\n",
       "        vertical-align: top;\n",
       "    }\n",
       "\n",
       "    .dataframe thead th {\n",
       "        text-align: right;\n",
       "    }\n",
       "</style>\n",
       "<table border=\"1\" class=\"dataframe\">\n",
       "  <thead>\n",
       "    <tr style=\"text-align: right;\">\n",
       "      <th></th>\n",
       "      <th>date</th>\n",
       "      <th>CO2_pc_g</th>\n",
       "      <th>GDP_pc_g</th>\n",
       "      <th>pop_g</th>\n",
       "      <th>forest_%_g</th>\n",
       "      <th>forest_sqkm_g</th>\n",
       "      <th>energy_pc_g</th>\n",
       "      <th>renew_g</th>\n",
       "      <th>CO2_pc_i</th>\n",
       "      <th>GDP_pc_i</th>\n",
       "      <th>...</th>\n",
       "      <th>forest_sqkm_i</th>\n",
       "      <th>energy_pc_i</th>\n",
       "      <th>renew_i</th>\n",
       "      <th>CO2_pc_j</th>\n",
       "      <th>GDP_pc_j</th>\n",
       "      <th>pop_j</th>\n",
       "      <th>forest_%_j</th>\n",
       "      <th>forest_sqkm_j</th>\n",
       "      <th>energy_pc_j</th>\n",
       "      <th>renew_j</th>\n",
       "    </tr>\n",
       "  </thead>\n",
       "  <tbody>\n",
       "    <tr>\n",
       "      <th>0</th>\n",
       "      <td>1991</td>\n",
       "      <td>11.62264617136</td>\n",
       "      <td>33839.4902602064</td>\n",
       "      <td>58625381</td>\n",
       "      <td>32.3816354670896</td>\n",
       "      <td>113054.00390625</td>\n",
       "      <td>4302.89117530285</td>\n",
       "      <td>1.98863280907619</td>\n",
       "      <td>3.94253605218146</td>\n",
       "      <td>4541.09832265763</td>\n",
       "      <td>...</td>\n",
       "      <td>91010.1953125</td>\n",
       "      <td>1332.47496828744</td>\n",
       "      <td>1.22691740882349</td>\n",
       "      <td>8.86402505628586</td>\n",
       "      <td>39253.6418413885</td>\n",
       "      <td>96005316</td>\n",
       "      <td>68.4108601463933</td>\n",
       "      <td>249425.99609375</td>\n",
       "      <td>3575.24609226846</td>\n",
       "      <td>4.73056921825984</td>\n",
       "    </tr>\n",
       "    <tr>\n",
       "      <th>1</th>\n",
       "      <td>1992</td>\n",
       "      <td>11.0633202537022</td>\n",
       "      <td>34228.9984716111</td>\n",
       "      <td>59146205</td>\n",
       "      <td>32.397100806827</td>\n",
       "      <td>113107.998046875</td>\n",
       "      <td>4190.98422047326</td>\n",
       "      <td>2.06262189491575</td>\n",
       "      <td>3.88682085532976</td>\n",
       "      <td>4582.33009005096</td>\n",
       "      <td>...</td>\n",
       "      <td>91259.8046875</td>\n",
       "      <td>1376.35736216019</td>\n",
       "      <td>1.44947071982901</td>\n",
       "      <td>9.03967200895121</td>\n",
       "      <td>39488.3934345327</td>\n",
       "      <td>96414127</td>\n",
       "      <td>68.3905628599835</td>\n",
       "      <td>249351.9921875</td>\n",
       "      <td>3649.94432056927</td>\n",
       "      <td>4.19771490131849</td>\n",
       "    </tr>\n",
       "    <tr>\n",
       "      <th>2</th>\n",
       "      <td>1993</td>\n",
       "      <td>10.8142489332599</td>\n",
       "      <td>33672.5430228037</td>\n",
       "      <td>59647492</td>\n",
       "      <td>32.4134973513763</td>\n",
       "      <td>113162.001953125</td>\n",
       "      <td>4122.69573982757</td>\n",
       "      <td>2.11093108509833</td>\n",
       "      <td>3.97186223895734</td>\n",
       "      <td>4556.85116331007</td>\n",
       "      <td>...</td>\n",
       "      <td>91509.404296875</td>\n",
       "      <td>1458.48325969542</td>\n",
       "      <td>1.52814706823082</td>\n",
       "      <td>8.89483651313676</td>\n",
       "      <td>39187.0345375322</td>\n",
       "      <td>96821759</td>\n",
       "      <td>68.3702709304718</td>\n",
       "      <td>249278.0078125</td>\n",
       "      <td>3664.56835774395</td>\n",
       "      <td>4.43560671218463</td>\n",
       "    </tr>\n",
       "    <tr>\n",
       "      <th>3</th>\n",
       "      <td>1994</td>\n",
       "      <td>10.6283919217025</td>\n",
       "      <td>34358.5719956026</td>\n",
       "      <td>60028206</td>\n",
       "      <td>32.429892037968</td>\n",
       "      <td>113215.99609375</td>\n",
       "      <td>4088.79812984419</td>\n",
       "      <td>2.26620206067894</td>\n",
       "      <td>4.37741797764254</td>\n",
       "      <td>4423.76244250285</td>\n",
       "      <td>...</td>\n",
       "      <td>91759.00390625</td>\n",
       "      <td>1596.02528536846</td>\n",
       "      <td>1.08696505855375</td>\n",
       "      <td>9.39297350373317</td>\n",
       "      <td>39441.5867622873</td>\n",
       "      <td>97320876</td>\n",
       "      <td>68.349973644062</td>\n",
       "      <td>249204.00390625</td>\n",
       "      <td>3850.96244428262</td>\n",
       "      <td>3.56764577817821</td>\n",
       "    </tr>\n",
       "    <tr>\n",
       "      <th>4</th>\n",
       "      <td>1995</td>\n",
       "      <td>10.579466630515</td>\n",
       "      <td>34786.728549099</td>\n",
       "      <td>60378049</td>\n",
       "      <td>32.4462904611859</td>\n",
       "      <td>113270</td>\n",
       "      <td>4119.68894801371</td>\n",
       "      <td>2.31974899616167</td>\n",
       "      <td>4.44222509622955</td>\n",
       "      <td>4461.99553919884</td>\n",
       "      <td>...</td>\n",
       "      <td>92008.603515625</td>\n",
       "      <td>1647.24643124198</td>\n",
       "      <td>1.01808729977768</td>\n",
       "      <td>9.43508730936949</td>\n",
       "      <td>40368.7122822693</td>\n",
       "      <td>97862490</td>\n",
       "      <td>68.3296763576522</td>\n",
       "      <td>249130</td>\n",
       "      <td>3935.99475442247</td>\n",
       "      <td>3.91718852109581</td>\n",
       "    </tr>\n",
       "    <tr>\n",
       "      <th>5</th>\n",
       "      <td>1996</td>\n",
       "      <td>10.8602336004331</td>\n",
       "      <td>34965.6844508481</td>\n",
       "      <td>60725922</td>\n",
       "      <td>32.4626898238993</td>\n",
       "      <td>113324.00390625</td>\n",
       "      <td>4246.55319132624</td>\n",
       "      <td>2.25217383396493</td>\n",
       "      <td>4.43148645186477</td>\n",
       "      <td>4628.62470872619</td>\n",
       "      <td>...</td>\n",
       "      <td>92258.203125</td>\n",
       "      <td>1567.16282804441</td>\n",
       "      <td>1.03227215541096</td>\n",
       "      <td>9.58239467385513</td>\n",
       "      <td>41514.897794653</td>\n",
       "      <td>98272808</td>\n",
       "      <td>68.3281196416324</td>\n",
       "      <td>249055.99609375</td>\n",
       "      <td>4008.4762359153</td>\n",
       "      <td>3.8393584372338</td>\n",
       "    </tr>\n",
       "    <tr>\n",
       "      <th>6</th>\n",
       "      <td>1997</td>\n",
       "      <td>10.5111125988271</td>\n",
       "      <td>35540.2875272631</td>\n",
       "      <td>60986289</td>\n",
       "      <td>32.4818788273528</td>\n",
       "      <td>113377.998046875</td>\n",
       "      <td>4203.35736659763</td>\n",
       "      <td>2.82442182235482</td>\n",
       "      <td>4.26527097433249</td>\n",
       "      <td>4588.9557019275</td>\n",
       "      <td>...</td>\n",
       "      <td>92507.802734375</td>\n",
       "      <td>1730.50198117369</td>\n",
       "      <td>0.898423541082687</td>\n",
       "      <td>9.53044157008337</td>\n",
       "      <td>41861.7534385914</td>\n",
       "      <td>98667335</td>\n",
       "      <td>68.3078167866941</td>\n",
       "      <td>248981.9921875</td>\n",
       "      <td>4041.16767018095</td>\n",
       "      <td>4.07212749288482</td>\n",
       "    </tr>\n",
       "    <tr>\n",
       "      <th>7</th>\n",
       "      <td>1998</td>\n",
       "      <td>10.4252731613799</td>\n",
       "      <td>36250.5549565626</td>\n",
       "      <td>61167004</td>\n",
       "      <td>32.5001438178686</td>\n",
       "      <td>113432.001953125</td>\n",
       "      <td>4177.29412931179</td>\n",
       "      <td>3.04511890616193</td>\n",
       "      <td>4.82256562090855</td>\n",
       "      <td>4627.65427318618</td>\n",
       "      <td>...</td>\n",
       "      <td>92757.40234375</td>\n",
       "      <td>1739.32156644683</td>\n",
       "      <td>0.841574849410266</td>\n",
       "      <td>9.16863143196202</td>\n",
       "      <td>41277.0667588528</td>\n",
       "      <td>99095072</td>\n",
       "      <td>68.2875192901235</td>\n",
       "      <td>248908.0078125</td>\n",
       "      <td>3955.62762658228</td>\n",
       "      <td>4.04535605146046</td>\n",
       "    </tr>\n",
       "    <tr>\n",
       "      <th>8</th>\n",
       "      <td>1999</td>\n",
       "      <td>10.0177587659515</td>\n",
       "      <td>36910.8327257826</td>\n",
       "      <td>61376500</td>\n",
       "      <td>32.5193409633074</td>\n",
       "      <td>113485.99609375</td>\n",
       "      <td>4079.93334441166</td>\n",
       "      <td>3.26371214587689</td>\n",
       "      <td>5.90022473460237</td>\n",
       "      <td>4607.53057607939</td>\n",
       "      <td>...</td>\n",
       "      <td>93007.001953125</td>\n",
       "      <td>1947.82996774118</td>\n",
       "      <td>0.585858646602411</td>\n",
       "      <td>9.45726976806627</td>\n",
       "      <td>41097.9596040256</td>\n",
       "      <td>99434460</td>\n",
       "      <td>68.2672164351852</td>\n",
       "      <td>248834.00390625</td>\n",
       "      <td>4011.22477908253</td>\n",
       "      <td>3.82878657575963</td>\n",
       "    </tr>\n",
       "    <tr>\n",
       "      <th>9</th>\n",
       "      <td>2000</td>\n",
       "      <td>10.0956398829225</td>\n",
       "      <td>37934.4517828233</td>\n",
       "      <td>61629857</td>\n",
       "      <td>32.5376128385155</td>\n",
       "      <td>113540</td>\n",
       "      <td>4094.0603595302</td>\n",
       "      <td>3.70043759040219</td>\n",
       "      <td>5.67232331208659</td>\n",
       "      <td>4816.30882567067</td>\n",
       "      <td>...</td>\n",
       "      <td>93256.6015625</td>\n",
       "      <td>1874.67145296712</td>\n",
       "      <td>0.438389901756078</td>\n",
       "      <td>9.61252230710406</td>\n",
       "      <td>42169.7332837685</td>\n",
       "      <td>99760751</td>\n",
       "      <td>68.2469135802469</td>\n",
       "      <td>248760</td>\n",
       "      <td>4083.83169745276</td>\n",
       "      <td>3.91610801853032</td>\n",
       "    </tr>\n",
       "    <tr>\n",
       "      <th>10</th>\n",
       "      <td>2001</td>\n",
       "      <td>10.3662866966788</td>\n",
       "      <td>38507.4737778722</td>\n",
       "      <td>61902439</td>\n",
       "      <td>32.5594726282602</td>\n",
       "      <td>113600</td>\n",
       "      <td>4209.79608663882</td>\n",
       "      <td>3.89967279049467</td>\n",
       "      <td>5.99613558417455</td>\n",
       "      <td>4793.49626790034</td>\n",
       "      <td>...</td>\n",
       "      <td>95989.19921875</td>\n",
       "      <td>2008.65489368767</td>\n",
       "      <td>0.517141086529927</td>\n",
       "      <td>9.44821588844584</td>\n",
       "      <td>42239.1849263634</td>\n",
       "      <td>101706485</td>\n",
       "      <td>68.2792888374486</td>\n",
       "      <td>248878.0078125</td>\n",
       "      <td>4008.26803199396</td>\n",
       "      <td>3.73677736030424</td>\n",
       "    </tr>\n",
       "    <tr>\n",
       "      <th>11</th>\n",
       "      <td>2002</td>\n",
       "      <td>10.058672497298</td>\n",
       "      <td>38366.6795456265</td>\n",
       "      <td>62174878</td>\n",
       "      <td>32.5804047468899</td>\n",
       "      <td>113660</td>\n",
       "      <td>4108.40129887204</td>\n",
       "      <td>4.41263678738536</td>\n",
       "      <td>5.97103968331865</td>\n",
       "      <td>5077.90888219505</td>\n",
       "      <td>...</td>\n",
       "      <td>98721.904296875</td>\n",
       "      <td>2051.7888469187</td>\n",
       "      <td>0.66369099898987</td>\n",
       "      <td>9.56475713445015</td>\n",
       "      <td>42190.8048728416</td>\n",
       "      <td>104055019</td>\n",
       "      <td>68.3116587362826</td>\n",
       "      <td>248995.99609375</td>\n",
       "      <td>3991.97756679352</td>\n",
       "      <td>3.69537437293977</td>\n",
       "    </tr>\n",
       "    <tr>\n",
       "      <th>12</th>\n",
       "      <td>2003</td>\n",
       "      <td>9.97166488946349</td>\n",
       "      <td>38076.9815087939</td>\n",
       "      <td>62376854</td>\n",
       "      <td>32.6022763108856</td>\n",
       "      <td>113720</td>\n",
       "      <td>4084.50334562012</td>\n",
       "      <td>5.05846742452957</td>\n",
       "      <td>6.14239073188535</td>\n",
       "      <td>5453.51074001954</td>\n",
       "      <td>...</td>\n",
       "      <td>101454.501953125</td>\n",
       "      <td>2094.26915791565</td>\n",
       "      <td>0.829586856363129</td>\n",
       "      <td>9.71635272240405</td>\n",
       "      <td>42744.0112850452</td>\n",
       "      <td>106256267</td>\n",
       "      <td>68.3440339934842</td>\n",
       "      <td>249114.00390625</td>\n",
       "      <td>3953.18450805681</td>\n",
       "      <td>4.07902501125446</td>\n",
       "    </tr>\n",
       "    <tr>\n",
       "      <th>13</th>\n",
       "      <td>2004</td>\n",
       "      <td>9.88859455094063</td>\n",
       "      <td>38532.7840538701</td>\n",
       "      <td>62529997</td>\n",
       "      <td>32.6232187401439</td>\n",
       "      <td>113780</td>\n",
       "      <td>4114.38992751247</td>\n",
       "      <td>5.82524443326874</td>\n",
       "      <td>6.48336955480204</td>\n",
       "      <td>5623.69359469475</td>\n",
       "      <td>...</td>\n",
       "      <td>104187.197265625</td>\n",
       "      <td>2256.46260292104</td>\n",
       "      <td>0.737760939837713</td>\n",
       "      <td>9.880903295998</td>\n",
       "      <td>43671.6799739123</td>\n",
       "      <td>108136910</td>\n",
       "      <td>68.3764038923183</td>\n",
       "      <td>249231.9921875</td>\n",
       "      <td>4078.21054155807</td>\n",
       "      <td>4.0137574915504</td>\n",
       "    </tr>\n",
       "    <tr>\n",
       "      <th>14</th>\n",
       "      <td>2005</td>\n",
       "      <td>9.67339769884649</td>\n",
       "      <td>38836.7757824923</td>\n",
       "      <td>62660267</td>\n",
       "      <td>32.6413579538938</td>\n",
       "      <td>113840</td>\n",
       "      <td>4086.50340728713</td>\n",
       "      <td>6.76455100872253</td>\n",
       "      <td>6.7200665568204</td>\n",
       "      <td>5735.61106851669</td>\n",
       "      <td>...</td>\n",
       "      <td>106919.8046875</td>\n",
       "      <td>2475.08772891485</td>\n",
       "      <td>1.400793048278</td>\n",
       "      <td>9.71211291117842</td>\n",
       "      <td>44393.6263842663</td>\n",
       "      <td>109856670</td>\n",
       "      <td>68.4087791495199</td>\n",
       "      <td>249350</td>\n",
       "      <td>4062.97904878182</td>\n",
       "      <td>3.65447331002498</td>\n",
       "    </tr>\n",
       "    <tr>\n",
       "      <th>15</th>\n",
       "      <td>2006</td>\n",
       "      <td>9.91450304165204</td>\n",
       "      <td>40364.4632067864</td>\n",
       "      <td>62753557</td>\n",
       "      <td>32.6594402385868</td>\n",
       "      <td>113890</td>\n",
       "      <td>4204.65468948158</td>\n",
       "      <td>7.75322465619858</td>\n",
       "      <td>7.21905887001812</td>\n",
       "      <td>5954.74146438264</td>\n",
       "      <td>...</td>\n",
       "      <td>106919.8046875</td>\n",
       "      <td>2557.76370013873</td>\n",
       "      <td>1.39823937263196</td>\n",
       "      <td>9.65754616202856</td>\n",
       "      <td>44995.4944919713</td>\n",
       "      <td>111383848</td>\n",
       "      <td>68.4257866083676</td>\n",
       "      <td>249411.9921875</td>\n",
       "      <td>4053.88343735824</td>\n",
       "      <td>4.02936380851185</td>\n",
       "    </tr>\n",
       "    <tr>\n",
       "      <th>16</th>\n",
       "      <td>2007</td>\n",
       "      <td>9.49655365864439</td>\n",
       "      <td>41621.5118402428</td>\n",
       "      <td>62833410</td>\n",
       "      <td>32.6784638770184</td>\n",
       "      <td>113940</td>\n",
       "      <td>3985.81195485319</td>\n",
       "      <td>9.40658790331653</td>\n",
       "      <td>7.27992526964642</td>\n",
       "      <td>6369.82193076155</td>\n",
       "      <td>...</td>\n",
       "      <td>106919.8046875</td>\n",
       "      <td>2676.59959368612</td>\n",
       "      <td>1.30153622381001</td>\n",
       "      <td>9.77769262740135</td>\n",
       "      <td>45687.2738147647</td>\n",
       "      <td>112827761</td>\n",
       "      <td>68.442799425583</td>\n",
       "      <td>249474.00390625</td>\n",
       "      <td>4012.65424488871</td>\n",
       "      <td>3.7527317989319</td>\n",
       "    </tr>\n",
       "    <tr>\n",
       "      <th>17</th>\n",
       "      <td>2008</td>\n",
       "      <td>9.49086897315442</td>\n",
       "      <td>42101.0040357854</td>\n",
       "      <td>62875807</td>\n",
       "      <td>32.696555087055</td>\n",
       "      <td>113990</td>\n",
       "      <td>4036.83078099396</td>\n",
       "      <td>8.59224825671174</td>\n",
       "      <td>7.50940600830243</td>\n",
       "      <td>6316.37162536933</td>\n",
       "      <td>...</td>\n",
       "      <td>106919.8046875</td>\n",
       "      <td>2837.1845859749</td>\n",
       "      <td>0.702090314958857</td>\n",
       "      <td>9.46219035162381</td>\n",
       "      <td>45165.7879187542</td>\n",
       "      <td>114107975</td>\n",
       "      <td>68.4598068844307</td>\n",
       "      <td>249535.99609375</td>\n",
       "      <td>3858.43452050944</td>\n",
       "      <td>3.983866936164</td>\n",
       "    </tr>\n",
       "    <tr>\n",
       "      <th>18</th>\n",
       "      <td>2009</td>\n",
       "      <td>8.79764186618089</td>\n",
       "      <td>39804.5722815573</td>\n",
       "      <td>62877220</td>\n",
       "      <td>32.7127735865294</td>\n",
       "      <td>114040</td>\n",
       "      <td>3790.50115157318</td>\n",
       "      <td>9.63006156970857</td>\n",
       "      <td>7.60067589866536</td>\n",
       "      <td>6309.64160854798</td>\n",
       "      <td>...</td>\n",
       "      <td>106919.8046875</td>\n",
       "      <td>2800.51544030191</td>\n",
       "      <td>0.781922794295354</td>\n",
       "      <td>8.63209972900576</td>\n",
       "      <td>42724.7603699749</td>\n",
       "      <td>115228215</td>\n",
       "      <td>68.4768197016461</td>\n",
       "      <td>249598.0078125</td>\n",
       "      <td>3678.51113263099</td>\n",
       "      <td>4.03561366246857</td>\n",
       "    </tr>\n",
       "    <tr>\n",
       "      <th>19</th>\n",
       "      <td>2010</td>\n",
       "      <td>9.26766133186952</td>\n",
       "      <td>41531.9341978689</td>\n",
       "      <td>62940432</td>\n",
       "      <td>32.7308718478354</td>\n",
       "      <td>114090</td>\n",
       "      <td>3997.07942080976</td>\n",
       "      <td>10.2935196369107</td>\n",
       "      <td>7.76859435887758</td>\n",
       "      <td>6599.66093791004</td>\n",
       "      <td>...</td>\n",
       "      <td>106919.8046875</td>\n",
       "      <td>2769.46356726239</td>\n",
       "      <td>0.897453786451368</td>\n",
       "      <td>9.15601825564145</td>\n",
       "      <td>44507.6763859172</td>\n",
       "      <td>116302928</td>\n",
       "      <td>68.4844328624331</td>\n",
       "      <td>249660</td>\n",
       "      <td>3893.26660420083</td>\n",
       "      <td>4.58552956180109</td>\n",
       "    </tr>\n",
       "    <tr>\n",
       "      <th>20</th>\n",
       "      <td>2011</td>\n",
       "      <td>9.09137541642332</td>\n",
       "      <td>43969.7074500187</td>\n",
       "      <td>61940177</td>\n",
       "      <td>32.7375487720909</td>\n",
       "      <td>114110</td>\n",
       "      <td>3869.81622904859</td>\n",
       "      <td>11.3943559060623</td>\n",
       "      <td>7.89249315026058</td>\n",
       "      <td>6695.08228331152</td>\n",
       "      <td>...</td>\n",
       "      <td>106919.8046875</td>\n",
       "      <td>2791.10778868819</td>\n",
       "      <td>0.916869396257912</td>\n",
       "      <td>9.31269349854889</td>\n",
       "      <td>44538.7261906776</td>\n",
       "      <td>116416235</td>\n",
       "      <td>68.4791057333598</td>\n",
       "      <td>249644.00390625</td>\n",
       "      <td>3610.81216900174</td>\n",
       "      <td>4.69360225893564</td>\n",
       "    </tr>\n",
       "    <tr>\n",
       "      <th>21</th>\n",
       "      <td>2012</td>\n",
       "      <td>9.17791579204605</td>\n",
       "      <td>44070.9085651782</td>\n",
       "      <td>62064608</td>\n",
       "      <td>32.7451655477133</td>\n",
       "      <td>114130</td>\n",
       "      <td>3876.94810409338</td>\n",
       "      <td>12.0151357257952</td>\n",
       "      <td>8.09853138201391</td>\n",
       "      <td>6122.43208981298</td>\n",
       "      <td>...</td>\n",
       "      <td>106919.8046875</td>\n",
       "      <td>2869.33325348145</td>\n",
       "      <td>0.934277506348732</td>\n",
       "      <td>9.63434726433648</td>\n",
       "      <td>45276.8743353985</td>\n",
       "      <td>116331281</td>\n",
       "      <td>68.4737787504115</td>\n",
       "      <td>249628.0078125</td>\n",
       "      <td>3537.3631698125</td>\n",
       "      <td>4.53308543403043</td>\n",
       "    </tr>\n",
       "    <tr>\n",
       "      <th>22</th>\n",
       "      <td>2013</td>\n",
       "      <td>9.39867170690827</td>\n",
       "      <td>44143.1278111535</td>\n",
       "      <td>62242278</td>\n",
       "      <td>32.7189864709929</td>\n",
       "      <td>114150</td>\n",
       "      <td>3939.52956270835</td>\n",
       "      <td>12.0890787546162</td>\n",
       "      <td>8.10027776098732</td>\n",
       "      <td>6035.28220098466</td>\n",
       "      <td>...</td>\n",
       "      <td>106919.8046875</td>\n",
       "      <td>2889.109969395</td>\n",
       "      <td>0.995531840779105</td>\n",
       "      <td>9.76591054964887</td>\n",
       "      <td>46249.2095886628</td>\n",
       "      <td>116262976</td>\n",
       "      <td>68.4693856121077</td>\n",
       "      <td>249611.9921875</td>\n",
       "      <td>3567.62935383891</td>\n",
       "      <td>4.91215213004179</td>\n",
       "    </tr>\n",
       "    <tr>\n",
       "      <th>23</th>\n",
       "      <td>2014</td>\n",
       "      <td>8.89530225666039</td>\n",
       "      <td>44930.7921305433</td>\n",
       "      <td>62510392</td>\n",
       "      <td>32.7228432215535</td>\n",
       "      <td>114170</td>\n",
       "      <td>3779.46192078536</td>\n",
       "      <td>13.3788782316752</td>\n",
       "      <td>8.42168671619315</td>\n",
       "      <td>6232.93541757903</td>\n",
       "      <td>...</td>\n",
       "      <td>106919.8046875</td>\n",
       "      <td>3060.38704613121</td>\n",
       "      <td>0.939119651442092</td>\n",
       "      <td>9.48076637386467</td>\n",
       "      <td>46484.1552669134</td>\n",
       "      <td>116208079</td>\n",
       "      <td>68.4649978312898</td>\n",
       "      <td>249595.99609375</td>\n",
       "      <td>3470.76312894811</td>\n",
       "      <td>5.62502588654266</td>\n",
       "    </tr>\n",
       "    <tr>\n",
       "      <th>24</th>\n",
       "      <td>2015</td>\n",
       "      <td>8.90041929882487</td>\n",
       "      <td>45208.062454025</td>\n",
       "      <td>63062064</td>\n",
       "      <td>32.7324234474218</td>\n",
       "      <td>114190</td>\n",
       "      <td>3817.54941455461</td>\n",
       "      <td>14.2062526977772</td>\n",
       "      <td>8.28207518414406</td>\n",
       "      <td>6070.18728372393</td>\n",
       "      <td>...</td>\n",
       "      <td>106919.8046875</td>\n",
       "      <td>0</td>\n",
       "      <td>0.913005056748309</td>\n",
       "      <td>9.15364142172863</td>\n",
       "      <td>47102.5808781498</td>\n",
       "      <td>116182717</td>\n",
       "      <td>68.4606100504718</td>\n",
       "      <td>249580</td>\n",
       "      <td>3428.55721600428</td>\n",
       "      <td>6.29735708059289</td>\n",
       "    </tr>\n",
       "    <tr>\n",
       "      <th>25</th>\n",
       "      <td>2016</td>\n",
       "      <td>8.84012879430996</td>\n",
       "      <td>45844.6381197286</td>\n",
       "      <td>63592936</td>\n",
       "      <td>32.6912067781085</td>\n",
       "      <td>114210</td>\n",
       "      <td>0</td>\n",
       "      <td>0</td>\n",
       "      <td>8.31670123338168</td>\n",
       "      <td>6790.63900593297</td>\n",
       "      <td>...</td>\n",
       "      <td>106919.8046875</td>\n",
       "      <td>0</td>\n",
       "      <td>0</td>\n",
       "      <td>8.94437282411363</td>\n",
       "      <td>47403.0469116934</td>\n",
       "      <td>116145370</td>\n",
       "      <td>68.4562222696538</td>\n",
       "      <td>249564.00390625</td>\n",
       "      <td>0</td>\n",
       "      <td>0</td>\n",
       "    </tr>\n",
       "  </tbody>\n",
       "</table>\n",
       "<p>26 rows × 22 columns</p>\n",
       "</div>"
      ],
      "text/plain": [
       "    date          CO2_pc_g          GDP_pc_g     pop_g        forest_%_g  \\\n",
       "0   1991    11.62264617136  33839.4902602064  58625381  32.3816354670896   \n",
       "1   1992  11.0633202537022  34228.9984716111  59146205   32.397100806827   \n",
       "2   1993  10.8142489332599  33672.5430228037  59647492  32.4134973513763   \n",
       "3   1994  10.6283919217025  34358.5719956026  60028206   32.429892037968   \n",
       "4   1995   10.579466630515   34786.728549099  60378049  32.4462904611859   \n",
       "5   1996  10.8602336004331  34965.6844508481  60725922  32.4626898238993   \n",
       "6   1997  10.5111125988271  35540.2875272631  60986289  32.4818788273528   \n",
       "7   1998  10.4252731613799  36250.5549565626  61167004  32.5001438178686   \n",
       "8   1999  10.0177587659515  36910.8327257826  61376500  32.5193409633074   \n",
       "9   2000  10.0956398829225  37934.4517828233  61629857  32.5376128385155   \n",
       "10  2001  10.3662866966788  38507.4737778722  61902439  32.5594726282602   \n",
       "11  2002   10.058672497298  38366.6795456265  62174878  32.5804047468899   \n",
       "12  2003  9.97166488946349  38076.9815087939  62376854  32.6022763108856   \n",
       "13  2004  9.88859455094063  38532.7840538701  62529997  32.6232187401439   \n",
       "14  2005  9.67339769884649  38836.7757824923  62660267  32.6413579538938   \n",
       "15  2006  9.91450304165204  40364.4632067864  62753557  32.6594402385868   \n",
       "16  2007  9.49655365864439  41621.5118402428  62833410  32.6784638770184   \n",
       "17  2008  9.49086897315442  42101.0040357854  62875807   32.696555087055   \n",
       "18  2009  8.79764186618089  39804.5722815573  62877220  32.7127735865294   \n",
       "19  2010  9.26766133186952  41531.9341978689  62940432  32.7308718478354   \n",
       "20  2011  9.09137541642332  43969.7074500187  61940177  32.7375487720909   \n",
       "21  2012  9.17791579204605  44070.9085651782  62064608  32.7451655477133   \n",
       "22  2013  9.39867170690827  44143.1278111535  62242278  32.7189864709929   \n",
       "23  2014  8.89530225666039  44930.7921305433  62510392  32.7228432215535   \n",
       "24  2015  8.90041929882487   45208.062454025  63062064  32.7324234474218   \n",
       "25  2016  8.84012879430996  45844.6381197286  63592936  32.6912067781085   \n",
       "\n",
       "       forest_sqkm_g       energy_pc_g           renew_g          CO2_pc_i  \\\n",
       "0    113054.00390625  4302.89117530285  1.98863280907619  3.94253605218146   \n",
       "1   113107.998046875  4190.98422047326  2.06262189491575  3.88682085532976   \n",
       "2   113162.001953125  4122.69573982757  2.11093108509833  3.97186223895734   \n",
       "3    113215.99609375  4088.79812984419  2.26620206067894  4.37741797764254   \n",
       "4             113270  4119.68894801371  2.31974899616167  4.44222509622955   \n",
       "5    113324.00390625  4246.55319132624  2.25217383396493  4.43148645186477   \n",
       "6   113377.998046875  4203.35736659763  2.82442182235482  4.26527097433249   \n",
       "7   113432.001953125  4177.29412931179  3.04511890616193  4.82256562090855   \n",
       "8    113485.99609375  4079.93334441166  3.26371214587689  5.90022473460237   \n",
       "9             113540   4094.0603595302  3.70043759040219  5.67232331208659   \n",
       "10            113600  4209.79608663882  3.89967279049467  5.99613558417455   \n",
       "11            113660  4108.40129887204  4.41263678738536  5.97103968331865   \n",
       "12            113720  4084.50334562012  5.05846742452957  6.14239073188535   \n",
       "13            113780  4114.38992751247  5.82524443326874  6.48336955480204   \n",
       "14            113840  4086.50340728713  6.76455100872253   6.7200665568204   \n",
       "15            113890  4204.65468948158  7.75322465619858  7.21905887001812   \n",
       "16            113940  3985.81195485319  9.40658790331653  7.27992526964642   \n",
       "17            113990  4036.83078099396  8.59224825671174  7.50940600830243   \n",
       "18            114040  3790.50115157318  9.63006156970857  7.60067589866536   \n",
       "19            114090  3997.07942080976  10.2935196369107  7.76859435887758   \n",
       "20            114110  3869.81622904859  11.3943559060623  7.89249315026058   \n",
       "21            114130  3876.94810409338  12.0151357257952  8.09853138201391   \n",
       "22            114150  3939.52956270835  12.0890787546162  8.10027776098732   \n",
       "23            114170  3779.46192078536  13.3788782316752  8.42168671619315   \n",
       "24            114190  3817.54941455461  14.2062526977772  8.28207518414406   \n",
       "25            114210                 0                 0  8.31670123338168   \n",
       "\n",
       "            GDP_pc_i  ...     forest_sqkm_i       energy_pc_i  \\\n",
       "0   4541.09832265763  ...     91010.1953125  1332.47496828744   \n",
       "1   4582.33009005096  ...     91259.8046875  1376.35736216019   \n",
       "2   4556.85116331007  ...   91509.404296875  1458.48325969542   \n",
       "3   4423.76244250285  ...    91759.00390625  1596.02528536846   \n",
       "4   4461.99553919884  ...   92008.603515625  1647.24643124198   \n",
       "5   4628.62470872619  ...      92258.203125  1567.16282804441   \n",
       "6    4588.9557019275  ...   92507.802734375  1730.50198117369   \n",
       "7   4627.65427318618  ...    92757.40234375  1739.32156644683   \n",
       "8   4607.53057607939  ...   93007.001953125  1947.82996774118   \n",
       "9   4816.30882567067  ...     93256.6015625  1874.67145296712   \n",
       "10  4793.49626790034  ...    95989.19921875  2008.65489368767   \n",
       "11  5077.90888219505  ...   98721.904296875   2051.7888469187   \n",
       "12  5453.51074001954  ...  101454.501953125  2094.26915791565   \n",
       "13  5623.69359469475  ...  104187.197265625  2256.46260292104   \n",
       "14  5735.61106851669  ...    106919.8046875  2475.08772891485   \n",
       "15  5954.74146438264  ...    106919.8046875  2557.76370013873   \n",
       "16  6369.82193076155  ...    106919.8046875  2676.59959368612   \n",
       "17  6316.37162536933  ...    106919.8046875   2837.1845859749   \n",
       "18  6309.64160854798  ...    106919.8046875  2800.51544030191   \n",
       "19  6599.66093791004  ...    106919.8046875  2769.46356726239   \n",
       "20  6695.08228331152  ...    106919.8046875  2791.10778868819   \n",
       "21  6122.43208981298  ...    106919.8046875  2869.33325348145   \n",
       "22  6035.28220098466  ...    106919.8046875    2889.109969395   \n",
       "23  6232.93541757903  ...    106919.8046875  3060.38704613121   \n",
       "24  6070.18728372393  ...    106919.8046875                 0   \n",
       "25  6790.63900593297  ...    106919.8046875                 0   \n",
       "\n",
       "              renew_i          CO2_pc_j          GDP_pc_j      pop_j  \\\n",
       "0    1.22691740882349  8.86402505628586  39253.6418413885   96005316   \n",
       "1    1.44947071982901  9.03967200895121  39488.3934345327   96414127   \n",
       "2    1.52814706823082  8.89483651313676  39187.0345375322   96821759   \n",
       "3    1.08696505855375  9.39297350373317  39441.5867622873   97320876   \n",
       "4    1.01808729977768  9.43508730936949  40368.7122822693   97862490   \n",
       "5    1.03227215541096  9.58239467385513   41514.897794653   98272808   \n",
       "6   0.898423541082687  9.53044157008337  41861.7534385914   98667335   \n",
       "7   0.841574849410266  9.16863143196202  41277.0667588528   99095072   \n",
       "8   0.585858646602411  9.45726976806627  41097.9596040256   99434460   \n",
       "9   0.438389901756078  9.61252230710406  42169.7332837685   99760751   \n",
       "10  0.517141086529927  9.44821588844584  42239.1849263634  101706485   \n",
       "11   0.66369099898987  9.56475713445015  42190.8048728416  104055019   \n",
       "12  0.829586856363129  9.71635272240405  42744.0112850452  106256267   \n",
       "13  0.737760939837713    9.880903295998  43671.6799739123  108136910   \n",
       "14     1.400793048278  9.71211291117842  44393.6263842663  109856670   \n",
       "15   1.39823937263196  9.65754616202856  44995.4944919713  111383848   \n",
       "16   1.30153622381001  9.77769262740135  45687.2738147647  112827761   \n",
       "17  0.702090314958857  9.46219035162381  45165.7879187542  114107975   \n",
       "18  0.781922794295354  8.63209972900576  42724.7603699749  115228215   \n",
       "19  0.897453786451368  9.15601825564145  44507.6763859172  116302928   \n",
       "20  0.916869396257912  9.31269349854889  44538.7261906776  116416235   \n",
       "21  0.934277506348732  9.63434726433648  45276.8743353985  116331281   \n",
       "22  0.995531840779105  9.76591054964887  46249.2095886628  116262976   \n",
       "23  0.939119651442092  9.48076637386467  46484.1552669134  116208079   \n",
       "24  0.913005056748309  9.15364142172863  47102.5808781498  116182717   \n",
       "25                  0  8.94437282411363  47403.0469116934  116145370   \n",
       "\n",
       "          forest_%_j    forest_sqkm_j       energy_pc_j           renew_j  \n",
       "0   68.4108601463933  249425.99609375  3575.24609226846  4.73056921825984  \n",
       "1   68.3905628599835   249351.9921875  3649.94432056927  4.19771490131849  \n",
       "2   68.3702709304718   249278.0078125  3664.56835774395  4.43560671218463  \n",
       "3    68.349973644062  249204.00390625  3850.96244428262  3.56764577817821  \n",
       "4   68.3296763576522           249130  3935.99475442247  3.91718852109581  \n",
       "5   68.3281196416324  249055.99609375   4008.4762359153   3.8393584372338  \n",
       "6   68.3078167866941   248981.9921875  4041.16767018095  4.07212749288482  \n",
       "7   68.2875192901235   248908.0078125  3955.62762658228  4.04535605146046  \n",
       "8   68.2672164351852  248834.00390625  4011.22477908253  3.82878657575963  \n",
       "9   68.2469135802469           248760  4083.83169745276  3.91610801853032  \n",
       "10  68.2792888374486   248878.0078125  4008.26803199396  3.73677736030424  \n",
       "11  68.3116587362826  248995.99609375  3991.97756679352  3.69537437293977  \n",
       "12  68.3440339934842  249114.00390625  3953.18450805681  4.07902501125446  \n",
       "13  68.3764038923183   249231.9921875  4078.21054155807   4.0137574915504  \n",
       "14  68.4087791495199           249350  4062.97904878182  3.65447331002498  \n",
       "15  68.4257866083676   249411.9921875  4053.88343735824  4.02936380851185  \n",
       "16   68.442799425583  249474.00390625  4012.65424488871   3.7527317989319  \n",
       "17  68.4598068844307  249535.99609375  3858.43452050944    3.983866936164  \n",
       "18  68.4768197016461   249598.0078125  3678.51113263099  4.03561366246857  \n",
       "19  68.4844328624331           249660  3893.26660420083  4.58552956180109  \n",
       "20  68.4791057333598  249644.00390625  3610.81216900174  4.69360225893564  \n",
       "21  68.4737787504115   249628.0078125   3537.3631698125  4.53308543403043  \n",
       "22  68.4693856121077   249611.9921875  3567.62935383891  4.91215213004179  \n",
       "23  68.4649978312898  249595.99609375  3470.76312894811  5.62502588654266  \n",
       "24  68.4606100504718           249580  3428.55721600428  6.29735708059289  \n",
       "25  68.4562222696538  249564.00390625                 0                 0  \n",
       "\n",
       "[26 rows x 22 columns]"
      ]
     },
     "execution_count": 24,
     "metadata": {},
     "output_type": "execute_result"
    }
   ],
   "source": [
    "df_clean"
   ]
  },
  {
   "cell_type": "code",
   "execution_count": 25,
   "metadata": {},
   "outputs": [],
   "source": [
    "df_clean.set_index(pd.to_datetime(df_clean['date']), inplace= True)\n",
    "df_clean.drop(['date'], axis = 1, inplace= True)"
   ]
  },
  {
   "cell_type": "code",
   "execution_count": 26,
   "metadata": {},
   "outputs": [
    {
     "data": {
      "text/html": [
       "<div>\n",
       "<style scoped>\n",
       "    .dataframe tbody tr th:only-of-type {\n",
       "        vertical-align: middle;\n",
       "    }\n",
       "\n",
       "    .dataframe tbody tr th {\n",
       "        vertical-align: top;\n",
       "    }\n",
       "\n",
       "    .dataframe thead th {\n",
       "        text-align: right;\n",
       "    }\n",
       "</style>\n",
       "<table border=\"1\" class=\"dataframe\">\n",
       "  <thead>\n",
       "    <tr style=\"text-align: right;\">\n",
       "      <th></th>\n",
       "      <th>CO2_pc_g</th>\n",
       "      <th>GDP_pc_g</th>\n",
       "      <th>pop_g</th>\n",
       "      <th>forest_%_g</th>\n",
       "      <th>forest_sqkm_g</th>\n",
       "      <th>energy_pc_g</th>\n",
       "      <th>renew_g</th>\n",
       "      <th>CO2_pc_i</th>\n",
       "      <th>GDP_pc_i</th>\n",
       "      <th>pop_i</th>\n",
       "      <th>...</th>\n",
       "      <th>forest_sqkm_i</th>\n",
       "      <th>energy_pc_i</th>\n",
       "      <th>renew_i</th>\n",
       "      <th>CO2_pc_j</th>\n",
       "      <th>GDP_pc_j</th>\n",
       "      <th>pop_j</th>\n",
       "      <th>forest_%_j</th>\n",
       "      <th>forest_sqkm_j</th>\n",
       "      <th>energy_pc_j</th>\n",
       "      <th>renew_j</th>\n",
       "    </tr>\n",
       "    <tr>\n",
       "      <th>date</th>\n",
       "      <th></th>\n",
       "      <th></th>\n",
       "      <th></th>\n",
       "      <th></th>\n",
       "      <th></th>\n",
       "      <th></th>\n",
       "      <th></th>\n",
       "      <th></th>\n",
       "      <th></th>\n",
       "      <th></th>\n",
       "      <th></th>\n",
       "      <th></th>\n",
       "      <th></th>\n",
       "      <th></th>\n",
       "      <th></th>\n",
       "      <th></th>\n",
       "      <th></th>\n",
       "      <th></th>\n",
       "      <th></th>\n",
       "      <th></th>\n",
       "      <th></th>\n",
       "    </tr>\n",
       "  </thead>\n",
       "  <tbody>\n",
       "    <tr>\n",
       "      <th>1991-01-01</th>\n",
       "      <td>11.62264617136</td>\n",
       "      <td>33839.4902602064</td>\n",
       "      <td>58625381</td>\n",
       "      <td>32.3816354670896</td>\n",
       "      <td>113054.00390625</td>\n",
       "      <td>4302.89117530285</td>\n",
       "      <td>1.98863280907619</td>\n",
       "      <td>3.94253605218146</td>\n",
       "      <td>4541.09832265763</td>\n",
       "      <td>32799183</td>\n",
       "      <td>...</td>\n",
       "      <td>91010.1953125</td>\n",
       "      <td>1332.47496828744</td>\n",
       "      <td>1.22691740882349</td>\n",
       "      <td>8.86402505628586</td>\n",
       "      <td>39253.6418413885</td>\n",
       "      <td>96005316</td>\n",
       "      <td>68.4108601463933</td>\n",
       "      <td>249425.99609375</td>\n",
       "      <td>3575.24609226846</td>\n",
       "      <td>4.73056921825984</td>\n",
       "    </tr>\n",
       "    <tr>\n",
       "      <th>1992-01-01</th>\n",
       "      <td>11.0633202537022</td>\n",
       "      <td>34228.9984716111</td>\n",
       "      <td>59146205</td>\n",
       "      <td>32.397100806827</td>\n",
       "      <td>113107.998046875</td>\n",
       "      <td>4190.98422047326</td>\n",
       "      <td>2.06262189491575</td>\n",
       "      <td>3.88682085532976</td>\n",
       "      <td>4582.33009005096</td>\n",
       "      <td>33888647</td>\n",
       "      <td>...</td>\n",
       "      <td>91259.8046875</td>\n",
       "      <td>1376.35736216019</td>\n",
       "      <td>1.44947071982901</td>\n",
       "      <td>9.03967200895121</td>\n",
       "      <td>39488.3934345327</td>\n",
       "      <td>96414127</td>\n",
       "      <td>68.3905628599835</td>\n",
       "      <td>249351.9921875</td>\n",
       "      <td>3649.94432056927</td>\n",
       "      <td>4.19771490131849</td>\n",
       "    </tr>\n",
       "    <tr>\n",
       "      <th>1993-01-01</th>\n",
       "      <td>10.8142489332599</td>\n",
       "      <td>33672.5430228037</td>\n",
       "      <td>59647492</td>\n",
       "      <td>32.4134973513763</td>\n",
       "      <td>113162.001953125</td>\n",
       "      <td>4122.69573982757</td>\n",
       "      <td>2.11093108509833</td>\n",
       "      <td>3.97186223895734</td>\n",
       "      <td>4556.85116331007</td>\n",
       "      <td>34949749</td>\n",
       "      <td>...</td>\n",
       "      <td>91509.404296875</td>\n",
       "      <td>1458.48325969542</td>\n",
       "      <td>1.52814706823082</td>\n",
       "      <td>8.89483651313676</td>\n",
       "      <td>39187.0345375322</td>\n",
       "      <td>96821759</td>\n",
       "      <td>68.3702709304718</td>\n",
       "      <td>249278.0078125</td>\n",
       "      <td>3664.56835774395</td>\n",
       "      <td>4.43560671218463</td>\n",
       "    </tr>\n",
       "    <tr>\n",
       "      <th>1994-01-01</th>\n",
       "      <td>10.6283919217025</td>\n",
       "      <td>34358.5719956026</td>\n",
       "      <td>60028206</td>\n",
       "      <td>32.429892037968</td>\n",
       "      <td>113215.99609375</td>\n",
       "      <td>4088.79812984419</td>\n",
       "      <td>2.26620206067894</td>\n",
       "      <td>4.37741797764254</td>\n",
       "      <td>4423.76244250285</td>\n",
       "      <td>35978707</td>\n",
       "      <td>...</td>\n",
       "      <td>91759.00390625</td>\n",
       "      <td>1596.02528536846</td>\n",
       "      <td>1.08696505855375</td>\n",
       "      <td>9.39297350373317</td>\n",
       "      <td>39441.5867622873</td>\n",
       "      <td>97320876</td>\n",
       "      <td>68.349973644062</td>\n",
       "      <td>249204.00390625</td>\n",
       "      <td>3850.96244428262</td>\n",
       "      <td>3.56764577817821</td>\n",
       "    </tr>\n",
       "    <tr>\n",
       "      <th>1995-01-01</th>\n",
       "      <td>10.579466630515</td>\n",
       "      <td>34786.728549099</td>\n",
       "      <td>60378049</td>\n",
       "      <td>32.4462904611859</td>\n",
       "      <td>113270</td>\n",
       "      <td>4119.68894801371</td>\n",
       "      <td>2.31974899616167</td>\n",
       "      <td>4.44222509622955</td>\n",
       "      <td>4461.99553919884</td>\n",
       "      <td>37010603</td>\n",
       "      <td>...</td>\n",
       "      <td>92008.603515625</td>\n",
       "      <td>1647.24643124198</td>\n",
       "      <td>1.01808729977768</td>\n",
       "      <td>9.43508730936949</td>\n",
       "      <td>40368.7122822693</td>\n",
       "      <td>97862490</td>\n",
       "      <td>68.3296763576522</td>\n",
       "      <td>249130</td>\n",
       "      <td>3935.99475442247</td>\n",
       "      <td>3.91718852109581</td>\n",
       "    </tr>\n",
       "  </tbody>\n",
       "</table>\n",
       "<p>5 rows × 21 columns</p>\n",
       "</div>"
      ],
      "text/plain": [
       "                    CO2_pc_g          GDP_pc_g     pop_g        forest_%_g  \\\n",
       "date                                                                         \n",
       "1991-01-01    11.62264617136  33839.4902602064  58625381  32.3816354670896   \n",
       "1992-01-01  11.0633202537022  34228.9984716111  59146205   32.397100806827   \n",
       "1993-01-01  10.8142489332599  33672.5430228037  59647492  32.4134973513763   \n",
       "1994-01-01  10.6283919217025  34358.5719956026  60028206   32.429892037968   \n",
       "1995-01-01   10.579466630515   34786.728549099  60378049  32.4462904611859   \n",
       "\n",
       "               forest_sqkm_g       energy_pc_g           renew_g  \\\n",
       "date                                                               \n",
       "1991-01-01   113054.00390625  4302.89117530285  1.98863280907619   \n",
       "1992-01-01  113107.998046875  4190.98422047326  2.06262189491575   \n",
       "1993-01-01  113162.001953125  4122.69573982757  2.11093108509833   \n",
       "1994-01-01   113215.99609375  4088.79812984419  2.26620206067894   \n",
       "1995-01-01            113270  4119.68894801371  2.31974899616167   \n",
       "\n",
       "                    CO2_pc_i          GDP_pc_i     pop_i  ...  \\\n",
       "date                                                      ...   \n",
       "1991-01-01  3.94253605218146  4541.09832265763  32799183  ...   \n",
       "1992-01-01  3.88682085532976  4582.33009005096  33888647  ...   \n",
       "1993-01-01  3.97186223895734  4556.85116331007  34949749  ...   \n",
       "1994-01-01  4.37741797764254  4423.76244250285  35978707  ...   \n",
       "1995-01-01  4.44222509622955  4461.99553919884  37010603  ...   \n",
       "\n",
       "              forest_sqkm_i       energy_pc_i           renew_i  \\\n",
       "date                                                              \n",
       "1991-01-01    91010.1953125  1332.47496828744  1.22691740882349   \n",
       "1992-01-01    91259.8046875  1376.35736216019  1.44947071982901   \n",
       "1993-01-01  91509.404296875  1458.48325969542  1.52814706823082   \n",
       "1994-01-01   91759.00390625  1596.02528536846  1.08696505855375   \n",
       "1995-01-01  92008.603515625  1647.24643124198  1.01808729977768   \n",
       "\n",
       "                    CO2_pc_j          GDP_pc_j     pop_j        forest_%_j  \\\n",
       "date                                                                         \n",
       "1991-01-01  8.86402505628586  39253.6418413885  96005316  68.4108601463933   \n",
       "1992-01-01  9.03967200895121  39488.3934345327  96414127  68.3905628599835   \n",
       "1993-01-01  8.89483651313676  39187.0345375322  96821759  68.3702709304718   \n",
       "1994-01-01  9.39297350373317  39441.5867622873  97320876   68.349973644062   \n",
       "1995-01-01  9.43508730936949  40368.7122822693  97862490  68.3296763576522   \n",
       "\n",
       "              forest_sqkm_j       energy_pc_j           renew_j  \n",
       "date                                                             \n",
       "1991-01-01  249425.99609375  3575.24609226846  4.73056921825984  \n",
       "1992-01-01   249351.9921875  3649.94432056927  4.19771490131849  \n",
       "1993-01-01   249278.0078125  3664.56835774395  4.43560671218463  \n",
       "1994-01-01  249204.00390625  3850.96244428262  3.56764577817821  \n",
       "1995-01-01           249130  3935.99475442247  3.91718852109581  \n",
       "\n",
       "[5 rows x 21 columns]"
      ]
     },
     "execution_count": 26,
     "metadata": {},
     "output_type": "execute_result"
    }
   ],
   "source": [
    "df_clean.head(5)"
   ]
  },
  {
   "cell_type": "code",
   "execution_count": 27,
   "metadata": {},
   "outputs": [
    {
     "name": "stdout",
     "output_type": "stream",
     "text": [
      "CO2_pc_g         float64\n",
      "GDP_pc_g         float64\n",
      "pop_g              int64\n",
      "forest_%_g       float64\n",
      "forest_sqkm_g    float64\n",
      "energy_pc_g      float64\n",
      "renew_g          float64\n",
      "CO2_pc_i         float64\n",
      "GDP_pc_i         float64\n",
      "pop_i              int64\n",
      "forest_%_i       float64\n",
      "forest_sqkm_i    float64\n",
      "energy_pc_i      float64\n",
      "renew_i          float64\n",
      "CO2_pc_j         float64\n",
      "GDP_pc_j         float64\n",
      "pop_j              int64\n",
      "forest_%_j       float64\n",
      "forest_sqkm_j    float64\n",
      "energy_pc_j      float64\n",
      "renew_j          float64\n",
      "dtype: object\n"
     ]
    }
   ],
   "source": [
    "df_clean[['CO2_pc_g', 'GDP_pc_g', 'pop_g', 'forest_%_g', 'forest_sqkm_g', 'energy_pc_g', 'renew_g',\n",
    "               'CO2_pc_i', 'GDP_pc_i', 'pop_i', 'forest_%_i', 'forest_sqkm_i', 'energy_pc_i', 'renew_i',\n",
    "               'CO2_pc_j', 'GDP_pc_j', 'pop_j', 'forest_%_j', 'forest_sqkm_j', 'energy_pc_j', 'renew_j']] = df_clean[['CO2_pc_g', 'GDP_pc_g', 'pop_g', 'forest_%_g', 'forest_sqkm_g', 'energy_pc_g', 'renew_g',\n",
    "               'CO2_pc_i', 'GDP_pc_i', 'pop_i', 'forest_%_i', 'forest_sqkm_i', 'energy_pc_i', 'renew_i',\n",
    "               'CO2_pc_j', 'GDP_pc_j', 'pop_j', 'forest_%_j', 'forest_sqkm_j', 'energy_pc_j', 'renew_j']].apply(pd.to_numeric) \n",
    "print(df_clean.dtypes)"
   ]
  },
  {
   "cell_type": "code",
   "execution_count": 28,
   "metadata": {},
   "outputs": [
    {
     "data": {
      "text/html": [
       "<div>\n",
       "<style scoped>\n",
       "    .dataframe tbody tr th:only-of-type {\n",
       "        vertical-align: middle;\n",
       "    }\n",
       "\n",
       "    .dataframe tbody tr th {\n",
       "        vertical-align: top;\n",
       "    }\n",
       "\n",
       "    .dataframe thead th {\n",
       "        text-align: right;\n",
       "    }\n",
       "</style>\n",
       "<table border=\"1\" class=\"dataframe\">\n",
       "  <thead>\n",
       "    <tr style=\"text-align: right;\">\n",
       "      <th></th>\n",
       "      <th>CO2_pc_g</th>\n",
       "      <th>GDP_pc_g</th>\n",
       "      <th>pop_g</th>\n",
       "      <th>forest_%_g</th>\n",
       "      <th>forest_sqkm_g</th>\n",
       "      <th>energy_pc_g</th>\n",
       "      <th>renew_g</th>\n",
       "      <th>CO2_pc_i</th>\n",
       "      <th>GDP_pc_i</th>\n",
       "      <th>pop_i</th>\n",
       "      <th>...</th>\n",
       "      <th>forest_sqkm_i</th>\n",
       "      <th>energy_pc_i</th>\n",
       "      <th>renew_i</th>\n",
       "      <th>CO2_pc_j</th>\n",
       "      <th>GDP_pc_j</th>\n",
       "      <th>pop_j</th>\n",
       "      <th>forest_%_j</th>\n",
       "      <th>forest_sqkm_j</th>\n",
       "      <th>energy_pc_j</th>\n",
       "      <th>renew_j</th>\n",
       "    </tr>\n",
       "    <tr>\n",
       "      <th>date</th>\n",
       "      <th></th>\n",
       "      <th></th>\n",
       "      <th></th>\n",
       "      <th></th>\n",
       "      <th></th>\n",
       "      <th></th>\n",
       "      <th></th>\n",
       "      <th></th>\n",
       "      <th></th>\n",
       "      <th></th>\n",
       "      <th></th>\n",
       "      <th></th>\n",
       "      <th></th>\n",
       "      <th></th>\n",
       "      <th></th>\n",
       "      <th></th>\n",
       "      <th></th>\n",
       "      <th></th>\n",
       "      <th></th>\n",
       "      <th></th>\n",
       "      <th></th>\n",
       "    </tr>\n",
       "  </thead>\n",
       "  <tbody>\n",
       "    <tr>\n",
       "      <th>1991-01-01</th>\n",
       "      <td>11.622646</td>\n",
       "      <td>33839.490260</td>\n",
       "      <td>58625381</td>\n",
       "      <td>32.381635</td>\n",
       "      <td>113054.003906</td>\n",
       "      <td>4302.891175</td>\n",
       "      <td>1.988633</td>\n",
       "      <td>3.942536</td>\n",
       "      <td>4541.098323</td>\n",
       "      <td>32799183</td>\n",
       "      <td>...</td>\n",
       "      <td>91010.195312</td>\n",
       "      <td>1332.474968</td>\n",
       "      <td>1.226917</td>\n",
       "      <td>8.864025</td>\n",
       "      <td>39253.641841</td>\n",
       "      <td>96005316</td>\n",
       "      <td>68.410860</td>\n",
       "      <td>249425.996094</td>\n",
       "      <td>3575.246092</td>\n",
       "      <td>4.730569</td>\n",
       "    </tr>\n",
       "    <tr>\n",
       "      <th>1992-01-01</th>\n",
       "      <td>11.063320</td>\n",
       "      <td>34228.998472</td>\n",
       "      <td>59146205</td>\n",
       "      <td>32.397101</td>\n",
       "      <td>113107.998047</td>\n",
       "      <td>4190.984220</td>\n",
       "      <td>2.062622</td>\n",
       "      <td>3.886821</td>\n",
       "      <td>4582.330090</td>\n",
       "      <td>33888647</td>\n",
       "      <td>...</td>\n",
       "      <td>91259.804688</td>\n",
       "      <td>1376.357362</td>\n",
       "      <td>1.449471</td>\n",
       "      <td>9.039672</td>\n",
       "      <td>39488.393435</td>\n",
       "      <td>96414127</td>\n",
       "      <td>68.390563</td>\n",
       "      <td>249351.992188</td>\n",
       "      <td>3649.944321</td>\n",
       "      <td>4.197715</td>\n",
       "    </tr>\n",
       "    <tr>\n",
       "      <th>1993-01-01</th>\n",
       "      <td>10.814249</td>\n",
       "      <td>33672.543023</td>\n",
       "      <td>59647492</td>\n",
       "      <td>32.413497</td>\n",
       "      <td>113162.001953</td>\n",
       "      <td>4122.695740</td>\n",
       "      <td>2.110931</td>\n",
       "      <td>3.971862</td>\n",
       "      <td>4556.851163</td>\n",
       "      <td>34949749</td>\n",
       "      <td>...</td>\n",
       "      <td>91509.404297</td>\n",
       "      <td>1458.483260</td>\n",
       "      <td>1.528147</td>\n",
       "      <td>8.894837</td>\n",
       "      <td>39187.034538</td>\n",
       "      <td>96821759</td>\n",
       "      <td>68.370271</td>\n",
       "      <td>249278.007812</td>\n",
       "      <td>3664.568358</td>\n",
       "      <td>4.435607</td>\n",
       "    </tr>\n",
       "    <tr>\n",
       "      <th>1994-01-01</th>\n",
       "      <td>10.628392</td>\n",
       "      <td>34358.571996</td>\n",
       "      <td>60028206</td>\n",
       "      <td>32.429892</td>\n",
       "      <td>113215.996094</td>\n",
       "      <td>4088.798130</td>\n",
       "      <td>2.266202</td>\n",
       "      <td>4.377418</td>\n",
       "      <td>4423.762443</td>\n",
       "      <td>35978707</td>\n",
       "      <td>...</td>\n",
       "      <td>91759.003906</td>\n",
       "      <td>1596.025285</td>\n",
       "      <td>1.086965</td>\n",
       "      <td>9.392974</td>\n",
       "      <td>39441.586762</td>\n",
       "      <td>97320876</td>\n",
       "      <td>68.349974</td>\n",
       "      <td>249204.003906</td>\n",
       "      <td>3850.962444</td>\n",
       "      <td>3.567646</td>\n",
       "    </tr>\n",
       "    <tr>\n",
       "      <th>1995-01-01</th>\n",
       "      <td>10.579467</td>\n",
       "      <td>34786.728549</td>\n",
       "      <td>60378049</td>\n",
       "      <td>32.446290</td>\n",
       "      <td>113270.000000</td>\n",
       "      <td>4119.688948</td>\n",
       "      <td>2.319749</td>\n",
       "      <td>4.442225</td>\n",
       "      <td>4461.995539</td>\n",
       "      <td>37010603</td>\n",
       "      <td>...</td>\n",
       "      <td>92008.603516</td>\n",
       "      <td>1647.246431</td>\n",
       "      <td>1.018087</td>\n",
       "      <td>9.435087</td>\n",
       "      <td>40368.712282</td>\n",
       "      <td>97862490</td>\n",
       "      <td>68.329676</td>\n",
       "      <td>249130.000000</td>\n",
       "      <td>3935.994754</td>\n",
       "      <td>3.917189</td>\n",
       "    </tr>\n",
       "  </tbody>\n",
       "</table>\n",
       "<p>5 rows × 21 columns</p>\n",
       "</div>"
      ],
      "text/plain": [
       "             CO2_pc_g      GDP_pc_g     pop_g  forest_%_g  forest_sqkm_g  \\\n",
       "date                                                                       \n",
       "1991-01-01  11.622646  33839.490260  58625381   32.381635  113054.003906   \n",
       "1992-01-01  11.063320  34228.998472  59146205   32.397101  113107.998047   \n",
       "1993-01-01  10.814249  33672.543023  59647492   32.413497  113162.001953   \n",
       "1994-01-01  10.628392  34358.571996  60028206   32.429892  113215.996094   \n",
       "1995-01-01  10.579467  34786.728549  60378049   32.446290  113270.000000   \n",
       "\n",
       "            energy_pc_g   renew_g  CO2_pc_i     GDP_pc_i     pop_i  ...  \\\n",
       "date                                                                ...   \n",
       "1991-01-01  4302.891175  1.988633  3.942536  4541.098323  32799183  ...   \n",
       "1992-01-01  4190.984220  2.062622  3.886821  4582.330090  33888647  ...   \n",
       "1993-01-01  4122.695740  2.110931  3.971862  4556.851163  34949749  ...   \n",
       "1994-01-01  4088.798130  2.266202  4.377418  4423.762443  35978707  ...   \n",
       "1995-01-01  4119.688948  2.319749  4.442225  4461.995539  37010603  ...   \n",
       "\n",
       "            forest_sqkm_i  energy_pc_i   renew_i  CO2_pc_j      GDP_pc_j  \\\n",
       "date                                                                       \n",
       "1991-01-01   91010.195312  1332.474968  1.226917  8.864025  39253.641841   \n",
       "1992-01-01   91259.804688  1376.357362  1.449471  9.039672  39488.393435   \n",
       "1993-01-01   91509.404297  1458.483260  1.528147  8.894837  39187.034538   \n",
       "1994-01-01   91759.003906  1596.025285  1.086965  9.392974  39441.586762   \n",
       "1995-01-01   92008.603516  1647.246431  1.018087  9.435087  40368.712282   \n",
       "\n",
       "               pop_j  forest_%_j  forest_sqkm_j  energy_pc_j   renew_j  \n",
       "date                                                                    \n",
       "1991-01-01  96005316   68.410860  249425.996094  3575.246092  4.730569  \n",
       "1992-01-01  96414127   68.390563  249351.992188  3649.944321  4.197715  \n",
       "1993-01-01  96821759   68.370271  249278.007812  3664.568358  4.435607  \n",
       "1994-01-01  97320876   68.349974  249204.003906  3850.962444  3.567646  \n",
       "1995-01-01  97862490   68.329676  249130.000000  3935.994754  3.917189  \n",
       "\n",
       "[5 rows x 21 columns]"
      ]
     },
     "execution_count": 28,
     "metadata": {},
     "output_type": "execute_result"
    }
   ],
   "source": [
    "df_clean.head(5)"
   ]
  },
  {
   "cell_type": "markdown",
   "metadata": {},
   "source": [
    "## Vizualization for all countries "
   ]
  },
  {
   "cell_type": "code",
   "execution_count": 40,
   "metadata": {},
   "outputs": [
    {
     "data": {
      "text/html": [
       "<div>\n",
       "<style scoped>\n",
       "    .dataframe tbody tr th:only-of-type {\n",
       "        vertical-align: middle;\n",
       "    }\n",
       "\n",
       "    .dataframe tbody tr th {\n",
       "        vertical-align: top;\n",
       "    }\n",
       "\n",
       "    .dataframe thead th {\n",
       "        text-align: right;\n",
       "    }\n",
       "</style>\n",
       "<table border=\"1\" class=\"dataframe\">\n",
       "  <thead>\n",
       "    <tr style=\"text-align: right;\">\n",
       "      <th></th>\n",
       "      <th>CO2_pc_g</th>\n",
       "      <th>GDP_pc_g</th>\n",
       "      <th>pop_g</th>\n",
       "      <th>forest_%_g</th>\n",
       "      <th>forest_sqkm_g</th>\n",
       "      <th>energy_pc_g</th>\n",
       "      <th>renew_g</th>\n",
       "      <th>CO2_pc_i</th>\n",
       "      <th>GDP_pc_i</th>\n",
       "      <th>pop_i</th>\n",
       "      <th>...</th>\n",
       "      <th>forest_sqkm_i</th>\n",
       "      <th>energy_pc_i</th>\n",
       "      <th>renew_i</th>\n",
       "      <th>CO2_pc_j</th>\n",
       "      <th>GDP_pc_j</th>\n",
       "      <th>pop_j</th>\n",
       "      <th>forest_%_j</th>\n",
       "      <th>forest_sqkm_j</th>\n",
       "      <th>energy_pc_j</th>\n",
       "      <th>renew_j</th>\n",
       "    </tr>\n",
       "    <tr>\n",
       "      <th>date</th>\n",
       "      <th></th>\n",
       "      <th></th>\n",
       "      <th></th>\n",
       "      <th></th>\n",
       "      <th></th>\n",
       "      <th></th>\n",
       "      <th></th>\n",
       "      <th></th>\n",
       "      <th></th>\n",
       "      <th></th>\n",
       "      <th></th>\n",
       "      <th></th>\n",
       "      <th></th>\n",
       "      <th></th>\n",
       "      <th></th>\n",
       "      <th></th>\n",
       "      <th></th>\n",
       "      <th></th>\n",
       "      <th></th>\n",
       "      <th></th>\n",
       "      <th></th>\n",
       "    </tr>\n",
       "  </thead>\n",
       "  <tbody>\n",
       "    <tr>\n",
       "      <th>1991-01-01</th>\n",
       "      <td>11.622646</td>\n",
       "      <td>33839.490260</td>\n",
       "      <td>58625381</td>\n",
       "      <td>32.381635</td>\n",
       "      <td>113054.003906</td>\n",
       "      <td>4302.891175</td>\n",
       "      <td>1.988633</td>\n",
       "      <td>3.942536</td>\n",
       "      <td>4541.098323</td>\n",
       "      <td>32799183</td>\n",
       "      <td>...</td>\n",
       "      <td>91010.195312</td>\n",
       "      <td>1332.474968</td>\n",
       "      <td>1.226917</td>\n",
       "      <td>8.864025</td>\n",
       "      <td>39253.641841</td>\n",
       "      <td>96005316</td>\n",
       "      <td>68.410860</td>\n",
       "      <td>249425.996094</td>\n",
       "      <td>3575.246092</td>\n",
       "      <td>4.730569</td>\n",
       "    </tr>\n",
       "    <tr>\n",
       "      <th>1992-01-01</th>\n",
       "      <td>11.063320</td>\n",
       "      <td>34228.998472</td>\n",
       "      <td>59146205</td>\n",
       "      <td>32.397101</td>\n",
       "      <td>113107.998047</td>\n",
       "      <td>4190.984220</td>\n",
       "      <td>2.062622</td>\n",
       "      <td>3.886821</td>\n",
       "      <td>4582.330090</td>\n",
       "      <td>33888647</td>\n",
       "      <td>...</td>\n",
       "      <td>91259.804688</td>\n",
       "      <td>1376.357362</td>\n",
       "      <td>1.449471</td>\n",
       "      <td>9.039672</td>\n",
       "      <td>39488.393435</td>\n",
       "      <td>96414127</td>\n",
       "      <td>68.390563</td>\n",
       "      <td>249351.992188</td>\n",
       "      <td>3649.944321</td>\n",
       "      <td>4.197715</td>\n",
       "    </tr>\n",
       "    <tr>\n",
       "      <th>1993-01-01</th>\n",
       "      <td>10.814249</td>\n",
       "      <td>33672.543023</td>\n",
       "      <td>59647492</td>\n",
       "      <td>32.413497</td>\n",
       "      <td>113162.001953</td>\n",
       "      <td>4122.695740</td>\n",
       "      <td>2.110931</td>\n",
       "      <td>3.971862</td>\n",
       "      <td>4556.851163</td>\n",
       "      <td>34949749</td>\n",
       "      <td>...</td>\n",
       "      <td>91509.404297</td>\n",
       "      <td>1458.483260</td>\n",
       "      <td>1.528147</td>\n",
       "      <td>8.894837</td>\n",
       "      <td>39187.034538</td>\n",
       "      <td>96821759</td>\n",
       "      <td>68.370271</td>\n",
       "      <td>249278.007812</td>\n",
       "      <td>3664.568358</td>\n",
       "      <td>4.435607</td>\n",
       "    </tr>\n",
       "    <tr>\n",
       "      <th>1994-01-01</th>\n",
       "      <td>10.628392</td>\n",
       "      <td>34358.571996</td>\n",
       "      <td>60028206</td>\n",
       "      <td>32.429892</td>\n",
       "      <td>113215.996094</td>\n",
       "      <td>4088.798130</td>\n",
       "      <td>2.266202</td>\n",
       "      <td>4.377418</td>\n",
       "      <td>4423.762443</td>\n",
       "      <td>35978707</td>\n",
       "      <td>...</td>\n",
       "      <td>91759.003906</td>\n",
       "      <td>1596.025285</td>\n",
       "      <td>1.086965</td>\n",
       "      <td>9.392974</td>\n",
       "      <td>39441.586762</td>\n",
       "      <td>97320876</td>\n",
       "      <td>68.349974</td>\n",
       "      <td>249204.003906</td>\n",
       "      <td>3850.962444</td>\n",
       "      <td>3.567646</td>\n",
       "    </tr>\n",
       "    <tr>\n",
       "      <th>1995-01-01</th>\n",
       "      <td>10.579467</td>\n",
       "      <td>34786.728549</td>\n",
       "      <td>60378049</td>\n",
       "      <td>32.446290</td>\n",
       "      <td>113270.000000</td>\n",
       "      <td>4119.688948</td>\n",
       "      <td>2.319749</td>\n",
       "      <td>4.442225</td>\n",
       "      <td>4461.995539</td>\n",
       "      <td>37010603</td>\n",
       "      <td>...</td>\n",
       "      <td>92008.603516</td>\n",
       "      <td>1647.246431</td>\n",
       "      <td>1.018087</td>\n",
       "      <td>9.435087</td>\n",
       "      <td>40368.712282</td>\n",
       "      <td>97862490</td>\n",
       "      <td>68.329676</td>\n",
       "      <td>249130.000000</td>\n",
       "      <td>3935.994754</td>\n",
       "      <td>3.917189</td>\n",
       "    </tr>\n",
       "  </tbody>\n",
       "</table>\n",
       "<p>5 rows × 21 columns</p>\n",
       "</div>"
      ],
      "text/plain": [
       "             CO2_pc_g      GDP_pc_g     pop_g  forest_%_g  forest_sqkm_g  \\\n",
       "date                                                                       \n",
       "1991-01-01  11.622646  33839.490260  58625381   32.381635  113054.003906   \n",
       "1992-01-01  11.063320  34228.998472  59146205   32.397101  113107.998047   \n",
       "1993-01-01  10.814249  33672.543023  59647492   32.413497  113162.001953   \n",
       "1994-01-01  10.628392  34358.571996  60028206   32.429892  113215.996094   \n",
       "1995-01-01  10.579467  34786.728549  60378049   32.446290  113270.000000   \n",
       "\n",
       "            energy_pc_g   renew_g  CO2_pc_i     GDP_pc_i     pop_i  ...  \\\n",
       "date                                                                ...   \n",
       "1991-01-01  4302.891175  1.988633  3.942536  4541.098323  32799183  ...   \n",
       "1992-01-01  4190.984220  2.062622  3.886821  4582.330090  33888647  ...   \n",
       "1993-01-01  4122.695740  2.110931  3.971862  4556.851163  34949749  ...   \n",
       "1994-01-01  4088.798130  2.266202  4.377418  4423.762443  35978707  ...   \n",
       "1995-01-01  4119.688948  2.319749  4.442225  4461.995539  37010603  ...   \n",
       "\n",
       "            forest_sqkm_i  energy_pc_i   renew_i  CO2_pc_j      GDP_pc_j  \\\n",
       "date                                                                       \n",
       "1991-01-01   91010.195312  1332.474968  1.226917  8.864025  39253.641841   \n",
       "1992-01-01   91259.804688  1376.357362  1.449471  9.039672  39488.393435   \n",
       "1993-01-01   91509.404297  1458.483260  1.528147  8.894837  39187.034538   \n",
       "1994-01-01   91759.003906  1596.025285  1.086965  9.392974  39441.586762   \n",
       "1995-01-01   92008.603516  1647.246431  1.018087  9.435087  40368.712282   \n",
       "\n",
       "               pop_j  forest_%_j  forest_sqkm_j  energy_pc_j   renew_j  \n",
       "date                                                                    \n",
       "1991-01-01  96005316   68.410860  249425.996094  3575.246092  4.730569  \n",
       "1992-01-01  96414127   68.390563  249351.992188  3649.944321  4.197715  \n",
       "1993-01-01  96821759   68.370271  249278.007812  3664.568358  4.435607  \n",
       "1994-01-01  97320876   68.349974  249204.003906  3850.962444  3.567646  \n",
       "1995-01-01  97862490   68.329676  249130.000000  3935.994754  3.917189  \n",
       "\n",
       "[5 rows x 21 columns]"
      ]
     },
     "execution_count": 40,
     "metadata": {},
     "output_type": "execute_result"
    }
   ],
   "source": [
    "df_clean.head(5)"
   ]
  },
  {
   "cell_type": "code",
   "execution_count": 32,
   "metadata": {},
   "outputs": [
    {
     "data": {
      "application/vnd.plotly.v1+json": {
       "config": {
        "plotlyServerURL": "https://plot.ly"
       },
       "data": [
        {
         "hovertemplate": "variable=GDP_pc_g<br>date=%{x}<br>value=%{y}<extra></extra>",
         "legendgroup": "GDP_pc_g",
         "line": {
          "color": "#636efa",
          "dash": "solid"
         },
         "mode": "lines",
         "name": "GDP_pc_g",
         "orientation": "v",
         "showlegend": true,
         "type": "scatter",
         "x": [
          "1991-01-01T00:00:00",
          "1992-01-01T00:00:00",
          "1993-01-01T00:00:00",
          "1994-01-01T00:00:00",
          "1995-01-01T00:00:00",
          "1996-01-01T00:00:00",
          "1997-01-01T00:00:00",
          "1998-01-01T00:00:00",
          "1999-01-01T00:00:00",
          "2000-01-01T00:00:00",
          "2001-01-01T00:00:00",
          "2002-01-01T00:00:00",
          "2003-01-01T00:00:00",
          "2004-01-01T00:00:00",
          "2005-01-01T00:00:00",
          "2006-01-01T00:00:00",
          "2007-01-01T00:00:00",
          "2008-01-01T00:00:00",
          "2009-01-01T00:00:00",
          "2010-01-01T00:00:00",
          "2011-01-01T00:00:00",
          "2012-01-01T00:00:00",
          "2013-01-01T00:00:00",
          "2014-01-01T00:00:00",
          "2015-01-01T00:00:00",
          "2016-01-01T00:00:00"
         ],
         "xaxis": "x",
         "y": [
          33839.4902602064,
          34228.9984716111,
          33672.5430228037,
          34358.5719956026,
          34786.728549098996,
          34965.6844508481,
          35540.2875272631,
          36250.5549565626,
          36910.832725782595,
          37934.4517828233,
          38507.473777872205,
          38366.6795456265,
          38076.9815087939,
          38532.7840538701,
          38836.7757824923,
          40364.4632067864,
          41621.5118402428,
          42101.0040357854,
          39804.5722815573,
          41531.934197868904,
          43969.7074500187,
          44070.9085651782,
          44143.1278111535,
          44930.7921305433,
          45208.062454025,
          45844.6381197286
         ],
         "yaxis": "y"
        },
        {
         "hovertemplate": "variable=GDP_pc_i<br>date=%{x}<br>value=%{y}<extra></extra>",
         "legendgroup": "GDP_pc_i",
         "line": {
          "color": "#EF553B",
          "dash": "solid"
         },
         "mode": "lines",
         "name": "GDP_pc_i",
         "orientation": "v",
         "showlegend": true,
         "type": "scatter",
         "x": [
          "1991-01-01T00:00:00",
          "1992-01-01T00:00:00",
          "1993-01-01T00:00:00",
          "1994-01-01T00:00:00",
          "1995-01-01T00:00:00",
          "1996-01-01T00:00:00",
          "1997-01-01T00:00:00",
          "1998-01-01T00:00:00",
          "1999-01-01T00:00:00",
          "2000-01-01T00:00:00",
          "2001-01-01T00:00:00",
          "2002-01-01T00:00:00",
          "2003-01-01T00:00:00",
          "2004-01-01T00:00:00",
          "2005-01-01T00:00:00",
          "2006-01-01T00:00:00",
          "2007-01-01T00:00:00",
          "2008-01-01T00:00:00",
          "2009-01-01T00:00:00",
          "2010-01-01T00:00:00",
          "2011-01-01T00:00:00",
          "2012-01-01T00:00:00",
          "2013-01-01T00:00:00",
          "2014-01-01T00:00:00",
          "2015-01-01T00:00:00",
          "2016-01-01T00:00:00"
         ],
         "xaxis": "x",
         "y": [
          4541.098322657629,
          4582.33009005096,
          4556.85116331007,
          4423.76244250285,
          4461.99553919884,
          4628.62470872619,
          4588.9557019275,
          4627.65427318618,
          4607.53057607939,
          4816.308825670671,
          4793.49626790034,
          5077.90888219505,
          5453.51074001954,
          5623.69359469475,
          5735.61106851669,
          5954.7414643826405,
          6369.82193076155,
          6316.37162536933,
          6309.64160854798,
          6599.66093791004,
          6695.08228331152,
          6122.43208981298,
          6035.28220098466,
          6232.9354175790295,
          6070.18728372393,
          6790.63900593297
         ],
         "yaxis": "y"
        },
        {
         "hovertemplate": "variable=GDP_pc_j<br>date=%{x}<br>value=%{y}<extra></extra>",
         "legendgroup": "GDP_pc_j",
         "line": {
          "color": "#00cc96",
          "dash": "solid"
         },
         "mode": "lines",
         "name": "GDP_pc_j",
         "orientation": "v",
         "showlegend": true,
         "type": "scatter",
         "x": [
          "1991-01-01T00:00:00",
          "1992-01-01T00:00:00",
          "1993-01-01T00:00:00",
          "1994-01-01T00:00:00",
          "1995-01-01T00:00:00",
          "1996-01-01T00:00:00",
          "1997-01-01T00:00:00",
          "1998-01-01T00:00:00",
          "1999-01-01T00:00:00",
          "2000-01-01T00:00:00",
          "2001-01-01T00:00:00",
          "2002-01-01T00:00:00",
          "2003-01-01T00:00:00",
          "2004-01-01T00:00:00",
          "2005-01-01T00:00:00",
          "2006-01-01T00:00:00",
          "2007-01-01T00:00:00",
          "2008-01-01T00:00:00",
          "2009-01-01T00:00:00",
          "2010-01-01T00:00:00",
          "2011-01-01T00:00:00",
          "2012-01-01T00:00:00",
          "2013-01-01T00:00:00",
          "2014-01-01T00:00:00",
          "2015-01-01T00:00:00",
          "2016-01-01T00:00:00"
         ],
         "xaxis": "x",
         "y": [
          39253.641841388504,
          39488.3934345327,
          39187.0345375322,
          39441.5867622873,
          40368.7122822693,
          41514.897794653,
          41861.753438591404,
          41277.0667588528,
          41097.9596040256,
          42169.7332837685,
          42239.1849263634,
          42190.8048728416,
          42744.0112850452,
          43671.6799739123,
          44393.626384266296,
          44995.4944919713,
          45687.273814764696,
          45165.7879187542,
          42724.7603699749,
          44507.6763859172,
          44538.7261906776,
          45276.8743353985,
          46249.2095886628,
          46484.155266913396,
          47102.580878149805,
          47403.0469116934
         ],
         "yaxis": "y"
        }
       ],
       "layout": {
        "hovermode": "x unified",
        "legend": {
         "title": {
          "text": "variable"
         },
         "tracegroupgap": 0
        },
        "margin": {
         "t": 60
        },
        "template": {
         "data": {
          "bar": [
           {
            "error_x": {
             "color": "#2a3f5f"
            },
            "error_y": {
             "color": "#2a3f5f"
            },
            "marker": {
             "line": {
              "color": "#E5ECF6",
              "width": 0.5
             }
            },
            "type": "bar"
           }
          ],
          "barpolar": [
           {
            "marker": {
             "line": {
              "color": "#E5ECF6",
              "width": 0.5
             }
            },
            "type": "barpolar"
           }
          ],
          "carpet": [
           {
            "aaxis": {
             "endlinecolor": "#2a3f5f",
             "gridcolor": "white",
             "linecolor": "white",
             "minorgridcolor": "white",
             "startlinecolor": "#2a3f5f"
            },
            "baxis": {
             "endlinecolor": "#2a3f5f",
             "gridcolor": "white",
             "linecolor": "white",
             "minorgridcolor": "white",
             "startlinecolor": "#2a3f5f"
            },
            "type": "carpet"
           }
          ],
          "choropleth": [
           {
            "colorbar": {
             "outlinewidth": 0,
             "ticks": ""
            },
            "type": "choropleth"
           }
          ],
          "contour": [
           {
            "colorbar": {
             "outlinewidth": 0,
             "ticks": ""
            },
            "colorscale": [
             [
              0,
              "#0d0887"
             ],
             [
              0.1111111111111111,
              "#46039f"
             ],
             [
              0.2222222222222222,
              "#7201a8"
             ],
             [
              0.3333333333333333,
              "#9c179e"
             ],
             [
              0.4444444444444444,
              "#bd3786"
             ],
             [
              0.5555555555555556,
              "#d8576b"
             ],
             [
              0.6666666666666666,
              "#ed7953"
             ],
             [
              0.7777777777777778,
              "#fb9f3a"
             ],
             [
              0.8888888888888888,
              "#fdca26"
             ],
             [
              1,
              "#f0f921"
             ]
            ],
            "type": "contour"
           }
          ],
          "contourcarpet": [
           {
            "colorbar": {
             "outlinewidth": 0,
             "ticks": ""
            },
            "type": "contourcarpet"
           }
          ],
          "heatmap": [
           {
            "colorbar": {
             "outlinewidth": 0,
             "ticks": ""
            },
            "colorscale": [
             [
              0,
              "#0d0887"
             ],
             [
              0.1111111111111111,
              "#46039f"
             ],
             [
              0.2222222222222222,
              "#7201a8"
             ],
             [
              0.3333333333333333,
              "#9c179e"
             ],
             [
              0.4444444444444444,
              "#bd3786"
             ],
             [
              0.5555555555555556,
              "#d8576b"
             ],
             [
              0.6666666666666666,
              "#ed7953"
             ],
             [
              0.7777777777777778,
              "#fb9f3a"
             ],
             [
              0.8888888888888888,
              "#fdca26"
             ],
             [
              1,
              "#f0f921"
             ]
            ],
            "type": "heatmap"
           }
          ],
          "heatmapgl": [
           {
            "colorbar": {
             "outlinewidth": 0,
             "ticks": ""
            },
            "colorscale": [
             [
              0,
              "#0d0887"
             ],
             [
              0.1111111111111111,
              "#46039f"
             ],
             [
              0.2222222222222222,
              "#7201a8"
             ],
             [
              0.3333333333333333,
              "#9c179e"
             ],
             [
              0.4444444444444444,
              "#bd3786"
             ],
             [
              0.5555555555555556,
              "#d8576b"
             ],
             [
              0.6666666666666666,
              "#ed7953"
             ],
             [
              0.7777777777777778,
              "#fb9f3a"
             ],
             [
              0.8888888888888888,
              "#fdca26"
             ],
             [
              1,
              "#f0f921"
             ]
            ],
            "type": "heatmapgl"
           }
          ],
          "histogram": [
           {
            "marker": {
             "colorbar": {
              "outlinewidth": 0,
              "ticks": ""
             }
            },
            "type": "histogram"
           }
          ],
          "histogram2d": [
           {
            "colorbar": {
             "outlinewidth": 0,
             "ticks": ""
            },
            "colorscale": [
             [
              0,
              "#0d0887"
             ],
             [
              0.1111111111111111,
              "#46039f"
             ],
             [
              0.2222222222222222,
              "#7201a8"
             ],
             [
              0.3333333333333333,
              "#9c179e"
             ],
             [
              0.4444444444444444,
              "#bd3786"
             ],
             [
              0.5555555555555556,
              "#d8576b"
             ],
             [
              0.6666666666666666,
              "#ed7953"
             ],
             [
              0.7777777777777778,
              "#fb9f3a"
             ],
             [
              0.8888888888888888,
              "#fdca26"
             ],
             [
              1,
              "#f0f921"
             ]
            ],
            "type": "histogram2d"
           }
          ],
          "histogram2dcontour": [
           {
            "colorbar": {
             "outlinewidth": 0,
             "ticks": ""
            },
            "colorscale": [
             [
              0,
              "#0d0887"
             ],
             [
              0.1111111111111111,
              "#46039f"
             ],
             [
              0.2222222222222222,
              "#7201a8"
             ],
             [
              0.3333333333333333,
              "#9c179e"
             ],
             [
              0.4444444444444444,
              "#bd3786"
             ],
             [
              0.5555555555555556,
              "#d8576b"
             ],
             [
              0.6666666666666666,
              "#ed7953"
             ],
             [
              0.7777777777777778,
              "#fb9f3a"
             ],
             [
              0.8888888888888888,
              "#fdca26"
             ],
             [
              1,
              "#f0f921"
             ]
            ],
            "type": "histogram2dcontour"
           }
          ],
          "mesh3d": [
           {
            "colorbar": {
             "outlinewidth": 0,
             "ticks": ""
            },
            "type": "mesh3d"
           }
          ],
          "parcoords": [
           {
            "line": {
             "colorbar": {
              "outlinewidth": 0,
              "ticks": ""
             }
            },
            "type": "parcoords"
           }
          ],
          "pie": [
           {
            "automargin": true,
            "type": "pie"
           }
          ],
          "scatter": [
           {
            "marker": {
             "colorbar": {
              "outlinewidth": 0,
              "ticks": ""
             }
            },
            "type": "scatter"
           }
          ],
          "scatter3d": [
           {
            "line": {
             "colorbar": {
              "outlinewidth": 0,
              "ticks": ""
             }
            },
            "marker": {
             "colorbar": {
              "outlinewidth": 0,
              "ticks": ""
             }
            },
            "type": "scatter3d"
           }
          ],
          "scattercarpet": [
           {
            "marker": {
             "colorbar": {
              "outlinewidth": 0,
              "ticks": ""
             }
            },
            "type": "scattercarpet"
           }
          ],
          "scattergeo": [
           {
            "marker": {
             "colorbar": {
              "outlinewidth": 0,
              "ticks": ""
             }
            },
            "type": "scattergeo"
           }
          ],
          "scattergl": [
           {
            "marker": {
             "colorbar": {
              "outlinewidth": 0,
              "ticks": ""
             }
            },
            "type": "scattergl"
           }
          ],
          "scattermapbox": [
           {
            "marker": {
             "colorbar": {
              "outlinewidth": 0,
              "ticks": ""
             }
            },
            "type": "scattermapbox"
           }
          ],
          "scatterpolar": [
           {
            "marker": {
             "colorbar": {
              "outlinewidth": 0,
              "ticks": ""
             }
            },
            "type": "scatterpolar"
           }
          ],
          "scatterpolargl": [
           {
            "marker": {
             "colorbar": {
              "outlinewidth": 0,
              "ticks": ""
             }
            },
            "type": "scatterpolargl"
           }
          ],
          "scatterternary": [
           {
            "marker": {
             "colorbar": {
              "outlinewidth": 0,
              "ticks": ""
             }
            },
            "type": "scatterternary"
           }
          ],
          "surface": [
           {
            "colorbar": {
             "outlinewidth": 0,
             "ticks": ""
            },
            "colorscale": [
             [
              0,
              "#0d0887"
             ],
             [
              0.1111111111111111,
              "#46039f"
             ],
             [
              0.2222222222222222,
              "#7201a8"
             ],
             [
              0.3333333333333333,
              "#9c179e"
             ],
             [
              0.4444444444444444,
              "#bd3786"
             ],
             [
              0.5555555555555556,
              "#d8576b"
             ],
             [
              0.6666666666666666,
              "#ed7953"
             ],
             [
              0.7777777777777778,
              "#fb9f3a"
             ],
             [
              0.8888888888888888,
              "#fdca26"
             ],
             [
              1,
              "#f0f921"
             ]
            ],
            "type": "surface"
           }
          ],
          "table": [
           {
            "cells": {
             "fill": {
              "color": "#EBF0F8"
             },
             "line": {
              "color": "white"
             }
            },
            "header": {
             "fill": {
              "color": "#C8D4E3"
             },
             "line": {
              "color": "white"
             }
            },
            "type": "table"
           }
          ]
         },
         "layout": {
          "annotationdefaults": {
           "arrowcolor": "#2a3f5f",
           "arrowhead": 0,
           "arrowwidth": 1
          },
          "autotypenumbers": "strict",
          "coloraxis": {
           "colorbar": {
            "outlinewidth": 0,
            "ticks": ""
           }
          },
          "colorscale": {
           "diverging": [
            [
             0,
             "#8e0152"
            ],
            [
             0.1,
             "#c51b7d"
            ],
            [
             0.2,
             "#de77ae"
            ],
            [
             0.3,
             "#f1b6da"
            ],
            [
             0.4,
             "#fde0ef"
            ],
            [
             0.5,
             "#f7f7f7"
            ],
            [
             0.6,
             "#e6f5d0"
            ],
            [
             0.7,
             "#b8e186"
            ],
            [
             0.8,
             "#7fbc41"
            ],
            [
             0.9,
             "#4d9221"
            ],
            [
             1,
             "#276419"
            ]
           ],
           "sequential": [
            [
             0,
             "#0d0887"
            ],
            [
             0.1111111111111111,
             "#46039f"
            ],
            [
             0.2222222222222222,
             "#7201a8"
            ],
            [
             0.3333333333333333,
             "#9c179e"
            ],
            [
             0.4444444444444444,
             "#bd3786"
            ],
            [
             0.5555555555555556,
             "#d8576b"
            ],
            [
             0.6666666666666666,
             "#ed7953"
            ],
            [
             0.7777777777777778,
             "#fb9f3a"
            ],
            [
             0.8888888888888888,
             "#fdca26"
            ],
            [
             1,
             "#f0f921"
            ]
           ],
           "sequentialminus": [
            [
             0,
             "#0d0887"
            ],
            [
             0.1111111111111111,
             "#46039f"
            ],
            [
             0.2222222222222222,
             "#7201a8"
            ],
            [
             0.3333333333333333,
             "#9c179e"
            ],
            [
             0.4444444444444444,
             "#bd3786"
            ],
            [
             0.5555555555555556,
             "#d8576b"
            ],
            [
             0.6666666666666666,
             "#ed7953"
            ],
            [
             0.7777777777777778,
             "#fb9f3a"
            ],
            [
             0.8888888888888888,
             "#fdca26"
            ],
            [
             1,
             "#f0f921"
            ]
           ]
          },
          "colorway": [
           "#636efa",
           "#EF553B",
           "#00cc96",
           "#ab63fa",
           "#FFA15A",
           "#19d3f3",
           "#FF6692",
           "#B6E880",
           "#FF97FF",
           "#FECB52"
          ],
          "font": {
           "color": "#2a3f5f"
          },
          "geo": {
           "bgcolor": "white",
           "lakecolor": "white",
           "landcolor": "#E5ECF6",
           "showlakes": true,
           "showland": true,
           "subunitcolor": "white"
          },
          "hoverlabel": {
           "align": "left"
          },
          "hovermode": "closest",
          "mapbox": {
           "style": "light"
          },
          "paper_bgcolor": "white",
          "plot_bgcolor": "#E5ECF6",
          "polar": {
           "angularaxis": {
            "gridcolor": "white",
            "linecolor": "white",
            "ticks": ""
           },
           "bgcolor": "#E5ECF6",
           "radialaxis": {
            "gridcolor": "white",
            "linecolor": "white",
            "ticks": ""
           }
          },
          "scene": {
           "xaxis": {
            "backgroundcolor": "#E5ECF6",
            "gridcolor": "white",
            "gridwidth": 2,
            "linecolor": "white",
            "showbackground": true,
            "ticks": "",
            "zerolinecolor": "white"
           },
           "yaxis": {
            "backgroundcolor": "#E5ECF6",
            "gridcolor": "white",
            "gridwidth": 2,
            "linecolor": "white",
            "showbackground": true,
            "ticks": "",
            "zerolinecolor": "white"
           },
           "zaxis": {
            "backgroundcolor": "#E5ECF6",
            "gridcolor": "white",
            "gridwidth": 2,
            "linecolor": "white",
            "showbackground": true,
            "ticks": "",
            "zerolinecolor": "white"
           }
          },
          "shapedefaults": {
           "line": {
            "color": "#2a3f5f"
           }
          },
          "ternary": {
           "aaxis": {
            "gridcolor": "white",
            "linecolor": "white",
            "ticks": ""
           },
           "baxis": {
            "gridcolor": "white",
            "linecolor": "white",
            "ticks": ""
           },
           "bgcolor": "#E5ECF6",
           "caxis": {
            "gridcolor": "white",
            "linecolor": "white",
            "ticks": ""
           }
          },
          "title": {
           "x": 0.05
          },
          "xaxis": {
           "automargin": true,
           "gridcolor": "white",
           "linecolor": "white",
           "ticks": "",
           "title": {
            "standoff": 15
           },
           "zerolinecolor": "white",
           "zerolinewidth": 2
          },
          "yaxis": {
           "automargin": true,
           "gridcolor": "white",
           "linecolor": "white",
           "ticks": "",
           "title": {
            "standoff": 15
           },
           "zerolinecolor": "white",
           "zerolinewidth": 2
          }
         }
        },
        "updatemenus": [
         {
          "buttons": [
           {
            "args": [
             {
              "yaxis.type": "linear"
             }
            ],
            "label": "LINEAR",
            "method": "relayout"
           }
          ],
          "direction": "left",
          "type": "buttons"
         }
        ],
        "xaxis": {
         "anchor": "y",
         "domain": [
          0,
          1
         ],
         "title": {
          "text": "date"
         }
        },
        "yaxis": {
         "anchor": "x",
         "domain": [
          0,
          1
         ],
         "title": {
          "text": "value"
         }
        }
       }
      },
      "text/html": [
       "<div>                            <div id=\"f46ff98a-6d51-4e15-b0c7-c5e86fce4e01\" class=\"plotly-graph-div\" style=\"height:525px; width:100%;\"></div>            <script type=\"text/javascript\">                require([\"plotly\"], function(Plotly) {                    window.PLOTLYENV=window.PLOTLYENV || {};                                    if (document.getElementById(\"f46ff98a-6d51-4e15-b0c7-c5e86fce4e01\")) {                    Plotly.newPlot(                        \"f46ff98a-6d51-4e15-b0c7-c5e86fce4e01\",                        [{\"hovertemplate\": \"variable=GDP_pc_g<br>date=%{x}<br>value=%{y}<extra></extra>\", \"legendgroup\": \"GDP_pc_g\", \"line\": {\"color\": \"#636efa\", \"dash\": \"solid\"}, \"mode\": \"lines\", \"name\": \"GDP_pc_g\", \"orientation\": \"v\", \"showlegend\": true, \"type\": \"scatter\", \"x\": [\"1991-01-01T00:00:00\", \"1992-01-01T00:00:00\", \"1993-01-01T00:00:00\", \"1994-01-01T00:00:00\", \"1995-01-01T00:00:00\", \"1996-01-01T00:00:00\", \"1997-01-01T00:00:00\", \"1998-01-01T00:00:00\", \"1999-01-01T00:00:00\", \"2000-01-01T00:00:00\", \"2001-01-01T00:00:00\", \"2002-01-01T00:00:00\", \"2003-01-01T00:00:00\", \"2004-01-01T00:00:00\", \"2005-01-01T00:00:00\", \"2006-01-01T00:00:00\", \"2007-01-01T00:00:00\", \"2008-01-01T00:00:00\", \"2009-01-01T00:00:00\", \"2010-01-01T00:00:00\", \"2011-01-01T00:00:00\", \"2012-01-01T00:00:00\", \"2013-01-01T00:00:00\", \"2014-01-01T00:00:00\", \"2015-01-01T00:00:00\", \"2016-01-01T00:00:00\"], \"xaxis\": \"x\", \"y\": [33839.4902602064, 34228.9984716111, 33672.5430228037, 34358.5719956026, 34786.728549098996, 34965.6844508481, 35540.2875272631, 36250.5549565626, 36910.832725782595, 37934.4517828233, 38507.473777872205, 38366.6795456265, 38076.9815087939, 38532.7840538701, 38836.7757824923, 40364.4632067864, 41621.5118402428, 42101.0040357854, 39804.5722815573, 41531.934197868904, 43969.7074500187, 44070.9085651782, 44143.1278111535, 44930.7921305433, 45208.062454025, 45844.6381197286], \"yaxis\": \"y\"}, {\"hovertemplate\": \"variable=GDP_pc_i<br>date=%{x}<br>value=%{y}<extra></extra>\", \"legendgroup\": \"GDP_pc_i\", \"line\": {\"color\": \"#EF553B\", \"dash\": \"solid\"}, \"mode\": \"lines\", \"name\": \"GDP_pc_i\", \"orientation\": \"v\", \"showlegend\": true, \"type\": \"scatter\", \"x\": [\"1991-01-01T00:00:00\", \"1992-01-01T00:00:00\", \"1993-01-01T00:00:00\", \"1994-01-01T00:00:00\", \"1995-01-01T00:00:00\", \"1996-01-01T00:00:00\", \"1997-01-01T00:00:00\", \"1998-01-01T00:00:00\", \"1999-01-01T00:00:00\", \"2000-01-01T00:00:00\", \"2001-01-01T00:00:00\", \"2002-01-01T00:00:00\", \"2003-01-01T00:00:00\", \"2004-01-01T00:00:00\", \"2005-01-01T00:00:00\", \"2006-01-01T00:00:00\", \"2007-01-01T00:00:00\", \"2008-01-01T00:00:00\", \"2009-01-01T00:00:00\", \"2010-01-01T00:00:00\", \"2011-01-01T00:00:00\", \"2012-01-01T00:00:00\", \"2013-01-01T00:00:00\", \"2014-01-01T00:00:00\", \"2015-01-01T00:00:00\", \"2016-01-01T00:00:00\"], \"xaxis\": \"x\", \"y\": [4541.098322657629, 4582.33009005096, 4556.85116331007, 4423.76244250285, 4461.99553919884, 4628.62470872619, 4588.9557019275, 4627.65427318618, 4607.53057607939, 4816.308825670671, 4793.49626790034, 5077.90888219505, 5453.51074001954, 5623.69359469475, 5735.61106851669, 5954.7414643826405, 6369.82193076155, 6316.37162536933, 6309.64160854798, 6599.66093791004, 6695.08228331152, 6122.43208981298, 6035.28220098466, 6232.9354175790295, 6070.18728372393, 6790.63900593297], \"yaxis\": \"y\"}, {\"hovertemplate\": \"variable=GDP_pc_j<br>date=%{x}<br>value=%{y}<extra></extra>\", \"legendgroup\": \"GDP_pc_j\", \"line\": {\"color\": \"#00cc96\", \"dash\": \"solid\"}, \"mode\": \"lines\", \"name\": \"GDP_pc_j\", \"orientation\": \"v\", \"showlegend\": true, \"type\": \"scatter\", \"x\": [\"1991-01-01T00:00:00\", \"1992-01-01T00:00:00\", \"1993-01-01T00:00:00\", \"1994-01-01T00:00:00\", \"1995-01-01T00:00:00\", \"1996-01-01T00:00:00\", \"1997-01-01T00:00:00\", \"1998-01-01T00:00:00\", \"1999-01-01T00:00:00\", \"2000-01-01T00:00:00\", \"2001-01-01T00:00:00\", \"2002-01-01T00:00:00\", \"2003-01-01T00:00:00\", \"2004-01-01T00:00:00\", \"2005-01-01T00:00:00\", \"2006-01-01T00:00:00\", \"2007-01-01T00:00:00\", \"2008-01-01T00:00:00\", \"2009-01-01T00:00:00\", \"2010-01-01T00:00:00\", \"2011-01-01T00:00:00\", \"2012-01-01T00:00:00\", \"2013-01-01T00:00:00\", \"2014-01-01T00:00:00\", \"2015-01-01T00:00:00\", \"2016-01-01T00:00:00\"], \"xaxis\": \"x\", \"y\": [39253.641841388504, 39488.3934345327, 39187.0345375322, 39441.5867622873, 40368.7122822693, 41514.897794653, 41861.753438591404, 41277.0667588528, 41097.9596040256, 42169.7332837685, 42239.1849263634, 42190.8048728416, 42744.0112850452, 43671.6799739123, 44393.626384266296, 44995.4944919713, 45687.273814764696, 45165.7879187542, 42724.7603699749, 44507.6763859172, 44538.7261906776, 45276.8743353985, 46249.2095886628, 46484.155266913396, 47102.580878149805, 47403.0469116934], \"yaxis\": \"y\"}],                        {\"hovermode\": \"x unified\", \"legend\": {\"title\": {\"text\": \"variable\"}, \"tracegroupgap\": 0}, \"margin\": {\"t\": 60}, \"template\": {\"data\": {\"bar\": [{\"error_x\": {\"color\": \"#2a3f5f\"}, \"error_y\": {\"color\": \"#2a3f5f\"}, \"marker\": {\"line\": {\"color\": \"#E5ECF6\", \"width\": 0.5}}, \"type\": \"bar\"}], \"barpolar\": [{\"marker\": {\"line\": {\"color\": \"#E5ECF6\", \"width\": 0.5}}, \"type\": \"barpolar\"}], \"carpet\": [{\"aaxis\": {\"endlinecolor\": \"#2a3f5f\", \"gridcolor\": \"white\", \"linecolor\": \"white\", \"minorgridcolor\": \"white\", \"startlinecolor\": \"#2a3f5f\"}, \"baxis\": {\"endlinecolor\": \"#2a3f5f\", \"gridcolor\": \"white\", \"linecolor\": \"white\", \"minorgridcolor\": \"white\", \"startlinecolor\": \"#2a3f5f\"}, \"type\": \"carpet\"}], \"choropleth\": [{\"colorbar\": {\"outlinewidth\": 0, \"ticks\": \"\"}, \"type\": \"choropleth\"}], \"contour\": [{\"colorbar\": {\"outlinewidth\": 0, \"ticks\": \"\"}, \"colorscale\": [[0.0, \"#0d0887\"], [0.1111111111111111, \"#46039f\"], [0.2222222222222222, \"#7201a8\"], [0.3333333333333333, \"#9c179e\"], [0.4444444444444444, \"#bd3786\"], [0.5555555555555556, \"#d8576b\"], [0.6666666666666666, \"#ed7953\"], [0.7777777777777778, \"#fb9f3a\"], [0.8888888888888888, \"#fdca26\"], [1.0, \"#f0f921\"]], \"type\": \"contour\"}], \"contourcarpet\": [{\"colorbar\": {\"outlinewidth\": 0, \"ticks\": \"\"}, \"type\": \"contourcarpet\"}], \"heatmap\": [{\"colorbar\": {\"outlinewidth\": 0, \"ticks\": \"\"}, \"colorscale\": [[0.0, \"#0d0887\"], [0.1111111111111111, \"#46039f\"], [0.2222222222222222, \"#7201a8\"], [0.3333333333333333, \"#9c179e\"], [0.4444444444444444, \"#bd3786\"], [0.5555555555555556, \"#d8576b\"], [0.6666666666666666, \"#ed7953\"], [0.7777777777777778, \"#fb9f3a\"], [0.8888888888888888, \"#fdca26\"], [1.0, \"#f0f921\"]], \"type\": \"heatmap\"}], \"heatmapgl\": [{\"colorbar\": {\"outlinewidth\": 0, \"ticks\": \"\"}, \"colorscale\": [[0.0, \"#0d0887\"], [0.1111111111111111, \"#46039f\"], [0.2222222222222222, \"#7201a8\"], [0.3333333333333333, \"#9c179e\"], [0.4444444444444444, \"#bd3786\"], [0.5555555555555556, \"#d8576b\"], [0.6666666666666666, \"#ed7953\"], [0.7777777777777778, \"#fb9f3a\"], [0.8888888888888888, \"#fdca26\"], [1.0, \"#f0f921\"]], \"type\": \"heatmapgl\"}], \"histogram\": [{\"marker\": {\"colorbar\": {\"outlinewidth\": 0, \"ticks\": \"\"}}, \"type\": \"histogram\"}], \"histogram2d\": [{\"colorbar\": {\"outlinewidth\": 0, \"ticks\": \"\"}, \"colorscale\": [[0.0, \"#0d0887\"], [0.1111111111111111, \"#46039f\"], [0.2222222222222222, \"#7201a8\"], [0.3333333333333333, \"#9c179e\"], [0.4444444444444444, \"#bd3786\"], [0.5555555555555556, \"#d8576b\"], [0.6666666666666666, \"#ed7953\"], [0.7777777777777778, \"#fb9f3a\"], [0.8888888888888888, \"#fdca26\"], [1.0, \"#f0f921\"]], \"type\": \"histogram2d\"}], \"histogram2dcontour\": [{\"colorbar\": {\"outlinewidth\": 0, \"ticks\": \"\"}, \"colorscale\": [[0.0, \"#0d0887\"], [0.1111111111111111, \"#46039f\"], [0.2222222222222222, \"#7201a8\"], [0.3333333333333333, \"#9c179e\"], [0.4444444444444444, \"#bd3786\"], [0.5555555555555556, \"#d8576b\"], [0.6666666666666666, \"#ed7953\"], [0.7777777777777778, \"#fb9f3a\"], [0.8888888888888888, \"#fdca26\"], [1.0, \"#f0f921\"]], \"type\": \"histogram2dcontour\"}], \"mesh3d\": [{\"colorbar\": {\"outlinewidth\": 0, \"ticks\": \"\"}, \"type\": \"mesh3d\"}], \"parcoords\": [{\"line\": {\"colorbar\": {\"outlinewidth\": 0, \"ticks\": \"\"}}, \"type\": \"parcoords\"}], \"pie\": [{\"automargin\": true, \"type\": \"pie\"}], \"scatter\": [{\"marker\": {\"colorbar\": {\"outlinewidth\": 0, \"ticks\": \"\"}}, \"type\": \"scatter\"}], \"scatter3d\": [{\"line\": {\"colorbar\": {\"outlinewidth\": 0, \"ticks\": \"\"}}, \"marker\": {\"colorbar\": {\"outlinewidth\": 0, \"ticks\": \"\"}}, \"type\": \"scatter3d\"}], \"scattercarpet\": [{\"marker\": {\"colorbar\": {\"outlinewidth\": 0, \"ticks\": \"\"}}, \"type\": \"scattercarpet\"}], \"scattergeo\": [{\"marker\": {\"colorbar\": {\"outlinewidth\": 0, \"ticks\": \"\"}}, \"type\": \"scattergeo\"}], \"scattergl\": [{\"marker\": {\"colorbar\": {\"outlinewidth\": 0, \"ticks\": \"\"}}, \"type\": \"scattergl\"}], \"scattermapbox\": [{\"marker\": {\"colorbar\": {\"outlinewidth\": 0, \"ticks\": \"\"}}, \"type\": \"scattermapbox\"}], \"scatterpolar\": [{\"marker\": {\"colorbar\": {\"outlinewidth\": 0, \"ticks\": \"\"}}, \"type\": \"scatterpolar\"}], \"scatterpolargl\": [{\"marker\": {\"colorbar\": {\"outlinewidth\": 0, \"ticks\": \"\"}}, \"type\": \"scatterpolargl\"}], \"scatterternary\": [{\"marker\": {\"colorbar\": {\"outlinewidth\": 0, \"ticks\": \"\"}}, \"type\": \"scatterternary\"}], \"surface\": [{\"colorbar\": {\"outlinewidth\": 0, \"ticks\": \"\"}, \"colorscale\": [[0.0, \"#0d0887\"], [0.1111111111111111, \"#46039f\"], [0.2222222222222222, \"#7201a8\"], [0.3333333333333333, \"#9c179e\"], [0.4444444444444444, \"#bd3786\"], [0.5555555555555556, \"#d8576b\"], [0.6666666666666666, \"#ed7953\"], [0.7777777777777778, \"#fb9f3a\"], [0.8888888888888888, \"#fdca26\"], [1.0, \"#f0f921\"]], \"type\": \"surface\"}], \"table\": [{\"cells\": {\"fill\": {\"color\": \"#EBF0F8\"}, \"line\": {\"color\": \"white\"}}, \"header\": {\"fill\": {\"color\": \"#C8D4E3\"}, \"line\": {\"color\": \"white\"}}, \"type\": \"table\"}]}, \"layout\": {\"annotationdefaults\": {\"arrowcolor\": \"#2a3f5f\", \"arrowhead\": 0, \"arrowwidth\": 1}, \"autotypenumbers\": \"strict\", \"coloraxis\": {\"colorbar\": {\"outlinewidth\": 0, \"ticks\": \"\"}}, \"colorscale\": {\"diverging\": [[0, \"#8e0152\"], [0.1, \"#c51b7d\"], [0.2, \"#de77ae\"], [0.3, \"#f1b6da\"], [0.4, \"#fde0ef\"], [0.5, \"#f7f7f7\"], [0.6, \"#e6f5d0\"], [0.7, \"#b8e186\"], [0.8, \"#7fbc41\"], [0.9, \"#4d9221\"], [1, \"#276419\"]], \"sequential\": [[0.0, \"#0d0887\"], [0.1111111111111111, \"#46039f\"], [0.2222222222222222, \"#7201a8\"], [0.3333333333333333, \"#9c179e\"], [0.4444444444444444, \"#bd3786\"], [0.5555555555555556, \"#d8576b\"], [0.6666666666666666, \"#ed7953\"], [0.7777777777777778, \"#fb9f3a\"], [0.8888888888888888, \"#fdca26\"], [1.0, \"#f0f921\"]], \"sequentialminus\": [[0.0, \"#0d0887\"], [0.1111111111111111, \"#46039f\"], [0.2222222222222222, \"#7201a8\"], [0.3333333333333333, \"#9c179e\"], [0.4444444444444444, \"#bd3786\"], [0.5555555555555556, \"#d8576b\"], [0.6666666666666666, \"#ed7953\"], [0.7777777777777778, \"#fb9f3a\"], [0.8888888888888888, \"#fdca26\"], [1.0, \"#f0f921\"]]}, \"colorway\": [\"#636efa\", \"#EF553B\", \"#00cc96\", \"#ab63fa\", \"#FFA15A\", \"#19d3f3\", \"#FF6692\", \"#B6E880\", \"#FF97FF\", \"#FECB52\"], \"font\": {\"color\": \"#2a3f5f\"}, \"geo\": {\"bgcolor\": \"white\", \"lakecolor\": \"white\", \"landcolor\": \"#E5ECF6\", \"showlakes\": true, \"showland\": true, \"subunitcolor\": \"white\"}, \"hoverlabel\": {\"align\": \"left\"}, \"hovermode\": \"closest\", \"mapbox\": {\"style\": \"light\"}, \"paper_bgcolor\": \"white\", \"plot_bgcolor\": \"#E5ECF6\", \"polar\": {\"angularaxis\": {\"gridcolor\": \"white\", \"linecolor\": \"white\", \"ticks\": \"\"}, \"bgcolor\": \"#E5ECF6\", \"radialaxis\": {\"gridcolor\": \"white\", \"linecolor\": \"white\", \"ticks\": \"\"}}, \"scene\": {\"xaxis\": {\"backgroundcolor\": \"#E5ECF6\", \"gridcolor\": \"white\", \"gridwidth\": 2, \"linecolor\": \"white\", \"showbackground\": true, \"ticks\": \"\", \"zerolinecolor\": \"white\"}, \"yaxis\": {\"backgroundcolor\": \"#E5ECF6\", \"gridcolor\": \"white\", \"gridwidth\": 2, \"linecolor\": \"white\", \"showbackground\": true, \"ticks\": \"\", \"zerolinecolor\": \"white\"}, \"zaxis\": {\"backgroundcolor\": \"#E5ECF6\", \"gridcolor\": \"white\", \"gridwidth\": 2, \"linecolor\": \"white\", \"showbackground\": true, \"ticks\": \"\", \"zerolinecolor\": \"white\"}}, \"shapedefaults\": {\"line\": {\"color\": \"#2a3f5f\"}}, \"ternary\": {\"aaxis\": {\"gridcolor\": \"white\", \"linecolor\": \"white\", \"ticks\": \"\"}, \"baxis\": {\"gridcolor\": \"white\", \"linecolor\": \"white\", \"ticks\": \"\"}, \"bgcolor\": \"#E5ECF6\", \"caxis\": {\"gridcolor\": \"white\", \"linecolor\": \"white\", \"ticks\": \"\"}}, \"title\": {\"x\": 0.05}, \"xaxis\": {\"automargin\": true, \"gridcolor\": \"white\", \"linecolor\": \"white\", \"ticks\": \"\", \"title\": {\"standoff\": 15}, \"zerolinecolor\": \"white\", \"zerolinewidth\": 2}, \"yaxis\": {\"automargin\": true, \"gridcolor\": \"white\", \"linecolor\": \"white\", \"ticks\": \"\", \"title\": {\"standoff\": 15}, \"zerolinecolor\": \"white\", \"zerolinewidth\": 2}}}, \"updatemenus\": [{\"buttons\": [{\"args\": [{\"yaxis.type\": \"linear\"}], \"label\": \"LINEAR\", \"method\": \"relayout\"}], \"direction\": \"left\", \"type\": \"buttons\"}], \"xaxis\": {\"anchor\": \"y\", \"domain\": [0.0, 1.0], \"title\": {\"text\": \"date\"}}, \"yaxis\": {\"anchor\": \"x\", \"domain\": [0.0, 1.0], \"title\": {\"text\": \"value\"}}},                        {\"responsive\": true}                    ).then(function(){\n",
       "                            \n",
       "var gd = document.getElementById('f46ff98a-6d51-4e15-b0c7-c5e86fce4e01');\n",
       "var x = new MutationObserver(function (mutations, observer) {{\n",
       "        var display = window.getComputedStyle(gd).display;\n",
       "        if (!display || display === 'none') {{\n",
       "            console.log([gd, 'removed!']);\n",
       "            Plotly.purge(gd);\n",
       "            observer.disconnect();\n",
       "        }}\n",
       "}});\n",
       "\n",
       "// Listen for the removal of the full notebook cells\n",
       "var notebookContainer = gd.closest('#notebook-container');\n",
       "if (notebookContainer) {{\n",
       "    x.observe(notebookContainer, {childList: true});\n",
       "}}\n",
       "\n",
       "// Listen for the clearing of the current output cell\n",
       "var outputEl = gd.closest('.output');\n",
       "if (outputEl) {{\n",
       "    x.observe(outputEl, {childList: true});\n",
       "}}\n",
       "\n",
       "                        })                };                });            </script>        </div>"
      ]
     },
     "metadata": {},
     "output_type": "display_data"
    }
   ],
   "source": [
    "fig = px.line(df_clean, x= df_clean.index, y=['GDP_pc_g', 'GDP_pc_i', 'GDP_pc_j'])#, color=\"Country\")\n",
    "fig.update_layout(\n",
    "    hovermode='x unified',\n",
    "    updatemenus=[\n",
    "        dict(\n",
    "            type = \"buttons\",\n",
    "            direction = \"left\",\n",
    "            buttons=list([\n",
    "                dict(\n",
    "                    args=[{\"yaxis.type\": \"linear\"}],\n",
    "                    label=\"LINEAR\",\n",
    "                    method=\"relayout\"\n",
    "                )\n",
    "            ]),\n",
    "        ),\n",
    "    ]\n",
    ")\n",
    "fig.show()"
   ]
  },
  {
   "cell_type": "code",
   "execution_count": 39,
   "metadata": {},
   "outputs": [
    {
     "data": {
      "application/vnd.plotly.v1+json": {
       "config": {
        "plotlyServerURL": "https://plot.ly"
       },
       "data": [
        {
         "hovertemplate": "variable=CO2_pc_g<br>date=%{x}<br>value=%{y}<extra></extra>",
         "legendgroup": "CO2_pc_g",
         "line": {
          "color": "#636efa",
          "dash": "solid"
         },
         "mode": "lines",
         "name": "CO2_pc_g",
         "orientation": "v",
         "showlegend": true,
         "type": "scatter",
         "x": [
          "1991-01-01T00:00:00",
          "1992-01-01T00:00:00",
          "1993-01-01T00:00:00",
          "1994-01-01T00:00:00",
          "1995-01-01T00:00:00",
          "1996-01-01T00:00:00",
          "1997-01-01T00:00:00",
          "1998-01-01T00:00:00",
          "1999-01-01T00:00:00",
          "2000-01-01T00:00:00",
          "2001-01-01T00:00:00",
          "2002-01-01T00:00:00",
          "2003-01-01T00:00:00",
          "2004-01-01T00:00:00",
          "2005-01-01T00:00:00",
          "2006-01-01T00:00:00",
          "2007-01-01T00:00:00",
          "2008-01-01T00:00:00",
          "2009-01-01T00:00:00",
          "2010-01-01T00:00:00",
          "2011-01-01T00:00:00",
          "2012-01-01T00:00:00",
          "2013-01-01T00:00:00",
          "2014-01-01T00:00:00",
          "2015-01-01T00:00:00",
          "2016-01-01T00:00:00"
         ],
         "xaxis": "x",
         "y": [
          11.622646171360001,
          11.0633202537022,
          10.814248933259899,
          10.6283919217025,
          10.579466630515,
          10.8602336004331,
          10.5111125988271,
          10.4252731613799,
          10.0177587659515,
          10.0956398829225,
          10.3662866966788,
          10.058672497298,
          9.97166488946349,
          9.888594550940631,
          9.67339769884649,
          9.91450304165204,
          9.49655365864439,
          9.49086897315442,
          8.797641866180891,
          9.26766133186952,
          9.09137541642332,
          9.17791579204605,
          9.39867170690827,
          8.895302256660392,
          8.90041929882487,
          8.84012879430996
         ],
         "yaxis": "y"
        },
        {
         "hovertemplate": "variable=CO2_pc_i<br>date=%{x}<br>value=%{y}<extra></extra>",
         "legendgroup": "CO2_pc_i",
         "line": {
          "color": "#EF553B",
          "dash": "solid"
         },
         "mode": "lines",
         "name": "CO2_pc_i",
         "orientation": "v",
         "showlegend": true,
         "type": "scatter",
         "x": [
          "1991-01-01T00:00:00",
          "1992-01-01T00:00:00",
          "1993-01-01T00:00:00",
          "1994-01-01T00:00:00",
          "1995-01-01T00:00:00",
          "1996-01-01T00:00:00",
          "1997-01-01T00:00:00",
          "1998-01-01T00:00:00",
          "1999-01-01T00:00:00",
          "2000-01-01T00:00:00",
          "2001-01-01T00:00:00",
          "2002-01-01T00:00:00",
          "2003-01-01T00:00:00",
          "2004-01-01T00:00:00",
          "2005-01-01T00:00:00",
          "2006-01-01T00:00:00",
          "2007-01-01T00:00:00",
          "2008-01-01T00:00:00",
          "2009-01-01T00:00:00",
          "2010-01-01T00:00:00",
          "2011-01-01T00:00:00",
          "2012-01-01T00:00:00",
          "2013-01-01T00:00:00",
          "2014-01-01T00:00:00",
          "2015-01-01T00:00:00",
          "2016-01-01T00:00:00"
         ],
         "xaxis": "x",
         "y": [
          3.9425360521814596,
          3.8868208553297596,
          3.97186223895734,
          4.377417977642541,
          4.442225096229549,
          4.431486451864769,
          4.26527097433249,
          4.82256562090855,
          5.900224734602371,
          5.672323312086589,
          5.996135584174549,
          5.971039683318651,
          6.1423907318853495,
          6.48336955480204,
          6.7200665568204005,
          7.21905887001812,
          7.27992526964642,
          7.50940600830243,
          7.600675898665361,
          7.76859435887758,
          7.89249315026058,
          8.09853138201391,
          8.10027776098732,
          8.42168671619315,
          8.282075184144059,
          8.31670123338168
         ],
         "yaxis": "y"
        },
        {
         "hovertemplate": "variable=CO2_pc_j<br>date=%{x}<br>value=%{y}<extra></extra>",
         "legendgroup": "CO2_pc_j",
         "line": {
          "color": "#00cc96",
          "dash": "solid"
         },
         "mode": "lines",
         "name": "CO2_pc_j",
         "orientation": "v",
         "showlegend": true,
         "type": "scatter",
         "x": [
          "1991-01-01T00:00:00",
          "1992-01-01T00:00:00",
          "1993-01-01T00:00:00",
          "1994-01-01T00:00:00",
          "1995-01-01T00:00:00",
          "1996-01-01T00:00:00",
          "1997-01-01T00:00:00",
          "1998-01-01T00:00:00",
          "1999-01-01T00:00:00",
          "2000-01-01T00:00:00",
          "2001-01-01T00:00:00",
          "2002-01-01T00:00:00",
          "2003-01-01T00:00:00",
          "2004-01-01T00:00:00",
          "2005-01-01T00:00:00",
          "2006-01-01T00:00:00",
          "2007-01-01T00:00:00",
          "2008-01-01T00:00:00",
          "2009-01-01T00:00:00",
          "2010-01-01T00:00:00",
          "2011-01-01T00:00:00",
          "2012-01-01T00:00:00",
          "2013-01-01T00:00:00",
          "2014-01-01T00:00:00",
          "2015-01-01T00:00:00",
          "2016-01-01T00:00:00"
         ],
         "xaxis": "x",
         "y": [
          8.86402505628586,
          9.03967200895121,
          8.89483651313676,
          9.39297350373317,
          9.43508730936949,
          9.58239467385513,
          9.530441570083369,
          9.16863143196202,
          9.457269768066269,
          9.612522307104062,
          9.44821588844584,
          9.56475713445015,
          9.71635272240405,
          9.880903295998,
          9.71211291117842,
          9.657546162028561,
          9.777692627401349,
          9.46219035162381,
          8.63209972900576,
          9.156018255641449,
          9.31269349854889,
          9.63434726433648,
          9.765910549648869,
          9.48076637386467,
          9.153641421728631,
          8.944372824113632
         ],
         "yaxis": "y"
        }
       ],
       "layout": {
        "hovermode": "x unified",
        "legend": {
         "title": {
          "text": "variable"
         },
         "tracegroupgap": 0
        },
        "margin": {
         "t": 60
        },
        "template": {
         "data": {
          "bar": [
           {
            "error_x": {
             "color": "#2a3f5f"
            },
            "error_y": {
             "color": "#2a3f5f"
            },
            "marker": {
             "line": {
              "color": "#E5ECF6",
              "width": 0.5
             }
            },
            "type": "bar"
           }
          ],
          "barpolar": [
           {
            "marker": {
             "line": {
              "color": "#E5ECF6",
              "width": 0.5
             }
            },
            "type": "barpolar"
           }
          ],
          "carpet": [
           {
            "aaxis": {
             "endlinecolor": "#2a3f5f",
             "gridcolor": "white",
             "linecolor": "white",
             "minorgridcolor": "white",
             "startlinecolor": "#2a3f5f"
            },
            "baxis": {
             "endlinecolor": "#2a3f5f",
             "gridcolor": "white",
             "linecolor": "white",
             "minorgridcolor": "white",
             "startlinecolor": "#2a3f5f"
            },
            "type": "carpet"
           }
          ],
          "choropleth": [
           {
            "colorbar": {
             "outlinewidth": 0,
             "ticks": ""
            },
            "type": "choropleth"
           }
          ],
          "contour": [
           {
            "colorbar": {
             "outlinewidth": 0,
             "ticks": ""
            },
            "colorscale": [
             [
              0,
              "#0d0887"
             ],
             [
              0.1111111111111111,
              "#46039f"
             ],
             [
              0.2222222222222222,
              "#7201a8"
             ],
             [
              0.3333333333333333,
              "#9c179e"
             ],
             [
              0.4444444444444444,
              "#bd3786"
             ],
             [
              0.5555555555555556,
              "#d8576b"
             ],
             [
              0.6666666666666666,
              "#ed7953"
             ],
             [
              0.7777777777777778,
              "#fb9f3a"
             ],
             [
              0.8888888888888888,
              "#fdca26"
             ],
             [
              1,
              "#f0f921"
             ]
            ],
            "type": "contour"
           }
          ],
          "contourcarpet": [
           {
            "colorbar": {
             "outlinewidth": 0,
             "ticks": ""
            },
            "type": "contourcarpet"
           }
          ],
          "heatmap": [
           {
            "colorbar": {
             "outlinewidth": 0,
             "ticks": ""
            },
            "colorscale": [
             [
              0,
              "#0d0887"
             ],
             [
              0.1111111111111111,
              "#46039f"
             ],
             [
              0.2222222222222222,
              "#7201a8"
             ],
             [
              0.3333333333333333,
              "#9c179e"
             ],
             [
              0.4444444444444444,
              "#bd3786"
             ],
             [
              0.5555555555555556,
              "#d8576b"
             ],
             [
              0.6666666666666666,
              "#ed7953"
             ],
             [
              0.7777777777777778,
              "#fb9f3a"
             ],
             [
              0.8888888888888888,
              "#fdca26"
             ],
             [
              1,
              "#f0f921"
             ]
            ],
            "type": "heatmap"
           }
          ],
          "heatmapgl": [
           {
            "colorbar": {
             "outlinewidth": 0,
             "ticks": ""
            },
            "colorscale": [
             [
              0,
              "#0d0887"
             ],
             [
              0.1111111111111111,
              "#46039f"
             ],
             [
              0.2222222222222222,
              "#7201a8"
             ],
             [
              0.3333333333333333,
              "#9c179e"
             ],
             [
              0.4444444444444444,
              "#bd3786"
             ],
             [
              0.5555555555555556,
              "#d8576b"
             ],
             [
              0.6666666666666666,
              "#ed7953"
             ],
             [
              0.7777777777777778,
              "#fb9f3a"
             ],
             [
              0.8888888888888888,
              "#fdca26"
             ],
             [
              1,
              "#f0f921"
             ]
            ],
            "type": "heatmapgl"
           }
          ],
          "histogram": [
           {
            "marker": {
             "colorbar": {
              "outlinewidth": 0,
              "ticks": ""
             }
            },
            "type": "histogram"
           }
          ],
          "histogram2d": [
           {
            "colorbar": {
             "outlinewidth": 0,
             "ticks": ""
            },
            "colorscale": [
             [
              0,
              "#0d0887"
             ],
             [
              0.1111111111111111,
              "#46039f"
             ],
             [
              0.2222222222222222,
              "#7201a8"
             ],
             [
              0.3333333333333333,
              "#9c179e"
             ],
             [
              0.4444444444444444,
              "#bd3786"
             ],
             [
              0.5555555555555556,
              "#d8576b"
             ],
             [
              0.6666666666666666,
              "#ed7953"
             ],
             [
              0.7777777777777778,
              "#fb9f3a"
             ],
             [
              0.8888888888888888,
              "#fdca26"
             ],
             [
              1,
              "#f0f921"
             ]
            ],
            "type": "histogram2d"
           }
          ],
          "histogram2dcontour": [
           {
            "colorbar": {
             "outlinewidth": 0,
             "ticks": ""
            },
            "colorscale": [
             [
              0,
              "#0d0887"
             ],
             [
              0.1111111111111111,
              "#46039f"
             ],
             [
              0.2222222222222222,
              "#7201a8"
             ],
             [
              0.3333333333333333,
              "#9c179e"
             ],
             [
              0.4444444444444444,
              "#bd3786"
             ],
             [
              0.5555555555555556,
              "#d8576b"
             ],
             [
              0.6666666666666666,
              "#ed7953"
             ],
             [
              0.7777777777777778,
              "#fb9f3a"
             ],
             [
              0.8888888888888888,
              "#fdca26"
             ],
             [
              1,
              "#f0f921"
             ]
            ],
            "type": "histogram2dcontour"
           }
          ],
          "mesh3d": [
           {
            "colorbar": {
             "outlinewidth": 0,
             "ticks": ""
            },
            "type": "mesh3d"
           }
          ],
          "parcoords": [
           {
            "line": {
             "colorbar": {
              "outlinewidth": 0,
              "ticks": ""
             }
            },
            "type": "parcoords"
           }
          ],
          "pie": [
           {
            "automargin": true,
            "type": "pie"
           }
          ],
          "scatter": [
           {
            "marker": {
             "colorbar": {
              "outlinewidth": 0,
              "ticks": ""
             }
            },
            "type": "scatter"
           }
          ],
          "scatter3d": [
           {
            "line": {
             "colorbar": {
              "outlinewidth": 0,
              "ticks": ""
             }
            },
            "marker": {
             "colorbar": {
              "outlinewidth": 0,
              "ticks": ""
             }
            },
            "type": "scatter3d"
           }
          ],
          "scattercarpet": [
           {
            "marker": {
             "colorbar": {
              "outlinewidth": 0,
              "ticks": ""
             }
            },
            "type": "scattercarpet"
           }
          ],
          "scattergeo": [
           {
            "marker": {
             "colorbar": {
              "outlinewidth": 0,
              "ticks": ""
             }
            },
            "type": "scattergeo"
           }
          ],
          "scattergl": [
           {
            "marker": {
             "colorbar": {
              "outlinewidth": 0,
              "ticks": ""
             }
            },
            "type": "scattergl"
           }
          ],
          "scattermapbox": [
           {
            "marker": {
             "colorbar": {
              "outlinewidth": 0,
              "ticks": ""
             }
            },
            "type": "scattermapbox"
           }
          ],
          "scatterpolar": [
           {
            "marker": {
             "colorbar": {
              "outlinewidth": 0,
              "ticks": ""
             }
            },
            "type": "scatterpolar"
           }
          ],
          "scatterpolargl": [
           {
            "marker": {
             "colorbar": {
              "outlinewidth": 0,
              "ticks": ""
             }
            },
            "type": "scatterpolargl"
           }
          ],
          "scatterternary": [
           {
            "marker": {
             "colorbar": {
              "outlinewidth": 0,
              "ticks": ""
             }
            },
            "type": "scatterternary"
           }
          ],
          "surface": [
           {
            "colorbar": {
             "outlinewidth": 0,
             "ticks": ""
            },
            "colorscale": [
             [
              0,
              "#0d0887"
             ],
             [
              0.1111111111111111,
              "#46039f"
             ],
             [
              0.2222222222222222,
              "#7201a8"
             ],
             [
              0.3333333333333333,
              "#9c179e"
             ],
             [
              0.4444444444444444,
              "#bd3786"
             ],
             [
              0.5555555555555556,
              "#d8576b"
             ],
             [
              0.6666666666666666,
              "#ed7953"
             ],
             [
              0.7777777777777778,
              "#fb9f3a"
             ],
             [
              0.8888888888888888,
              "#fdca26"
             ],
             [
              1,
              "#f0f921"
             ]
            ],
            "type": "surface"
           }
          ],
          "table": [
           {
            "cells": {
             "fill": {
              "color": "#EBF0F8"
             },
             "line": {
              "color": "white"
             }
            },
            "header": {
             "fill": {
              "color": "#C8D4E3"
             },
             "line": {
              "color": "white"
             }
            },
            "type": "table"
           }
          ]
         },
         "layout": {
          "annotationdefaults": {
           "arrowcolor": "#2a3f5f",
           "arrowhead": 0,
           "arrowwidth": 1
          },
          "autotypenumbers": "strict",
          "coloraxis": {
           "colorbar": {
            "outlinewidth": 0,
            "ticks": ""
           }
          },
          "colorscale": {
           "diverging": [
            [
             0,
             "#8e0152"
            ],
            [
             0.1,
             "#c51b7d"
            ],
            [
             0.2,
             "#de77ae"
            ],
            [
             0.3,
             "#f1b6da"
            ],
            [
             0.4,
             "#fde0ef"
            ],
            [
             0.5,
             "#f7f7f7"
            ],
            [
             0.6,
             "#e6f5d0"
            ],
            [
             0.7,
             "#b8e186"
            ],
            [
             0.8,
             "#7fbc41"
            ],
            [
             0.9,
             "#4d9221"
            ],
            [
             1,
             "#276419"
            ]
           ],
           "sequential": [
            [
             0,
             "#0d0887"
            ],
            [
             0.1111111111111111,
             "#46039f"
            ],
            [
             0.2222222222222222,
             "#7201a8"
            ],
            [
             0.3333333333333333,
             "#9c179e"
            ],
            [
             0.4444444444444444,
             "#bd3786"
            ],
            [
             0.5555555555555556,
             "#d8576b"
            ],
            [
             0.6666666666666666,
             "#ed7953"
            ],
            [
             0.7777777777777778,
             "#fb9f3a"
            ],
            [
             0.8888888888888888,
             "#fdca26"
            ],
            [
             1,
             "#f0f921"
            ]
           ],
           "sequentialminus": [
            [
             0,
             "#0d0887"
            ],
            [
             0.1111111111111111,
             "#46039f"
            ],
            [
             0.2222222222222222,
             "#7201a8"
            ],
            [
             0.3333333333333333,
             "#9c179e"
            ],
            [
             0.4444444444444444,
             "#bd3786"
            ],
            [
             0.5555555555555556,
             "#d8576b"
            ],
            [
             0.6666666666666666,
             "#ed7953"
            ],
            [
             0.7777777777777778,
             "#fb9f3a"
            ],
            [
             0.8888888888888888,
             "#fdca26"
            ],
            [
             1,
             "#f0f921"
            ]
           ]
          },
          "colorway": [
           "#636efa",
           "#EF553B",
           "#00cc96",
           "#ab63fa",
           "#FFA15A",
           "#19d3f3",
           "#FF6692",
           "#B6E880",
           "#FF97FF",
           "#FECB52"
          ],
          "font": {
           "color": "#2a3f5f"
          },
          "geo": {
           "bgcolor": "white",
           "lakecolor": "white",
           "landcolor": "#E5ECF6",
           "showlakes": true,
           "showland": true,
           "subunitcolor": "white"
          },
          "hoverlabel": {
           "align": "left"
          },
          "hovermode": "closest",
          "mapbox": {
           "style": "light"
          },
          "paper_bgcolor": "white",
          "plot_bgcolor": "#E5ECF6",
          "polar": {
           "angularaxis": {
            "gridcolor": "white",
            "linecolor": "white",
            "ticks": ""
           },
           "bgcolor": "#E5ECF6",
           "radialaxis": {
            "gridcolor": "white",
            "linecolor": "white",
            "ticks": ""
           }
          },
          "scene": {
           "xaxis": {
            "backgroundcolor": "#E5ECF6",
            "gridcolor": "white",
            "gridwidth": 2,
            "linecolor": "white",
            "showbackground": true,
            "ticks": "",
            "zerolinecolor": "white"
           },
           "yaxis": {
            "backgroundcolor": "#E5ECF6",
            "gridcolor": "white",
            "gridwidth": 2,
            "linecolor": "white",
            "showbackground": true,
            "ticks": "",
            "zerolinecolor": "white"
           },
           "zaxis": {
            "backgroundcolor": "#E5ECF6",
            "gridcolor": "white",
            "gridwidth": 2,
            "linecolor": "white",
            "showbackground": true,
            "ticks": "",
            "zerolinecolor": "white"
           }
          },
          "shapedefaults": {
           "line": {
            "color": "#2a3f5f"
           }
          },
          "ternary": {
           "aaxis": {
            "gridcolor": "white",
            "linecolor": "white",
            "ticks": ""
           },
           "baxis": {
            "gridcolor": "white",
            "linecolor": "white",
            "ticks": ""
           },
           "bgcolor": "#E5ECF6",
           "caxis": {
            "gridcolor": "white",
            "linecolor": "white",
            "ticks": ""
           }
          },
          "title": {
           "x": 0.05
          },
          "xaxis": {
           "automargin": true,
           "gridcolor": "white",
           "linecolor": "white",
           "ticks": "",
           "title": {
            "standoff": 15
           },
           "zerolinecolor": "white",
           "zerolinewidth": 2
          },
          "yaxis": {
           "automargin": true,
           "gridcolor": "white",
           "linecolor": "white",
           "ticks": "",
           "title": {
            "standoff": 15
           },
           "zerolinecolor": "white",
           "zerolinewidth": 2
          }
         }
        },
        "updatemenus": [
         {
          "buttons": [
           {
            "args": [
             {
              "yaxis.type": "linear"
             }
            ],
            "label": "LINEAR",
            "method": "relayout"
           }
          ],
          "direction": "left",
          "type": "buttons"
         }
        ],
        "xaxis": {
         "anchor": "y",
         "domain": [
          0,
          1
         ],
         "title": {
          "text": "date"
         }
        },
        "yaxis": {
         "anchor": "x",
         "domain": [
          0,
          1
         ],
         "title": {
          "text": "value"
         }
        }
       }
      },
      "text/html": [
       "<div>                            <div id=\"b3d253c3-b669-4746-94ed-a5e11ef15a2e\" class=\"plotly-graph-div\" style=\"height:525px; width:100%;\"></div>            <script type=\"text/javascript\">                require([\"plotly\"], function(Plotly) {                    window.PLOTLYENV=window.PLOTLYENV || {};                                    if (document.getElementById(\"b3d253c3-b669-4746-94ed-a5e11ef15a2e\")) {                    Plotly.newPlot(                        \"b3d253c3-b669-4746-94ed-a5e11ef15a2e\",                        [{\"hovertemplate\": \"variable=CO2_pc_g<br>date=%{x}<br>value=%{y}<extra></extra>\", \"legendgroup\": \"CO2_pc_g\", \"line\": {\"color\": \"#636efa\", \"dash\": \"solid\"}, \"mode\": \"lines\", \"name\": \"CO2_pc_g\", \"orientation\": \"v\", \"showlegend\": true, \"type\": \"scatter\", \"x\": [\"1991-01-01T00:00:00\", \"1992-01-01T00:00:00\", \"1993-01-01T00:00:00\", \"1994-01-01T00:00:00\", \"1995-01-01T00:00:00\", \"1996-01-01T00:00:00\", \"1997-01-01T00:00:00\", \"1998-01-01T00:00:00\", \"1999-01-01T00:00:00\", \"2000-01-01T00:00:00\", \"2001-01-01T00:00:00\", \"2002-01-01T00:00:00\", \"2003-01-01T00:00:00\", \"2004-01-01T00:00:00\", \"2005-01-01T00:00:00\", \"2006-01-01T00:00:00\", \"2007-01-01T00:00:00\", \"2008-01-01T00:00:00\", \"2009-01-01T00:00:00\", \"2010-01-01T00:00:00\", \"2011-01-01T00:00:00\", \"2012-01-01T00:00:00\", \"2013-01-01T00:00:00\", \"2014-01-01T00:00:00\", \"2015-01-01T00:00:00\", \"2016-01-01T00:00:00\"], \"xaxis\": \"x\", \"y\": [11.622646171360001, 11.0633202537022, 10.814248933259899, 10.6283919217025, 10.579466630515, 10.8602336004331, 10.5111125988271, 10.4252731613799, 10.0177587659515, 10.0956398829225, 10.3662866966788, 10.058672497298, 9.97166488946349, 9.888594550940631, 9.67339769884649, 9.91450304165204, 9.49655365864439, 9.49086897315442, 8.797641866180891, 9.26766133186952, 9.09137541642332, 9.17791579204605, 9.39867170690827, 8.895302256660392, 8.90041929882487, 8.84012879430996], \"yaxis\": \"y\"}, {\"hovertemplate\": \"variable=CO2_pc_i<br>date=%{x}<br>value=%{y}<extra></extra>\", \"legendgroup\": \"CO2_pc_i\", \"line\": {\"color\": \"#EF553B\", \"dash\": \"solid\"}, \"mode\": \"lines\", \"name\": \"CO2_pc_i\", \"orientation\": \"v\", \"showlegend\": true, \"type\": \"scatter\", \"x\": [\"1991-01-01T00:00:00\", \"1992-01-01T00:00:00\", \"1993-01-01T00:00:00\", \"1994-01-01T00:00:00\", \"1995-01-01T00:00:00\", \"1996-01-01T00:00:00\", \"1997-01-01T00:00:00\", \"1998-01-01T00:00:00\", \"1999-01-01T00:00:00\", \"2000-01-01T00:00:00\", \"2001-01-01T00:00:00\", \"2002-01-01T00:00:00\", \"2003-01-01T00:00:00\", \"2004-01-01T00:00:00\", \"2005-01-01T00:00:00\", \"2006-01-01T00:00:00\", \"2007-01-01T00:00:00\", \"2008-01-01T00:00:00\", \"2009-01-01T00:00:00\", \"2010-01-01T00:00:00\", \"2011-01-01T00:00:00\", \"2012-01-01T00:00:00\", \"2013-01-01T00:00:00\", \"2014-01-01T00:00:00\", \"2015-01-01T00:00:00\", \"2016-01-01T00:00:00\"], \"xaxis\": \"x\", \"y\": [3.9425360521814596, 3.8868208553297596, 3.97186223895734, 4.377417977642541, 4.442225096229549, 4.431486451864769, 4.26527097433249, 4.82256562090855, 5.900224734602371, 5.672323312086589, 5.996135584174549, 5.971039683318651, 6.1423907318853495, 6.48336955480204, 6.7200665568204005, 7.21905887001812, 7.27992526964642, 7.50940600830243, 7.600675898665361, 7.76859435887758, 7.89249315026058, 8.09853138201391, 8.10027776098732, 8.42168671619315, 8.282075184144059, 8.31670123338168], \"yaxis\": \"y\"}, {\"hovertemplate\": \"variable=CO2_pc_j<br>date=%{x}<br>value=%{y}<extra></extra>\", \"legendgroup\": \"CO2_pc_j\", \"line\": {\"color\": \"#00cc96\", \"dash\": \"solid\"}, \"mode\": \"lines\", \"name\": \"CO2_pc_j\", \"orientation\": \"v\", \"showlegend\": true, \"type\": \"scatter\", \"x\": [\"1991-01-01T00:00:00\", \"1992-01-01T00:00:00\", \"1993-01-01T00:00:00\", \"1994-01-01T00:00:00\", \"1995-01-01T00:00:00\", \"1996-01-01T00:00:00\", \"1997-01-01T00:00:00\", \"1998-01-01T00:00:00\", \"1999-01-01T00:00:00\", \"2000-01-01T00:00:00\", \"2001-01-01T00:00:00\", \"2002-01-01T00:00:00\", \"2003-01-01T00:00:00\", \"2004-01-01T00:00:00\", \"2005-01-01T00:00:00\", \"2006-01-01T00:00:00\", \"2007-01-01T00:00:00\", \"2008-01-01T00:00:00\", \"2009-01-01T00:00:00\", \"2010-01-01T00:00:00\", \"2011-01-01T00:00:00\", \"2012-01-01T00:00:00\", \"2013-01-01T00:00:00\", \"2014-01-01T00:00:00\", \"2015-01-01T00:00:00\", \"2016-01-01T00:00:00\"], \"xaxis\": \"x\", \"y\": [8.86402505628586, 9.03967200895121, 8.89483651313676, 9.39297350373317, 9.43508730936949, 9.58239467385513, 9.530441570083369, 9.16863143196202, 9.457269768066269, 9.612522307104062, 9.44821588844584, 9.56475713445015, 9.71635272240405, 9.880903295998, 9.71211291117842, 9.657546162028561, 9.777692627401349, 9.46219035162381, 8.63209972900576, 9.156018255641449, 9.31269349854889, 9.63434726433648, 9.765910549648869, 9.48076637386467, 9.153641421728631, 8.944372824113632], \"yaxis\": \"y\"}],                        {\"hovermode\": \"x unified\", \"legend\": {\"title\": {\"text\": \"variable\"}, \"tracegroupgap\": 0}, \"margin\": {\"t\": 60}, \"template\": {\"data\": {\"bar\": [{\"error_x\": {\"color\": \"#2a3f5f\"}, \"error_y\": {\"color\": \"#2a3f5f\"}, \"marker\": {\"line\": {\"color\": \"#E5ECF6\", \"width\": 0.5}}, \"type\": \"bar\"}], \"barpolar\": [{\"marker\": {\"line\": {\"color\": \"#E5ECF6\", \"width\": 0.5}}, \"type\": \"barpolar\"}], \"carpet\": [{\"aaxis\": {\"endlinecolor\": \"#2a3f5f\", \"gridcolor\": \"white\", \"linecolor\": \"white\", \"minorgridcolor\": \"white\", \"startlinecolor\": \"#2a3f5f\"}, \"baxis\": {\"endlinecolor\": \"#2a3f5f\", \"gridcolor\": \"white\", \"linecolor\": \"white\", \"minorgridcolor\": \"white\", \"startlinecolor\": \"#2a3f5f\"}, \"type\": \"carpet\"}], \"choropleth\": [{\"colorbar\": {\"outlinewidth\": 0, \"ticks\": \"\"}, \"type\": \"choropleth\"}], \"contour\": [{\"colorbar\": {\"outlinewidth\": 0, \"ticks\": \"\"}, \"colorscale\": [[0.0, \"#0d0887\"], [0.1111111111111111, \"#46039f\"], [0.2222222222222222, \"#7201a8\"], [0.3333333333333333, \"#9c179e\"], [0.4444444444444444, \"#bd3786\"], [0.5555555555555556, \"#d8576b\"], [0.6666666666666666, \"#ed7953\"], [0.7777777777777778, \"#fb9f3a\"], [0.8888888888888888, \"#fdca26\"], [1.0, \"#f0f921\"]], \"type\": \"contour\"}], \"contourcarpet\": [{\"colorbar\": {\"outlinewidth\": 0, \"ticks\": \"\"}, \"type\": \"contourcarpet\"}], \"heatmap\": [{\"colorbar\": {\"outlinewidth\": 0, \"ticks\": \"\"}, \"colorscale\": [[0.0, \"#0d0887\"], [0.1111111111111111, \"#46039f\"], [0.2222222222222222, \"#7201a8\"], [0.3333333333333333, \"#9c179e\"], [0.4444444444444444, \"#bd3786\"], [0.5555555555555556, \"#d8576b\"], [0.6666666666666666, \"#ed7953\"], [0.7777777777777778, \"#fb9f3a\"], [0.8888888888888888, \"#fdca26\"], [1.0, \"#f0f921\"]], \"type\": \"heatmap\"}], \"heatmapgl\": [{\"colorbar\": {\"outlinewidth\": 0, \"ticks\": \"\"}, \"colorscale\": [[0.0, \"#0d0887\"], [0.1111111111111111, \"#46039f\"], [0.2222222222222222, \"#7201a8\"], [0.3333333333333333, \"#9c179e\"], [0.4444444444444444, \"#bd3786\"], [0.5555555555555556, \"#d8576b\"], [0.6666666666666666, \"#ed7953\"], [0.7777777777777778, \"#fb9f3a\"], [0.8888888888888888, \"#fdca26\"], [1.0, \"#f0f921\"]], \"type\": \"heatmapgl\"}], \"histogram\": [{\"marker\": {\"colorbar\": {\"outlinewidth\": 0, \"ticks\": \"\"}}, \"type\": \"histogram\"}], \"histogram2d\": [{\"colorbar\": {\"outlinewidth\": 0, \"ticks\": \"\"}, \"colorscale\": [[0.0, \"#0d0887\"], [0.1111111111111111, \"#46039f\"], [0.2222222222222222, \"#7201a8\"], [0.3333333333333333, \"#9c179e\"], [0.4444444444444444, \"#bd3786\"], [0.5555555555555556, \"#d8576b\"], [0.6666666666666666, \"#ed7953\"], [0.7777777777777778, \"#fb9f3a\"], [0.8888888888888888, \"#fdca26\"], [1.0, \"#f0f921\"]], \"type\": \"histogram2d\"}], \"histogram2dcontour\": [{\"colorbar\": {\"outlinewidth\": 0, \"ticks\": \"\"}, \"colorscale\": [[0.0, \"#0d0887\"], [0.1111111111111111, \"#46039f\"], [0.2222222222222222, \"#7201a8\"], [0.3333333333333333, \"#9c179e\"], [0.4444444444444444, \"#bd3786\"], [0.5555555555555556, \"#d8576b\"], [0.6666666666666666, \"#ed7953\"], [0.7777777777777778, \"#fb9f3a\"], [0.8888888888888888, \"#fdca26\"], [1.0, \"#f0f921\"]], \"type\": \"histogram2dcontour\"}], \"mesh3d\": [{\"colorbar\": {\"outlinewidth\": 0, \"ticks\": \"\"}, \"type\": \"mesh3d\"}], \"parcoords\": [{\"line\": {\"colorbar\": {\"outlinewidth\": 0, \"ticks\": \"\"}}, \"type\": \"parcoords\"}], \"pie\": [{\"automargin\": true, \"type\": \"pie\"}], \"scatter\": [{\"marker\": {\"colorbar\": {\"outlinewidth\": 0, \"ticks\": \"\"}}, \"type\": \"scatter\"}], \"scatter3d\": [{\"line\": {\"colorbar\": {\"outlinewidth\": 0, \"ticks\": \"\"}}, \"marker\": {\"colorbar\": {\"outlinewidth\": 0, \"ticks\": \"\"}}, \"type\": \"scatter3d\"}], \"scattercarpet\": [{\"marker\": {\"colorbar\": {\"outlinewidth\": 0, \"ticks\": \"\"}}, \"type\": \"scattercarpet\"}], \"scattergeo\": [{\"marker\": {\"colorbar\": {\"outlinewidth\": 0, \"ticks\": \"\"}}, \"type\": \"scattergeo\"}], \"scattergl\": [{\"marker\": {\"colorbar\": {\"outlinewidth\": 0, \"ticks\": \"\"}}, \"type\": \"scattergl\"}], \"scattermapbox\": [{\"marker\": {\"colorbar\": {\"outlinewidth\": 0, \"ticks\": \"\"}}, \"type\": \"scattermapbox\"}], \"scatterpolar\": [{\"marker\": {\"colorbar\": {\"outlinewidth\": 0, \"ticks\": \"\"}}, \"type\": \"scatterpolar\"}], \"scatterpolargl\": [{\"marker\": {\"colorbar\": {\"outlinewidth\": 0, \"ticks\": \"\"}}, \"type\": \"scatterpolargl\"}], \"scatterternary\": [{\"marker\": {\"colorbar\": {\"outlinewidth\": 0, \"ticks\": \"\"}}, \"type\": \"scatterternary\"}], \"surface\": [{\"colorbar\": {\"outlinewidth\": 0, \"ticks\": \"\"}, \"colorscale\": [[0.0, \"#0d0887\"], [0.1111111111111111, \"#46039f\"], [0.2222222222222222, \"#7201a8\"], [0.3333333333333333, \"#9c179e\"], [0.4444444444444444, \"#bd3786\"], [0.5555555555555556, \"#d8576b\"], [0.6666666666666666, \"#ed7953\"], [0.7777777777777778, \"#fb9f3a\"], [0.8888888888888888, \"#fdca26\"], [1.0, \"#f0f921\"]], \"type\": \"surface\"}], \"table\": [{\"cells\": {\"fill\": {\"color\": \"#EBF0F8\"}, \"line\": {\"color\": \"white\"}}, \"header\": {\"fill\": {\"color\": \"#C8D4E3\"}, \"line\": {\"color\": \"white\"}}, \"type\": \"table\"}]}, \"layout\": {\"annotationdefaults\": {\"arrowcolor\": \"#2a3f5f\", \"arrowhead\": 0, \"arrowwidth\": 1}, \"autotypenumbers\": \"strict\", \"coloraxis\": {\"colorbar\": {\"outlinewidth\": 0, \"ticks\": \"\"}}, \"colorscale\": {\"diverging\": [[0, \"#8e0152\"], [0.1, \"#c51b7d\"], [0.2, \"#de77ae\"], [0.3, \"#f1b6da\"], [0.4, \"#fde0ef\"], [0.5, \"#f7f7f7\"], [0.6, \"#e6f5d0\"], [0.7, \"#b8e186\"], [0.8, \"#7fbc41\"], [0.9, \"#4d9221\"], [1, \"#276419\"]], \"sequential\": [[0.0, \"#0d0887\"], [0.1111111111111111, \"#46039f\"], [0.2222222222222222, \"#7201a8\"], [0.3333333333333333, \"#9c179e\"], [0.4444444444444444, \"#bd3786\"], [0.5555555555555556, \"#d8576b\"], [0.6666666666666666, \"#ed7953\"], [0.7777777777777778, \"#fb9f3a\"], [0.8888888888888888, \"#fdca26\"], [1.0, \"#f0f921\"]], \"sequentialminus\": [[0.0, \"#0d0887\"], [0.1111111111111111, \"#46039f\"], [0.2222222222222222, \"#7201a8\"], [0.3333333333333333, \"#9c179e\"], [0.4444444444444444, \"#bd3786\"], [0.5555555555555556, \"#d8576b\"], [0.6666666666666666, \"#ed7953\"], [0.7777777777777778, \"#fb9f3a\"], [0.8888888888888888, \"#fdca26\"], [1.0, \"#f0f921\"]]}, \"colorway\": [\"#636efa\", \"#EF553B\", \"#00cc96\", \"#ab63fa\", \"#FFA15A\", \"#19d3f3\", \"#FF6692\", \"#B6E880\", \"#FF97FF\", \"#FECB52\"], \"font\": {\"color\": \"#2a3f5f\"}, \"geo\": {\"bgcolor\": \"white\", \"lakecolor\": \"white\", \"landcolor\": \"#E5ECF6\", \"showlakes\": true, \"showland\": true, \"subunitcolor\": \"white\"}, \"hoverlabel\": {\"align\": \"left\"}, \"hovermode\": \"closest\", \"mapbox\": {\"style\": \"light\"}, \"paper_bgcolor\": \"white\", \"plot_bgcolor\": \"#E5ECF6\", \"polar\": {\"angularaxis\": {\"gridcolor\": \"white\", \"linecolor\": \"white\", \"ticks\": \"\"}, \"bgcolor\": \"#E5ECF6\", \"radialaxis\": {\"gridcolor\": \"white\", \"linecolor\": \"white\", \"ticks\": \"\"}}, \"scene\": {\"xaxis\": {\"backgroundcolor\": \"#E5ECF6\", \"gridcolor\": \"white\", \"gridwidth\": 2, \"linecolor\": \"white\", \"showbackground\": true, \"ticks\": \"\", \"zerolinecolor\": \"white\"}, \"yaxis\": {\"backgroundcolor\": \"#E5ECF6\", \"gridcolor\": \"white\", \"gridwidth\": 2, \"linecolor\": \"white\", \"showbackground\": true, \"ticks\": \"\", \"zerolinecolor\": \"white\"}, \"zaxis\": {\"backgroundcolor\": \"#E5ECF6\", \"gridcolor\": \"white\", \"gridwidth\": 2, \"linecolor\": \"white\", \"showbackground\": true, \"ticks\": \"\", \"zerolinecolor\": \"white\"}}, \"shapedefaults\": {\"line\": {\"color\": \"#2a3f5f\"}}, \"ternary\": {\"aaxis\": {\"gridcolor\": \"white\", \"linecolor\": \"white\", \"ticks\": \"\"}, \"baxis\": {\"gridcolor\": \"white\", \"linecolor\": \"white\", \"ticks\": \"\"}, \"bgcolor\": \"#E5ECF6\", \"caxis\": {\"gridcolor\": \"white\", \"linecolor\": \"white\", \"ticks\": \"\"}}, \"title\": {\"x\": 0.05}, \"xaxis\": {\"automargin\": true, \"gridcolor\": \"white\", \"linecolor\": \"white\", \"ticks\": \"\", \"title\": {\"standoff\": 15}, \"zerolinecolor\": \"white\", \"zerolinewidth\": 2}, \"yaxis\": {\"automargin\": true, \"gridcolor\": \"white\", \"linecolor\": \"white\", \"ticks\": \"\", \"title\": {\"standoff\": 15}, \"zerolinecolor\": \"white\", \"zerolinewidth\": 2}}}, \"updatemenus\": [{\"buttons\": [{\"args\": [{\"yaxis.type\": \"linear\"}], \"label\": \"LINEAR\", \"method\": \"relayout\"}], \"direction\": \"left\", \"type\": \"buttons\"}], \"xaxis\": {\"anchor\": \"y\", \"domain\": [0.0, 1.0], \"title\": {\"text\": \"date\"}}, \"yaxis\": {\"anchor\": \"x\", \"domain\": [0.0, 1.0], \"title\": {\"text\": \"value\"}}},                        {\"responsive\": true}                    ).then(function(){\n",
       "                            \n",
       "var gd = document.getElementById('b3d253c3-b669-4746-94ed-a5e11ef15a2e');\n",
       "var x = new MutationObserver(function (mutations, observer) {{\n",
       "        var display = window.getComputedStyle(gd).display;\n",
       "        if (!display || display === 'none') {{\n",
       "            console.log([gd, 'removed!']);\n",
       "            Plotly.purge(gd);\n",
       "            observer.disconnect();\n",
       "        }}\n",
       "}});\n",
       "\n",
       "// Listen for the removal of the full notebook cells\n",
       "var notebookContainer = gd.closest('#notebook-container');\n",
       "if (notebookContainer) {{\n",
       "    x.observe(notebookContainer, {childList: true});\n",
       "}}\n",
       "\n",
       "// Listen for the clearing of the current output cell\n",
       "var outputEl = gd.closest('.output');\n",
       "if (outputEl) {{\n",
       "    x.observe(outputEl, {childList: true});\n",
       "}}\n",
       "\n",
       "                        })                };                });            </script>        </div>"
      ]
     },
     "metadata": {},
     "output_type": "display_data"
    }
   ],
   "source": [
    "fig = px.line(df_clean, x= df_clean.index, y=['CO2_pc_g', 'CO2_pc_i', 'CO2_pc_j'])#, color=\"Country\")\n",
    "\n",
    "fig.update_layout(\n",
    "    hovermode='x unified',\n",
    "    updatemenus=[\n",
    "        dict(\n",
    "            type = \"buttons\",\n",
    "            direction = \"left\",\n",
    "            buttons=list([\n",
    "                dict(\n",
    "                    args=[{\"yaxis.type\": \"linear\"}],\n",
    "                    label=\"LINEAR\",\n",
    "                    method=\"relayout\"),\n",
    "            ]),\n",
    "        ),\n",
    "    ]\n",
    ")\n",
    "fig.show()"
   ]
  }
 ],
 "metadata": {
  "kernelspec": {
   "display_name": "Python 3",
   "language": "python",
   "name": "python3"
  },
  "language_info": {
   "codemirror_mode": {
    "name": "ipython",
    "version": 3
   },
   "file_extension": ".py",
   "mimetype": "text/x-python",
   "name": "python",
   "nbconvert_exporter": "python",
   "pygments_lexer": "ipython3",
   "version": "3.8.3"
  }
 },
 "nbformat": 4,
 "nbformat_minor": 4
}
