{
 "cells": [
  {
   "cell_type": "markdown",
   "metadata": {},
   "source": [
    "## 100 largest companies-pollutors in the world (2018)\n",
    "\n",
    "### 70% of all CO2 pollutions worldwide\n",
    "\n",
    "### 50% for 21 companies - the biggest pollutors\n",
    "\n",
    "'''\n",
    "\n",
    "source: \n",
    "1) https://www.theguardian.com/sustainable-business/2017/jul/10/100-fossil-fuel-companies-investors-responsible-71-global-emissions-cdp-study-climate-change\n",
    "\n",
    "2) for the iso-country-code the csv file from Kaggle based on dataset in Wikipedia\n",
    "\n",
    "'''"
   ]
  },
  {
   "cell_type": "code",
   "execution_count": 1,
   "metadata": {},
   "outputs": [],
   "source": [
    "import pandas as pd\n",
    "import plotly.express as px"
   ]
  },
  {
   "cell_type": "code",
   "execution_count": 38,
   "metadata": {},
   "outputs": [],
   "source": [
    "df = pd.read_csv('../data/100_company.csv', sep = ';')"
   ]
  },
  {
   "cell_type": "code",
   "execution_count": 39,
   "metadata": {},
   "outputs": [],
   "source": [
    "df_iso = pd.read_csv('../data/wikipedia-iso-country-codes.csv', sep = ',')"
   ]
  },
  {
   "cell_type": "code",
   "execution_count": 40,
   "metadata": {},
   "outputs": [
    {
     "data": {
      "text/html": [
       "<div>\n",
       "<style scoped>\n",
       "    .dataframe tbody tr th:only-of-type {\n",
       "        vertical-align: middle;\n",
       "    }\n",
       "\n",
       "    .dataframe tbody tr th {\n",
       "        vertical-align: top;\n",
       "    }\n",
       "\n",
       "    .dataframe thead th {\n",
       "        text-align: right;\n",
       "    }\n",
       "</style>\n",
       "<table border=\"1\" class=\"dataframe\">\n",
       "  <thead>\n",
       "    <tr style=\"text-align: right;\">\n",
       "      <th></th>\n",
       "      <th>rank</th>\n",
       "      <th>company</th>\n",
       "      <th>percent</th>\n",
       "      <th>region</th>\n",
       "      <th>continent</th>\n",
       "      <th>Alpha-2 code</th>\n",
       "    </tr>\n",
       "  </thead>\n",
       "  <tbody>\n",
       "    <tr>\n",
       "      <th>0</th>\n",
       "      <td>1</td>\n",
       "      <td>China National Coal Group Company Limited</td>\n",
       "      <td>14.32%</td>\n",
       "      <td>Asia</td>\n",
       "      <td>AS</td>\n",
       "      <td>CN</td>\n",
       "    </tr>\n",
       "    <tr>\n",
       "      <th>1</th>\n",
       "      <td>2</td>\n",
       "      <td>Saudi Arabian Oil Company (Aramco)</td>\n",
       "      <td>4.50%</td>\n",
       "      <td>Asia</td>\n",
       "      <td>AS</td>\n",
       "      <td>SA</td>\n",
       "    </tr>\n",
       "    <tr>\n",
       "      <th>2</th>\n",
       "      <td>3</td>\n",
       "      <td>Gazprom OAO</td>\n",
       "      <td>3.91%</td>\n",
       "      <td>Asia</td>\n",
       "      <td>AS</td>\n",
       "      <td>RU</td>\n",
       "    </tr>\n",
       "  </tbody>\n",
       "</table>\n",
       "</div>"
      ],
      "text/plain": [
       "   rank                                    company percent region continent  \\\n",
       "0     1  China National Coal Group Company Limited  14.32%   Asia        AS   \n",
       "1     2         Saudi Arabian Oil Company (Aramco)   4.50%   Asia        AS   \n",
       "2     3                                Gazprom OAO   3.91%   Asia        AS   \n",
       "\n",
       "  Alpha-2 code  \n",
       "0           CN  \n",
       "1           SA  \n",
       "2           RU  "
      ]
     },
     "execution_count": 40,
     "metadata": {},
     "output_type": "execute_result"
    }
   ],
   "source": [
    "df.head(3)"
   ]
  },
  {
   "cell_type": "code",
   "execution_count": 41,
   "metadata": {},
   "outputs": [
    {
     "data": {
      "text/html": [
       "<div>\n",
       "<style scoped>\n",
       "    .dataframe tbody tr th:only-of-type {\n",
       "        vertical-align: middle;\n",
       "    }\n",
       "\n",
       "    .dataframe tbody tr th {\n",
       "        vertical-align: top;\n",
       "    }\n",
       "\n",
       "    .dataframe thead th {\n",
       "        text-align: right;\n",
       "    }\n",
       "</style>\n",
       "<table border=\"1\" class=\"dataframe\">\n",
       "  <thead>\n",
       "    <tr style=\"text-align: right;\">\n",
       "      <th></th>\n",
       "      <th>English short name lower case</th>\n",
       "      <th>Alpha-2 code</th>\n",
       "      <th>Alpha-3 code</th>\n",
       "      <th>Numeric code</th>\n",
       "      <th>ISO 3166-2</th>\n",
       "    </tr>\n",
       "  </thead>\n",
       "  <tbody>\n",
       "    <tr>\n",
       "      <th>0</th>\n",
       "      <td>Afghanistan</td>\n",
       "      <td>AF</td>\n",
       "      <td>AFG</td>\n",
       "      <td>4</td>\n",
       "      <td>ISO 3166-2:AF</td>\n",
       "    </tr>\n",
       "    <tr>\n",
       "      <th>1</th>\n",
       "      <td>Åland Islands</td>\n",
       "      <td>AX</td>\n",
       "      <td>ALA</td>\n",
       "      <td>248</td>\n",
       "      <td>ISO 3166-2:AX</td>\n",
       "    </tr>\n",
       "    <tr>\n",
       "      <th>2</th>\n",
       "      <td>Albania</td>\n",
       "      <td>AL</td>\n",
       "      <td>ALB</td>\n",
       "      <td>8</td>\n",
       "      <td>ISO 3166-2:AL</td>\n",
       "    </tr>\n",
       "  </tbody>\n",
       "</table>\n",
       "</div>"
      ],
      "text/plain": [
       "  English short name lower case Alpha-2 code Alpha-3 code  Numeric code  \\\n",
       "0                   Afghanistan           AF          AFG             4   \n",
       "1                 Åland Islands           AX          ALA           248   \n",
       "2                       Albania           AL          ALB             8   \n",
       "\n",
       "      ISO 3166-2  \n",
       "0  ISO 3166-2:AF  \n",
       "1  ISO 3166-2:AX  \n",
       "2  ISO 3166-2:AL  "
      ]
     },
     "execution_count": 41,
     "metadata": {},
     "output_type": "execute_result"
    }
   ],
   "source": [
    "df_iso.head(3)"
   ]
  },
  {
   "cell_type": "code",
   "execution_count": 42,
   "metadata": {},
   "outputs": [],
   "source": [
    "#df = df.set_index('rank')"
   ]
  },
  {
   "cell_type": "code",
   "execution_count": 43,
   "metadata": {},
   "outputs": [],
   "source": [
    "df_new = pd.merge(df, df_iso, on=['Alpha-2 code'])"
   ]
  },
  {
   "cell_type": "code",
   "execution_count": 44,
   "metadata": {},
   "outputs": [
    {
     "data": {
      "text/html": [
       "<div>\n",
       "<style scoped>\n",
       "    .dataframe tbody tr th:only-of-type {\n",
       "        vertical-align: middle;\n",
       "    }\n",
       "\n",
       "    .dataframe tbody tr th {\n",
       "        vertical-align: top;\n",
       "    }\n",
       "\n",
       "    .dataframe thead th {\n",
       "        text-align: right;\n",
       "    }\n",
       "</style>\n",
       "<table border=\"1\" class=\"dataframe\">\n",
       "  <thead>\n",
       "    <tr style=\"text-align: right;\">\n",
       "      <th></th>\n",
       "      <th>rank</th>\n",
       "      <th>company</th>\n",
       "      <th>percent</th>\n",
       "      <th>region</th>\n",
       "      <th>continent</th>\n",
       "      <th>Alpha-2 code</th>\n",
       "      <th>English short name lower case</th>\n",
       "      <th>Alpha-3 code</th>\n",
       "      <th>Numeric code</th>\n",
       "      <th>ISO 3166-2</th>\n",
       "    </tr>\n",
       "  </thead>\n",
       "  <tbody>\n",
       "    <tr>\n",
       "      <th>0</th>\n",
       "      <td>1</td>\n",
       "      <td>China National Coal Group Company Limited</td>\n",
       "      <td>14.32%</td>\n",
       "      <td>Asia</td>\n",
       "      <td>AS</td>\n",
       "      <td>CN</td>\n",
       "      <td>China</td>\n",
       "      <td>CHN</td>\n",
       "      <td>156</td>\n",
       "      <td>ISO 3166-2:CN</td>\n",
       "    </tr>\n",
       "    <tr>\n",
       "      <th>1</th>\n",
       "      <td>10</td>\n",
       "      <td>China National Petroleum Corp (CNPC)</td>\n",
       "      <td>1.56%</td>\n",
       "      <td>Asia</td>\n",
       "      <td>AS</td>\n",
       "      <td>CN</td>\n",
       "      <td>China</td>\n",
       "      <td>CHN</td>\n",
       "      <td>156</td>\n",
       "      <td>ISO 3166-2:CN</td>\n",
       "    </tr>\n",
       "    <tr>\n",
       "      <th>2</th>\n",
       "      <td>51</td>\n",
       "      <td>China Petrochemical Corp (Sinopec)</td>\n",
       "      <td>0.29%</td>\n",
       "      <td>Asia</td>\n",
       "      <td>AS</td>\n",
       "      <td>CN</td>\n",
       "      <td>China</td>\n",
       "      <td>CHN</td>\n",
       "      <td>156</td>\n",
       "      <td>ISO 3166-2:CN</td>\n",
       "    </tr>\n",
       "    <tr>\n",
       "      <th>3</th>\n",
       "      <td>52</td>\n",
       "      <td>China National Offshore Oil Corp Ltd (CNOOC)</td>\n",
       "      <td>0.28%</td>\n",
       "      <td>Asia</td>\n",
       "      <td>AS</td>\n",
       "      <td>CN</td>\n",
       "      <td>China</td>\n",
       "      <td>CHN</td>\n",
       "      <td>156</td>\n",
       "      <td>ISO 3166-2:CN</td>\n",
       "    </tr>\n",
       "    <tr>\n",
       "      <th>4</th>\n",
       "      <td>2</td>\n",
       "      <td>Saudi Arabian Oil Company (Aramco)</td>\n",
       "      <td>4.50%</td>\n",
       "      <td>Asia</td>\n",
       "      <td>AS</td>\n",
       "      <td>SA</td>\n",
       "      <td>Saudi Arabia</td>\n",
       "      <td>SAU</td>\n",
       "      <td>682</td>\n",
       "      <td>ISO 3166-2:SA</td>\n",
       "    </tr>\n",
       "  </tbody>\n",
       "</table>\n",
       "</div>"
      ],
      "text/plain": [
       "   rank                                       company percent region  \\\n",
       "0     1     China National Coal Group Company Limited  14.32%   Asia   \n",
       "1    10          China National Petroleum Corp (CNPC)   1.56%   Asia   \n",
       "2    51            China Petrochemical Corp (Sinopec)   0.29%   Asia   \n",
       "3    52  China National Offshore Oil Corp Ltd (CNOOC)   0.28%   Asia   \n",
       "4     2            Saudi Arabian Oil Company (Aramco)   4.50%   Asia   \n",
       "\n",
       "  continent Alpha-2 code English short name lower case Alpha-3 code  \\\n",
       "0        AS           CN                         China          CHN   \n",
       "1        AS           CN                         China          CHN   \n",
       "2        AS           CN                         China          CHN   \n",
       "3        AS           CN                         China          CHN   \n",
       "4        AS           SA                  Saudi Arabia          SAU   \n",
       "\n",
       "   Numeric code     ISO 3166-2  \n",
       "0           156  ISO 3166-2:CN  \n",
       "1           156  ISO 3166-2:CN  \n",
       "2           156  ISO 3166-2:CN  \n",
       "3           156  ISO 3166-2:CN  \n",
       "4           682  ISO 3166-2:SA  "
      ]
     },
     "execution_count": 44,
     "metadata": {},
     "output_type": "execute_result"
    }
   ],
   "source": [
    "df_new.head(5)"
   ]
  },
  {
   "cell_type": "code",
   "execution_count": 45,
   "metadata": {},
   "outputs": [],
   "source": [
    "df_new = df_new.sort_values(by=['rank'])"
   ]
  },
  {
   "cell_type": "code",
   "execution_count": 46,
   "metadata": {},
   "outputs": [],
   "source": [
    "df_new['percent'] = df_new['percent'].str.rstrip('%').astype('float') # .str.rstrip('%').astype('float') / 100.0"
   ]
  },
  {
   "cell_type": "code",
   "execution_count": 47,
   "metadata": {},
   "outputs": [
    {
     "data": {
      "text/html": [
       "<div>\n",
       "<style scoped>\n",
       "    .dataframe tbody tr th:only-of-type {\n",
       "        vertical-align: middle;\n",
       "    }\n",
       "\n",
       "    .dataframe tbody tr th {\n",
       "        vertical-align: top;\n",
       "    }\n",
       "\n",
       "    .dataframe thead th {\n",
       "        text-align: right;\n",
       "    }\n",
       "</style>\n",
       "<table border=\"1\" class=\"dataframe\">\n",
       "  <thead>\n",
       "    <tr style=\"text-align: right;\">\n",
       "      <th></th>\n",
       "      <th>rank</th>\n",
       "      <th>company</th>\n",
       "      <th>percent</th>\n",
       "      <th>region</th>\n",
       "      <th>continent</th>\n",
       "      <th>Alpha-2 code</th>\n",
       "      <th>English short name lower case</th>\n",
       "      <th>Alpha-3 code</th>\n",
       "      <th>Numeric code</th>\n",
       "      <th>ISO 3166-2</th>\n",
       "    </tr>\n",
       "  </thead>\n",
       "  <tbody>\n",
       "    <tr>\n",
       "      <th>0</th>\n",
       "      <td>1</td>\n",
       "      <td>China National Coal Group Company Limited</td>\n",
       "      <td>14.32</td>\n",
       "      <td>Asia</td>\n",
       "      <td>AS</td>\n",
       "      <td>CN</td>\n",
       "      <td>China</td>\n",
       "      <td>CHN</td>\n",
       "      <td>156</td>\n",
       "      <td>ISO 3166-2:CN</td>\n",
       "    </tr>\n",
       "    <tr>\n",
       "      <th>4</th>\n",
       "      <td>2</td>\n",
       "      <td>Saudi Arabian Oil Company (Aramco)</td>\n",
       "      <td>4.50</td>\n",
       "      <td>Asia</td>\n",
       "      <td>AS</td>\n",
       "      <td>SA</td>\n",
       "      <td>Saudi Arabia</td>\n",
       "      <td>SAU</td>\n",
       "      <td>682</td>\n",
       "      <td>ISO 3166-2:SA</td>\n",
       "    </tr>\n",
       "    <tr>\n",
       "      <th>6</th>\n",
       "      <td>3</td>\n",
       "      <td>Gazprom OAO</td>\n",
       "      <td>3.91</td>\n",
       "      <td>Asia</td>\n",
       "      <td>AS</td>\n",
       "      <td>RU</td>\n",
       "      <td>Russian Federation</td>\n",
       "      <td>RUS</td>\n",
       "      <td>643</td>\n",
       "      <td>ISO 3166-2:RU</td>\n",
       "    </tr>\n",
       "    <tr>\n",
       "      <th>13</th>\n",
       "      <td>4</td>\n",
       "      <td>National Iranian Oil Co</td>\n",
       "      <td>2.28</td>\n",
       "      <td>Asia</td>\n",
       "      <td>AS</td>\n",
       "      <td>IR</td>\n",
       "      <td>Iran, Islamic Republic of</td>\n",
       "      <td>IRN</td>\n",
       "      <td>364</td>\n",
       "      <td>ISO 3166-2:IR</td>\n",
       "    </tr>\n",
       "    <tr>\n",
       "      <th>14</th>\n",
       "      <td>5</td>\n",
       "      <td>ExxonMobil Corp</td>\n",
       "      <td>1.98</td>\n",
       "      <td>North America</td>\n",
       "      <td>NaN</td>\n",
       "      <td>US</td>\n",
       "      <td>United States</td>\n",
       "      <td>USA</td>\n",
       "      <td>840</td>\n",
       "      <td>ISO 3166-2:US</td>\n",
       "    </tr>\n",
       "    <tr>\n",
       "      <th>42</th>\n",
       "      <td>6</td>\n",
       "      <td>Coal India</td>\n",
       "      <td>1.87</td>\n",
       "      <td>Asia</td>\n",
       "      <td>AS</td>\n",
       "      <td>IN</td>\n",
       "      <td>India</td>\n",
       "      <td>IND</td>\n",
       "      <td>356</td>\n",
       "      <td>ISO 3166-2:IN</td>\n",
       "    </tr>\n",
       "    <tr>\n",
       "      <th>45</th>\n",
       "      <td>7</td>\n",
       "      <td>Petroleos Mexicanos (Pemex)</td>\n",
       "      <td>1.87</td>\n",
       "      <td>Latin America</td>\n",
       "      <td>SA</td>\n",
       "      <td>MX</td>\n",
       "      <td>Mexico</td>\n",
       "      <td>MEX</td>\n",
       "      <td>484</td>\n",
       "      <td>ISO 3166-2:MX</td>\n",
       "    </tr>\n",
       "    <tr>\n",
       "      <th>7</th>\n",
       "      <td>8</td>\n",
       "      <td>Russia (Coal)</td>\n",
       "      <td>1.86</td>\n",
       "      <td>Asia</td>\n",
       "      <td>AS</td>\n",
       "      <td>RU</td>\n",
       "      <td>Russian Federation</td>\n",
       "      <td>RUS</td>\n",
       "      <td>643</td>\n",
       "      <td>ISO 3166-2:RU</td>\n",
       "    </tr>\n",
       "    <tr>\n",
       "      <th>46</th>\n",
       "      <td>9</td>\n",
       "      <td>Royal Dutch Shell PLC</td>\n",
       "      <td>1.67</td>\n",
       "      <td>Europe</td>\n",
       "      <td>EU</td>\n",
       "      <td>NL</td>\n",
       "      <td>Netherlands</td>\n",
       "      <td>NLD</td>\n",
       "      <td>528</td>\n",
       "      <td>ISO 3166-2:NL</td>\n",
       "    </tr>\n",
       "    <tr>\n",
       "      <th>1</th>\n",
       "      <td>10</td>\n",
       "      <td>China National Petroleum Corp (CNPC)</td>\n",
       "      <td>1.56</td>\n",
       "      <td>Asia</td>\n",
       "      <td>AS</td>\n",
       "      <td>CN</td>\n",
       "      <td>China</td>\n",
       "      <td>CHN</td>\n",
       "      <td>156</td>\n",
       "      <td>ISO 3166-2:CN</td>\n",
       "    </tr>\n",
       "    <tr>\n",
       "      <th>47</th>\n",
       "      <td>11</td>\n",
       "      <td>BP PLC</td>\n",
       "      <td>1.53</td>\n",
       "      <td>Europe</td>\n",
       "      <td>EU</td>\n",
       "      <td>GB</td>\n",
       "      <td>United Kingdom</td>\n",
       "      <td>GBR</td>\n",
       "      <td>826</td>\n",
       "      <td>ISO 3166-2:GB</td>\n",
       "    </tr>\n",
       "    <tr>\n",
       "      <th>15</th>\n",
       "      <td>12</td>\n",
       "      <td>Chevron Corp</td>\n",
       "      <td>1.31</td>\n",
       "      <td>North America</td>\n",
       "      <td>NaN</td>\n",
       "      <td>US</td>\n",
       "      <td>United States</td>\n",
       "      <td>USA</td>\n",
       "      <td>840</td>\n",
       "      <td>ISO 3166-2:US</td>\n",
       "    </tr>\n",
       "    <tr>\n",
       "      <th>49</th>\n",
       "      <td>13</td>\n",
       "      <td>Petroleos de Venezuela SA (PDVSA)</td>\n",
       "      <td>1.23</td>\n",
       "      <td>Latin America</td>\n",
       "      <td>SA</td>\n",
       "      <td>VE</td>\n",
       "      <td>Venezuela, Bolivarian Republic of</td>\n",
       "      <td>VEN</td>\n",
       "      <td>862</td>\n",
       "      <td>ISO 3166-2:VE</td>\n",
       "    </tr>\n",
       "    <tr>\n",
       "      <th>5</th>\n",
       "      <td>14</td>\n",
       "      <td>Abu Dhabi National Oil Co</td>\n",
       "      <td>1.20</td>\n",
       "      <td>Asia</td>\n",
       "      <td>AS</td>\n",
       "      <td>SA</td>\n",
       "      <td>Saudi Arabia</td>\n",
       "      <td>SAU</td>\n",
       "      <td>682</td>\n",
       "      <td>ISO 3166-2:SA</td>\n",
       "    </tr>\n",
       "    <tr>\n",
       "      <th>50</th>\n",
       "      <td>15</td>\n",
       "      <td>Poland Coal</td>\n",
       "      <td>1.16</td>\n",
       "      <td>Europe</td>\n",
       "      <td>EU</td>\n",
       "      <td>PL</td>\n",
       "      <td>Poland</td>\n",
       "      <td>POL</td>\n",
       "      <td>616</td>\n",
       "      <td>ISO 3166-2:PL</td>\n",
       "    </tr>\n",
       "    <tr>\n",
       "      <th>16</th>\n",
       "      <td>16</td>\n",
       "      <td>Peabody Energy Corp</td>\n",
       "      <td>1.15</td>\n",
       "      <td>North America</td>\n",
       "      <td>NaN</td>\n",
       "      <td>US</td>\n",
       "      <td>United States</td>\n",
       "      <td>USA</td>\n",
       "      <td>840</td>\n",
       "      <td>ISO 3166-2:US</td>\n",
       "    </tr>\n",
       "    <tr>\n",
       "      <th>51</th>\n",
       "      <td>17</td>\n",
       "      <td>Sonatrach SPA</td>\n",
       "      <td>1.00</td>\n",
       "      <td>Africa</td>\n",
       "      <td>AF</td>\n",
       "      <td>DZ</td>\n",
       "      <td>Algeria</td>\n",
       "      <td>DZA</td>\n",
       "      <td>12</td>\n",
       "      <td>ISO 3166-2:DZ</td>\n",
       "    </tr>\n",
       "    <tr>\n",
       "      <th>52</th>\n",
       "      <td>18</td>\n",
       "      <td>Kuwait Petroleum Corp</td>\n",
       "      <td>1.00</td>\n",
       "      <td>Asia</td>\n",
       "      <td>AS</td>\n",
       "      <td>KW</td>\n",
       "      <td>Kuwait</td>\n",
       "      <td>KWT</td>\n",
       "      <td>414</td>\n",
       "      <td>ISO 3166-2:KW</td>\n",
       "    </tr>\n",
       "    <tr>\n",
       "      <th>53</th>\n",
       "      <td>19</td>\n",
       "      <td>Total SA</td>\n",
       "      <td>0.95</td>\n",
       "      <td>Europe</td>\n",
       "      <td>EU</td>\n",
       "      <td>FR</td>\n",
       "      <td>France</td>\n",
       "      <td>FRA</td>\n",
       "      <td>250</td>\n",
       "      <td>ISO 3166-2:FR</td>\n",
       "    </tr>\n",
       "    <tr>\n",
       "      <th>54</th>\n",
       "      <td>20</td>\n",
       "      <td>BHP Billiton Ltd</td>\n",
       "      <td>0.91</td>\n",
       "      <td>Oceaniy</td>\n",
       "      <td>OC</td>\n",
       "      <td>AU</td>\n",
       "      <td>Australia</td>\n",
       "      <td>AUS</td>\n",
       "      <td>36</td>\n",
       "      <td>ISO 3166-2:AU</td>\n",
       "    </tr>\n",
       "    <tr>\n",
       "      <th>17</th>\n",
       "      <td>21</td>\n",
       "      <td>ConocoPhillips</td>\n",
       "      <td>0.91</td>\n",
       "      <td>North America</td>\n",
       "      <td>NaN</td>\n",
       "      <td>US</td>\n",
       "      <td>United States</td>\n",
       "      <td>USA</td>\n",
       "      <td>840</td>\n",
       "      <td>ISO 3166-2:US</td>\n",
       "    </tr>\n",
       "    <tr>\n",
       "      <th>55</th>\n",
       "      <td>22</td>\n",
       "      <td>Petroleo Brasileiro SA (Petrobras)</td>\n",
       "      <td>0.77</td>\n",
       "      <td>Latin America</td>\n",
       "      <td>SA</td>\n",
       "      <td>BR</td>\n",
       "      <td>Brazil</td>\n",
       "      <td>BRA</td>\n",
       "      <td>76</td>\n",
       "      <td>ISO 3166-2:BR</td>\n",
       "    </tr>\n",
       "  </tbody>\n",
       "</table>\n",
       "</div>"
      ],
      "text/plain": [
       "    rank                                    company  percent         region  \\\n",
       "0      1  China National Coal Group Company Limited    14.32           Asia   \n",
       "4      2         Saudi Arabian Oil Company (Aramco)     4.50           Asia   \n",
       "6      3                                Gazprom OAO     3.91           Asia   \n",
       "13     4                    National Iranian Oil Co     2.28           Asia   \n",
       "14     5                            ExxonMobil Corp     1.98  North America   \n",
       "42     6                                 Coal India     1.87           Asia   \n",
       "45     7                Petroleos Mexicanos (Pemex)     1.87  Latin America   \n",
       "7      8                              Russia (Coal)     1.86           Asia   \n",
       "46     9                      Royal Dutch Shell PLC     1.67         Europe   \n",
       "1     10       China National Petroleum Corp (CNPC)     1.56           Asia   \n",
       "47    11                                     BP PLC     1.53         Europe   \n",
       "15    12                               Chevron Corp     1.31  North America   \n",
       "49    13          Petroleos de Venezuela SA (PDVSA)     1.23  Latin America   \n",
       "5     14                  Abu Dhabi National Oil Co     1.20           Asia   \n",
       "50    15                                Poland Coal     1.16         Europe   \n",
       "16    16                        Peabody Energy Corp     1.15  North America   \n",
       "51    17                              Sonatrach SPA     1.00         Africa   \n",
       "52    18                      Kuwait Petroleum Corp     1.00           Asia   \n",
       "53    19                                   Total SA     0.95         Europe   \n",
       "54    20                           BHP Billiton Ltd     0.91        Oceaniy   \n",
       "17    21                             ConocoPhillips     0.91  North America   \n",
       "55    22         Petroleo Brasileiro SA (Petrobras)     0.77  Latin America   \n",
       "\n",
       "   continent Alpha-2 code      English short name lower case Alpha-3 code  \\\n",
       "0         AS           CN                              China          CHN   \n",
       "4         AS           SA                       Saudi Arabia          SAU   \n",
       "6         AS           RU                 Russian Federation          RUS   \n",
       "13        AS           IR          Iran, Islamic Republic of          IRN   \n",
       "14       NaN           US                      United States          USA   \n",
       "42        AS           IN                              India          IND   \n",
       "45        SA           MX                             Mexico          MEX   \n",
       "7         AS           RU                 Russian Federation          RUS   \n",
       "46        EU           NL                        Netherlands          NLD   \n",
       "1         AS           CN                              China          CHN   \n",
       "47        EU           GB                     United Kingdom          GBR   \n",
       "15       NaN           US                      United States          USA   \n",
       "49        SA           VE  Venezuela, Bolivarian Republic of          VEN   \n",
       "5         AS           SA                       Saudi Arabia          SAU   \n",
       "50        EU           PL                             Poland          POL   \n",
       "16       NaN           US                      United States          USA   \n",
       "51        AF           DZ                            Algeria          DZA   \n",
       "52        AS           KW                             Kuwait          KWT   \n",
       "53        EU           FR                             France          FRA   \n",
       "54        OC           AU                          Australia          AUS   \n",
       "17       NaN           US                      United States          USA   \n",
       "55        SA           BR                             Brazil          BRA   \n",
       "\n",
       "    Numeric code     ISO 3166-2  \n",
       "0            156  ISO 3166-2:CN  \n",
       "4            682  ISO 3166-2:SA  \n",
       "6            643  ISO 3166-2:RU  \n",
       "13           364  ISO 3166-2:IR  \n",
       "14           840  ISO 3166-2:US  \n",
       "42           356  ISO 3166-2:IN  \n",
       "45           484  ISO 3166-2:MX  \n",
       "7            643  ISO 3166-2:RU  \n",
       "46           528  ISO 3166-2:NL  \n",
       "1            156  ISO 3166-2:CN  \n",
       "47           826  ISO 3166-2:GB  \n",
       "15           840  ISO 3166-2:US  \n",
       "49           862  ISO 3166-2:VE  \n",
       "5            682  ISO 3166-2:SA  \n",
       "50           616  ISO 3166-2:PL  \n",
       "16           840  ISO 3166-2:US  \n",
       "51            12  ISO 3166-2:DZ  \n",
       "52           414  ISO 3166-2:KW  \n",
       "53           250  ISO 3166-2:FR  \n",
       "54            36  ISO 3166-2:AU  \n",
       "17           840  ISO 3166-2:US  \n",
       "55            76  ISO 3166-2:BR  "
      ]
     },
     "execution_count": 47,
     "metadata": {},
     "output_type": "execute_result"
    }
   ],
   "source": [
    "df_new.head(22)"
   ]
  },
  {
   "cell_type": "code",
   "execution_count": 12,
   "metadata": {
    "scrolled": true
   },
   "outputs": [],
   "source": [
    "#df = df_new.set_index('rank')"
   ]
  },
  {
   "cell_type": "code",
   "execution_count": 48,
   "metadata": {},
   "outputs": [],
   "source": [
    "df21 = df_new[0:21]"
   ]
  },
  {
   "cell_type": "code",
   "execution_count": 49,
   "metadata": {},
   "outputs": [
    {
     "data": {
      "text/plain": [
       "48.17"
      ]
     },
     "execution_count": 49,
     "metadata": {},
     "output_type": "execute_result"
    }
   ],
   "source": [
    "df21['percent'].sum()"
   ]
  },
  {
   "cell_type": "code",
   "execution_count": 50,
   "metadata": {},
   "outputs": [],
   "source": [
    "df21.to_csv('21_companies.csv')"
   ]
  },
  {
   "cell_type": "code",
   "execution_count": 28,
   "metadata": {},
   "outputs": [
    {
     "data": {
      "application/vnd.plotly.v1+json": {
       "config": {
        "plotlyServerURL": "https://plot.ly"
       },
       "data": [
        {
         "branchvalues": "total",
         "customdata": [
          [
           "Asia",
           1.2
          ],
          [
           "Oceaniy",
           0.91
          ],
          [
           "Europe",
           1.53
          ],
          [
           "North America",
           1.31
          ],
          [
           "Asia",
           14.32
          ],
          [
           "Asia",
           1.56
          ],
          [
           "Asia",
           1.87
          ],
          [
           "North America",
           0.91
          ],
          [
           "North America",
           1.98
          ],
          [
           "Europe",
           3.91
          ],
          [
           "Asia",
           1
          ],
          [
           "Asia",
           2.28
          ],
          [
           "North America",
           1.15
          ],
          [
           "Latin America",
           1.87
          ],
          [
           "Latin America",
           1.23
          ],
          [
           "Europe",
           1.16
          ],
          [
           "Europe",
           1.67
          ],
          [
           "Europe",
           1.86
          ],
          [
           "Asia",
           4.5
          ],
          [
           "Africa",
           1
          ],
          [
           "Europe",
           0.9500000000000001
          ],
          [
           "Africa",
           1
          ],
          [
           "Asia",
           8.93682379349046
          ],
          [
           "Europe",
           2.357906137184116
          ],
          [
           "Latin America",
           1.6160645161290323
          ],
          [
           "North America",
           1.455532710280374
          ],
          [
           "Oceaniy",
           0.91
          ]
         ],
         "domain": {
          "x": [
           0,
           1
          ],
          "y": [
           0,
           1
          ]
         },
         "hovertemplate": "labels=%{label}<br>percent_sum=%{value}<br>parent=%{parent}<br>id=%{id}<br>region=%{customdata[0]}<br>percent=%{color}<extra></extra>",
         "ids": [
          "Asia/Abu Dhabi National Oil Co",
          "Oceaniy/BHP Billiton Ltd",
          "Europe/BP PLC",
          "North America/Chevron Corp",
          "Asia/China National Coal Group Company Limited",
          "Asia/China National Petroleum Corp (CNPC)",
          "Asia/Coal India",
          "North America/ConocoPhillips",
          "North America/ExxonMobil Corp",
          "Europe/Gazprom OAO",
          "Asia/Kuwait Petroleum Corp",
          "Asia/National Iranian Oil Co",
          "North America/Peabody Energy Corp",
          "Latin America/Petroleos Mexicanos (Pemex)",
          "Latin America/Petroleos de Venezuela SA (PDVSA)",
          "Europe/Poland Coal",
          "Europe/Royal Dutch Shell PLC",
          "Europe/Russia (Coal)",
          "Asia/Saudi Arabian Oil Company (Aramco)",
          "Africa/Sonatrach SPA",
          "Europe/Total SA",
          "Africa",
          "Asia",
          "Europe",
          "Latin America",
          "North America",
          "Oceaniy"
         ],
         "labels": [
          "Abu Dhabi National Oil Co",
          "BHP Billiton Ltd",
          "BP PLC",
          "Chevron Corp",
          "China National Coal Group Company Limited",
          "China National Petroleum Corp (CNPC)",
          "Coal India",
          "ConocoPhillips",
          "ExxonMobil Corp",
          "Gazprom OAO",
          "Kuwait Petroleum Corp",
          "National Iranian Oil Co",
          "Peabody Energy Corp",
          "Petroleos Mexicanos (Pemex)",
          "Petroleos de Venezuela SA (PDVSA)",
          "Poland Coal",
          "Royal Dutch Shell PLC",
          "Russia (Coal)",
          "Saudi Arabian Oil Company (Aramco)",
          "Sonatrach SPA",
          "Total SA",
          "Africa",
          "Asia",
          "Europe",
          "Latin America",
          "North America",
          "Oceaniy"
         ],
         "marker": {
          "coloraxis": "coloraxis",
          "colors": [
           1.2,
           0.91,
           1.53,
           1.31,
           14.32,
           1.56,
           1.87,
           0.91,
           1.98,
           3.91,
           1,
           2.28,
           1.15,
           1.87,
           1.23,
           1.16,
           1.67,
           1.86,
           4.5,
           1,
           0.9500000000000001,
           1,
           8.93682379349046,
           2.357906137184116,
           1.6160645161290323,
           1.455532710280374,
           0.91
          ]
         },
         "name": "",
         "parents": [
          "Asia",
          "Oceaniy",
          "Europe",
          "North America",
          "Asia",
          "Asia",
          "Asia",
          "North America",
          "North America",
          "Europe",
          "Asia",
          "Asia",
          "North America",
          "Latin America",
          "Latin America",
          "Europe",
          "Europe",
          "Europe",
          "Asia",
          "Africa",
          "Europe",
          "",
          "",
          "",
          "",
          "",
          ""
         ],
         "type": "sunburst",
         "values": [
          1.2,
          0.91,
          1.53,
          1.31,
          14.32,
          1.56,
          1.87,
          0.91,
          1.98,
          3.91,
          1,
          2.28,
          1.15,
          1.87,
          1.23,
          1.16,
          1.67,
          1.86,
          4.5,
          1,
          0.95,
          1,
          26.73,
          11.08,
          3.1,
          5.35,
          0.91
         ]
        }
       ],
       "layout": {
        "coloraxis": {
         "colorbar": {
          "title": {
           "text": "percent"
          }
         },
         "colorscale": [
          [
           0,
           "rgb(253, 253, 204)"
          ],
          [
           0.09090909090909091,
           "rgb(206, 236, 179)"
          ],
          [
           0.18181818181818182,
           "rgb(156, 219, 165)"
          ],
          [
           0.2727272727272727,
           "rgb(111, 201, 163)"
          ],
          [
           0.36363636363636365,
           "rgb(86, 177, 163)"
          ],
          [
           0.45454545454545453,
           "rgb(76, 153, 160)"
          ],
          [
           0.5454545454545454,
           "rgb(68, 130, 155)"
          ],
          [
           0.6363636363636364,
           "rgb(62, 108, 150)"
          ],
          [
           0.7272727272727273,
           "rgb(62, 82, 143)"
          ],
          [
           0.8181818181818182,
           "rgb(64, 60, 115)"
          ],
          [
           0.9090909090909091,
           "rgb(54, 43, 77)"
          ],
          [
           1,
           "rgb(39, 26, 44)"
          ]
         ]
        },
        "height": 600,
        "legend": {
         "tracegroupgap": 0
        },
        "template": {
         "data": {
          "bar": [
           {
            "error_x": {
             "color": "#2a3f5f"
            },
            "error_y": {
             "color": "#2a3f5f"
            },
            "marker": {
             "line": {
              "color": "#E5ECF6",
              "width": 0.5
             }
            },
            "type": "bar"
           }
          ],
          "barpolar": [
           {
            "marker": {
             "line": {
              "color": "#E5ECF6",
              "width": 0.5
             }
            },
            "type": "barpolar"
           }
          ],
          "carpet": [
           {
            "aaxis": {
             "endlinecolor": "#2a3f5f",
             "gridcolor": "white",
             "linecolor": "white",
             "minorgridcolor": "white",
             "startlinecolor": "#2a3f5f"
            },
            "baxis": {
             "endlinecolor": "#2a3f5f",
             "gridcolor": "white",
             "linecolor": "white",
             "minorgridcolor": "white",
             "startlinecolor": "#2a3f5f"
            },
            "type": "carpet"
           }
          ],
          "choropleth": [
           {
            "colorbar": {
             "outlinewidth": 0,
             "ticks": ""
            },
            "type": "choropleth"
           }
          ],
          "contour": [
           {
            "colorbar": {
             "outlinewidth": 0,
             "ticks": ""
            },
            "colorscale": [
             [
              0,
              "#0d0887"
             ],
             [
              0.1111111111111111,
              "#46039f"
             ],
             [
              0.2222222222222222,
              "#7201a8"
             ],
             [
              0.3333333333333333,
              "#9c179e"
             ],
             [
              0.4444444444444444,
              "#bd3786"
             ],
             [
              0.5555555555555556,
              "#d8576b"
             ],
             [
              0.6666666666666666,
              "#ed7953"
             ],
             [
              0.7777777777777778,
              "#fb9f3a"
             ],
             [
              0.8888888888888888,
              "#fdca26"
             ],
             [
              1,
              "#f0f921"
             ]
            ],
            "type": "contour"
           }
          ],
          "contourcarpet": [
           {
            "colorbar": {
             "outlinewidth": 0,
             "ticks": ""
            },
            "type": "contourcarpet"
           }
          ],
          "heatmap": [
           {
            "colorbar": {
             "outlinewidth": 0,
             "ticks": ""
            },
            "colorscale": [
             [
              0,
              "#0d0887"
             ],
             [
              0.1111111111111111,
              "#46039f"
             ],
             [
              0.2222222222222222,
              "#7201a8"
             ],
             [
              0.3333333333333333,
              "#9c179e"
             ],
             [
              0.4444444444444444,
              "#bd3786"
             ],
             [
              0.5555555555555556,
              "#d8576b"
             ],
             [
              0.6666666666666666,
              "#ed7953"
             ],
             [
              0.7777777777777778,
              "#fb9f3a"
             ],
             [
              0.8888888888888888,
              "#fdca26"
             ],
             [
              1,
              "#f0f921"
             ]
            ],
            "type": "heatmap"
           }
          ],
          "heatmapgl": [
           {
            "colorbar": {
             "outlinewidth": 0,
             "ticks": ""
            },
            "colorscale": [
             [
              0,
              "#0d0887"
             ],
             [
              0.1111111111111111,
              "#46039f"
             ],
             [
              0.2222222222222222,
              "#7201a8"
             ],
             [
              0.3333333333333333,
              "#9c179e"
             ],
             [
              0.4444444444444444,
              "#bd3786"
             ],
             [
              0.5555555555555556,
              "#d8576b"
             ],
             [
              0.6666666666666666,
              "#ed7953"
             ],
             [
              0.7777777777777778,
              "#fb9f3a"
             ],
             [
              0.8888888888888888,
              "#fdca26"
             ],
             [
              1,
              "#f0f921"
             ]
            ],
            "type": "heatmapgl"
           }
          ],
          "histogram": [
           {
            "marker": {
             "colorbar": {
              "outlinewidth": 0,
              "ticks": ""
             }
            },
            "type": "histogram"
           }
          ],
          "histogram2d": [
           {
            "colorbar": {
             "outlinewidth": 0,
             "ticks": ""
            },
            "colorscale": [
             [
              0,
              "#0d0887"
             ],
             [
              0.1111111111111111,
              "#46039f"
             ],
             [
              0.2222222222222222,
              "#7201a8"
             ],
             [
              0.3333333333333333,
              "#9c179e"
             ],
             [
              0.4444444444444444,
              "#bd3786"
             ],
             [
              0.5555555555555556,
              "#d8576b"
             ],
             [
              0.6666666666666666,
              "#ed7953"
             ],
             [
              0.7777777777777778,
              "#fb9f3a"
             ],
             [
              0.8888888888888888,
              "#fdca26"
             ],
             [
              1,
              "#f0f921"
             ]
            ],
            "type": "histogram2d"
           }
          ],
          "histogram2dcontour": [
           {
            "colorbar": {
             "outlinewidth": 0,
             "ticks": ""
            },
            "colorscale": [
             [
              0,
              "#0d0887"
             ],
             [
              0.1111111111111111,
              "#46039f"
             ],
             [
              0.2222222222222222,
              "#7201a8"
             ],
             [
              0.3333333333333333,
              "#9c179e"
             ],
             [
              0.4444444444444444,
              "#bd3786"
             ],
             [
              0.5555555555555556,
              "#d8576b"
             ],
             [
              0.6666666666666666,
              "#ed7953"
             ],
             [
              0.7777777777777778,
              "#fb9f3a"
             ],
             [
              0.8888888888888888,
              "#fdca26"
             ],
             [
              1,
              "#f0f921"
             ]
            ],
            "type": "histogram2dcontour"
           }
          ],
          "mesh3d": [
           {
            "colorbar": {
             "outlinewidth": 0,
             "ticks": ""
            },
            "type": "mesh3d"
           }
          ],
          "parcoords": [
           {
            "line": {
             "colorbar": {
              "outlinewidth": 0,
              "ticks": ""
             }
            },
            "type": "parcoords"
           }
          ],
          "pie": [
           {
            "automargin": true,
            "type": "pie"
           }
          ],
          "scatter": [
           {
            "marker": {
             "colorbar": {
              "outlinewidth": 0,
              "ticks": ""
             }
            },
            "type": "scatter"
           }
          ],
          "scatter3d": [
           {
            "line": {
             "colorbar": {
              "outlinewidth": 0,
              "ticks": ""
             }
            },
            "marker": {
             "colorbar": {
              "outlinewidth": 0,
              "ticks": ""
             }
            },
            "type": "scatter3d"
           }
          ],
          "scattercarpet": [
           {
            "marker": {
             "colorbar": {
              "outlinewidth": 0,
              "ticks": ""
             }
            },
            "type": "scattercarpet"
           }
          ],
          "scattergeo": [
           {
            "marker": {
             "colorbar": {
              "outlinewidth": 0,
              "ticks": ""
             }
            },
            "type": "scattergeo"
           }
          ],
          "scattergl": [
           {
            "marker": {
             "colorbar": {
              "outlinewidth": 0,
              "ticks": ""
             }
            },
            "type": "scattergl"
           }
          ],
          "scattermapbox": [
           {
            "marker": {
             "colorbar": {
              "outlinewidth": 0,
              "ticks": ""
             }
            },
            "type": "scattermapbox"
           }
          ],
          "scatterpolar": [
           {
            "marker": {
             "colorbar": {
              "outlinewidth": 0,
              "ticks": ""
             }
            },
            "type": "scatterpolar"
           }
          ],
          "scatterpolargl": [
           {
            "marker": {
             "colorbar": {
              "outlinewidth": 0,
              "ticks": ""
             }
            },
            "type": "scatterpolargl"
           }
          ],
          "scatterternary": [
           {
            "marker": {
             "colorbar": {
              "outlinewidth": 0,
              "ticks": ""
             }
            },
            "type": "scatterternary"
           }
          ],
          "surface": [
           {
            "colorbar": {
             "outlinewidth": 0,
             "ticks": ""
            },
            "colorscale": [
             [
              0,
              "#0d0887"
             ],
             [
              0.1111111111111111,
              "#46039f"
             ],
             [
              0.2222222222222222,
              "#7201a8"
             ],
             [
              0.3333333333333333,
              "#9c179e"
             ],
             [
              0.4444444444444444,
              "#bd3786"
             ],
             [
              0.5555555555555556,
              "#d8576b"
             ],
             [
              0.6666666666666666,
              "#ed7953"
             ],
             [
              0.7777777777777778,
              "#fb9f3a"
             ],
             [
              0.8888888888888888,
              "#fdca26"
             ],
             [
              1,
              "#f0f921"
             ]
            ],
            "type": "surface"
           }
          ],
          "table": [
           {
            "cells": {
             "fill": {
              "color": "#EBF0F8"
             },
             "line": {
              "color": "white"
             }
            },
            "header": {
             "fill": {
              "color": "#C8D4E3"
             },
             "line": {
              "color": "white"
             }
            },
            "type": "table"
           }
          ]
         },
         "layout": {
          "annotationdefaults": {
           "arrowcolor": "#2a3f5f",
           "arrowhead": 0,
           "arrowwidth": 1
          },
          "autotypenumbers": "strict",
          "coloraxis": {
           "colorbar": {
            "outlinewidth": 0,
            "ticks": ""
           }
          },
          "colorscale": {
           "diverging": [
            [
             0,
             "#8e0152"
            ],
            [
             0.1,
             "#c51b7d"
            ],
            [
             0.2,
             "#de77ae"
            ],
            [
             0.3,
             "#f1b6da"
            ],
            [
             0.4,
             "#fde0ef"
            ],
            [
             0.5,
             "#f7f7f7"
            ],
            [
             0.6,
             "#e6f5d0"
            ],
            [
             0.7,
             "#b8e186"
            ],
            [
             0.8,
             "#7fbc41"
            ],
            [
             0.9,
             "#4d9221"
            ],
            [
             1,
             "#276419"
            ]
           ],
           "sequential": [
            [
             0,
             "#0d0887"
            ],
            [
             0.1111111111111111,
             "#46039f"
            ],
            [
             0.2222222222222222,
             "#7201a8"
            ],
            [
             0.3333333333333333,
             "#9c179e"
            ],
            [
             0.4444444444444444,
             "#bd3786"
            ],
            [
             0.5555555555555556,
             "#d8576b"
            ],
            [
             0.6666666666666666,
             "#ed7953"
            ],
            [
             0.7777777777777778,
             "#fb9f3a"
            ],
            [
             0.8888888888888888,
             "#fdca26"
            ],
            [
             1,
             "#f0f921"
            ]
           ],
           "sequentialminus": [
            [
             0,
             "#0d0887"
            ],
            [
             0.1111111111111111,
             "#46039f"
            ],
            [
             0.2222222222222222,
             "#7201a8"
            ],
            [
             0.3333333333333333,
             "#9c179e"
            ],
            [
             0.4444444444444444,
             "#bd3786"
            ],
            [
             0.5555555555555556,
             "#d8576b"
            ],
            [
             0.6666666666666666,
             "#ed7953"
            ],
            [
             0.7777777777777778,
             "#fb9f3a"
            ],
            [
             0.8888888888888888,
             "#fdca26"
            ],
            [
             1,
             "#f0f921"
            ]
           ]
          },
          "colorway": [
           "#636efa",
           "#EF553B",
           "#00cc96",
           "#ab63fa",
           "#FFA15A",
           "#19d3f3",
           "#FF6692",
           "#B6E880",
           "#FF97FF",
           "#FECB52"
          ],
          "font": {
           "color": "#2a3f5f"
          },
          "geo": {
           "bgcolor": "white",
           "lakecolor": "white",
           "landcolor": "#E5ECF6",
           "showlakes": true,
           "showland": true,
           "subunitcolor": "white"
          },
          "hoverlabel": {
           "align": "left"
          },
          "hovermode": "closest",
          "mapbox": {
           "style": "light"
          },
          "paper_bgcolor": "white",
          "plot_bgcolor": "#E5ECF6",
          "polar": {
           "angularaxis": {
            "gridcolor": "white",
            "linecolor": "white",
            "ticks": ""
           },
           "bgcolor": "#E5ECF6",
           "radialaxis": {
            "gridcolor": "white",
            "linecolor": "white",
            "ticks": ""
           }
          },
          "scene": {
           "xaxis": {
            "backgroundcolor": "#E5ECF6",
            "gridcolor": "white",
            "gridwidth": 2,
            "linecolor": "white",
            "showbackground": true,
            "ticks": "",
            "zerolinecolor": "white"
           },
           "yaxis": {
            "backgroundcolor": "#E5ECF6",
            "gridcolor": "white",
            "gridwidth": 2,
            "linecolor": "white",
            "showbackground": true,
            "ticks": "",
            "zerolinecolor": "white"
           },
           "zaxis": {
            "backgroundcolor": "#E5ECF6",
            "gridcolor": "white",
            "gridwidth": 2,
            "linecolor": "white",
            "showbackground": true,
            "ticks": "",
            "zerolinecolor": "white"
           }
          },
          "shapedefaults": {
           "line": {
            "color": "#2a3f5f"
           }
          },
          "ternary": {
           "aaxis": {
            "gridcolor": "white",
            "linecolor": "white",
            "ticks": ""
           },
           "baxis": {
            "gridcolor": "white",
            "linecolor": "white",
            "ticks": ""
           },
           "bgcolor": "#E5ECF6",
           "caxis": {
            "gridcolor": "white",
            "linecolor": "white",
            "ticks": ""
           }
          },
          "title": {
           "x": 0.05
          },
          "xaxis": {
           "automargin": true,
           "gridcolor": "white",
           "linecolor": "white",
           "ticks": "",
           "title": {
            "standoff": 15
           },
           "zerolinecolor": "white",
           "zerolinewidth": 2
          },
          "yaxis": {
           "automargin": true,
           "gridcolor": "white",
           "linecolor": "white",
           "ticks": "",
           "title": {
            "standoff": 15
           },
           "zerolinecolor": "white",
           "zerolinewidth": 2
          }
         }
        },
        "title": {
         "text": "20 biggest companies which responsible for almost 50% CO2 emissions"
        },
        "width": 750
       }
      },
      "text/html": [
       "<div>                            <div id=\"f0831144-06ca-46a2-b246-77662d8ac101\" class=\"plotly-graph-div\" style=\"height:600px; width:750px;\"></div>            <script type=\"text/javascript\">                require([\"plotly\"], function(Plotly) {                    window.PLOTLYENV=window.PLOTLYENV || {};                                    if (document.getElementById(\"f0831144-06ca-46a2-b246-77662d8ac101\")) {                    Plotly.newPlot(                        \"f0831144-06ca-46a2-b246-77662d8ac101\",                        [{\"branchvalues\": \"total\", \"customdata\": [[\"Asia\", 1.2], [\"Oceaniy\", 0.91], [\"Europe\", 1.53], [\"North America\", 1.31], [\"Asia\", 14.32], [\"Asia\", 1.56], [\"Asia\", 1.87], [\"North America\", 0.91], [\"North America\", 1.98], [\"Europe\", 3.91], [\"Asia\", 1.0], [\"Asia\", 2.28], [\"North America\", 1.15], [\"Latin America\", 1.87], [\"Latin America\", 1.23], [\"Europe\", 1.16], [\"Europe\", 1.67], [\"Europe\", 1.86], [\"Asia\", 4.5], [\"Africa\", 1.0], [\"Europe\", 0.9500000000000001], [\"Africa\", 1.0], [\"Asia\", 8.93682379349046], [\"Europe\", 2.357906137184116], [\"Latin America\", 1.6160645161290323], [\"North America\", 1.455532710280374], [\"Oceaniy\", 0.91]], \"domain\": {\"x\": [0.0, 1.0], \"y\": [0.0, 1.0]}, \"hovertemplate\": \"labels=%{label}<br>percent_sum=%{value}<br>parent=%{parent}<br>id=%{id}<br>region=%{customdata[0]}<br>percent=%{color}<extra></extra>\", \"ids\": [\"Asia/Abu Dhabi National Oil Co\", \"Oceaniy/BHP Billiton Ltd\", \"Europe/BP PLC\", \"North America/Chevron Corp\", \"Asia/China National Coal Group Company Limited\", \"Asia/China National Petroleum Corp (CNPC)\", \"Asia/Coal India\", \"North America/ConocoPhillips\", \"North America/ExxonMobil Corp\", \"Europe/Gazprom OAO\", \"Asia/Kuwait Petroleum Corp\", \"Asia/National Iranian Oil Co\", \"North America/Peabody Energy Corp\", \"Latin America/Petroleos Mexicanos (Pemex)\", \"Latin America/Petroleos de Venezuela SA (PDVSA)\", \"Europe/Poland Coal\", \"Europe/Royal Dutch Shell PLC\", \"Europe/Russia (Coal)\", \"Asia/Saudi Arabian Oil Company (Aramco)\", \"Africa/Sonatrach SPA\", \"Europe/Total SA\", \"Africa\", \"Asia\", \"Europe\", \"Latin America\", \"North America\", \"Oceaniy\"], \"labels\": [\"Abu Dhabi National Oil Co\", \"BHP Billiton Ltd\", \"BP PLC\", \"Chevron Corp\", \"China National Coal Group Company Limited\", \"China National Petroleum Corp (CNPC)\", \"Coal India\", \"ConocoPhillips\", \"ExxonMobil Corp\", \"Gazprom OAO\", \"Kuwait Petroleum Corp\", \"National Iranian Oil Co\", \"Peabody Energy Corp\", \"Petroleos Mexicanos (Pemex)\", \"Petroleos de Venezuela SA (PDVSA)\", \"Poland Coal\", \"Royal Dutch Shell PLC\", \"Russia (Coal)\", \"Saudi Arabian Oil Company (Aramco)\", \"Sonatrach SPA\", \"Total SA\", \"Africa\", \"Asia\", \"Europe\", \"Latin America\", \"North America\", \"Oceaniy\"], \"marker\": {\"coloraxis\": \"coloraxis\", \"colors\": [1.2, 0.91, 1.53, 1.31, 14.32, 1.56, 1.87, 0.91, 1.98, 3.91, 1.0, 2.28, 1.15, 1.87, 1.23, 1.16, 1.67, 1.86, 4.5, 1.0, 0.9500000000000001, 1.0, 8.93682379349046, 2.357906137184116, 1.6160645161290323, 1.455532710280374, 0.91]}, \"name\": \"\", \"parents\": [\"Asia\", \"Oceaniy\", \"Europe\", \"North America\", \"Asia\", \"Asia\", \"Asia\", \"North America\", \"North America\", \"Europe\", \"Asia\", \"Asia\", \"North America\", \"Latin America\", \"Latin America\", \"Europe\", \"Europe\", \"Europe\", \"Asia\", \"Africa\", \"Europe\", \"\", \"\", \"\", \"\", \"\", \"\"], \"type\": \"sunburst\", \"values\": [1.2, 0.91, 1.53, 1.31, 14.32, 1.56, 1.87, 0.91, 1.98, 3.91, 1.0, 2.28, 1.15, 1.87, 1.23, 1.16, 1.67, 1.86, 4.5, 1.0, 0.95, 1.0, 26.73, 11.08, 3.1, 5.35, 0.91]}],                        {\"coloraxis\": {\"colorbar\": {\"title\": {\"text\": \"percent\"}}, \"colorscale\": [[0.0, \"rgb(253, 253, 204)\"], [0.09090909090909091, \"rgb(206, 236, 179)\"], [0.18181818181818182, \"rgb(156, 219, 165)\"], [0.2727272727272727, \"rgb(111, 201, 163)\"], [0.36363636363636365, \"rgb(86, 177, 163)\"], [0.45454545454545453, \"rgb(76, 153, 160)\"], [0.5454545454545454, \"rgb(68, 130, 155)\"], [0.6363636363636364, \"rgb(62, 108, 150)\"], [0.7272727272727273, \"rgb(62, 82, 143)\"], [0.8181818181818182, \"rgb(64, 60, 115)\"], [0.9090909090909091, \"rgb(54, 43, 77)\"], [1.0, \"rgb(39, 26, 44)\"]]}, \"height\": 600, \"legend\": {\"tracegroupgap\": 0}, \"template\": {\"data\": {\"bar\": [{\"error_x\": {\"color\": \"#2a3f5f\"}, \"error_y\": {\"color\": \"#2a3f5f\"}, \"marker\": {\"line\": {\"color\": \"#E5ECF6\", \"width\": 0.5}}, \"type\": \"bar\"}], \"barpolar\": [{\"marker\": {\"line\": {\"color\": \"#E5ECF6\", \"width\": 0.5}}, \"type\": \"barpolar\"}], \"carpet\": [{\"aaxis\": {\"endlinecolor\": \"#2a3f5f\", \"gridcolor\": \"white\", \"linecolor\": \"white\", \"minorgridcolor\": \"white\", \"startlinecolor\": \"#2a3f5f\"}, \"baxis\": {\"endlinecolor\": \"#2a3f5f\", \"gridcolor\": \"white\", \"linecolor\": \"white\", \"minorgridcolor\": \"white\", \"startlinecolor\": \"#2a3f5f\"}, \"type\": \"carpet\"}], \"choropleth\": [{\"colorbar\": {\"outlinewidth\": 0, \"ticks\": \"\"}, \"type\": \"choropleth\"}], \"contour\": [{\"colorbar\": {\"outlinewidth\": 0, \"ticks\": \"\"}, \"colorscale\": [[0.0, \"#0d0887\"], [0.1111111111111111, \"#46039f\"], [0.2222222222222222, \"#7201a8\"], [0.3333333333333333, \"#9c179e\"], [0.4444444444444444, \"#bd3786\"], [0.5555555555555556, \"#d8576b\"], [0.6666666666666666, \"#ed7953\"], [0.7777777777777778, \"#fb9f3a\"], [0.8888888888888888, \"#fdca26\"], [1.0, \"#f0f921\"]], \"type\": \"contour\"}], \"contourcarpet\": [{\"colorbar\": {\"outlinewidth\": 0, \"ticks\": \"\"}, \"type\": \"contourcarpet\"}], \"heatmap\": [{\"colorbar\": {\"outlinewidth\": 0, \"ticks\": \"\"}, \"colorscale\": [[0.0, \"#0d0887\"], [0.1111111111111111, \"#46039f\"], [0.2222222222222222, \"#7201a8\"], [0.3333333333333333, \"#9c179e\"], [0.4444444444444444, \"#bd3786\"], [0.5555555555555556, \"#d8576b\"], [0.6666666666666666, \"#ed7953\"], [0.7777777777777778, \"#fb9f3a\"], [0.8888888888888888, \"#fdca26\"], [1.0, \"#f0f921\"]], \"type\": \"heatmap\"}], \"heatmapgl\": [{\"colorbar\": {\"outlinewidth\": 0, \"ticks\": \"\"}, \"colorscale\": [[0.0, \"#0d0887\"], [0.1111111111111111, \"#46039f\"], [0.2222222222222222, \"#7201a8\"], [0.3333333333333333, \"#9c179e\"], [0.4444444444444444, \"#bd3786\"], [0.5555555555555556, \"#d8576b\"], [0.6666666666666666, \"#ed7953\"], [0.7777777777777778, \"#fb9f3a\"], [0.8888888888888888, \"#fdca26\"], [1.0, \"#f0f921\"]], \"type\": \"heatmapgl\"}], \"histogram\": [{\"marker\": {\"colorbar\": {\"outlinewidth\": 0, \"ticks\": \"\"}}, \"type\": \"histogram\"}], \"histogram2d\": [{\"colorbar\": {\"outlinewidth\": 0, \"ticks\": \"\"}, \"colorscale\": [[0.0, \"#0d0887\"], [0.1111111111111111, \"#46039f\"], [0.2222222222222222, \"#7201a8\"], [0.3333333333333333, \"#9c179e\"], [0.4444444444444444, \"#bd3786\"], [0.5555555555555556, \"#d8576b\"], [0.6666666666666666, \"#ed7953\"], [0.7777777777777778, \"#fb9f3a\"], [0.8888888888888888, \"#fdca26\"], [1.0, \"#f0f921\"]], \"type\": \"histogram2d\"}], \"histogram2dcontour\": [{\"colorbar\": {\"outlinewidth\": 0, \"ticks\": \"\"}, \"colorscale\": [[0.0, \"#0d0887\"], [0.1111111111111111, \"#46039f\"], [0.2222222222222222, \"#7201a8\"], [0.3333333333333333, \"#9c179e\"], [0.4444444444444444, \"#bd3786\"], [0.5555555555555556, \"#d8576b\"], [0.6666666666666666, \"#ed7953\"], [0.7777777777777778, \"#fb9f3a\"], [0.8888888888888888, \"#fdca26\"], [1.0, \"#f0f921\"]], \"type\": \"histogram2dcontour\"}], \"mesh3d\": [{\"colorbar\": {\"outlinewidth\": 0, \"ticks\": \"\"}, \"type\": \"mesh3d\"}], \"parcoords\": [{\"line\": {\"colorbar\": {\"outlinewidth\": 0, \"ticks\": \"\"}}, \"type\": \"parcoords\"}], \"pie\": [{\"automargin\": true, \"type\": \"pie\"}], \"scatter\": [{\"marker\": {\"colorbar\": {\"outlinewidth\": 0, \"ticks\": \"\"}}, \"type\": \"scatter\"}], \"scatter3d\": [{\"line\": {\"colorbar\": {\"outlinewidth\": 0, \"ticks\": \"\"}}, \"marker\": {\"colorbar\": {\"outlinewidth\": 0, \"ticks\": \"\"}}, \"type\": \"scatter3d\"}], \"scattercarpet\": [{\"marker\": {\"colorbar\": {\"outlinewidth\": 0, \"ticks\": \"\"}}, \"type\": \"scattercarpet\"}], \"scattergeo\": [{\"marker\": {\"colorbar\": {\"outlinewidth\": 0, \"ticks\": \"\"}}, \"type\": \"scattergeo\"}], \"scattergl\": [{\"marker\": {\"colorbar\": {\"outlinewidth\": 0, \"ticks\": \"\"}}, \"type\": \"scattergl\"}], \"scattermapbox\": [{\"marker\": {\"colorbar\": {\"outlinewidth\": 0, \"ticks\": \"\"}}, \"type\": \"scattermapbox\"}], \"scatterpolar\": [{\"marker\": {\"colorbar\": {\"outlinewidth\": 0, \"ticks\": \"\"}}, \"type\": \"scatterpolar\"}], \"scatterpolargl\": [{\"marker\": {\"colorbar\": {\"outlinewidth\": 0, \"ticks\": \"\"}}, \"type\": \"scatterpolargl\"}], \"scatterternary\": [{\"marker\": {\"colorbar\": {\"outlinewidth\": 0, \"ticks\": \"\"}}, \"type\": \"scatterternary\"}], \"surface\": [{\"colorbar\": {\"outlinewidth\": 0, \"ticks\": \"\"}, \"colorscale\": [[0.0, \"#0d0887\"], [0.1111111111111111, \"#46039f\"], [0.2222222222222222, \"#7201a8\"], [0.3333333333333333, \"#9c179e\"], [0.4444444444444444, \"#bd3786\"], [0.5555555555555556, \"#d8576b\"], [0.6666666666666666, \"#ed7953\"], [0.7777777777777778, \"#fb9f3a\"], [0.8888888888888888, \"#fdca26\"], [1.0, \"#f0f921\"]], \"type\": \"surface\"}], \"table\": [{\"cells\": {\"fill\": {\"color\": \"#EBF0F8\"}, \"line\": {\"color\": \"white\"}}, \"header\": {\"fill\": {\"color\": \"#C8D4E3\"}, \"line\": {\"color\": \"white\"}}, \"type\": \"table\"}]}, \"layout\": {\"annotationdefaults\": {\"arrowcolor\": \"#2a3f5f\", \"arrowhead\": 0, \"arrowwidth\": 1}, \"autotypenumbers\": \"strict\", \"coloraxis\": {\"colorbar\": {\"outlinewidth\": 0, \"ticks\": \"\"}}, \"colorscale\": {\"diverging\": [[0, \"#8e0152\"], [0.1, \"#c51b7d\"], [0.2, \"#de77ae\"], [0.3, \"#f1b6da\"], [0.4, \"#fde0ef\"], [0.5, \"#f7f7f7\"], [0.6, \"#e6f5d0\"], [0.7, \"#b8e186\"], [0.8, \"#7fbc41\"], [0.9, \"#4d9221\"], [1, \"#276419\"]], \"sequential\": [[0.0, \"#0d0887\"], [0.1111111111111111, \"#46039f\"], [0.2222222222222222, \"#7201a8\"], [0.3333333333333333, \"#9c179e\"], [0.4444444444444444, \"#bd3786\"], [0.5555555555555556, \"#d8576b\"], [0.6666666666666666, \"#ed7953\"], [0.7777777777777778, \"#fb9f3a\"], [0.8888888888888888, \"#fdca26\"], [1.0, \"#f0f921\"]], \"sequentialminus\": [[0.0, \"#0d0887\"], [0.1111111111111111, \"#46039f\"], [0.2222222222222222, \"#7201a8\"], [0.3333333333333333, \"#9c179e\"], [0.4444444444444444, \"#bd3786\"], [0.5555555555555556, \"#d8576b\"], [0.6666666666666666, \"#ed7953\"], [0.7777777777777778, \"#fb9f3a\"], [0.8888888888888888, \"#fdca26\"], [1.0, \"#f0f921\"]]}, \"colorway\": [\"#636efa\", \"#EF553B\", \"#00cc96\", \"#ab63fa\", \"#FFA15A\", \"#19d3f3\", \"#FF6692\", \"#B6E880\", \"#FF97FF\", \"#FECB52\"], \"font\": {\"color\": \"#2a3f5f\"}, \"geo\": {\"bgcolor\": \"white\", \"lakecolor\": \"white\", \"landcolor\": \"#E5ECF6\", \"showlakes\": true, \"showland\": true, \"subunitcolor\": \"white\"}, \"hoverlabel\": {\"align\": \"left\"}, \"hovermode\": \"closest\", \"mapbox\": {\"style\": \"light\"}, \"paper_bgcolor\": \"white\", \"plot_bgcolor\": \"#E5ECF6\", \"polar\": {\"angularaxis\": {\"gridcolor\": \"white\", \"linecolor\": \"white\", \"ticks\": \"\"}, \"bgcolor\": \"#E5ECF6\", \"radialaxis\": {\"gridcolor\": \"white\", \"linecolor\": \"white\", \"ticks\": \"\"}}, \"scene\": {\"xaxis\": {\"backgroundcolor\": \"#E5ECF6\", \"gridcolor\": \"white\", \"gridwidth\": 2, \"linecolor\": \"white\", \"showbackground\": true, \"ticks\": \"\", \"zerolinecolor\": \"white\"}, \"yaxis\": {\"backgroundcolor\": \"#E5ECF6\", \"gridcolor\": \"white\", \"gridwidth\": 2, \"linecolor\": \"white\", \"showbackground\": true, \"ticks\": \"\", \"zerolinecolor\": \"white\"}, \"zaxis\": {\"backgroundcolor\": \"#E5ECF6\", \"gridcolor\": \"white\", \"gridwidth\": 2, \"linecolor\": \"white\", \"showbackground\": true, \"ticks\": \"\", \"zerolinecolor\": \"white\"}}, \"shapedefaults\": {\"line\": {\"color\": \"#2a3f5f\"}}, \"ternary\": {\"aaxis\": {\"gridcolor\": \"white\", \"linecolor\": \"white\", \"ticks\": \"\"}, \"baxis\": {\"gridcolor\": \"white\", \"linecolor\": \"white\", \"ticks\": \"\"}, \"bgcolor\": \"#E5ECF6\", \"caxis\": {\"gridcolor\": \"white\", \"linecolor\": \"white\", \"ticks\": \"\"}}, \"title\": {\"x\": 0.05}, \"xaxis\": {\"automargin\": true, \"gridcolor\": \"white\", \"linecolor\": \"white\", \"ticks\": \"\", \"title\": {\"standoff\": 15}, \"zerolinecolor\": \"white\", \"zerolinewidth\": 2}, \"yaxis\": {\"automargin\": true, \"gridcolor\": \"white\", \"linecolor\": \"white\", \"ticks\": \"\", \"title\": {\"standoff\": 15}, \"zerolinecolor\": \"white\", \"zerolinewidth\": 2}}}, \"title\": {\"text\": \"20 biggest companies which responsible for almost 50% CO2 emissions\"}, \"width\": 750},                        {\"responsive\": true}                    ).then(function(){\n",
       "                            \n",
       "var gd = document.getElementById('f0831144-06ca-46a2-b246-77662d8ac101');\n",
       "var x = new MutationObserver(function (mutations, observer) {{\n",
       "        var display = window.getComputedStyle(gd).display;\n",
       "        if (!display || display === 'none') {{\n",
       "            console.log([gd, 'removed!']);\n",
       "            Plotly.purge(gd);\n",
       "            observer.disconnect();\n",
       "        }}\n",
       "}});\n",
       "\n",
       "// Listen for the removal of the full notebook cells\n",
       "var notebookContainer = gd.closest('#notebook-container');\n",
       "if (notebookContainer) {{\n",
       "    x.observe(notebookContainer, {childList: true});\n",
       "}}\n",
       "\n",
       "// Listen for the clearing of the current output cell\n",
       "var outputEl = gd.closest('.output');\n",
       "if (outputEl) {{\n",
       "    x.observe(outputEl, {childList: true});\n",
       "}}\n",
       "\n",
       "                        })                };                });            </script>        </div>"
      ]
     },
     "metadata": {},
     "output_type": "display_data"
    }
   ],
   "source": [
    "fig = px.sunburst(df21, \n",
    "                  path=['region', 'company'],\n",
    "                  title='20 biggest companies which responsible for almost 50% CO2 emissions',\n",
    "                  values='percent',\n",
    "                  color='percent',\n",
    "                  color_continuous_scale='deep',\n",
    "                  width=750,\n",
    "                  height=600,\n",
    "                  hover_data=['region'])\n",
    "fig.show()"
   ]
  },
  {
   "cell_type": "code",
   "execution_count": 32,
   "metadata": {},
   "outputs": [
    {
     "data": {
      "application/vnd.plotly.v1+json": {
       "config": {
        "plotlyServerURL": "https://plot.ly"
       },
       "data": [
        {
         "geo": "geo",
         "hovertemplate": "<b>%{hovertext}</b><br><br>region=Asia<br>percent=%{marker.size}<br>Alpha-3 code=%{location}<extra></extra>",
         "hovertext": [
          "China National Coal Group Company Limited"
         ],
         "legendgroup": "Asia",
         "locations": [
          "CHN"
         ],
         "marker": {
          "color": "#636efa",
          "size": [
           14.32
          ],
          "sizemode": "area",
          "sizeref": 0.0358,
          "symbol": "circle"
         },
         "mode": "markers",
         "name": "Asia",
         "showlegend": true,
         "type": "scattergeo"
        }
       ],
       "frames": [
        {
         "data": [
          {
           "geo": "geo",
           "hovertemplate": "<b>%{hovertext}</b><br><br>region=Asia<br>percent=%{marker.size}<br>Alpha-3 code=%{location}<extra></extra>",
           "hovertext": [
            "China National Coal Group Company Limited"
           ],
           "legendgroup": "Asia",
           "locations": [
            "CHN"
           ],
           "marker": {
            "color": "#636efa",
            "size": [
             14.32
            ],
            "sizemode": "area",
            "sizeref": 0.0358,
            "symbol": "circle"
           },
           "mode": "markers",
           "name": "Asia",
           "showlegend": true,
           "type": "scattergeo"
          }
         ],
         "name": "14.32"
        },
        {
         "data": [
          {
           "geo": "geo",
           "hovertemplate": "<b>%{hovertext}</b><br><br>region=Asia<br>percent=%{marker.size}<br>Alpha-3 code=%{location}<extra></extra>",
           "hovertext": [
            "Saudi Arabian Oil Company (Aramco)"
           ],
           "legendgroup": "Asia",
           "locations": [
            "SAU"
           ],
           "marker": {
            "color": "#636efa",
            "size": [
             4.5
            ],
            "sizemode": "area",
            "sizeref": 0.0358,
            "symbol": "circle"
           },
           "mode": "markers",
           "name": "Asia",
           "showlegend": true,
           "type": "scattergeo"
          }
         ],
         "name": "4.5"
        },
        {
         "data": [
          {
           "geo": "geo",
           "hovertemplate": "<b>%{hovertext}</b><br><br>region=Europe<br>percent=%{marker.size}<br>Alpha-3 code=%{location}<extra></extra>",
           "hovertext": [
            "Gazprom OAO"
           ],
           "legendgroup": "Europe",
           "locations": [
            "RUS"
           ],
           "marker": {
            "color": "#EF553B",
            "size": [
             3.91
            ],
            "sizemode": "area",
            "sizeref": 0.0358,
            "symbol": "circle"
           },
           "mode": "markers",
           "name": "Europe",
           "showlegend": true,
           "type": "scattergeo"
          }
         ],
         "name": "3.91"
        },
        {
         "data": [
          {
           "geo": "geo",
           "hovertemplate": "<b>%{hovertext}</b><br><br>region=Asia<br>percent=%{marker.size}<br>Alpha-3 code=%{location}<extra></extra>",
           "hovertext": [
            "National Iranian Oil Co"
           ],
           "legendgroup": "Asia",
           "locations": [
            "IRN"
           ],
           "marker": {
            "color": "#636efa",
            "size": [
             2.28
            ],
            "sizemode": "area",
            "sizeref": 0.0358,
            "symbol": "circle"
           },
           "mode": "markers",
           "name": "Asia",
           "showlegend": true,
           "type": "scattergeo"
          }
         ],
         "name": "2.28"
        },
        {
         "data": [
          {
           "geo": "geo",
           "hovertemplate": "<b>%{hovertext}</b><br><br>region=North America<br>percent=%{marker.size}<br>Alpha-3 code=%{location}<extra></extra>",
           "hovertext": [
            "ExxonMobil Corp"
           ],
           "legendgroup": "North America",
           "locations": [
            "USA"
           ],
           "marker": {
            "color": "#00cc96",
            "size": [
             1.98
            ],
            "sizemode": "area",
            "sizeref": 0.0358,
            "symbol": "circle"
           },
           "mode": "markers",
           "name": "North America",
           "showlegend": true,
           "type": "scattergeo"
          }
         ],
         "name": "1.98"
        },
        {
         "data": [
          {
           "geo": "geo",
           "hovertemplate": "<b>%{hovertext}</b><br><br>region=Asia<br>percent=%{marker.size}<br>Alpha-3 code=%{location}<extra></extra>",
           "hovertext": [
            "Coal India"
           ],
           "legendgroup": "Asia",
           "locations": [
            "IND"
           ],
           "marker": {
            "color": "#636efa",
            "size": [
             1.87
            ],
            "sizemode": "area",
            "sizeref": 0.0358,
            "symbol": "circle"
           },
           "mode": "markers",
           "name": "Asia",
           "showlegend": true,
           "type": "scattergeo"
          },
          {
           "geo": "geo",
           "hovertemplate": "<b>%{hovertext}</b><br><br>region=Latin America<br>percent=%{marker.size}<br>Alpha-3 code=%{location}<extra></extra>",
           "hovertext": [
            "Petroleos Mexicanos (Pemex)"
           ],
           "legendgroup": "Latin America",
           "locations": [
            "MEX"
           ],
           "marker": {
            "color": "#ab63fa",
            "size": [
             1.87
            ],
            "sizemode": "area",
            "sizeref": 0.0358,
            "symbol": "circle"
           },
           "mode": "markers",
           "name": "Latin America",
           "showlegend": true,
           "type": "scattergeo"
          }
         ],
         "name": "1.87"
        },
        {
         "data": [
          {
           "geo": "geo",
           "hovertemplate": "<b>%{hovertext}</b><br><br>region=Europe<br>percent=%{marker.size}<br>Alpha-3 code=%{location}<extra></extra>",
           "hovertext": [
            "Russia (Coal)"
           ],
           "legendgroup": "Europe",
           "locations": [
            "RUS"
           ],
           "marker": {
            "color": "#EF553B",
            "size": [
             1.86
            ],
            "sizemode": "area",
            "sizeref": 0.0358,
            "symbol": "circle"
           },
           "mode": "markers",
           "name": "Europe",
           "showlegend": true,
           "type": "scattergeo"
          }
         ],
         "name": "1.86"
        },
        {
         "data": [
          {
           "geo": "geo",
           "hovertemplate": "<b>%{hovertext}</b><br><br>region=Europe<br>percent=%{marker.size}<br>Alpha-3 code=%{location}<extra></extra>",
           "hovertext": [
            "Royal Dutch Shell PLC"
           ],
           "legendgroup": "Europe",
           "locations": [
            "NLD"
           ],
           "marker": {
            "color": "#EF553B",
            "size": [
             1.67
            ],
            "sizemode": "area",
            "sizeref": 0.0358,
            "symbol": "circle"
           },
           "mode": "markers",
           "name": "Europe",
           "showlegend": true,
           "type": "scattergeo"
          }
         ],
         "name": "1.67"
        },
        {
         "data": [
          {
           "geo": "geo",
           "hovertemplate": "<b>%{hovertext}</b><br><br>region=Asia<br>percent=%{marker.size}<br>Alpha-3 code=%{location}<extra></extra>",
           "hovertext": [
            "China National Petroleum Corp (CNPC)"
           ],
           "legendgroup": "Asia",
           "locations": [
            "CHN"
           ],
           "marker": {
            "color": "#636efa",
            "size": [
             1.56
            ],
            "sizemode": "area",
            "sizeref": 0.0358,
            "symbol": "circle"
           },
           "mode": "markers",
           "name": "Asia",
           "showlegend": true,
           "type": "scattergeo"
          }
         ],
         "name": "1.56"
        },
        {
         "data": [
          {
           "geo": "geo",
           "hovertemplate": "<b>%{hovertext}</b><br><br>region=Europe<br>percent=%{marker.size}<br>Alpha-3 code=%{location}<extra></extra>",
           "hovertext": [
            "BP PLC"
           ],
           "legendgroup": "Europe",
           "locations": [
            "GBR"
           ],
           "marker": {
            "color": "#EF553B",
            "size": [
             1.53
            ],
            "sizemode": "area",
            "sizeref": 0.0358,
            "symbol": "circle"
           },
           "mode": "markers",
           "name": "Europe",
           "showlegend": true,
           "type": "scattergeo"
          }
         ],
         "name": "1.53"
        },
        {
         "data": [
          {
           "geo": "geo",
           "hovertemplate": "<b>%{hovertext}</b><br><br>region=North America<br>percent=%{marker.size}<br>Alpha-3 code=%{location}<extra></extra>",
           "hovertext": [
            "Chevron Corp"
           ],
           "legendgroup": "North America",
           "locations": [
            "USA"
           ],
           "marker": {
            "color": "#00cc96",
            "size": [
             1.31
            ],
            "sizemode": "area",
            "sizeref": 0.0358,
            "symbol": "circle"
           },
           "mode": "markers",
           "name": "North America",
           "showlegend": true,
           "type": "scattergeo"
          }
         ],
         "name": "1.31"
        },
        {
         "data": [
          {
           "geo": "geo",
           "hovertemplate": "<b>%{hovertext}</b><br><br>region=Latin America<br>percent=%{marker.size}<br>Alpha-3 code=%{location}<extra></extra>",
           "hovertext": [
            "Petroleos de Venezuela SA (PDVSA)"
           ],
           "legendgroup": "Latin America",
           "locations": [
            "VEN"
           ],
           "marker": {
            "color": "#ab63fa",
            "size": [
             1.23
            ],
            "sizemode": "area",
            "sizeref": 0.0358,
            "symbol": "circle"
           },
           "mode": "markers",
           "name": "Latin America",
           "showlegend": true,
           "type": "scattergeo"
          }
         ],
         "name": "1.23"
        },
        {
         "data": [
          {
           "geo": "geo",
           "hovertemplate": "<b>%{hovertext}</b><br><br>region=Asia<br>percent=%{marker.size}<br>Alpha-3 code=%{location}<extra></extra>",
           "hovertext": [
            "Abu Dhabi National Oil Co"
           ],
           "legendgroup": "Asia",
           "locations": [
            "SAU"
           ],
           "marker": {
            "color": "#636efa",
            "size": [
             1.2
            ],
            "sizemode": "area",
            "sizeref": 0.0358,
            "symbol": "circle"
           },
           "mode": "markers",
           "name": "Asia",
           "showlegend": true,
           "type": "scattergeo"
          }
         ],
         "name": "1.2"
        },
        {
         "data": [
          {
           "geo": "geo",
           "hovertemplate": "<b>%{hovertext}</b><br><br>region=Europe<br>percent=%{marker.size}<br>Alpha-3 code=%{location}<extra></extra>",
           "hovertext": [
            "Poland Coal"
           ],
           "legendgroup": "Europe",
           "locations": [
            "POL"
           ],
           "marker": {
            "color": "#EF553B",
            "size": [
             1.16
            ],
            "sizemode": "area",
            "sizeref": 0.0358,
            "symbol": "circle"
           },
           "mode": "markers",
           "name": "Europe",
           "showlegend": true,
           "type": "scattergeo"
          }
         ],
         "name": "1.16"
        },
        {
         "data": [
          {
           "geo": "geo",
           "hovertemplate": "<b>%{hovertext}</b><br><br>region=North America<br>percent=%{marker.size}<br>Alpha-3 code=%{location}<extra></extra>",
           "hovertext": [
            "Peabody Energy Corp"
           ],
           "legendgroup": "North America",
           "locations": [
            "USA"
           ],
           "marker": {
            "color": "#00cc96",
            "size": [
             1.15
            ],
            "sizemode": "area",
            "sizeref": 0.0358,
            "symbol": "circle"
           },
           "mode": "markers",
           "name": "North America",
           "showlegend": true,
           "type": "scattergeo"
          }
         ],
         "name": "1.15"
        },
        {
         "data": [
          {
           "geo": "geo",
           "hovertemplate": "<b>%{hovertext}</b><br><br>region=Asia<br>percent=%{marker.size}<br>Alpha-3 code=%{location}<extra></extra>",
           "hovertext": [
            "Kuwait Petroleum Corp"
           ],
           "legendgroup": "Asia",
           "locations": [
            "KWT"
           ],
           "marker": {
            "color": "#636efa",
            "size": [
             1
            ],
            "sizemode": "area",
            "sizeref": 0.0358,
            "symbol": "circle"
           },
           "mode": "markers",
           "name": "Asia",
           "showlegend": true,
           "type": "scattergeo"
          },
          {
           "geo": "geo",
           "hovertemplate": "<b>%{hovertext}</b><br><br>region=Africa<br>percent=%{marker.size}<br>Alpha-3 code=%{location}<extra></extra>",
           "hovertext": [
            "Sonatrach SPA"
           ],
           "legendgroup": "Africa",
           "locations": [
            "DZA"
           ],
           "marker": {
            "color": "#FFA15A",
            "size": [
             1
            ],
            "sizemode": "area",
            "sizeref": 0.0358,
            "symbol": "circle"
           },
           "mode": "markers",
           "name": "Africa",
           "showlegend": true,
           "type": "scattergeo"
          }
         ],
         "name": "1.0"
        },
        {
         "data": [
          {
           "geo": "geo",
           "hovertemplate": "<b>%{hovertext}</b><br><br>region=Europe<br>percent=%{marker.size}<br>Alpha-3 code=%{location}<extra></extra>",
           "hovertext": [
            "Total SA"
           ],
           "legendgroup": "Europe",
           "locations": [
            "FRA"
           ],
           "marker": {
            "color": "#EF553B",
            "size": [
             0.95
            ],
            "sizemode": "area",
            "sizeref": 0.0358,
            "symbol": "circle"
           },
           "mode": "markers",
           "name": "Europe",
           "showlegend": true,
           "type": "scattergeo"
          }
         ],
         "name": "0.95"
        },
        {
         "data": [
          {
           "geo": "geo",
           "hovertemplate": "<b>%{hovertext}</b><br><br>region=North America<br>percent=%{marker.size}<br>Alpha-3 code=%{location}<extra></extra>",
           "hovertext": [
            "ConocoPhillips"
           ],
           "legendgroup": "North America",
           "locations": [
            "USA"
           ],
           "marker": {
            "color": "#00cc96",
            "size": [
             0.91
            ],
            "sizemode": "area",
            "sizeref": 0.0358,
            "symbol": "circle"
           },
           "mode": "markers",
           "name": "North America",
           "showlegend": true,
           "type": "scattergeo"
          },
          {
           "geo": "geo",
           "hovertemplate": "<b>%{hovertext}</b><br><br>region=Oceaniy<br>percent=%{marker.size}<br>Alpha-3 code=%{location}<extra></extra>",
           "hovertext": [
            "BHP Billiton Ltd"
           ],
           "legendgroup": "Oceaniy",
           "locations": [
            "AUS"
           ],
           "marker": {
            "color": "#19d3f3",
            "size": [
             0.91
            ],
            "sizemode": "area",
            "sizeref": 0.0358,
            "symbol": "circle"
           },
           "mode": "markers",
           "name": "Oceaniy",
           "showlegend": true,
           "type": "scattergeo"
          }
         ],
         "name": "0.91"
        },
        {
         "data": [
          {
           "geo": "geo",
           "hovertemplate": "<b>%{hovertext}</b><br><br>region=Latin America<br>percent=%{marker.size}<br>Alpha-3 code=%{location}<extra></extra>",
           "hovertext": [
            "Petroleo Brasileiro SA (Petrobras)"
           ],
           "legendgroup": "Latin America",
           "locations": [
            "BRA"
           ],
           "marker": {
            "color": "#ab63fa",
            "size": [
             0.77
            ],
            "sizemode": "area",
            "sizeref": 0.0358,
            "symbol": "circle"
           },
           "mode": "markers",
           "name": "Latin America",
           "showlegend": true,
           "type": "scattergeo"
          }
         ],
         "name": "0.77"
        },
        {
         "data": [
          {
           "geo": "geo",
           "hovertemplate": "<b>%{hovertext}</b><br><br>region=Europe<br>percent=%{marker.size}<br>Alpha-3 code=%{location}<extra></extra>",
           "hovertext": [
            "Lukoil OAO",
            "Rio Tinto"
           ],
           "legendgroup": "Europe",
           "locations": [
            "RUS",
            "GBR"
           ],
           "marker": {
            "color": "#EF553B",
            "size": [
             0.75,
             0.75
            ],
            "sizemode": "area",
            "sizeref": 0.0358,
            "symbol": "circle"
           },
           "mode": "markers",
           "name": "Europe",
           "showlegend": true,
           "type": "scattergeo"
          }
         ],
         "name": "0.75"
        },
        {
         "data": [
          {
           "geo": "geo",
           "hovertemplate": "<b>%{hovertext}</b><br><br>region=Africa<br>percent=%{marker.size}<br>Alpha-3 code=%{location}<extra></extra>",
           "hovertext": [
            "Nigerian National Petroleum Corp"
           ],
           "legendgroup": "Africa",
           "locations": [
            "NGA"
           ],
           "marker": {
            "color": "#FFA15A",
            "size": [
             0.72
            ],
            "sizemode": "area",
            "sizeref": 0.0358,
            "symbol": "circle"
           },
           "mode": "markers",
           "name": "Africa",
           "showlegend": true,
           "type": "scattergeo"
          }
         ],
         "name": "0.72"
        },
        {
         "data": [
          {
           "geo": "geo",
           "hovertemplate": "<b>%{hovertext}</b><br><br>region=Asia<br>percent=%{marker.size}<br>Alpha-3 code=%{location}<extra></extra>",
           "hovertext": [
            "Petroliam Nasional Berhad (Petronas)"
           ],
           "legendgroup": "Asia",
           "locations": [
            "MYS"
           ],
           "marker": {
            "color": "#636efa",
            "size": [
             0.69
            ],
            "sizemode": "area",
            "sizeref": 0.0358,
            "symbol": "circle"
           },
           "mode": "markers",
           "name": "Asia",
           "showlegend": true,
           "type": "scattergeo"
          }
         ],
         "name": "0.69"
        },
        {
         "data": [
          {
           "geo": "geo",
           "hovertemplate": "<b>%{hovertext}</b><br><br>region=Europe<br>percent=%{marker.size}<br>Alpha-3 code=%{location}<extra></extra>",
           "hovertext": [
            "Rosneft OAO"
           ],
           "legendgroup": "Europe",
           "locations": [
            "RUS"
           ],
           "marker": {
            "color": "#EF553B",
            "size": [
             0.65
            ],
            "sizemode": "area",
            "sizeref": 0.0358,
            "symbol": "circle"
           },
           "mode": "markers",
           "name": "Europe",
           "showlegend": true,
           "type": "scattergeo"
          }
         ],
         "name": "0.65"
        },
        {
         "data": [
          {
           "geo": "geo",
           "hovertemplate": "<b>%{hovertext}</b><br><br>region=North America<br>percent=%{marker.size}<br>Alpha-3 code=%{location}<extra></extra>",
           "hovertext": [
            "Arch Coal Inc"
           ],
           "legendgroup": "North America",
           "locations": [
            "USA"
           ],
           "marker": {
            "color": "#00cc96",
            "size": [
             0.63
            ],
            "sizemode": "area",
            "sizeref": 0.0358,
            "symbol": "circle"
           },
           "mode": "markers",
           "name": "North America",
           "showlegend": true,
           "type": "scattergeo"
          }
         ],
         "name": "0.63"
        },
        {
         "data": [
          {
           "geo": "geo",
           "hovertemplate": "<b>%{hovertext}</b><br><br>region=Asia<br>percent=%{marker.size}<br>Alpha-3 code=%{location}<extra></extra>",
           "hovertext": [
            "Iraq National Oil Co"
           ],
           "legendgroup": "Asia",
           "locations": [
            "IRQ"
           ],
           "marker": {
            "color": "#636efa",
            "size": [
             0.6
            ],
            "sizemode": "area",
            "sizeref": 0.0358,
            "symbol": "circle"
           },
           "mode": "markers",
           "name": "Asia",
           "showlegend": true,
           "type": "scattergeo"
          }
         ],
         "name": "0.6"
        },
        {
         "data": [
          {
           "geo": "geo",
           "hovertemplate": "<b>%{hovertext}</b><br><br>region=Europe<br>percent=%{marker.size}<br>Alpha-3 code=%{location}<extra></extra>",
           "hovertext": [
            "Eni SPA"
           ],
           "legendgroup": "Europe",
           "locations": [
            "ITA"
           ],
           "marker": {
            "color": "#EF553B",
            "size": [
             0.59
            ],
            "sizemode": "area",
            "sizeref": 0.0358,
            "symbol": "circle"
           },
           "mode": "markers",
           "name": "Europe",
           "showlegend": true,
           "type": "scattergeo"
          },
          {
           "geo": "geo",
           "hovertemplate": "<b>%{hovertext}</b><br><br>region=Africa<br>percent=%{marker.size}<br>Alpha-3 code=%{location}<extra></extra>",
           "hovertext": [
            "Anglo American"
           ],
           "legendgroup": "Africa",
           "locations": [
            "ZAF"
           ],
           "marker": {
            "color": "#FFA15A",
            "size": [
             0.59
            ],
            "sizemode": "area",
            "sizeref": 0.0358,
            "symbol": "circle"
           },
           "mode": "markers",
           "name": "Africa",
           "showlegend": true,
           "type": "scattergeo"
          }
         ],
         "name": "0.59"
        },
        {
         "data": [
          {
           "geo": "geo",
           "hovertemplate": "<b>%{hovertext}</b><br><br>region=Asia<br>percent=%{marker.size}<br>Alpha-3 code=%{location}<extra></extra>",
           "hovertext": [
            "Surgutneftegas OAO"
           ],
           "legendgroup": "Asia",
           "locations": [
            "RUS"
           ],
           "marker": {
            "color": "#636efa",
            "size": [
             0.57
            ],
            "sizemode": "area",
            "sizeref": 0.0358,
            "symbol": "circle"
           },
           "mode": "markers",
           "name": "Asia",
           "showlegend": true,
           "type": "scattergeo"
          }
         ],
         "name": "0.57"
        },
        {
         "data": [
          {
           "geo": "geo",
           "hovertemplate": "<b>%{hovertext}</b><br><br>region=Asia<br>percent=%{marker.size}<br>Alpha-3 code=%{location}<extra></extra>",
           "hovertext": [
            "Qatar Petroleum Corp",
            "PT Pertamina"
           ],
           "legendgroup": "Asia",
           "locations": [
            "QAT",
            "IDN"
           ],
           "marker": {
            "color": "#636efa",
            "size": [
             0.54,
             0.54
            ],
            "sizemode": "area",
            "sizeref": 0.0358,
            "symbol": "circle"
           },
           "mode": "markers",
           "name": "Asia",
           "showlegend": true,
           "type": "scattergeo"
          },
          {
           "geo": "geo",
           "hovertemplate": "<b>%{hovertext}</b><br><br>region=North America<br>percent=%{marker.size}<br>Alpha-3 code=%{location}<extra></extra>",
           "hovertext": [
            "Alpha Natural Resources Inc"
           ],
           "legendgroup": "North America",
           "locations": [
            "USA"
           ],
           "marker": {
            "color": "#00cc96",
            "size": [
             0.54
            ],
            "sizemode": "area",
            "sizeref": 0.0358,
            "symbol": "circle"
           },
           "mode": "markers",
           "name": "North America",
           "showlegend": true,
           "type": "scattergeo"
          }
         ],
         "name": "0.54"
        },
        {
         "data": [
          {
           "geo": "geo",
           "hovertemplate": "<b>%{hovertext}</b><br><br>region=Asia<br>percent=%{marker.size}<br>Alpha-3 code=%{location}<extra></extra>",
           "hovertext": [
            "Kazakhstan Coal"
           ],
           "legendgroup": "Asia",
           "locations": [
            "KAZ"
           ],
           "marker": {
            "color": "#636efa",
            "size": [
             0.53
            ],
            "sizemode": "area",
            "sizeref": 0.0358,
            "symbol": "circle"
           },
           "mode": "markers",
           "name": "Asia",
           "showlegend": true,
           "type": "scattergeo"
          }
         ],
         "name": "0.53"
        },
        {
         "data": [
          {
           "geo": "geo",
           "hovertemplate": "<b>%{hovertext}</b><br><br>region=Europe<br>percent=%{marker.size}<br>Alpha-3 code=%{location}<extra></extra>",
           "hovertext": [
            "Statoil ASA"
           ],
           "legendgroup": "Europe",
           "locations": [
            "NOR"
           ],
           "marker": {
            "color": "#EF553B",
            "size": [
             0.52
            ],
            "sizemode": "area",
            "sizeref": 0.0358,
            "symbol": "circle"
           },
           "mode": "markers",
           "name": "Europe",
           "showlegend": true,
           "type": "scattergeo"
          }
         ],
         "name": "0.52"
        },
        {
         "data": [
          {
           "geo": "geo",
           "hovertemplate": "<b>%{hovertext}</b><br><br>region=North America<br>percent=%{marker.size}<br>Alpha-3 code=%{location}<extra></extra>",
           "hovertext": [
            "Consol Energy Inc"
           ],
           "legendgroup": "North America",
           "locations": [
            "USA"
           ],
           "marker": {
            "color": "#00cc96",
            "size": [
             0.5
            ],
            "sizemode": "area",
            "sizeref": 0.0358,
            "symbol": "circle"
           },
           "mode": "markers",
           "name": "North America",
           "showlegend": true,
           "type": "scattergeo"
          },
          {
           "geo": "geo",
           "hovertemplate": "<b>%{hovertext}</b><br><br>region=Africa<br>percent=%{marker.size}<br>Alpha-3 code=%{location}<extra></extra>",
           "hovertext": [
            "National Oil Corporation of Libya"
           ],
           "legendgroup": "Africa",
           "locations": [
            "LBY"
           ],
           "marker": {
            "color": "#FFA15A",
            "size": [
             0.5
            ],
            "sizemode": "area",
            "sizeref": 0.0358,
            "symbol": "circle"
           },
           "mode": "markers",
           "name": "Africa",
           "showlegend": true,
           "type": "scattergeo"
          }
         ],
         "name": "0.5"
        },
        {
         "data": [
          {
           "geo": "geo",
           "hovertemplate": "<b>%{hovertext}</b><br><br>region=Europe<br>percent=%{marker.size}<br>Alpha-3 code=%{location}<extra></extra>",
           "hovertext": [
            "Ukraine Coal"
           ],
           "legendgroup": "Europe",
           "locations": [
            "UKR"
           ],
           "marker": {
            "color": "#EF553B",
            "size": [
             0.49
            ],
            "sizemode": "area",
            "sizeref": 0.0358,
            "symbol": "circle"
           },
           "mode": "markers",
           "name": "Europe",
           "showlegend": true,
           "type": "scattergeo"
          }
         ],
         "name": "0.49"
        },
        {
         "data": [
          {
           "geo": "geo",
           "hovertemplate": "<b>%{hovertext}</b><br><br>region=Europe<br>percent=%{marker.size}<br>Alpha-3 code=%{location}<extra></extra>",
           "hovertext": [
            "RWE AG"
           ],
           "legendgroup": "Europe",
           "locations": [
            "DEU"
           ],
           "marker": {
            "color": "#EF553B",
            "size": [
             0.47
            ],
            "sizemode": "area",
            "sizeref": 0.0358,
            "symbol": "circle"
           },
           "mode": "markers",
           "name": "Europe",
           "showlegend": true,
           "type": "scattergeo"
          }
         ],
         "name": "0.47"
        },
        {
         "data": [
          {
           "geo": "geo",
           "hovertemplate": "<b>%{hovertext}</b><br><br>region=Asia<br>percent=%{marker.size}<br>Alpha-3 code=%{location}<extra></extra>",
           "hovertext": [
            "Oil & Natural Gas Corp Ltd"
           ],
           "legendgroup": "Asia",
           "locations": [
            "IND"
           ],
           "marker": {
            "color": "#636efa",
            "size": [
             0.4
            ],
            "sizemode": "area",
            "sizeref": 0.0358,
            "symbol": "circle"
           },
           "mode": "markers",
           "name": "Asia",
           "showlegend": true,
           "type": "scattergeo"
          }
         ],
         "name": "0.4"
        },
        {
         "data": [
          {
           "geo": "geo",
           "hovertemplate": "<b>%{hovertext}</b><br><br>region=Europe<br>percent=%{marker.size}<br>Alpha-3 code=%{location}<extra></extra>",
           "hovertext": [
            "Glencore PLC"
           ],
           "legendgroup": "Europe",
           "locations": [
            "CHE"
           ],
           "marker": {
            "color": "#EF553B",
            "size": [
             0.38
            ],
            "sizemode": "area",
            "sizeref": 0.0358,
            "symbol": "circle"
           },
           "mode": "markers",
           "name": "Europe",
           "showlegend": true,
           "type": "scattergeo"
          }
         ],
         "name": "0.38"
        },
        {
         "data": [
          {
           "geo": "geo",
           "hovertemplate": "<b>%{hovertext}</b><br><br>region=Asia<br>percent=%{marker.size}<br>Alpha-3 code=%{location}<extra></extra>",
           "hovertext": [
            "TurkmenGaz"
           ],
           "legendgroup": "Asia",
           "locations": [
            "TKM"
           ],
           "marker": {
            "color": "#636efa",
            "size": [
             0.36
            ],
            "sizemode": "area",
            "sizeref": 0.0358,
            "symbol": "circle"
           },
           "mode": "markers",
           "name": "Asia",
           "showlegend": true,
           "type": "scattergeo"
          }
         ],
         "name": "0.36"
        },
        {
         "data": [
          {
           "geo": "geo",
           "hovertemplate": "<b>%{hovertext}</b><br><br>region=Africa<br>percent=%{marker.size}<br>Alpha-3 code=%{location}<extra></extra>",
           "hovertext": [
            "Sasol Ltd"
           ],
           "legendgroup": "Africa",
           "locations": [
            "ZAF"
           ],
           "marker": {
            "color": "#FFA15A",
            "size": [
             0.35
            ],
            "sizemode": "area",
            "sizeref": 0.0358,
            "symbol": "circle"
           },
           "mode": "markers",
           "name": "Africa",
           "showlegend": true,
           "type": "scattergeo"
          }
         ],
         "name": "0.35"
        },
        {
         "data": [
          {
           "geo": "geo",
           "hovertemplate": "<b>%{hovertext}</b><br><br>region=Europe<br>percent=%{marker.size}<br>Alpha-3 code=%{location}<extra></extra>",
           "hovertext": [
            "Repsol SA"
           ],
           "legendgroup": "Europe",
           "locations": [
            "ESP"
           ],
           "marker": {
            "color": "#EF553B",
            "size": [
             0.33
            ],
            "sizemode": "area",
            "sizeref": 0.0358,
            "symbol": "circle"
           },
           "mode": "markers",
           "name": "Europe",
           "showlegend": true,
           "type": "scattergeo"
          },
          {
           "geo": "geo",
           "hovertemplate": "<b>%{hovertext}</b><br><br>region=North America<br>percent=%{marker.size}<br>Alpha-3 code=%{location}<extra></extra>",
           "hovertext": [
            "Anadarko Petroleum Corp"
           ],
           "legendgroup": "North America",
           "locations": [
            "USA"
           ],
           "marker": {
            "color": "#00cc96",
            "size": [
             0.33
            ],
            "sizemode": "area",
            "sizeref": 0.0358,
            "symbol": "circle"
           },
           "mode": "markers",
           "name": "North America",
           "showlegend": true,
           "type": "scattergeo"
          }
         ],
         "name": "0.33"
        },
        {
         "data": [
          {
           "geo": "geo",
           "hovertemplate": "<b>%{hovertext}</b><br><br>region=Asia<br>percent=%{marker.size}<br>Alpha-3 code=%{location}<extra></extra>",
           "hovertext": [
            "Petroleum Development Oman LLC"
           ],
           "legendgroup": "Asia",
           "locations": [
            "OMN"
           ],
           "marker": {
            "color": "#636efa",
            "size": [
             0.31
            ],
            "sizemode": "area",
            "sizeref": 0.0358,
            "symbol": "circle"
           },
           "mode": "markers",
           "name": "Asia",
           "showlegend": true,
           "type": "scattergeo"
          },
          {
           "geo": "geo",
           "hovertemplate": "<b>%{hovertext}</b><br><br>region=Africa<br>percent=%{marker.size}<br>Alpha-3 code=%{location}<extra></extra>",
           "hovertext": [
            "Egyptian General Petroleum Corp"
           ],
           "legendgroup": "Africa",
           "locations": [
            "EGY"
           ],
           "marker": {
            "color": "#FFA15A",
            "size": [
             0.31
            ],
            "sizemode": "area",
            "sizeref": 0.0358,
            "symbol": "circle"
           },
           "mode": "markers",
           "name": "Africa",
           "showlegend": true,
           "type": "scattergeo"
          }
         ],
         "name": "0.31"
        },
        {
         "data": [
          {
           "geo": "geo",
           "hovertemplate": "<b>%{hovertext}</b><br><br>region=Europe<br>percent=%{marker.size}<br>Alpha-3 code=%{location}<extra></extra>",
           "hovertext": [
            "Czech Republic Coal"
           ],
           "legendgroup": "Europe",
           "locations": [
            "CZE"
           ],
           "marker": {
            "color": "#EF553B",
            "size": [
             0.3
            ],
            "sizemode": "area",
            "sizeref": 0.0358,
            "symbol": "circle"
           },
           "mode": "markers",
           "name": "Europe",
           "showlegend": true,
           "type": "scattergeo"
          }
         ],
         "name": "0.3"
        },
        {
         "data": [
          {
           "geo": "geo",
           "hovertemplate": "<b>%{hovertext}</b><br><br>region=Asia<br>percent=%{marker.size}<br>Alpha-3 code=%{location}<extra></extra>",
           "hovertext": [
            "China Petrochemical Corp (Sinopec)"
           ],
           "legendgroup": "Asia",
           "locations": [
            "CHN"
           ],
           "marker": {
            "color": "#636efa",
            "size": [
             0.29
            ],
            "sizemode": "area",
            "sizeref": 0.0358,
            "symbol": "circle"
           },
           "mode": "markers",
           "name": "Asia",
           "showlegend": true,
           "type": "scattergeo"
          }
         ],
         "name": "0.29"
        },
        {
         "data": [
          {
           "geo": "geo",
           "hovertemplate": "<b>%{hovertext}</b><br><br>region=Asia<br>percent=%{marker.size}<br>Alpha-3 code=%{location}<extra></extra>",
           "hovertext": [
            "China National Offshore Oil Corp Ltd (CNOOC)"
           ],
           "legendgroup": "Asia",
           "locations": [
            "CHN"
           ],
           "marker": {
            "color": "#636efa",
            "size": [
             0.28
            ],
            "sizemode": "area",
            "sizeref": 0.0358,
            "symbol": "circle"
           },
           "mode": "markers",
           "name": "Asia",
           "showlegend": true,
           "type": "scattergeo"
          }
         ],
         "name": "0.28"
        },
        {
         "data": [
          {
           "geo": "geo",
           "hovertemplate": "<b>%{hovertext}</b><br><br>region=Asia<br>percent=%{marker.size}<br>Alpha-3 code=%{location}<extra></extra>",
           "hovertext": [
            "Singareni Collieries Company"
           ],
           "legendgroup": "Asia",
           "locations": [
            "IND"
           ],
           "marker": {
            "color": "#636efa",
            "size": [
             0.27
            ],
            "sizemode": "area",
            "sizeref": 0.0358,
            "symbol": "circle"
           },
           "mode": "markers",
           "name": "Asia",
           "showlegend": true,
           "type": "scattergeo"
          },
          {
           "geo": "geo",
           "hovertemplate": "<b>%{hovertext}</b><br><br>region=Latin America<br>percent=%{marker.size}<br>Alpha-3 code=%{location}<extra></extra>",
           "hovertext": [
            "Ecopetrol SA"
           ],
           "legendgroup": "Latin America",
           "locations": [
            "COL"
           ],
           "marker": {
            "color": "#ab63fa",
            "size": [
             0.27
            ],
            "sizemode": "area",
            "sizeref": 0.0358,
            "symbol": "circle"
           },
           "mode": "markers",
           "name": "Latin America",
           "showlegend": true,
           "type": "scattergeo"
          }
         ],
         "name": "0.27"
        },
        {
         "data": [
          {
           "geo": "geo",
           "hovertemplate": "<b>%{hovertext}</b><br><br>region=North America<br>percent=%{marker.size}<br>Alpha-3 code=%{location}<extra></extra>",
           "hovertext": [
            "Occidental Petroleum Corp"
           ],
           "legendgroup": "North America",
           "locations": [
            "USA"
           ],
           "marker": {
            "color": "#00cc96",
            "size": [
             0.26
            ],
            "sizemode": "area",
            "sizeref": 0.0358,
            "symbol": "circle"
           },
           "mode": "markers",
           "name": "North America",
           "showlegend": true,
           "type": "scattergeo"
          },
          {
           "geo": "geo",
           "hovertemplate": "<b>%{hovertext}</b><br><br>region=Africa<br>percent=%{marker.size}<br>Alpha-3 code=%{location}<extra></extra>",
           "hovertext": [
            "Sonangol EP"
           ],
           "legendgroup": "Africa",
           "locations": [
            "AGO"
           ],
           "marker": {
            "color": "#FFA15A",
            "size": [
             0.26
            ],
            "sizemode": "area",
            "sizeref": 0.0358,
            "symbol": "circle"
           },
           "mode": "markers",
           "name": "Africa",
           "showlegend": true,
           "type": "scattergeo"
          }
         ],
         "name": "0.26"
        },
        {
         "data": [
          {
           "geo": "geo",
           "hovertemplate": "<b>%{hovertext}</b><br><br>region=Asia<br>percent=%{marker.size}<br>Alpha-3 code=%{location}<extra></extra>",
           "hovertext": [
            "North Korea Coal",
            "Bumi Resources"
           ],
           "legendgroup": "Asia",
           "locations": [
            "PRK",
            "IDN"
           ],
           "marker": {
            "color": "#636efa",
            "size": [
             0.23,
             0.23
            ],
            "sizemode": "area",
            "sizeref": 0.0358,
            "symbol": "circle"
           },
           "mode": "markers",
           "name": "Asia",
           "showlegend": true,
           "type": "scattergeo"
          },
          {
           "geo": "geo",
           "hovertemplate": "<b>%{hovertext}</b><br><br>region=Europe<br>percent=%{marker.size}<br>Alpha-3 code=%{location}<extra></extra>",
           "hovertext": [
            "Tatneft OAO"
           ],
           "legendgroup": "Europe",
           "locations": [
            "RUS"
           ],
           "marker": {
            "color": "#EF553B",
            "size": [
             0.23
            ],
            "sizemode": "area",
            "sizeref": 0.0358,
            "symbol": "circle"
           },
           "mode": "markers",
           "name": "Europe",
           "showlegend": true,
           "type": "scattergeo"
          }
         ],
         "name": "0.23"
        },
        {
         "data": [
          {
           "geo": "geo",
           "hovertemplate": "<b>%{hovertext}</b><br><br>region=North America<br>percent=%{marker.size}<br>Alpha-3 code=%{location}<extra></extra>",
           "hovertext": [
            "Suncor Energy Inc"
           ],
           "legendgroup": "North America",
           "locations": [
            "CAN"
           ],
           "marker": {
            "color": "#00cc96",
            "size": [
             0.22
            ],
            "sizemode": "area",
            "sizeref": 0.0358,
            "symbol": "circle"
           },
           "mode": "markers",
           "name": "North America",
           "showlegend": true,
           "type": "scattergeo"
          }
         ],
         "name": "0.22"
        },
        {
         "data": [
          {
           "geo": "geo",
           "hovertemplate": "<b>%{hovertext}</b><br><br>region=Europe<br>percent=%{marker.size}<br>Alpha-3 code=%{location}<extra></extra>",
           "hovertext": [
            "Petoro AS"
           ],
           "legendgroup": "Europe",
           "locations": [
            "NOR"
           ],
           "marker": {
            "color": "#EF553B",
            "size": [
             0.21
            ],
            "sizemode": "area",
            "sizeref": 0.0358,
            "symbol": "circle"
           },
           "mode": "markers",
           "name": "Europe",
           "showlegend": true,
           "type": "scattergeo"
          }
         ],
         "name": "0.21"
        },
        {
         "data": [
          {
           "geo": "geo",
           "hovertemplate": "<b>%{hovertext}</b><br><br>region=North America<br>percent=%{marker.size}<br>Alpha-3 code=%{location}<extra></extra>",
           "hovertext": [
            "Devon Energy Corp"
           ],
           "legendgroup": "North America",
           "locations": [
            "USA"
           ],
           "marker": {
            "color": "#00cc96",
            "size": [
             0.2
            ],
            "sizemode": "area",
            "sizeref": 0.0358,
            "symbol": "circle"
           },
           "mode": "markers",
           "name": "North America",
           "showlegend": true,
           "type": "scattergeo"
          }
         ],
         "name": "0.2"
        },
        {
         "data": [
          {
           "geo": "geo",
           "hovertemplate": "<b>%{hovertext}</b><br><br>region=North America<br>percent=%{marker.size}<br>Alpha-3 code=%{location}<extra></extra>",
           "hovertext": [
            "Natural Resource Partners LP",
            "Marathon Oil Corp",
            "Vistra Energy"
           ],
           "legendgroup": "North America",
           "locations": [
            "USA",
            "USA",
            "USA"
           ],
           "marker": {
            "color": "#00cc96",
            "size": [
             0.19,
             0.19,
             0.19
            ],
            "sizemode": "area",
            "sizeref": 0.0358,
            "symbol": "circle"
           },
           "mode": "markers",
           "name": "North America",
           "showlegend": true,
           "type": "scattergeo"
          }
         ],
         "name": "0.19"
        },
        {
         "data": [
          {
           "geo": "geo",
           "hovertemplate": "<b>%{hovertext}</b><br><br>region=North America<br>percent=%{marker.size}<br>Alpha-3 code=%{location}<extra></extra>",
           "hovertext": [
            "Encana Corp"
           ],
           "legendgroup": "North America",
           "locations": [
            "USA"
           ],
           "marker": {
            "color": "#00cc96",
            "size": [
             0.18
            ],
            "sizemode": "area",
            "sizeref": 0.0358,
            "symbol": "circle"
           },
           "mode": "markers",
           "name": "North America",
           "showlegend": true,
           "type": "scattergeo"
          }
         ],
         "name": "0.18"
        },
        {
         "data": [
          {
           "geo": "geo",
           "hovertemplate": "<b>%{hovertext}</b><br><br>region=North America<br>percent=%{marker.size}<br>Alpha-3 code=%{location}<extra></extra>",
           "hovertext": [
            "Canadian Natural Resources Ltd"
           ],
           "legendgroup": "North America",
           "locations": [
            "CAN"
           ],
           "marker": {
            "color": "#00cc96",
            "size": [
             0.17
            ],
            "sizemode": "area",
            "sizeref": 0.0358,
            "symbol": "circle"
           },
           "mode": "markers",
           "name": "North America",
           "showlegend": true,
           "type": "scattergeo"
          }
         ],
         "name": "0.17"
        },
        {
         "data": [
          {
           "geo": "geo",
           "hovertemplate": "<b>%{hovertext}</b><br><br>region=North America<br>percent=%{marker.size}<br>Alpha-3 code=%{location}<extra></extra>",
           "hovertext": [
            "Hess Corp"
           ],
           "legendgroup": "North America",
           "locations": [
            "USA"
           ],
           "marker": {
            "color": "#00cc96",
            "size": [
             0.16
            ],
            "sizemode": "area",
            "sizeref": 0.0358,
            "symbol": "circle"
           },
           "mode": "markers",
           "name": "North America",
           "showlegend": true,
           "type": "scattergeo"
          },
          {
           "geo": "geo",
           "hovertemplate": "<b>%{hovertext}</b><br><br>region=Africa<br>percent=%{marker.size}<br>Alpha-3 code=%{location}<extra></extra>",
           "hovertext": [
            "Exxaro Resources Ltd"
           ],
           "legendgroup": "Africa",
           "locations": [
            "ZAF"
           ],
           "marker": {
            "color": "#FFA15A",
            "size": [
             0.16
            ],
            "sizemode": "area",
            "sizeref": 0.0358,
            "symbol": "circle"
           },
           "mode": "markers",
           "name": "Africa",
           "showlegend": true,
           "type": "scattergeo"
          }
         ],
         "name": "0.16"
        },
        {
         "data": [
          {
           "geo": "geo",
           "hovertemplate": "<b>%{hovertext}</b><br><br>region=Asia<br>percent=%{marker.size}<br>Alpha-3 code=%{location}<extra></extra>",
           "hovertext": [
            "Syrian Petroleum Co"
           ],
           "legendgroup": "Asia",
           "locations": [
            "SYR"
           ],
           "marker": {
            "color": "#636efa",
            "size": [
             0.15
            ],
            "sizemode": "area",
            "sizeref": 0.0358,
            "symbol": "circle"
           },
           "mode": "markers",
           "name": "Asia",
           "showlegend": true,
           "type": "scattergeo"
          },
          {
           "geo": "geo",
           "hovertemplate": "<b>%{hovertext}</b><br><br>region=North America<br>percent=%{marker.size}<br>Alpha-3 code=%{location}<extra></extra>",
           "hovertext": [
            "Apache Corp",
            "Murray Coal",
            "Alliance Resource Partners LP"
           ],
           "legendgroup": "North America",
           "locations": [
            "USA",
            "USA",
            "USA"
           ],
           "marker": {
            "color": "#00cc96",
            "size": [
             0.15,
             0.15,
             0.15
            ],
            "sizemode": "area",
            "sizeref": 0.0358,
            "symbol": "circle"
           },
           "mode": "markers",
           "name": "North America",
           "showlegend": true,
           "type": "scattergeo"
          },
          {
           "geo": "geo",
           "hovertemplate": "<b>%{hovertext}</b><br><br>region=Latin America<br>percent=%{marker.size}<br>Alpha-3 code=%{location}<extra></extra>",
           "hovertext": [
            "YPF SA"
           ],
           "legendgroup": "Latin America",
           "locations": [
            "ARG"
           ],
           "marker": {
            "color": "#ab63fa",
            "size": [
             0.15
            ],
            "sizemode": "area",
            "sizeref": 0.0358,
            "symbol": "circle"
           },
           "mode": "markers",
           "name": "Latin America",
           "showlegend": true,
           "type": "scattergeo"
          }
         ],
         "name": "0.15"
        },
        {
         "data": [
          {
           "geo": "geo",
           "hovertemplate": "<b>%{hovertext}</b><br><br>region=Europe<br>percent=%{marker.size}<br>Alpha-3 code=%{location}<extra></extra>",
           "hovertext": [
            "Novatek OAO"
           ],
           "legendgroup": "Europe",
           "locations": [
            "RUS"
           ],
           "marker": {
            "color": "#EF553B",
            "size": [
             0.14
            ],
            "sizemode": "area",
            "sizeref": 0.0358,
            "symbol": "circle"
           },
           "mode": "markers",
           "name": "Europe",
           "showlegend": true,
           "type": "scattergeo"
          }
         ],
         "name": "0.14"
        },
        {
         "data": [
          {
           "geo": "geo",
           "hovertemplate": "<b>%{hovertext}</b><br><br>region=Asia<br>percent=%{marker.size}<br>Alpha-3 code=%{location}<extra></extra>",
           "hovertext": [
            "KazMunayGas",
            "Adaro Energy PT"
           ],
           "legendgroup": "Asia",
           "locations": [
            "KAZ",
            "IDN"
           ],
           "marker": {
            "color": "#636efa",
            "size": [
             0.13,
             0.13
            ],
            "sizemode": "area",
            "sizeref": 0.0358,
            "symbol": "circle"
           },
           "mode": "markers",
           "name": "Asia",
           "showlegend": true,
           "type": "scattergeo"
          },
          {
           "geo": "geo",
           "hovertemplate": "<b>%{hovertext}</b><br><br>region=North America<br>percent=%{marker.size}<br>Alpha-3 code=%{location}<extra></extra>",
           "hovertext": [
            "NACCO Industries Inc"
           ],
           "legendgroup": "North America",
           "locations": [
            "USA"
           ],
           "marker": {
            "color": "#00cc96",
            "size": [
             0.13
            ],
            "sizemode": "area",
            "sizeref": 0.0358,
            "symbol": "circle"
           },
           "mode": "markers",
           "name": "North America",
           "showlegend": true,
           "type": "scattergeo"
          }
         ],
         "name": "0.13"
        },
        {
         "data": [
          {
           "geo": "geo",
           "hovertemplate": "<b>%{hovertext}</b><br><br>region=Asia<br>percent=%{marker.size}<br>Alpha-3 code=%{location}<extra></extra>",
           "hovertext": [
            "Inpex Corp"
           ],
           "legendgroup": "Asia",
           "locations": [
            "JPN"
           ],
           "marker": {
            "color": "#636efa",
            "size": [
             0.12
            ],
            "sizemode": "area",
            "sizeref": 0.0358,
            "symbol": "circle"
           },
           "mode": "markers",
           "name": "Asia",
           "showlegend": true,
           "type": "scattergeo"
          },
          {
           "geo": "geo",
           "hovertemplate": "<b>%{hovertext}</b><br><br>region=North America<br>percent=%{marker.size}<br>Alpha-3 code=%{location}<extra></extra>",
           "hovertext": [
            "Kiewit Mining Group"
           ],
           "legendgroup": "North America",
           "locations": [
            "USA"
           ],
           "marker": {
            "color": "#00cc96",
            "size": [
             0.12
            ],
            "sizemode": "area",
            "sizeref": 0.0358,
            "symbol": "circle"
           },
           "mode": "markers",
           "name": "North America",
           "showlegend": true,
           "type": "scattergeo"
          },
          {
           "geo": "geo",
           "hovertemplate": "<b>%{hovertext}</b><br><br>region=Latin America<br>percent=%{marker.size}<br>Alpha-3 code=%{location}<extra></extra>",
           "hovertext": [
            "Petroleos del Ecuador"
           ],
           "legendgroup": "Latin America",
           "locations": [
            "ECU"
           ],
           "marker": {
            "color": "#ab63fa",
            "size": [
             0.12
            ],
            "sizemode": "area",
            "sizeref": 0.0358,
            "symbol": "circle"
           },
           "mode": "markers",
           "name": "Latin America",
           "showlegend": true,
           "type": "scattergeo"
          }
         ],
         "name": "0.12"
        },
        {
         "data": [
          {
           "geo": "geo",
           "hovertemplate": "<b>%{hovertext}</b><br><br>region=Asia<br>percent=%{marker.size}<br>Alpha-3 code=%{location}<extra></extra>",
           "hovertext": [
            "Banpu Public Co Ltd"
           ],
           "legendgroup": "Asia",
           "locations": [
            "THA"
           ],
           "marker": {
            "color": "#636efa",
            "size": [
             0.11
            ],
            "sizemode": "area",
            "sizeref": 0.0358,
            "symbol": "circle"
           },
           "mode": "markers",
           "name": "Asia",
           "showlegend": true,
           "type": "scattergeo"
          },
          {
           "geo": "geo",
           "hovertemplate": "<b>%{hovertext}</b><br><br>region=Europe<br>percent=%{marker.size}<br>Alpha-3 code=%{location}<extra></extra>",
           "hovertext": [
            "AP Moller (Maersk)"
           ],
           "legendgroup": "Europe",
           "locations": [
            "DNK"
           ],
           "marker": {
            "color": "#EF553B",
            "size": [
             0.11
            ],
            "sizemode": "area",
            "sizeref": 0.0358,
            "symbol": "circle"
           },
           "mode": "markers",
           "name": "Europe",
           "showlegend": true,
           "type": "scattergeo"
          },
          {
           "geo": "geo",
           "hovertemplate": "<b>%{hovertext}</b><br><br>region=North America<br>percent=%{marker.size}<br>Alpha-3 code=%{location}<extra></extra>",
           "hovertext": [
            "EOG Resources Inc",
            "Husky Energy Inc"
           ],
           "legendgroup": "North America",
           "locations": [
            "USA",
            "USA"
           ],
           "marker": {
            "color": "#00cc96",
            "size": [
             0.11,
             0.11
            ],
            "sizemode": "area",
            "sizeref": 0.0358,
            "symbol": "circle"
           },
           "mode": "markers",
           "name": "North America",
           "showlegend": true,
           "type": "scattergeo"
          }
         ],
         "name": "0.11"
        },
        {
         "data": [
          {
           "geo": "geo",
           "hovertemplate": "<b>%{hovertext}</b><br><br>region=Asia<br>percent=%{marker.size}<br>Alpha-3 code=%{location}<extra></extra>",
           "hovertext": [
            "Kideco Jaya Agung PT",
            "Bahrain Petroleum Co (BAPCO)"
           ],
           "legendgroup": "Asia",
           "locations": [
            "IDN",
            "BHR"
           ],
           "marker": {
            "color": "#636efa",
            "size": [
             0.1,
             0.1
            ],
            "sizemode": "area",
            "sizeref": 0.0358,
            "symbol": "circle"
           },
           "mode": "markers",
           "name": "Asia",
           "showlegend": true,
           "type": "scattergeo"
          },
          {
           "geo": "geo",
           "hovertemplate": "<b>%{hovertext}</b><br><br>region=North America<br>percent=%{marker.size}<br>Alpha-3 code=%{location}<extra></extra>",
           "hovertext": [
            "Westmoreland Coal Co",
            "Cloud Peak Energy Inc",
            "Chesapeake Energy Corp"
           ],
           "legendgroup": "North America",
           "locations": [
            "USA",
            "USA",
            "USA"
           ],
           "marker": {
            "color": "#00cc96",
            "size": [
             0.1,
             0.1,
             0.1
            ],
            "sizemode": "area",
            "sizeref": 0.0358,
            "symbol": "circle"
           },
           "mode": "markers",
           "name": "North America",
           "showlegend": true,
           "type": "scattergeo"
          }
         ],
         "name": "0.1"
        },
        {
         "data": [
          {
           "geo": "geo",
           "hovertemplate": "<b>%{hovertext}</b><br><br>region=North America<br>percent=%{marker.size}<br>Alpha-3 code=%{location}<extra></extra>",
           "hovertext": [
            "Teck Resources Ltd"
           ],
           "legendgroup": "North America",
           "locations": [
            "CAN"
           ],
           "marker": {
            "color": "#00cc96",
            "size": [
             0.09
            ],
            "sizemode": "area",
            "sizeref": 0.0358,
            "symbol": "circle"
           },
           "mode": "markers",
           "name": "North America",
           "showlegend": true,
           "type": "scattergeo"
          },
          {
           "geo": "geo",
           "hovertemplate": "<b>%{hovertext}</b><br><br>region=Latin America<br>percent=%{marker.size}<br>Alpha-3 code=%{location}<extra></extra>",
           "hovertext": [
            "Drummond Co"
           ],
           "legendgroup": "Latin America",
           "locations": [
            "COL"
           ],
           "marker": {
            "color": "#ab63fa",
            "size": [
             0.09
            ],
            "sizemode": "area",
            "sizeref": 0.0358,
            "symbol": "circle"
           },
           "mode": "markers",
           "name": "Latin America",
           "showlegend": true,
           "type": "scattergeo"
          }
         ],
         "name": "0.09"
        },
        {
         "data": [
          {
           "geo": "geo",
           "hovertemplate": "<b>%{hovertext}</b><br><br>region=Asia<br>percent=%{marker.size}<br>Alpha-3 code=%{location}<extra></extra>",
           "hovertext": [
            "Turkmennebit"
           ],
           "legendgroup": "Asia",
           "locations": [
            "TKM"
           ],
           "marker": {
            "color": "#636efa",
            "size": [
             0.07
            ],
            "sizemode": "area",
            "sizeref": 0.0358,
            "symbol": "circle"
           },
           "mode": "markers",
           "name": "Asia",
           "showlegend": true,
           "type": "scattergeo"
          }
         ],
         "name": "0.07"
        },
        {
         "data": [
          {
           "geo": "geo",
           "hovertemplate": "<b>%{hovertext}</b><br><br>region=Asia<br>percent=%{marker.size}<br>Alpha-3 code=%{location}<extra></extra>",
           "hovertext": [
            "Berau Coal Energy Tbk PT"
           ],
           "legendgroup": "Asia",
           "locations": [
            "IDN"
           ],
           "marker": {
            "color": "#636efa",
            "size": [
             0.06
            ],
            "sizemode": "area",
            "sizeref": 0.0358,
            "symbol": "circle"
           },
           "mode": "markers",
           "name": "Asia",
           "showlegend": true,
           "type": "scattergeo"
          },
          {
           "geo": "geo",
           "hovertemplate": "<b>%{hovertext}</b><br><br>region=Europe<br>percent=%{marker.size}<br>Alpha-3 code=%{location}<extra></extra>",
           "hovertext": [
            "OMV AG"
           ],
           "legendgroup": "Europe",
           "locations": [
            "AUT"
           ],
           "marker": {
            "color": "#EF553B",
            "size": [
             0.06
            ],
            "sizemode": "area",
            "sizeref": 0.0358,
            "symbol": "circle"
           },
           "mode": "markers",
           "name": "Europe",
           "showlegend": true,
           "type": "scattergeo"
          },
          {
           "geo": "geo",
           "hovertemplate": "<b>%{hovertext}</b><br><br>region=North America<br>percent=%{marker.size}<br>Alpha-3 code=%{location}<extra></extra>",
           "hovertext": [
            "Noble Energy Inc",
            "Murphy Oil Corp"
           ],
           "legendgroup": "North America",
           "locations": [
            "USA",
            "USA"
           ],
           "marker": {
            "color": "#00cc96",
            "size": [
             0.06,
             0.06
            ],
            "sizemode": "area",
            "sizeref": 0.0358,
            "symbol": "circle"
           },
           "mode": "markers",
           "name": "North America",
           "showlegend": true,
           "type": "scattergeo"
          }
         ],
         "name": "0.06"
        },
        {
         "data": [
          {
           "geo": "geo",
           "hovertemplate": "<b>%{hovertext}</b><br><br>region=Asia<br>percent=%{marker.size}<br>Alpha-3 code=%{location}<extra></extra>",
           "hovertext": [
            "Bukit Asam (Persero) Tbk PT"
           ],
           "legendgroup": "Asia",
           "locations": [
            "IDN"
           ],
           "marker": {
            "color": "#636efa",
            "size": [
             0.05
            ],
            "sizemode": "area",
            "sizeref": 0.0358,
            "symbol": "circle"
           },
           "mode": "markers",
           "name": "Asia",
           "showlegend": true,
           "type": "scattergeo"
          }
         ],
         "name": "0.05"
        },
        {
         "data": [
          {
           "geo": "geo",
           "hovertemplate": "<b>%{hovertext}</b><br><br>region=Asia<br>percent=%{marker.size}<br>Alpha-3 code=%{location}<extra></extra>",
           "hovertext": [
            "Indika Energy Tbk PT"
           ],
           "legendgroup": "Asia",
           "locations": [
            "IDN"
           ],
           "marker": {
            "color": "#636efa",
            "size": [
             0.04
            ],
            "sizemode": "area",
            "sizeref": 0.0358,
            "symbol": "circle"
           },
           "mode": "markers",
           "name": "Asia",
           "showlegend": true,
           "type": "scattergeo"
          },
          {
           "geo": "geo",
           "hovertemplate": "<b>%{hovertext}</b><br><br>region=North America<br>percent=%{marker.size}<br>Alpha-3 code=%{location}<extra></extra>",
           "hovertext": [
            "Southwestern Energy Co"
           ],
           "legendgroup": "North America",
           "locations": [
            "USA"
           ],
           "marker": {
            "color": "#00cc96",
            "size": [
             0.04
            ],
            "sizemode": "area",
            "sizeref": 0.0358,
            "symbol": "circle"
           },
           "mode": "markers",
           "name": "North America",
           "showlegend": true,
           "type": "scattergeo"
          }
         ],
         "name": "0.04"
        }
       ],
       "layout": {
        "geo": {
         "center": {},
         "domain": {
          "x": [
           0,
           1
          ],
          "y": [
           0,
           1
          ]
         },
         "projection": {
          "type": "natural earth"
         }
        },
        "legend": {
         "itemsizing": "constant",
         "title": {
          "text": "region"
         },
         "tracegroupgap": 0
        },
        "margin": {
         "t": 60
        },
        "sliders": [
         {
          "active": 0,
          "currentvalue": {
           "prefix": "percent="
          },
          "len": 0.9,
          "pad": {
           "b": 10,
           "t": 60
          },
          "steps": [
           {
            "args": [
             [
              "14.32"
             ],
             {
              "frame": {
               "duration": 0,
               "redraw": true
              },
              "fromcurrent": true,
              "mode": "immediate",
              "transition": {
               "duration": 0,
               "easing": "linear"
              }
             }
            ],
            "label": "14.32",
            "method": "animate"
           },
           {
            "args": [
             [
              "4.5"
             ],
             {
              "frame": {
               "duration": 0,
               "redraw": true
              },
              "fromcurrent": true,
              "mode": "immediate",
              "transition": {
               "duration": 0,
               "easing": "linear"
              }
             }
            ],
            "label": "4.5",
            "method": "animate"
           },
           {
            "args": [
             [
              "3.91"
             ],
             {
              "frame": {
               "duration": 0,
               "redraw": true
              },
              "fromcurrent": true,
              "mode": "immediate",
              "transition": {
               "duration": 0,
               "easing": "linear"
              }
             }
            ],
            "label": "3.91",
            "method": "animate"
           },
           {
            "args": [
             [
              "2.28"
             ],
             {
              "frame": {
               "duration": 0,
               "redraw": true
              },
              "fromcurrent": true,
              "mode": "immediate",
              "transition": {
               "duration": 0,
               "easing": "linear"
              }
             }
            ],
            "label": "2.28",
            "method": "animate"
           },
           {
            "args": [
             [
              "1.98"
             ],
             {
              "frame": {
               "duration": 0,
               "redraw": true
              },
              "fromcurrent": true,
              "mode": "immediate",
              "transition": {
               "duration": 0,
               "easing": "linear"
              }
             }
            ],
            "label": "1.98",
            "method": "animate"
           },
           {
            "args": [
             [
              "1.87"
             ],
             {
              "frame": {
               "duration": 0,
               "redraw": true
              },
              "fromcurrent": true,
              "mode": "immediate",
              "transition": {
               "duration": 0,
               "easing": "linear"
              }
             }
            ],
            "label": "1.87",
            "method": "animate"
           },
           {
            "args": [
             [
              "1.86"
             ],
             {
              "frame": {
               "duration": 0,
               "redraw": true
              },
              "fromcurrent": true,
              "mode": "immediate",
              "transition": {
               "duration": 0,
               "easing": "linear"
              }
             }
            ],
            "label": "1.86",
            "method": "animate"
           },
           {
            "args": [
             [
              "1.67"
             ],
             {
              "frame": {
               "duration": 0,
               "redraw": true
              },
              "fromcurrent": true,
              "mode": "immediate",
              "transition": {
               "duration": 0,
               "easing": "linear"
              }
             }
            ],
            "label": "1.67",
            "method": "animate"
           },
           {
            "args": [
             [
              "1.56"
             ],
             {
              "frame": {
               "duration": 0,
               "redraw": true
              },
              "fromcurrent": true,
              "mode": "immediate",
              "transition": {
               "duration": 0,
               "easing": "linear"
              }
             }
            ],
            "label": "1.56",
            "method": "animate"
           },
           {
            "args": [
             [
              "1.53"
             ],
             {
              "frame": {
               "duration": 0,
               "redraw": true
              },
              "fromcurrent": true,
              "mode": "immediate",
              "transition": {
               "duration": 0,
               "easing": "linear"
              }
             }
            ],
            "label": "1.53",
            "method": "animate"
           },
           {
            "args": [
             [
              "1.31"
             ],
             {
              "frame": {
               "duration": 0,
               "redraw": true
              },
              "fromcurrent": true,
              "mode": "immediate",
              "transition": {
               "duration": 0,
               "easing": "linear"
              }
             }
            ],
            "label": "1.31",
            "method": "animate"
           },
           {
            "args": [
             [
              "1.23"
             ],
             {
              "frame": {
               "duration": 0,
               "redraw": true
              },
              "fromcurrent": true,
              "mode": "immediate",
              "transition": {
               "duration": 0,
               "easing": "linear"
              }
             }
            ],
            "label": "1.23",
            "method": "animate"
           },
           {
            "args": [
             [
              "1.2"
             ],
             {
              "frame": {
               "duration": 0,
               "redraw": true
              },
              "fromcurrent": true,
              "mode": "immediate",
              "transition": {
               "duration": 0,
               "easing": "linear"
              }
             }
            ],
            "label": "1.2",
            "method": "animate"
           },
           {
            "args": [
             [
              "1.16"
             ],
             {
              "frame": {
               "duration": 0,
               "redraw": true
              },
              "fromcurrent": true,
              "mode": "immediate",
              "transition": {
               "duration": 0,
               "easing": "linear"
              }
             }
            ],
            "label": "1.16",
            "method": "animate"
           },
           {
            "args": [
             [
              "1.15"
             ],
             {
              "frame": {
               "duration": 0,
               "redraw": true
              },
              "fromcurrent": true,
              "mode": "immediate",
              "transition": {
               "duration": 0,
               "easing": "linear"
              }
             }
            ],
            "label": "1.15",
            "method": "animate"
           },
           {
            "args": [
             [
              "1.0"
             ],
             {
              "frame": {
               "duration": 0,
               "redraw": true
              },
              "fromcurrent": true,
              "mode": "immediate",
              "transition": {
               "duration": 0,
               "easing": "linear"
              }
             }
            ],
            "label": "1.0",
            "method": "animate"
           },
           {
            "args": [
             [
              "0.95"
             ],
             {
              "frame": {
               "duration": 0,
               "redraw": true
              },
              "fromcurrent": true,
              "mode": "immediate",
              "transition": {
               "duration": 0,
               "easing": "linear"
              }
             }
            ],
            "label": "0.95",
            "method": "animate"
           },
           {
            "args": [
             [
              "0.91"
             ],
             {
              "frame": {
               "duration": 0,
               "redraw": true
              },
              "fromcurrent": true,
              "mode": "immediate",
              "transition": {
               "duration": 0,
               "easing": "linear"
              }
             }
            ],
            "label": "0.91",
            "method": "animate"
           },
           {
            "args": [
             [
              "0.77"
             ],
             {
              "frame": {
               "duration": 0,
               "redraw": true
              },
              "fromcurrent": true,
              "mode": "immediate",
              "transition": {
               "duration": 0,
               "easing": "linear"
              }
             }
            ],
            "label": "0.77",
            "method": "animate"
           },
           {
            "args": [
             [
              "0.75"
             ],
             {
              "frame": {
               "duration": 0,
               "redraw": true
              },
              "fromcurrent": true,
              "mode": "immediate",
              "transition": {
               "duration": 0,
               "easing": "linear"
              }
             }
            ],
            "label": "0.75",
            "method": "animate"
           },
           {
            "args": [
             [
              "0.72"
             ],
             {
              "frame": {
               "duration": 0,
               "redraw": true
              },
              "fromcurrent": true,
              "mode": "immediate",
              "transition": {
               "duration": 0,
               "easing": "linear"
              }
             }
            ],
            "label": "0.72",
            "method": "animate"
           },
           {
            "args": [
             [
              "0.69"
             ],
             {
              "frame": {
               "duration": 0,
               "redraw": true
              },
              "fromcurrent": true,
              "mode": "immediate",
              "transition": {
               "duration": 0,
               "easing": "linear"
              }
             }
            ],
            "label": "0.69",
            "method": "animate"
           },
           {
            "args": [
             [
              "0.65"
             ],
             {
              "frame": {
               "duration": 0,
               "redraw": true
              },
              "fromcurrent": true,
              "mode": "immediate",
              "transition": {
               "duration": 0,
               "easing": "linear"
              }
             }
            ],
            "label": "0.65",
            "method": "animate"
           },
           {
            "args": [
             [
              "0.63"
             ],
             {
              "frame": {
               "duration": 0,
               "redraw": true
              },
              "fromcurrent": true,
              "mode": "immediate",
              "transition": {
               "duration": 0,
               "easing": "linear"
              }
             }
            ],
            "label": "0.63",
            "method": "animate"
           },
           {
            "args": [
             [
              "0.6"
             ],
             {
              "frame": {
               "duration": 0,
               "redraw": true
              },
              "fromcurrent": true,
              "mode": "immediate",
              "transition": {
               "duration": 0,
               "easing": "linear"
              }
             }
            ],
            "label": "0.6",
            "method": "animate"
           },
           {
            "args": [
             [
              "0.59"
             ],
             {
              "frame": {
               "duration": 0,
               "redraw": true
              },
              "fromcurrent": true,
              "mode": "immediate",
              "transition": {
               "duration": 0,
               "easing": "linear"
              }
             }
            ],
            "label": "0.59",
            "method": "animate"
           },
           {
            "args": [
             [
              "0.57"
             ],
             {
              "frame": {
               "duration": 0,
               "redraw": true
              },
              "fromcurrent": true,
              "mode": "immediate",
              "transition": {
               "duration": 0,
               "easing": "linear"
              }
             }
            ],
            "label": "0.57",
            "method": "animate"
           },
           {
            "args": [
             [
              "0.54"
             ],
             {
              "frame": {
               "duration": 0,
               "redraw": true
              },
              "fromcurrent": true,
              "mode": "immediate",
              "transition": {
               "duration": 0,
               "easing": "linear"
              }
             }
            ],
            "label": "0.54",
            "method": "animate"
           },
           {
            "args": [
             [
              "0.53"
             ],
             {
              "frame": {
               "duration": 0,
               "redraw": true
              },
              "fromcurrent": true,
              "mode": "immediate",
              "transition": {
               "duration": 0,
               "easing": "linear"
              }
             }
            ],
            "label": "0.53",
            "method": "animate"
           },
           {
            "args": [
             [
              "0.52"
             ],
             {
              "frame": {
               "duration": 0,
               "redraw": true
              },
              "fromcurrent": true,
              "mode": "immediate",
              "transition": {
               "duration": 0,
               "easing": "linear"
              }
             }
            ],
            "label": "0.52",
            "method": "animate"
           },
           {
            "args": [
             [
              "0.5"
             ],
             {
              "frame": {
               "duration": 0,
               "redraw": true
              },
              "fromcurrent": true,
              "mode": "immediate",
              "transition": {
               "duration": 0,
               "easing": "linear"
              }
             }
            ],
            "label": "0.5",
            "method": "animate"
           },
           {
            "args": [
             [
              "0.49"
             ],
             {
              "frame": {
               "duration": 0,
               "redraw": true
              },
              "fromcurrent": true,
              "mode": "immediate",
              "transition": {
               "duration": 0,
               "easing": "linear"
              }
             }
            ],
            "label": "0.49",
            "method": "animate"
           },
           {
            "args": [
             [
              "0.47"
             ],
             {
              "frame": {
               "duration": 0,
               "redraw": true
              },
              "fromcurrent": true,
              "mode": "immediate",
              "transition": {
               "duration": 0,
               "easing": "linear"
              }
             }
            ],
            "label": "0.47",
            "method": "animate"
           },
           {
            "args": [
             [
              "0.4"
             ],
             {
              "frame": {
               "duration": 0,
               "redraw": true
              },
              "fromcurrent": true,
              "mode": "immediate",
              "transition": {
               "duration": 0,
               "easing": "linear"
              }
             }
            ],
            "label": "0.4",
            "method": "animate"
           },
           {
            "args": [
             [
              "0.38"
             ],
             {
              "frame": {
               "duration": 0,
               "redraw": true
              },
              "fromcurrent": true,
              "mode": "immediate",
              "transition": {
               "duration": 0,
               "easing": "linear"
              }
             }
            ],
            "label": "0.38",
            "method": "animate"
           },
           {
            "args": [
             [
              "0.36"
             ],
             {
              "frame": {
               "duration": 0,
               "redraw": true
              },
              "fromcurrent": true,
              "mode": "immediate",
              "transition": {
               "duration": 0,
               "easing": "linear"
              }
             }
            ],
            "label": "0.36",
            "method": "animate"
           },
           {
            "args": [
             [
              "0.35"
             ],
             {
              "frame": {
               "duration": 0,
               "redraw": true
              },
              "fromcurrent": true,
              "mode": "immediate",
              "transition": {
               "duration": 0,
               "easing": "linear"
              }
             }
            ],
            "label": "0.35",
            "method": "animate"
           },
           {
            "args": [
             [
              "0.33"
             ],
             {
              "frame": {
               "duration": 0,
               "redraw": true
              },
              "fromcurrent": true,
              "mode": "immediate",
              "transition": {
               "duration": 0,
               "easing": "linear"
              }
             }
            ],
            "label": "0.33",
            "method": "animate"
           },
           {
            "args": [
             [
              "0.31"
             ],
             {
              "frame": {
               "duration": 0,
               "redraw": true
              },
              "fromcurrent": true,
              "mode": "immediate",
              "transition": {
               "duration": 0,
               "easing": "linear"
              }
             }
            ],
            "label": "0.31",
            "method": "animate"
           },
           {
            "args": [
             [
              "0.3"
             ],
             {
              "frame": {
               "duration": 0,
               "redraw": true
              },
              "fromcurrent": true,
              "mode": "immediate",
              "transition": {
               "duration": 0,
               "easing": "linear"
              }
             }
            ],
            "label": "0.3",
            "method": "animate"
           },
           {
            "args": [
             [
              "0.29"
             ],
             {
              "frame": {
               "duration": 0,
               "redraw": true
              },
              "fromcurrent": true,
              "mode": "immediate",
              "transition": {
               "duration": 0,
               "easing": "linear"
              }
             }
            ],
            "label": "0.29",
            "method": "animate"
           },
           {
            "args": [
             [
              "0.28"
             ],
             {
              "frame": {
               "duration": 0,
               "redraw": true
              },
              "fromcurrent": true,
              "mode": "immediate",
              "transition": {
               "duration": 0,
               "easing": "linear"
              }
             }
            ],
            "label": "0.28",
            "method": "animate"
           },
           {
            "args": [
             [
              "0.27"
             ],
             {
              "frame": {
               "duration": 0,
               "redraw": true
              },
              "fromcurrent": true,
              "mode": "immediate",
              "transition": {
               "duration": 0,
               "easing": "linear"
              }
             }
            ],
            "label": "0.27",
            "method": "animate"
           },
           {
            "args": [
             [
              "0.26"
             ],
             {
              "frame": {
               "duration": 0,
               "redraw": true
              },
              "fromcurrent": true,
              "mode": "immediate",
              "transition": {
               "duration": 0,
               "easing": "linear"
              }
             }
            ],
            "label": "0.26",
            "method": "animate"
           },
           {
            "args": [
             [
              "0.23"
             ],
             {
              "frame": {
               "duration": 0,
               "redraw": true
              },
              "fromcurrent": true,
              "mode": "immediate",
              "transition": {
               "duration": 0,
               "easing": "linear"
              }
             }
            ],
            "label": "0.23",
            "method": "animate"
           },
           {
            "args": [
             [
              "0.22"
             ],
             {
              "frame": {
               "duration": 0,
               "redraw": true
              },
              "fromcurrent": true,
              "mode": "immediate",
              "transition": {
               "duration": 0,
               "easing": "linear"
              }
             }
            ],
            "label": "0.22",
            "method": "animate"
           },
           {
            "args": [
             [
              "0.21"
             ],
             {
              "frame": {
               "duration": 0,
               "redraw": true
              },
              "fromcurrent": true,
              "mode": "immediate",
              "transition": {
               "duration": 0,
               "easing": "linear"
              }
             }
            ],
            "label": "0.21",
            "method": "animate"
           },
           {
            "args": [
             [
              "0.2"
             ],
             {
              "frame": {
               "duration": 0,
               "redraw": true
              },
              "fromcurrent": true,
              "mode": "immediate",
              "transition": {
               "duration": 0,
               "easing": "linear"
              }
             }
            ],
            "label": "0.2",
            "method": "animate"
           },
           {
            "args": [
             [
              "0.19"
             ],
             {
              "frame": {
               "duration": 0,
               "redraw": true
              },
              "fromcurrent": true,
              "mode": "immediate",
              "transition": {
               "duration": 0,
               "easing": "linear"
              }
             }
            ],
            "label": "0.19",
            "method": "animate"
           },
           {
            "args": [
             [
              "0.18"
             ],
             {
              "frame": {
               "duration": 0,
               "redraw": true
              },
              "fromcurrent": true,
              "mode": "immediate",
              "transition": {
               "duration": 0,
               "easing": "linear"
              }
             }
            ],
            "label": "0.18",
            "method": "animate"
           },
           {
            "args": [
             [
              "0.17"
             ],
             {
              "frame": {
               "duration": 0,
               "redraw": true
              },
              "fromcurrent": true,
              "mode": "immediate",
              "transition": {
               "duration": 0,
               "easing": "linear"
              }
             }
            ],
            "label": "0.17",
            "method": "animate"
           },
           {
            "args": [
             [
              "0.16"
             ],
             {
              "frame": {
               "duration": 0,
               "redraw": true
              },
              "fromcurrent": true,
              "mode": "immediate",
              "transition": {
               "duration": 0,
               "easing": "linear"
              }
             }
            ],
            "label": "0.16",
            "method": "animate"
           },
           {
            "args": [
             [
              "0.15"
             ],
             {
              "frame": {
               "duration": 0,
               "redraw": true
              },
              "fromcurrent": true,
              "mode": "immediate",
              "transition": {
               "duration": 0,
               "easing": "linear"
              }
             }
            ],
            "label": "0.15",
            "method": "animate"
           },
           {
            "args": [
             [
              "0.14"
             ],
             {
              "frame": {
               "duration": 0,
               "redraw": true
              },
              "fromcurrent": true,
              "mode": "immediate",
              "transition": {
               "duration": 0,
               "easing": "linear"
              }
             }
            ],
            "label": "0.14",
            "method": "animate"
           },
           {
            "args": [
             [
              "0.13"
             ],
             {
              "frame": {
               "duration": 0,
               "redraw": true
              },
              "fromcurrent": true,
              "mode": "immediate",
              "transition": {
               "duration": 0,
               "easing": "linear"
              }
             }
            ],
            "label": "0.13",
            "method": "animate"
           },
           {
            "args": [
             [
              "0.12"
             ],
             {
              "frame": {
               "duration": 0,
               "redraw": true
              },
              "fromcurrent": true,
              "mode": "immediate",
              "transition": {
               "duration": 0,
               "easing": "linear"
              }
             }
            ],
            "label": "0.12",
            "method": "animate"
           },
           {
            "args": [
             [
              "0.11"
             ],
             {
              "frame": {
               "duration": 0,
               "redraw": true
              },
              "fromcurrent": true,
              "mode": "immediate",
              "transition": {
               "duration": 0,
               "easing": "linear"
              }
             }
            ],
            "label": "0.11",
            "method": "animate"
           },
           {
            "args": [
             [
              "0.1"
             ],
             {
              "frame": {
               "duration": 0,
               "redraw": true
              },
              "fromcurrent": true,
              "mode": "immediate",
              "transition": {
               "duration": 0,
               "easing": "linear"
              }
             }
            ],
            "label": "0.1",
            "method": "animate"
           },
           {
            "args": [
             [
              "0.09"
             ],
             {
              "frame": {
               "duration": 0,
               "redraw": true
              },
              "fromcurrent": true,
              "mode": "immediate",
              "transition": {
               "duration": 0,
               "easing": "linear"
              }
             }
            ],
            "label": "0.09",
            "method": "animate"
           },
           {
            "args": [
             [
              "0.07"
             ],
             {
              "frame": {
               "duration": 0,
               "redraw": true
              },
              "fromcurrent": true,
              "mode": "immediate",
              "transition": {
               "duration": 0,
               "easing": "linear"
              }
             }
            ],
            "label": "0.07",
            "method": "animate"
           },
           {
            "args": [
             [
              "0.06"
             ],
             {
              "frame": {
               "duration": 0,
               "redraw": true
              },
              "fromcurrent": true,
              "mode": "immediate",
              "transition": {
               "duration": 0,
               "easing": "linear"
              }
             }
            ],
            "label": "0.06",
            "method": "animate"
           },
           {
            "args": [
             [
              "0.05"
             ],
             {
              "frame": {
               "duration": 0,
               "redraw": true
              },
              "fromcurrent": true,
              "mode": "immediate",
              "transition": {
               "duration": 0,
               "easing": "linear"
              }
             }
            ],
            "label": "0.05",
            "method": "animate"
           },
           {
            "args": [
             [
              "0.04"
             ],
             {
              "frame": {
               "duration": 0,
               "redraw": true
              },
              "fromcurrent": true,
              "mode": "immediate",
              "transition": {
               "duration": 0,
               "easing": "linear"
              }
             }
            ],
            "label": "0.04",
            "method": "animate"
           }
          ],
          "x": 0.1,
          "xanchor": "left",
          "y": 0,
          "yanchor": "top"
         }
        ],
        "template": {
         "data": {
          "bar": [
           {
            "error_x": {
             "color": "#2a3f5f"
            },
            "error_y": {
             "color": "#2a3f5f"
            },
            "marker": {
             "line": {
              "color": "#E5ECF6",
              "width": 0.5
             }
            },
            "type": "bar"
           }
          ],
          "barpolar": [
           {
            "marker": {
             "line": {
              "color": "#E5ECF6",
              "width": 0.5
             }
            },
            "type": "barpolar"
           }
          ],
          "carpet": [
           {
            "aaxis": {
             "endlinecolor": "#2a3f5f",
             "gridcolor": "white",
             "linecolor": "white",
             "minorgridcolor": "white",
             "startlinecolor": "#2a3f5f"
            },
            "baxis": {
             "endlinecolor": "#2a3f5f",
             "gridcolor": "white",
             "linecolor": "white",
             "minorgridcolor": "white",
             "startlinecolor": "#2a3f5f"
            },
            "type": "carpet"
           }
          ],
          "choropleth": [
           {
            "colorbar": {
             "outlinewidth": 0,
             "ticks": ""
            },
            "type": "choropleth"
           }
          ],
          "contour": [
           {
            "colorbar": {
             "outlinewidth": 0,
             "ticks": ""
            },
            "colorscale": [
             [
              0,
              "#0d0887"
             ],
             [
              0.1111111111111111,
              "#46039f"
             ],
             [
              0.2222222222222222,
              "#7201a8"
             ],
             [
              0.3333333333333333,
              "#9c179e"
             ],
             [
              0.4444444444444444,
              "#bd3786"
             ],
             [
              0.5555555555555556,
              "#d8576b"
             ],
             [
              0.6666666666666666,
              "#ed7953"
             ],
             [
              0.7777777777777778,
              "#fb9f3a"
             ],
             [
              0.8888888888888888,
              "#fdca26"
             ],
             [
              1,
              "#f0f921"
             ]
            ],
            "type": "contour"
           }
          ],
          "contourcarpet": [
           {
            "colorbar": {
             "outlinewidth": 0,
             "ticks": ""
            },
            "type": "contourcarpet"
           }
          ],
          "heatmap": [
           {
            "colorbar": {
             "outlinewidth": 0,
             "ticks": ""
            },
            "colorscale": [
             [
              0,
              "#0d0887"
             ],
             [
              0.1111111111111111,
              "#46039f"
             ],
             [
              0.2222222222222222,
              "#7201a8"
             ],
             [
              0.3333333333333333,
              "#9c179e"
             ],
             [
              0.4444444444444444,
              "#bd3786"
             ],
             [
              0.5555555555555556,
              "#d8576b"
             ],
             [
              0.6666666666666666,
              "#ed7953"
             ],
             [
              0.7777777777777778,
              "#fb9f3a"
             ],
             [
              0.8888888888888888,
              "#fdca26"
             ],
             [
              1,
              "#f0f921"
             ]
            ],
            "type": "heatmap"
           }
          ],
          "heatmapgl": [
           {
            "colorbar": {
             "outlinewidth": 0,
             "ticks": ""
            },
            "colorscale": [
             [
              0,
              "#0d0887"
             ],
             [
              0.1111111111111111,
              "#46039f"
             ],
             [
              0.2222222222222222,
              "#7201a8"
             ],
             [
              0.3333333333333333,
              "#9c179e"
             ],
             [
              0.4444444444444444,
              "#bd3786"
             ],
             [
              0.5555555555555556,
              "#d8576b"
             ],
             [
              0.6666666666666666,
              "#ed7953"
             ],
             [
              0.7777777777777778,
              "#fb9f3a"
             ],
             [
              0.8888888888888888,
              "#fdca26"
             ],
             [
              1,
              "#f0f921"
             ]
            ],
            "type": "heatmapgl"
           }
          ],
          "histogram": [
           {
            "marker": {
             "colorbar": {
              "outlinewidth": 0,
              "ticks": ""
             }
            },
            "type": "histogram"
           }
          ],
          "histogram2d": [
           {
            "colorbar": {
             "outlinewidth": 0,
             "ticks": ""
            },
            "colorscale": [
             [
              0,
              "#0d0887"
             ],
             [
              0.1111111111111111,
              "#46039f"
             ],
             [
              0.2222222222222222,
              "#7201a8"
             ],
             [
              0.3333333333333333,
              "#9c179e"
             ],
             [
              0.4444444444444444,
              "#bd3786"
             ],
             [
              0.5555555555555556,
              "#d8576b"
             ],
             [
              0.6666666666666666,
              "#ed7953"
             ],
             [
              0.7777777777777778,
              "#fb9f3a"
             ],
             [
              0.8888888888888888,
              "#fdca26"
             ],
             [
              1,
              "#f0f921"
             ]
            ],
            "type": "histogram2d"
           }
          ],
          "histogram2dcontour": [
           {
            "colorbar": {
             "outlinewidth": 0,
             "ticks": ""
            },
            "colorscale": [
             [
              0,
              "#0d0887"
             ],
             [
              0.1111111111111111,
              "#46039f"
             ],
             [
              0.2222222222222222,
              "#7201a8"
             ],
             [
              0.3333333333333333,
              "#9c179e"
             ],
             [
              0.4444444444444444,
              "#bd3786"
             ],
             [
              0.5555555555555556,
              "#d8576b"
             ],
             [
              0.6666666666666666,
              "#ed7953"
             ],
             [
              0.7777777777777778,
              "#fb9f3a"
             ],
             [
              0.8888888888888888,
              "#fdca26"
             ],
             [
              1,
              "#f0f921"
             ]
            ],
            "type": "histogram2dcontour"
           }
          ],
          "mesh3d": [
           {
            "colorbar": {
             "outlinewidth": 0,
             "ticks": ""
            },
            "type": "mesh3d"
           }
          ],
          "parcoords": [
           {
            "line": {
             "colorbar": {
              "outlinewidth": 0,
              "ticks": ""
             }
            },
            "type": "parcoords"
           }
          ],
          "pie": [
           {
            "automargin": true,
            "type": "pie"
           }
          ],
          "scatter": [
           {
            "marker": {
             "colorbar": {
              "outlinewidth": 0,
              "ticks": ""
             }
            },
            "type": "scatter"
           }
          ],
          "scatter3d": [
           {
            "line": {
             "colorbar": {
              "outlinewidth": 0,
              "ticks": ""
             }
            },
            "marker": {
             "colorbar": {
              "outlinewidth": 0,
              "ticks": ""
             }
            },
            "type": "scatter3d"
           }
          ],
          "scattercarpet": [
           {
            "marker": {
             "colorbar": {
              "outlinewidth": 0,
              "ticks": ""
             }
            },
            "type": "scattercarpet"
           }
          ],
          "scattergeo": [
           {
            "marker": {
             "colorbar": {
              "outlinewidth": 0,
              "ticks": ""
             }
            },
            "type": "scattergeo"
           }
          ],
          "scattergl": [
           {
            "marker": {
             "colorbar": {
              "outlinewidth": 0,
              "ticks": ""
             }
            },
            "type": "scattergl"
           }
          ],
          "scattermapbox": [
           {
            "marker": {
             "colorbar": {
              "outlinewidth": 0,
              "ticks": ""
             }
            },
            "type": "scattermapbox"
           }
          ],
          "scatterpolar": [
           {
            "marker": {
             "colorbar": {
              "outlinewidth": 0,
              "ticks": ""
             }
            },
            "type": "scatterpolar"
           }
          ],
          "scatterpolargl": [
           {
            "marker": {
             "colorbar": {
              "outlinewidth": 0,
              "ticks": ""
             }
            },
            "type": "scatterpolargl"
           }
          ],
          "scatterternary": [
           {
            "marker": {
             "colorbar": {
              "outlinewidth": 0,
              "ticks": ""
             }
            },
            "type": "scatterternary"
           }
          ],
          "surface": [
           {
            "colorbar": {
             "outlinewidth": 0,
             "ticks": ""
            },
            "colorscale": [
             [
              0,
              "#0d0887"
             ],
             [
              0.1111111111111111,
              "#46039f"
             ],
             [
              0.2222222222222222,
              "#7201a8"
             ],
             [
              0.3333333333333333,
              "#9c179e"
             ],
             [
              0.4444444444444444,
              "#bd3786"
             ],
             [
              0.5555555555555556,
              "#d8576b"
             ],
             [
              0.6666666666666666,
              "#ed7953"
             ],
             [
              0.7777777777777778,
              "#fb9f3a"
             ],
             [
              0.8888888888888888,
              "#fdca26"
             ],
             [
              1,
              "#f0f921"
             ]
            ],
            "type": "surface"
           }
          ],
          "table": [
           {
            "cells": {
             "fill": {
              "color": "#EBF0F8"
             },
             "line": {
              "color": "white"
             }
            },
            "header": {
             "fill": {
              "color": "#C8D4E3"
             },
             "line": {
              "color": "white"
             }
            },
            "type": "table"
           }
          ]
         },
         "layout": {
          "annotationdefaults": {
           "arrowcolor": "#2a3f5f",
           "arrowhead": 0,
           "arrowwidth": 1
          },
          "autotypenumbers": "strict",
          "coloraxis": {
           "colorbar": {
            "outlinewidth": 0,
            "ticks": ""
           }
          },
          "colorscale": {
           "diverging": [
            [
             0,
             "#8e0152"
            ],
            [
             0.1,
             "#c51b7d"
            ],
            [
             0.2,
             "#de77ae"
            ],
            [
             0.3,
             "#f1b6da"
            ],
            [
             0.4,
             "#fde0ef"
            ],
            [
             0.5,
             "#f7f7f7"
            ],
            [
             0.6,
             "#e6f5d0"
            ],
            [
             0.7,
             "#b8e186"
            ],
            [
             0.8,
             "#7fbc41"
            ],
            [
             0.9,
             "#4d9221"
            ],
            [
             1,
             "#276419"
            ]
           ],
           "sequential": [
            [
             0,
             "#0d0887"
            ],
            [
             0.1111111111111111,
             "#46039f"
            ],
            [
             0.2222222222222222,
             "#7201a8"
            ],
            [
             0.3333333333333333,
             "#9c179e"
            ],
            [
             0.4444444444444444,
             "#bd3786"
            ],
            [
             0.5555555555555556,
             "#d8576b"
            ],
            [
             0.6666666666666666,
             "#ed7953"
            ],
            [
             0.7777777777777778,
             "#fb9f3a"
            ],
            [
             0.8888888888888888,
             "#fdca26"
            ],
            [
             1,
             "#f0f921"
            ]
           ],
           "sequentialminus": [
            [
             0,
             "#0d0887"
            ],
            [
             0.1111111111111111,
             "#46039f"
            ],
            [
             0.2222222222222222,
             "#7201a8"
            ],
            [
             0.3333333333333333,
             "#9c179e"
            ],
            [
             0.4444444444444444,
             "#bd3786"
            ],
            [
             0.5555555555555556,
             "#d8576b"
            ],
            [
             0.6666666666666666,
             "#ed7953"
            ],
            [
             0.7777777777777778,
             "#fb9f3a"
            ],
            [
             0.8888888888888888,
             "#fdca26"
            ],
            [
             1,
             "#f0f921"
            ]
           ]
          },
          "colorway": [
           "#636efa",
           "#EF553B",
           "#00cc96",
           "#ab63fa",
           "#FFA15A",
           "#19d3f3",
           "#FF6692",
           "#B6E880",
           "#FF97FF",
           "#FECB52"
          ],
          "font": {
           "color": "#2a3f5f"
          },
          "geo": {
           "bgcolor": "white",
           "lakecolor": "white",
           "landcolor": "#E5ECF6",
           "showlakes": true,
           "showland": true,
           "subunitcolor": "white"
          },
          "hoverlabel": {
           "align": "left"
          },
          "hovermode": "closest",
          "mapbox": {
           "style": "light"
          },
          "paper_bgcolor": "white",
          "plot_bgcolor": "#E5ECF6",
          "polar": {
           "angularaxis": {
            "gridcolor": "white",
            "linecolor": "white",
            "ticks": ""
           },
           "bgcolor": "#E5ECF6",
           "radialaxis": {
            "gridcolor": "white",
            "linecolor": "white",
            "ticks": ""
           }
          },
          "scene": {
           "xaxis": {
            "backgroundcolor": "#E5ECF6",
            "gridcolor": "white",
            "gridwidth": 2,
            "linecolor": "white",
            "showbackground": true,
            "ticks": "",
            "zerolinecolor": "white"
           },
           "yaxis": {
            "backgroundcolor": "#E5ECF6",
            "gridcolor": "white",
            "gridwidth": 2,
            "linecolor": "white",
            "showbackground": true,
            "ticks": "",
            "zerolinecolor": "white"
           },
           "zaxis": {
            "backgroundcolor": "#E5ECF6",
            "gridcolor": "white",
            "gridwidth": 2,
            "linecolor": "white",
            "showbackground": true,
            "ticks": "",
            "zerolinecolor": "white"
           }
          },
          "shapedefaults": {
           "line": {
            "color": "#2a3f5f"
           }
          },
          "ternary": {
           "aaxis": {
            "gridcolor": "white",
            "linecolor": "white",
            "ticks": ""
           },
           "baxis": {
            "gridcolor": "white",
            "linecolor": "white",
            "ticks": ""
           },
           "bgcolor": "#E5ECF6",
           "caxis": {
            "gridcolor": "white",
            "linecolor": "white",
            "ticks": ""
           }
          },
          "title": {
           "x": 0.05
          },
          "xaxis": {
           "automargin": true,
           "gridcolor": "white",
           "linecolor": "white",
           "ticks": "",
           "title": {
            "standoff": 15
           },
           "zerolinecolor": "white",
           "zerolinewidth": 2
          },
          "yaxis": {
           "automargin": true,
           "gridcolor": "white",
           "linecolor": "white",
           "ticks": "",
           "title": {
            "standoff": 15
           },
           "zerolinecolor": "white",
           "zerolinewidth": 2
          }
         }
        },
        "updatemenus": [
         {
          "buttons": [
           {
            "args": [
             null,
             {
              "frame": {
               "duration": 500,
               "redraw": true
              },
              "fromcurrent": true,
              "mode": "immediate",
              "transition": {
               "duration": 500,
               "easing": "linear"
              }
             }
            ],
            "label": "&#9654;",
            "method": "animate"
           },
           {
            "args": [
             [
              null
             ],
             {
              "frame": {
               "duration": 0,
               "redraw": true
              },
              "fromcurrent": true,
              "mode": "immediate",
              "transition": {
               "duration": 0,
               "easing": "linear"
              }
             }
            ],
            "label": "&#9724;",
            "method": "animate"
           }
          ],
          "direction": "left",
          "pad": {
           "r": 10,
           "t": 70
          },
          "showactive": false,
          "type": "buttons",
          "x": 0.1,
          "xanchor": "right",
          "y": 0,
          "yanchor": "top"
         }
        ]
       }
      },
      "text/html": [
       "<div>                            <div id=\"609d0328-d3cb-4901-927d-c3eee5bdaff4\" class=\"plotly-graph-div\" style=\"height:525px; width:100%;\"></div>            <script type=\"text/javascript\">                require([\"plotly\"], function(Plotly) {                    window.PLOTLYENV=window.PLOTLYENV || {};                                    if (document.getElementById(\"609d0328-d3cb-4901-927d-c3eee5bdaff4\")) {                    Plotly.newPlot(                        \"609d0328-d3cb-4901-927d-c3eee5bdaff4\",                        [{\"geo\": \"geo\", \"hovertemplate\": \"<b>%{hovertext}</b><br><br>region=Asia<br>percent=%{marker.size}<br>Alpha-3 code=%{location}<extra></extra>\", \"hovertext\": [\"China National Coal Group Company Limited\"], \"legendgroup\": \"Asia\", \"locations\": [\"CHN\"], \"marker\": {\"color\": \"#636efa\", \"size\": [14.32], \"sizemode\": \"area\", \"sizeref\": 0.0358, \"symbol\": \"circle\"}, \"mode\": \"markers\", \"name\": \"Asia\", \"showlegend\": true, \"type\": \"scattergeo\"}],                        {\"geo\": {\"center\": {}, \"domain\": {\"x\": [0.0, 1.0], \"y\": [0.0, 1.0]}, \"projection\": {\"type\": \"natural earth\"}}, \"legend\": {\"itemsizing\": \"constant\", \"title\": {\"text\": \"region\"}, \"tracegroupgap\": 0}, \"margin\": {\"t\": 60}, \"sliders\": [{\"active\": 0, \"currentvalue\": {\"prefix\": \"percent=\"}, \"len\": 0.9, \"pad\": {\"b\": 10, \"t\": 60}, \"steps\": [{\"args\": [[\"14.32\"], {\"frame\": {\"duration\": 0, \"redraw\": true}, \"fromcurrent\": true, \"mode\": \"immediate\", \"transition\": {\"duration\": 0, \"easing\": \"linear\"}}], \"label\": \"14.32\", \"method\": \"animate\"}, {\"args\": [[\"4.5\"], {\"frame\": {\"duration\": 0, \"redraw\": true}, \"fromcurrent\": true, \"mode\": \"immediate\", \"transition\": {\"duration\": 0, \"easing\": \"linear\"}}], \"label\": \"4.5\", \"method\": \"animate\"}, {\"args\": [[\"3.91\"], {\"frame\": {\"duration\": 0, \"redraw\": true}, \"fromcurrent\": true, \"mode\": \"immediate\", \"transition\": {\"duration\": 0, \"easing\": \"linear\"}}], \"label\": \"3.91\", \"method\": \"animate\"}, {\"args\": [[\"2.28\"], {\"frame\": {\"duration\": 0, \"redraw\": true}, \"fromcurrent\": true, \"mode\": \"immediate\", \"transition\": {\"duration\": 0, \"easing\": \"linear\"}}], \"label\": \"2.28\", \"method\": \"animate\"}, {\"args\": [[\"1.98\"], {\"frame\": {\"duration\": 0, \"redraw\": true}, \"fromcurrent\": true, \"mode\": \"immediate\", \"transition\": {\"duration\": 0, \"easing\": \"linear\"}}], \"label\": \"1.98\", \"method\": \"animate\"}, {\"args\": [[\"1.87\"], {\"frame\": {\"duration\": 0, \"redraw\": true}, \"fromcurrent\": true, \"mode\": \"immediate\", \"transition\": {\"duration\": 0, \"easing\": \"linear\"}}], \"label\": \"1.87\", \"method\": \"animate\"}, {\"args\": [[\"1.86\"], {\"frame\": {\"duration\": 0, \"redraw\": true}, \"fromcurrent\": true, \"mode\": \"immediate\", \"transition\": {\"duration\": 0, \"easing\": \"linear\"}}], \"label\": \"1.86\", \"method\": \"animate\"}, {\"args\": [[\"1.67\"], {\"frame\": {\"duration\": 0, \"redraw\": true}, \"fromcurrent\": true, \"mode\": \"immediate\", \"transition\": {\"duration\": 0, \"easing\": \"linear\"}}], \"label\": \"1.67\", \"method\": \"animate\"}, {\"args\": [[\"1.56\"], {\"frame\": {\"duration\": 0, \"redraw\": true}, \"fromcurrent\": true, \"mode\": \"immediate\", \"transition\": {\"duration\": 0, \"easing\": \"linear\"}}], \"label\": \"1.56\", \"method\": \"animate\"}, {\"args\": [[\"1.53\"], {\"frame\": {\"duration\": 0, \"redraw\": true}, \"fromcurrent\": true, \"mode\": \"immediate\", \"transition\": {\"duration\": 0, \"easing\": \"linear\"}}], \"label\": \"1.53\", \"method\": \"animate\"}, {\"args\": [[\"1.31\"], {\"frame\": {\"duration\": 0, \"redraw\": true}, \"fromcurrent\": true, \"mode\": \"immediate\", \"transition\": {\"duration\": 0, \"easing\": \"linear\"}}], \"label\": \"1.31\", \"method\": \"animate\"}, {\"args\": [[\"1.23\"], {\"frame\": {\"duration\": 0, \"redraw\": true}, \"fromcurrent\": true, \"mode\": \"immediate\", \"transition\": {\"duration\": 0, \"easing\": \"linear\"}}], \"label\": \"1.23\", \"method\": \"animate\"}, {\"args\": [[\"1.2\"], {\"frame\": {\"duration\": 0, \"redraw\": true}, \"fromcurrent\": true, \"mode\": \"immediate\", \"transition\": {\"duration\": 0, \"easing\": \"linear\"}}], \"label\": \"1.2\", \"method\": \"animate\"}, {\"args\": [[\"1.16\"], {\"frame\": {\"duration\": 0, \"redraw\": true}, \"fromcurrent\": true, \"mode\": \"immediate\", \"transition\": {\"duration\": 0, \"easing\": \"linear\"}}], \"label\": \"1.16\", \"method\": \"animate\"}, {\"args\": [[\"1.15\"], {\"frame\": {\"duration\": 0, \"redraw\": true}, \"fromcurrent\": true, \"mode\": \"immediate\", \"transition\": {\"duration\": 0, \"easing\": \"linear\"}}], \"label\": \"1.15\", \"method\": \"animate\"}, {\"args\": [[\"1.0\"], {\"frame\": {\"duration\": 0, \"redraw\": true}, \"fromcurrent\": true, \"mode\": \"immediate\", \"transition\": {\"duration\": 0, \"easing\": \"linear\"}}], \"label\": \"1.0\", \"method\": \"animate\"}, {\"args\": [[\"0.95\"], {\"frame\": {\"duration\": 0, \"redraw\": true}, \"fromcurrent\": true, \"mode\": \"immediate\", \"transition\": {\"duration\": 0, \"easing\": \"linear\"}}], \"label\": \"0.95\", \"method\": \"animate\"}, {\"args\": [[\"0.91\"], {\"frame\": {\"duration\": 0, \"redraw\": true}, \"fromcurrent\": true, \"mode\": \"immediate\", \"transition\": {\"duration\": 0, \"easing\": \"linear\"}}], \"label\": \"0.91\", \"method\": \"animate\"}, {\"args\": [[\"0.77\"], {\"frame\": {\"duration\": 0, \"redraw\": true}, \"fromcurrent\": true, \"mode\": \"immediate\", \"transition\": {\"duration\": 0, \"easing\": \"linear\"}}], \"label\": \"0.77\", \"method\": \"animate\"}, {\"args\": [[\"0.75\"], {\"frame\": {\"duration\": 0, \"redraw\": true}, \"fromcurrent\": true, \"mode\": \"immediate\", \"transition\": {\"duration\": 0, \"easing\": \"linear\"}}], \"label\": \"0.75\", \"method\": \"animate\"}, {\"args\": [[\"0.72\"], {\"frame\": {\"duration\": 0, \"redraw\": true}, \"fromcurrent\": true, \"mode\": \"immediate\", \"transition\": {\"duration\": 0, \"easing\": \"linear\"}}], \"label\": \"0.72\", \"method\": \"animate\"}, {\"args\": [[\"0.69\"], {\"frame\": {\"duration\": 0, \"redraw\": true}, \"fromcurrent\": true, \"mode\": \"immediate\", \"transition\": {\"duration\": 0, \"easing\": \"linear\"}}], \"label\": \"0.69\", \"method\": \"animate\"}, {\"args\": [[\"0.65\"], {\"frame\": {\"duration\": 0, \"redraw\": true}, \"fromcurrent\": true, \"mode\": \"immediate\", \"transition\": {\"duration\": 0, \"easing\": \"linear\"}}], \"label\": \"0.65\", \"method\": \"animate\"}, {\"args\": [[\"0.63\"], {\"frame\": {\"duration\": 0, \"redraw\": true}, \"fromcurrent\": true, \"mode\": \"immediate\", \"transition\": {\"duration\": 0, \"easing\": \"linear\"}}], \"label\": \"0.63\", \"method\": \"animate\"}, {\"args\": [[\"0.6\"], {\"frame\": {\"duration\": 0, \"redraw\": true}, \"fromcurrent\": true, \"mode\": \"immediate\", \"transition\": {\"duration\": 0, \"easing\": \"linear\"}}], \"label\": \"0.6\", \"method\": \"animate\"}, {\"args\": [[\"0.59\"], {\"frame\": {\"duration\": 0, \"redraw\": true}, \"fromcurrent\": true, \"mode\": \"immediate\", \"transition\": {\"duration\": 0, \"easing\": \"linear\"}}], \"label\": \"0.59\", \"method\": \"animate\"}, {\"args\": [[\"0.57\"], {\"frame\": {\"duration\": 0, \"redraw\": true}, \"fromcurrent\": true, \"mode\": \"immediate\", \"transition\": {\"duration\": 0, \"easing\": \"linear\"}}], \"label\": \"0.57\", \"method\": \"animate\"}, {\"args\": [[\"0.54\"], {\"frame\": {\"duration\": 0, \"redraw\": true}, \"fromcurrent\": true, \"mode\": \"immediate\", \"transition\": {\"duration\": 0, \"easing\": \"linear\"}}], \"label\": \"0.54\", \"method\": \"animate\"}, {\"args\": [[\"0.53\"], {\"frame\": {\"duration\": 0, \"redraw\": true}, \"fromcurrent\": true, \"mode\": \"immediate\", \"transition\": {\"duration\": 0, \"easing\": \"linear\"}}], \"label\": \"0.53\", \"method\": \"animate\"}, {\"args\": [[\"0.52\"], {\"frame\": {\"duration\": 0, \"redraw\": true}, \"fromcurrent\": true, \"mode\": \"immediate\", \"transition\": {\"duration\": 0, \"easing\": \"linear\"}}], \"label\": \"0.52\", \"method\": \"animate\"}, {\"args\": [[\"0.5\"], {\"frame\": {\"duration\": 0, \"redraw\": true}, \"fromcurrent\": true, \"mode\": \"immediate\", \"transition\": {\"duration\": 0, \"easing\": \"linear\"}}], \"label\": \"0.5\", \"method\": \"animate\"}, {\"args\": [[\"0.49\"], {\"frame\": {\"duration\": 0, \"redraw\": true}, \"fromcurrent\": true, \"mode\": \"immediate\", \"transition\": {\"duration\": 0, \"easing\": \"linear\"}}], \"label\": \"0.49\", \"method\": \"animate\"}, {\"args\": [[\"0.47\"], {\"frame\": {\"duration\": 0, \"redraw\": true}, \"fromcurrent\": true, \"mode\": \"immediate\", \"transition\": {\"duration\": 0, \"easing\": \"linear\"}}], \"label\": \"0.47\", \"method\": \"animate\"}, {\"args\": [[\"0.4\"], {\"frame\": {\"duration\": 0, \"redraw\": true}, \"fromcurrent\": true, \"mode\": \"immediate\", \"transition\": {\"duration\": 0, \"easing\": \"linear\"}}], \"label\": \"0.4\", \"method\": \"animate\"}, {\"args\": [[\"0.38\"], {\"frame\": {\"duration\": 0, \"redraw\": true}, \"fromcurrent\": true, \"mode\": \"immediate\", \"transition\": {\"duration\": 0, \"easing\": \"linear\"}}], \"label\": \"0.38\", \"method\": \"animate\"}, {\"args\": [[\"0.36\"], {\"frame\": {\"duration\": 0, \"redraw\": true}, \"fromcurrent\": true, \"mode\": \"immediate\", \"transition\": {\"duration\": 0, \"easing\": \"linear\"}}], \"label\": \"0.36\", \"method\": \"animate\"}, {\"args\": [[\"0.35\"], {\"frame\": {\"duration\": 0, \"redraw\": true}, \"fromcurrent\": true, \"mode\": \"immediate\", \"transition\": {\"duration\": 0, \"easing\": \"linear\"}}], \"label\": \"0.35\", \"method\": \"animate\"}, {\"args\": [[\"0.33\"], {\"frame\": {\"duration\": 0, \"redraw\": true}, \"fromcurrent\": true, \"mode\": \"immediate\", \"transition\": {\"duration\": 0, \"easing\": \"linear\"}}], \"label\": \"0.33\", \"method\": \"animate\"}, {\"args\": [[\"0.31\"], {\"frame\": {\"duration\": 0, \"redraw\": true}, \"fromcurrent\": true, \"mode\": \"immediate\", \"transition\": {\"duration\": 0, \"easing\": \"linear\"}}], \"label\": \"0.31\", \"method\": \"animate\"}, {\"args\": [[\"0.3\"], {\"frame\": {\"duration\": 0, \"redraw\": true}, \"fromcurrent\": true, \"mode\": \"immediate\", \"transition\": {\"duration\": 0, \"easing\": \"linear\"}}], \"label\": \"0.3\", \"method\": \"animate\"}, {\"args\": [[\"0.29\"], {\"frame\": {\"duration\": 0, \"redraw\": true}, \"fromcurrent\": true, \"mode\": \"immediate\", \"transition\": {\"duration\": 0, \"easing\": \"linear\"}}], \"label\": \"0.29\", \"method\": \"animate\"}, {\"args\": [[\"0.28\"], {\"frame\": {\"duration\": 0, \"redraw\": true}, \"fromcurrent\": true, \"mode\": \"immediate\", \"transition\": {\"duration\": 0, \"easing\": \"linear\"}}], \"label\": \"0.28\", \"method\": \"animate\"}, {\"args\": [[\"0.27\"], {\"frame\": {\"duration\": 0, \"redraw\": true}, \"fromcurrent\": true, \"mode\": \"immediate\", \"transition\": {\"duration\": 0, \"easing\": \"linear\"}}], \"label\": \"0.27\", \"method\": \"animate\"}, {\"args\": [[\"0.26\"], {\"frame\": {\"duration\": 0, \"redraw\": true}, \"fromcurrent\": true, \"mode\": \"immediate\", \"transition\": {\"duration\": 0, \"easing\": \"linear\"}}], \"label\": \"0.26\", \"method\": \"animate\"}, {\"args\": [[\"0.23\"], {\"frame\": {\"duration\": 0, \"redraw\": true}, \"fromcurrent\": true, \"mode\": \"immediate\", \"transition\": {\"duration\": 0, \"easing\": \"linear\"}}], \"label\": \"0.23\", \"method\": \"animate\"}, {\"args\": [[\"0.22\"], {\"frame\": {\"duration\": 0, \"redraw\": true}, \"fromcurrent\": true, \"mode\": \"immediate\", \"transition\": {\"duration\": 0, \"easing\": \"linear\"}}], \"label\": \"0.22\", \"method\": \"animate\"}, {\"args\": [[\"0.21\"], {\"frame\": {\"duration\": 0, \"redraw\": true}, \"fromcurrent\": true, \"mode\": \"immediate\", \"transition\": {\"duration\": 0, \"easing\": \"linear\"}}], \"label\": \"0.21\", \"method\": \"animate\"}, {\"args\": [[\"0.2\"], {\"frame\": {\"duration\": 0, \"redraw\": true}, \"fromcurrent\": true, \"mode\": \"immediate\", \"transition\": {\"duration\": 0, \"easing\": \"linear\"}}], \"label\": \"0.2\", \"method\": \"animate\"}, {\"args\": [[\"0.19\"], {\"frame\": {\"duration\": 0, \"redraw\": true}, \"fromcurrent\": true, \"mode\": \"immediate\", \"transition\": {\"duration\": 0, \"easing\": \"linear\"}}], \"label\": \"0.19\", \"method\": \"animate\"}, {\"args\": [[\"0.18\"], {\"frame\": {\"duration\": 0, \"redraw\": true}, \"fromcurrent\": true, \"mode\": \"immediate\", \"transition\": {\"duration\": 0, \"easing\": \"linear\"}}], \"label\": \"0.18\", \"method\": \"animate\"}, {\"args\": [[\"0.17\"], {\"frame\": {\"duration\": 0, \"redraw\": true}, \"fromcurrent\": true, \"mode\": \"immediate\", \"transition\": {\"duration\": 0, \"easing\": \"linear\"}}], \"label\": \"0.17\", \"method\": \"animate\"}, {\"args\": [[\"0.16\"], {\"frame\": {\"duration\": 0, \"redraw\": true}, \"fromcurrent\": true, \"mode\": \"immediate\", \"transition\": {\"duration\": 0, \"easing\": \"linear\"}}], \"label\": \"0.16\", \"method\": \"animate\"}, {\"args\": [[\"0.15\"], {\"frame\": {\"duration\": 0, \"redraw\": true}, \"fromcurrent\": true, \"mode\": \"immediate\", \"transition\": {\"duration\": 0, \"easing\": \"linear\"}}], \"label\": \"0.15\", \"method\": \"animate\"}, {\"args\": [[\"0.14\"], {\"frame\": {\"duration\": 0, \"redraw\": true}, \"fromcurrent\": true, \"mode\": \"immediate\", \"transition\": {\"duration\": 0, \"easing\": \"linear\"}}], \"label\": \"0.14\", \"method\": \"animate\"}, {\"args\": [[\"0.13\"], {\"frame\": {\"duration\": 0, \"redraw\": true}, \"fromcurrent\": true, \"mode\": \"immediate\", \"transition\": {\"duration\": 0, \"easing\": \"linear\"}}], \"label\": \"0.13\", \"method\": \"animate\"}, {\"args\": [[\"0.12\"], {\"frame\": {\"duration\": 0, \"redraw\": true}, \"fromcurrent\": true, \"mode\": \"immediate\", \"transition\": {\"duration\": 0, \"easing\": \"linear\"}}], \"label\": \"0.12\", \"method\": \"animate\"}, {\"args\": [[\"0.11\"], {\"frame\": {\"duration\": 0, \"redraw\": true}, \"fromcurrent\": true, \"mode\": \"immediate\", \"transition\": {\"duration\": 0, \"easing\": \"linear\"}}], \"label\": \"0.11\", \"method\": \"animate\"}, {\"args\": [[\"0.1\"], {\"frame\": {\"duration\": 0, \"redraw\": true}, \"fromcurrent\": true, \"mode\": \"immediate\", \"transition\": {\"duration\": 0, \"easing\": \"linear\"}}], \"label\": \"0.1\", \"method\": \"animate\"}, {\"args\": [[\"0.09\"], {\"frame\": {\"duration\": 0, \"redraw\": true}, \"fromcurrent\": true, \"mode\": \"immediate\", \"transition\": {\"duration\": 0, \"easing\": \"linear\"}}], \"label\": \"0.09\", \"method\": \"animate\"}, {\"args\": [[\"0.07\"], {\"frame\": {\"duration\": 0, \"redraw\": true}, \"fromcurrent\": true, \"mode\": \"immediate\", \"transition\": {\"duration\": 0, \"easing\": \"linear\"}}], \"label\": \"0.07\", \"method\": \"animate\"}, {\"args\": [[\"0.06\"], {\"frame\": {\"duration\": 0, \"redraw\": true}, \"fromcurrent\": true, \"mode\": \"immediate\", \"transition\": {\"duration\": 0, \"easing\": \"linear\"}}], \"label\": \"0.06\", \"method\": \"animate\"}, {\"args\": [[\"0.05\"], {\"frame\": {\"duration\": 0, \"redraw\": true}, \"fromcurrent\": true, \"mode\": \"immediate\", \"transition\": {\"duration\": 0, \"easing\": \"linear\"}}], \"label\": \"0.05\", \"method\": \"animate\"}, {\"args\": [[\"0.04\"], {\"frame\": {\"duration\": 0, \"redraw\": true}, \"fromcurrent\": true, \"mode\": \"immediate\", \"transition\": {\"duration\": 0, \"easing\": \"linear\"}}], \"label\": \"0.04\", \"method\": \"animate\"}], \"x\": 0.1, \"xanchor\": \"left\", \"y\": 0, \"yanchor\": \"top\"}], \"template\": {\"data\": {\"bar\": [{\"error_x\": {\"color\": \"#2a3f5f\"}, \"error_y\": {\"color\": \"#2a3f5f\"}, \"marker\": {\"line\": {\"color\": \"#E5ECF6\", \"width\": 0.5}}, \"type\": \"bar\"}], \"barpolar\": [{\"marker\": {\"line\": {\"color\": \"#E5ECF6\", \"width\": 0.5}}, \"type\": \"barpolar\"}], \"carpet\": [{\"aaxis\": {\"endlinecolor\": \"#2a3f5f\", \"gridcolor\": \"white\", \"linecolor\": \"white\", \"minorgridcolor\": \"white\", \"startlinecolor\": \"#2a3f5f\"}, \"baxis\": {\"endlinecolor\": \"#2a3f5f\", \"gridcolor\": \"white\", \"linecolor\": \"white\", \"minorgridcolor\": \"white\", \"startlinecolor\": \"#2a3f5f\"}, \"type\": \"carpet\"}], \"choropleth\": [{\"colorbar\": {\"outlinewidth\": 0, \"ticks\": \"\"}, \"type\": \"choropleth\"}], \"contour\": [{\"colorbar\": {\"outlinewidth\": 0, \"ticks\": \"\"}, \"colorscale\": [[0.0, \"#0d0887\"], [0.1111111111111111, \"#46039f\"], [0.2222222222222222, \"#7201a8\"], [0.3333333333333333, \"#9c179e\"], [0.4444444444444444, \"#bd3786\"], [0.5555555555555556, \"#d8576b\"], [0.6666666666666666, \"#ed7953\"], [0.7777777777777778, \"#fb9f3a\"], [0.8888888888888888, \"#fdca26\"], [1.0, \"#f0f921\"]], \"type\": \"contour\"}], \"contourcarpet\": [{\"colorbar\": {\"outlinewidth\": 0, \"ticks\": \"\"}, \"type\": \"contourcarpet\"}], \"heatmap\": [{\"colorbar\": {\"outlinewidth\": 0, \"ticks\": \"\"}, \"colorscale\": [[0.0, \"#0d0887\"], [0.1111111111111111, \"#46039f\"], [0.2222222222222222, \"#7201a8\"], [0.3333333333333333, \"#9c179e\"], [0.4444444444444444, \"#bd3786\"], [0.5555555555555556, \"#d8576b\"], [0.6666666666666666, \"#ed7953\"], [0.7777777777777778, \"#fb9f3a\"], [0.8888888888888888, \"#fdca26\"], [1.0, \"#f0f921\"]], \"type\": \"heatmap\"}], \"heatmapgl\": [{\"colorbar\": {\"outlinewidth\": 0, \"ticks\": \"\"}, \"colorscale\": [[0.0, \"#0d0887\"], [0.1111111111111111, \"#46039f\"], [0.2222222222222222, \"#7201a8\"], [0.3333333333333333, \"#9c179e\"], [0.4444444444444444, \"#bd3786\"], [0.5555555555555556, \"#d8576b\"], [0.6666666666666666, \"#ed7953\"], [0.7777777777777778, \"#fb9f3a\"], [0.8888888888888888, \"#fdca26\"], [1.0, \"#f0f921\"]], \"type\": \"heatmapgl\"}], \"histogram\": [{\"marker\": {\"colorbar\": {\"outlinewidth\": 0, \"ticks\": \"\"}}, \"type\": \"histogram\"}], \"histogram2d\": [{\"colorbar\": {\"outlinewidth\": 0, \"ticks\": \"\"}, \"colorscale\": [[0.0, \"#0d0887\"], [0.1111111111111111, \"#46039f\"], [0.2222222222222222, \"#7201a8\"], [0.3333333333333333, \"#9c179e\"], [0.4444444444444444, \"#bd3786\"], [0.5555555555555556, \"#d8576b\"], [0.6666666666666666, \"#ed7953\"], [0.7777777777777778, \"#fb9f3a\"], [0.8888888888888888, \"#fdca26\"], [1.0, \"#f0f921\"]], \"type\": \"histogram2d\"}], \"histogram2dcontour\": [{\"colorbar\": {\"outlinewidth\": 0, \"ticks\": \"\"}, \"colorscale\": [[0.0, \"#0d0887\"], [0.1111111111111111, \"#46039f\"], [0.2222222222222222, \"#7201a8\"], [0.3333333333333333, \"#9c179e\"], [0.4444444444444444, \"#bd3786\"], [0.5555555555555556, \"#d8576b\"], [0.6666666666666666, \"#ed7953\"], [0.7777777777777778, \"#fb9f3a\"], [0.8888888888888888, \"#fdca26\"], [1.0, \"#f0f921\"]], \"type\": \"histogram2dcontour\"}], \"mesh3d\": [{\"colorbar\": {\"outlinewidth\": 0, \"ticks\": \"\"}, \"type\": \"mesh3d\"}], \"parcoords\": [{\"line\": {\"colorbar\": {\"outlinewidth\": 0, \"ticks\": \"\"}}, \"type\": \"parcoords\"}], \"pie\": [{\"automargin\": true, \"type\": \"pie\"}], \"scatter\": [{\"marker\": {\"colorbar\": {\"outlinewidth\": 0, \"ticks\": \"\"}}, \"type\": \"scatter\"}], \"scatter3d\": [{\"line\": {\"colorbar\": {\"outlinewidth\": 0, \"ticks\": \"\"}}, \"marker\": {\"colorbar\": {\"outlinewidth\": 0, \"ticks\": \"\"}}, \"type\": \"scatter3d\"}], \"scattercarpet\": [{\"marker\": {\"colorbar\": {\"outlinewidth\": 0, \"ticks\": \"\"}}, \"type\": \"scattercarpet\"}], \"scattergeo\": [{\"marker\": {\"colorbar\": {\"outlinewidth\": 0, \"ticks\": \"\"}}, \"type\": \"scattergeo\"}], \"scattergl\": [{\"marker\": {\"colorbar\": {\"outlinewidth\": 0, \"ticks\": \"\"}}, \"type\": \"scattergl\"}], \"scattermapbox\": [{\"marker\": {\"colorbar\": {\"outlinewidth\": 0, \"ticks\": \"\"}}, \"type\": \"scattermapbox\"}], \"scatterpolar\": [{\"marker\": {\"colorbar\": {\"outlinewidth\": 0, \"ticks\": \"\"}}, \"type\": \"scatterpolar\"}], \"scatterpolargl\": [{\"marker\": {\"colorbar\": {\"outlinewidth\": 0, \"ticks\": \"\"}}, \"type\": \"scatterpolargl\"}], \"scatterternary\": [{\"marker\": {\"colorbar\": {\"outlinewidth\": 0, \"ticks\": \"\"}}, \"type\": \"scatterternary\"}], \"surface\": [{\"colorbar\": {\"outlinewidth\": 0, \"ticks\": \"\"}, \"colorscale\": [[0.0, \"#0d0887\"], [0.1111111111111111, \"#46039f\"], [0.2222222222222222, \"#7201a8\"], [0.3333333333333333, \"#9c179e\"], [0.4444444444444444, \"#bd3786\"], [0.5555555555555556, \"#d8576b\"], [0.6666666666666666, \"#ed7953\"], [0.7777777777777778, \"#fb9f3a\"], [0.8888888888888888, \"#fdca26\"], [1.0, \"#f0f921\"]], \"type\": \"surface\"}], \"table\": [{\"cells\": {\"fill\": {\"color\": \"#EBF0F8\"}, \"line\": {\"color\": \"white\"}}, \"header\": {\"fill\": {\"color\": \"#C8D4E3\"}, \"line\": {\"color\": \"white\"}}, \"type\": \"table\"}]}, \"layout\": {\"annotationdefaults\": {\"arrowcolor\": \"#2a3f5f\", \"arrowhead\": 0, \"arrowwidth\": 1}, \"autotypenumbers\": \"strict\", \"coloraxis\": {\"colorbar\": {\"outlinewidth\": 0, \"ticks\": \"\"}}, \"colorscale\": {\"diverging\": [[0, \"#8e0152\"], [0.1, \"#c51b7d\"], [0.2, \"#de77ae\"], [0.3, \"#f1b6da\"], [0.4, \"#fde0ef\"], [0.5, \"#f7f7f7\"], [0.6, \"#e6f5d0\"], [0.7, \"#b8e186\"], [0.8, \"#7fbc41\"], [0.9, \"#4d9221\"], [1, \"#276419\"]], \"sequential\": [[0.0, \"#0d0887\"], [0.1111111111111111, \"#46039f\"], [0.2222222222222222, \"#7201a8\"], [0.3333333333333333, \"#9c179e\"], [0.4444444444444444, \"#bd3786\"], [0.5555555555555556, \"#d8576b\"], [0.6666666666666666, \"#ed7953\"], [0.7777777777777778, \"#fb9f3a\"], [0.8888888888888888, \"#fdca26\"], [1.0, \"#f0f921\"]], \"sequentialminus\": [[0.0, \"#0d0887\"], [0.1111111111111111, \"#46039f\"], [0.2222222222222222, \"#7201a8\"], [0.3333333333333333, \"#9c179e\"], [0.4444444444444444, \"#bd3786\"], [0.5555555555555556, \"#d8576b\"], [0.6666666666666666, \"#ed7953\"], [0.7777777777777778, \"#fb9f3a\"], [0.8888888888888888, \"#fdca26\"], [1.0, \"#f0f921\"]]}, \"colorway\": [\"#636efa\", \"#EF553B\", \"#00cc96\", \"#ab63fa\", \"#FFA15A\", \"#19d3f3\", \"#FF6692\", \"#B6E880\", \"#FF97FF\", \"#FECB52\"], \"font\": {\"color\": \"#2a3f5f\"}, \"geo\": {\"bgcolor\": \"white\", \"lakecolor\": \"white\", \"landcolor\": \"#E5ECF6\", \"showlakes\": true, \"showland\": true, \"subunitcolor\": \"white\"}, \"hoverlabel\": {\"align\": \"left\"}, \"hovermode\": \"closest\", \"mapbox\": {\"style\": \"light\"}, \"paper_bgcolor\": \"white\", \"plot_bgcolor\": \"#E5ECF6\", \"polar\": {\"angularaxis\": {\"gridcolor\": \"white\", \"linecolor\": \"white\", \"ticks\": \"\"}, \"bgcolor\": \"#E5ECF6\", \"radialaxis\": {\"gridcolor\": \"white\", \"linecolor\": \"white\", \"ticks\": \"\"}}, \"scene\": {\"xaxis\": {\"backgroundcolor\": \"#E5ECF6\", \"gridcolor\": \"white\", \"gridwidth\": 2, \"linecolor\": \"white\", \"showbackground\": true, \"ticks\": \"\", \"zerolinecolor\": \"white\"}, \"yaxis\": {\"backgroundcolor\": \"#E5ECF6\", \"gridcolor\": \"white\", \"gridwidth\": 2, \"linecolor\": \"white\", \"showbackground\": true, \"ticks\": \"\", \"zerolinecolor\": \"white\"}, \"zaxis\": {\"backgroundcolor\": \"#E5ECF6\", \"gridcolor\": \"white\", \"gridwidth\": 2, \"linecolor\": \"white\", \"showbackground\": true, \"ticks\": \"\", \"zerolinecolor\": \"white\"}}, \"shapedefaults\": {\"line\": {\"color\": \"#2a3f5f\"}}, \"ternary\": {\"aaxis\": {\"gridcolor\": \"white\", \"linecolor\": \"white\", \"ticks\": \"\"}, \"baxis\": {\"gridcolor\": \"white\", \"linecolor\": \"white\", \"ticks\": \"\"}, \"bgcolor\": \"#E5ECF6\", \"caxis\": {\"gridcolor\": \"white\", \"linecolor\": \"white\", \"ticks\": \"\"}}, \"title\": {\"x\": 0.05}, \"xaxis\": {\"automargin\": true, \"gridcolor\": \"white\", \"linecolor\": \"white\", \"ticks\": \"\", \"title\": {\"standoff\": 15}, \"zerolinecolor\": \"white\", \"zerolinewidth\": 2}, \"yaxis\": {\"automargin\": true, \"gridcolor\": \"white\", \"linecolor\": \"white\", \"ticks\": \"\", \"title\": {\"standoff\": 15}, \"zerolinecolor\": \"white\", \"zerolinewidth\": 2}}}, \"updatemenus\": [{\"buttons\": [{\"args\": [null, {\"frame\": {\"duration\": 500, \"redraw\": true}, \"fromcurrent\": true, \"mode\": \"immediate\", \"transition\": {\"duration\": 500, \"easing\": \"linear\"}}], \"label\": \"&#9654;\", \"method\": \"animate\"}, {\"args\": [[null], {\"frame\": {\"duration\": 0, \"redraw\": true}, \"fromcurrent\": true, \"mode\": \"immediate\", \"transition\": {\"duration\": 0, \"easing\": \"linear\"}}], \"label\": \"&#9724;\", \"method\": \"animate\"}], \"direction\": \"left\", \"pad\": {\"r\": 10, \"t\": 70}, \"showactive\": false, \"type\": \"buttons\", \"x\": 0.1, \"xanchor\": \"right\", \"y\": 0, \"yanchor\": \"top\"}]},                        {\"responsive\": true}                    ).then(function(){\n",
       "                            Plotly.addFrames('609d0328-d3cb-4901-927d-c3eee5bdaff4', [{\"data\": [{\"geo\": \"geo\", \"hovertemplate\": \"<b>%{hovertext}</b><br><br>region=Asia<br>percent=%{marker.size}<br>Alpha-3 code=%{location}<extra></extra>\", \"hovertext\": [\"China National Coal Group Company Limited\"], \"legendgroup\": \"Asia\", \"locations\": [\"CHN\"], \"marker\": {\"color\": \"#636efa\", \"size\": [14.32], \"sizemode\": \"area\", \"sizeref\": 0.0358, \"symbol\": \"circle\"}, \"mode\": \"markers\", \"name\": \"Asia\", \"showlegend\": true, \"type\": \"scattergeo\"}], \"name\": \"14.32\"}, {\"data\": [{\"geo\": \"geo\", \"hovertemplate\": \"<b>%{hovertext}</b><br><br>region=Asia<br>percent=%{marker.size}<br>Alpha-3 code=%{location}<extra></extra>\", \"hovertext\": [\"Saudi Arabian Oil Company (Aramco)\"], \"legendgroup\": \"Asia\", \"locations\": [\"SAU\"], \"marker\": {\"color\": \"#636efa\", \"size\": [4.5], \"sizemode\": \"area\", \"sizeref\": 0.0358, \"symbol\": \"circle\"}, \"mode\": \"markers\", \"name\": \"Asia\", \"showlegend\": true, \"type\": \"scattergeo\"}], \"name\": \"4.5\"}, {\"data\": [{\"geo\": \"geo\", \"hovertemplate\": \"<b>%{hovertext}</b><br><br>region=Europe<br>percent=%{marker.size}<br>Alpha-3 code=%{location}<extra></extra>\", \"hovertext\": [\"Gazprom OAO\"], \"legendgroup\": \"Europe\", \"locations\": [\"RUS\"], \"marker\": {\"color\": \"#EF553B\", \"size\": [3.91], \"sizemode\": \"area\", \"sizeref\": 0.0358, \"symbol\": \"circle\"}, \"mode\": \"markers\", \"name\": \"Europe\", \"showlegend\": true, \"type\": \"scattergeo\"}], \"name\": \"3.91\"}, {\"data\": [{\"geo\": \"geo\", \"hovertemplate\": \"<b>%{hovertext}</b><br><br>region=Asia<br>percent=%{marker.size}<br>Alpha-3 code=%{location}<extra></extra>\", \"hovertext\": [\"National Iranian Oil Co\"], \"legendgroup\": \"Asia\", \"locations\": [\"IRN\"], \"marker\": {\"color\": \"#636efa\", \"size\": [2.28], \"sizemode\": \"area\", \"sizeref\": 0.0358, \"symbol\": \"circle\"}, \"mode\": \"markers\", \"name\": \"Asia\", \"showlegend\": true, \"type\": \"scattergeo\"}], \"name\": \"2.28\"}, {\"data\": [{\"geo\": \"geo\", \"hovertemplate\": \"<b>%{hovertext}</b><br><br>region=North America<br>percent=%{marker.size}<br>Alpha-3 code=%{location}<extra></extra>\", \"hovertext\": [\"ExxonMobil Corp\"], \"legendgroup\": \"North America\", \"locations\": [\"USA\"], \"marker\": {\"color\": \"#00cc96\", \"size\": [1.98], \"sizemode\": \"area\", \"sizeref\": 0.0358, \"symbol\": \"circle\"}, \"mode\": \"markers\", \"name\": \"North America\", \"showlegend\": true, \"type\": \"scattergeo\"}], \"name\": \"1.98\"}, {\"data\": [{\"geo\": \"geo\", \"hovertemplate\": \"<b>%{hovertext}</b><br><br>region=Asia<br>percent=%{marker.size}<br>Alpha-3 code=%{location}<extra></extra>\", \"hovertext\": [\"Coal India\"], \"legendgroup\": \"Asia\", \"locations\": [\"IND\"], \"marker\": {\"color\": \"#636efa\", \"size\": [1.87], \"sizemode\": \"area\", \"sizeref\": 0.0358, \"symbol\": \"circle\"}, \"mode\": \"markers\", \"name\": \"Asia\", \"showlegend\": true, \"type\": \"scattergeo\"}, {\"geo\": \"geo\", \"hovertemplate\": \"<b>%{hovertext}</b><br><br>region=Latin America<br>percent=%{marker.size}<br>Alpha-3 code=%{location}<extra></extra>\", \"hovertext\": [\"Petroleos Mexicanos (Pemex)\"], \"legendgroup\": \"Latin America\", \"locations\": [\"MEX\"], \"marker\": {\"color\": \"#ab63fa\", \"size\": [1.87], \"sizemode\": \"area\", \"sizeref\": 0.0358, \"symbol\": \"circle\"}, \"mode\": \"markers\", \"name\": \"Latin America\", \"showlegend\": true, \"type\": \"scattergeo\"}], \"name\": \"1.87\"}, {\"data\": [{\"geo\": \"geo\", \"hovertemplate\": \"<b>%{hovertext}</b><br><br>region=Europe<br>percent=%{marker.size}<br>Alpha-3 code=%{location}<extra></extra>\", \"hovertext\": [\"Russia (Coal)\"], \"legendgroup\": \"Europe\", \"locations\": [\"RUS\"], \"marker\": {\"color\": \"#EF553B\", \"size\": [1.86], \"sizemode\": \"area\", \"sizeref\": 0.0358, \"symbol\": \"circle\"}, \"mode\": \"markers\", \"name\": \"Europe\", \"showlegend\": true, \"type\": \"scattergeo\"}], \"name\": \"1.86\"}, {\"data\": [{\"geo\": \"geo\", \"hovertemplate\": \"<b>%{hovertext}</b><br><br>region=Europe<br>percent=%{marker.size}<br>Alpha-3 code=%{location}<extra></extra>\", \"hovertext\": [\"Royal Dutch Shell PLC\"], \"legendgroup\": \"Europe\", \"locations\": [\"NLD\"], \"marker\": {\"color\": \"#EF553B\", \"size\": [1.67], \"sizemode\": \"area\", \"sizeref\": 0.0358, \"symbol\": \"circle\"}, \"mode\": \"markers\", \"name\": \"Europe\", \"showlegend\": true, \"type\": \"scattergeo\"}], \"name\": \"1.67\"}, {\"data\": [{\"geo\": \"geo\", \"hovertemplate\": \"<b>%{hovertext}</b><br><br>region=Asia<br>percent=%{marker.size}<br>Alpha-3 code=%{location}<extra></extra>\", \"hovertext\": [\"China National Petroleum Corp (CNPC)\"], \"legendgroup\": \"Asia\", \"locations\": [\"CHN\"], \"marker\": {\"color\": \"#636efa\", \"size\": [1.56], \"sizemode\": \"area\", \"sizeref\": 0.0358, \"symbol\": \"circle\"}, \"mode\": \"markers\", \"name\": \"Asia\", \"showlegend\": true, \"type\": \"scattergeo\"}], \"name\": \"1.56\"}, {\"data\": [{\"geo\": \"geo\", \"hovertemplate\": \"<b>%{hovertext}</b><br><br>region=Europe<br>percent=%{marker.size}<br>Alpha-3 code=%{location}<extra></extra>\", \"hovertext\": [\"BP PLC\"], \"legendgroup\": \"Europe\", \"locations\": [\"GBR\"], \"marker\": {\"color\": \"#EF553B\", \"size\": [1.53], \"sizemode\": \"area\", \"sizeref\": 0.0358, \"symbol\": \"circle\"}, \"mode\": \"markers\", \"name\": \"Europe\", \"showlegend\": true, \"type\": \"scattergeo\"}], \"name\": \"1.53\"}, {\"data\": [{\"geo\": \"geo\", \"hovertemplate\": \"<b>%{hovertext}</b><br><br>region=North America<br>percent=%{marker.size}<br>Alpha-3 code=%{location}<extra></extra>\", \"hovertext\": [\"Chevron Corp\"], \"legendgroup\": \"North America\", \"locations\": [\"USA\"], \"marker\": {\"color\": \"#00cc96\", \"size\": [1.31], \"sizemode\": \"area\", \"sizeref\": 0.0358, \"symbol\": \"circle\"}, \"mode\": \"markers\", \"name\": \"North America\", \"showlegend\": true, \"type\": \"scattergeo\"}], \"name\": \"1.31\"}, {\"data\": [{\"geo\": \"geo\", \"hovertemplate\": \"<b>%{hovertext}</b><br><br>region=Latin America<br>percent=%{marker.size}<br>Alpha-3 code=%{location}<extra></extra>\", \"hovertext\": [\"Petroleos de Venezuela SA (PDVSA)\"], \"legendgroup\": \"Latin America\", \"locations\": [\"VEN\"], \"marker\": {\"color\": \"#ab63fa\", \"size\": [1.23], \"sizemode\": \"area\", \"sizeref\": 0.0358, \"symbol\": \"circle\"}, \"mode\": \"markers\", \"name\": \"Latin America\", \"showlegend\": true, \"type\": \"scattergeo\"}], \"name\": \"1.23\"}, {\"data\": [{\"geo\": \"geo\", \"hovertemplate\": \"<b>%{hovertext}</b><br><br>region=Asia<br>percent=%{marker.size}<br>Alpha-3 code=%{location}<extra></extra>\", \"hovertext\": [\"Abu Dhabi National Oil Co\"], \"legendgroup\": \"Asia\", \"locations\": [\"SAU\"], \"marker\": {\"color\": \"#636efa\", \"size\": [1.2], \"sizemode\": \"area\", \"sizeref\": 0.0358, \"symbol\": \"circle\"}, \"mode\": \"markers\", \"name\": \"Asia\", \"showlegend\": true, \"type\": \"scattergeo\"}], \"name\": \"1.2\"}, {\"data\": [{\"geo\": \"geo\", \"hovertemplate\": \"<b>%{hovertext}</b><br><br>region=Europe<br>percent=%{marker.size}<br>Alpha-3 code=%{location}<extra></extra>\", \"hovertext\": [\"Poland Coal\"], \"legendgroup\": \"Europe\", \"locations\": [\"POL\"], \"marker\": {\"color\": \"#EF553B\", \"size\": [1.16], \"sizemode\": \"area\", \"sizeref\": 0.0358, \"symbol\": \"circle\"}, \"mode\": \"markers\", \"name\": \"Europe\", \"showlegend\": true, \"type\": \"scattergeo\"}], \"name\": \"1.16\"}, {\"data\": [{\"geo\": \"geo\", \"hovertemplate\": \"<b>%{hovertext}</b><br><br>region=North America<br>percent=%{marker.size}<br>Alpha-3 code=%{location}<extra></extra>\", \"hovertext\": [\"Peabody Energy Corp\"], \"legendgroup\": \"North America\", \"locations\": [\"USA\"], \"marker\": {\"color\": \"#00cc96\", \"size\": [1.15], \"sizemode\": \"area\", \"sizeref\": 0.0358, \"symbol\": \"circle\"}, \"mode\": \"markers\", \"name\": \"North America\", \"showlegend\": true, \"type\": \"scattergeo\"}], \"name\": \"1.15\"}, {\"data\": [{\"geo\": \"geo\", \"hovertemplate\": \"<b>%{hovertext}</b><br><br>region=Asia<br>percent=%{marker.size}<br>Alpha-3 code=%{location}<extra></extra>\", \"hovertext\": [\"Kuwait Petroleum Corp\"], \"legendgroup\": \"Asia\", \"locations\": [\"KWT\"], \"marker\": {\"color\": \"#636efa\", \"size\": [1.0], \"sizemode\": \"area\", \"sizeref\": 0.0358, \"symbol\": \"circle\"}, \"mode\": \"markers\", \"name\": \"Asia\", \"showlegend\": true, \"type\": \"scattergeo\"}, {\"geo\": \"geo\", \"hovertemplate\": \"<b>%{hovertext}</b><br><br>region=Africa<br>percent=%{marker.size}<br>Alpha-3 code=%{location}<extra></extra>\", \"hovertext\": [\"Sonatrach SPA\"], \"legendgroup\": \"Africa\", \"locations\": [\"DZA\"], \"marker\": {\"color\": \"#FFA15A\", \"size\": [1.0], \"sizemode\": \"area\", \"sizeref\": 0.0358, \"symbol\": \"circle\"}, \"mode\": \"markers\", \"name\": \"Africa\", \"showlegend\": true, \"type\": \"scattergeo\"}], \"name\": \"1.0\"}, {\"data\": [{\"geo\": \"geo\", \"hovertemplate\": \"<b>%{hovertext}</b><br><br>region=Europe<br>percent=%{marker.size}<br>Alpha-3 code=%{location}<extra></extra>\", \"hovertext\": [\"Total SA\"], \"legendgroup\": \"Europe\", \"locations\": [\"FRA\"], \"marker\": {\"color\": \"#EF553B\", \"size\": [0.95], \"sizemode\": \"area\", \"sizeref\": 0.0358, \"symbol\": \"circle\"}, \"mode\": \"markers\", \"name\": \"Europe\", \"showlegend\": true, \"type\": \"scattergeo\"}], \"name\": \"0.95\"}, {\"data\": [{\"geo\": \"geo\", \"hovertemplate\": \"<b>%{hovertext}</b><br><br>region=North America<br>percent=%{marker.size}<br>Alpha-3 code=%{location}<extra></extra>\", \"hovertext\": [\"ConocoPhillips\"], \"legendgroup\": \"North America\", \"locations\": [\"USA\"], \"marker\": {\"color\": \"#00cc96\", \"size\": [0.91], \"sizemode\": \"area\", \"sizeref\": 0.0358, \"symbol\": \"circle\"}, \"mode\": \"markers\", \"name\": \"North America\", \"showlegend\": true, \"type\": \"scattergeo\"}, {\"geo\": \"geo\", \"hovertemplate\": \"<b>%{hovertext}</b><br><br>region=Oceaniy<br>percent=%{marker.size}<br>Alpha-3 code=%{location}<extra></extra>\", \"hovertext\": [\"BHP Billiton Ltd\"], \"legendgroup\": \"Oceaniy\", \"locations\": [\"AUS\"], \"marker\": {\"color\": \"#19d3f3\", \"size\": [0.91], \"sizemode\": \"area\", \"sizeref\": 0.0358, \"symbol\": \"circle\"}, \"mode\": \"markers\", \"name\": \"Oceaniy\", \"showlegend\": true, \"type\": \"scattergeo\"}], \"name\": \"0.91\"}, {\"data\": [{\"geo\": \"geo\", \"hovertemplate\": \"<b>%{hovertext}</b><br><br>region=Latin America<br>percent=%{marker.size}<br>Alpha-3 code=%{location}<extra></extra>\", \"hovertext\": [\"Petroleo Brasileiro SA (Petrobras)\"], \"legendgroup\": \"Latin America\", \"locations\": [\"BRA\"], \"marker\": {\"color\": \"#ab63fa\", \"size\": [0.77], \"sizemode\": \"area\", \"sizeref\": 0.0358, \"symbol\": \"circle\"}, \"mode\": \"markers\", \"name\": \"Latin America\", \"showlegend\": true, \"type\": \"scattergeo\"}], \"name\": \"0.77\"}, {\"data\": [{\"geo\": \"geo\", \"hovertemplate\": \"<b>%{hovertext}</b><br><br>region=Europe<br>percent=%{marker.size}<br>Alpha-3 code=%{location}<extra></extra>\", \"hovertext\": [\"Lukoil OAO\", \"Rio Tinto\"], \"legendgroup\": \"Europe\", \"locations\": [\"RUS\", \"GBR\"], \"marker\": {\"color\": \"#EF553B\", \"size\": [0.75, 0.75], \"sizemode\": \"area\", \"sizeref\": 0.0358, \"symbol\": \"circle\"}, \"mode\": \"markers\", \"name\": \"Europe\", \"showlegend\": true, \"type\": \"scattergeo\"}], \"name\": \"0.75\"}, {\"data\": [{\"geo\": \"geo\", \"hovertemplate\": \"<b>%{hovertext}</b><br><br>region=Africa<br>percent=%{marker.size}<br>Alpha-3 code=%{location}<extra></extra>\", \"hovertext\": [\"Nigerian National Petroleum Corp\"], \"legendgroup\": \"Africa\", \"locations\": [\"NGA\"], \"marker\": {\"color\": \"#FFA15A\", \"size\": [0.72], \"sizemode\": \"area\", \"sizeref\": 0.0358, \"symbol\": \"circle\"}, \"mode\": \"markers\", \"name\": \"Africa\", \"showlegend\": true, \"type\": \"scattergeo\"}], \"name\": \"0.72\"}, {\"data\": [{\"geo\": \"geo\", \"hovertemplate\": \"<b>%{hovertext}</b><br><br>region=Asia<br>percent=%{marker.size}<br>Alpha-3 code=%{location}<extra></extra>\", \"hovertext\": [\"Petroliam Nasional Berhad (Petronas)\"], \"legendgroup\": \"Asia\", \"locations\": [\"MYS\"], \"marker\": {\"color\": \"#636efa\", \"size\": [0.69], \"sizemode\": \"area\", \"sizeref\": 0.0358, \"symbol\": \"circle\"}, \"mode\": \"markers\", \"name\": \"Asia\", \"showlegend\": true, \"type\": \"scattergeo\"}], \"name\": \"0.69\"}, {\"data\": [{\"geo\": \"geo\", \"hovertemplate\": \"<b>%{hovertext}</b><br><br>region=Europe<br>percent=%{marker.size}<br>Alpha-3 code=%{location}<extra></extra>\", \"hovertext\": [\"Rosneft OAO\"], \"legendgroup\": \"Europe\", \"locations\": [\"RUS\"], \"marker\": {\"color\": \"#EF553B\", \"size\": [0.65], \"sizemode\": \"area\", \"sizeref\": 0.0358, \"symbol\": \"circle\"}, \"mode\": \"markers\", \"name\": \"Europe\", \"showlegend\": true, \"type\": \"scattergeo\"}], \"name\": \"0.65\"}, {\"data\": [{\"geo\": \"geo\", \"hovertemplate\": \"<b>%{hovertext}</b><br><br>region=North America<br>percent=%{marker.size}<br>Alpha-3 code=%{location}<extra></extra>\", \"hovertext\": [\"Arch Coal Inc\"], \"legendgroup\": \"North America\", \"locations\": [\"USA\"], \"marker\": {\"color\": \"#00cc96\", \"size\": [0.63], \"sizemode\": \"area\", \"sizeref\": 0.0358, \"symbol\": \"circle\"}, \"mode\": \"markers\", \"name\": \"North America\", \"showlegend\": true, \"type\": \"scattergeo\"}], \"name\": \"0.63\"}, {\"data\": [{\"geo\": \"geo\", \"hovertemplate\": \"<b>%{hovertext}</b><br><br>region=Asia<br>percent=%{marker.size}<br>Alpha-3 code=%{location}<extra></extra>\", \"hovertext\": [\"Iraq National Oil Co\"], \"legendgroup\": \"Asia\", \"locations\": [\"IRQ\"], \"marker\": {\"color\": \"#636efa\", \"size\": [0.6], \"sizemode\": \"area\", \"sizeref\": 0.0358, \"symbol\": \"circle\"}, \"mode\": \"markers\", \"name\": \"Asia\", \"showlegend\": true, \"type\": \"scattergeo\"}], \"name\": \"0.6\"}, {\"data\": [{\"geo\": \"geo\", \"hovertemplate\": \"<b>%{hovertext}</b><br><br>region=Europe<br>percent=%{marker.size}<br>Alpha-3 code=%{location}<extra></extra>\", \"hovertext\": [\"Eni SPA\"], \"legendgroup\": \"Europe\", \"locations\": [\"ITA\"], \"marker\": {\"color\": \"#EF553B\", \"size\": [0.59], \"sizemode\": \"area\", \"sizeref\": 0.0358, \"symbol\": \"circle\"}, \"mode\": \"markers\", \"name\": \"Europe\", \"showlegend\": true, \"type\": \"scattergeo\"}, {\"geo\": \"geo\", \"hovertemplate\": \"<b>%{hovertext}</b><br><br>region=Africa<br>percent=%{marker.size}<br>Alpha-3 code=%{location}<extra></extra>\", \"hovertext\": [\"Anglo American\"], \"legendgroup\": \"Africa\", \"locations\": [\"ZAF\"], \"marker\": {\"color\": \"#FFA15A\", \"size\": [0.59], \"sizemode\": \"area\", \"sizeref\": 0.0358, \"symbol\": \"circle\"}, \"mode\": \"markers\", \"name\": \"Africa\", \"showlegend\": true, \"type\": \"scattergeo\"}], \"name\": \"0.59\"}, {\"data\": [{\"geo\": \"geo\", \"hovertemplate\": \"<b>%{hovertext}</b><br><br>region=Asia<br>percent=%{marker.size}<br>Alpha-3 code=%{location}<extra></extra>\", \"hovertext\": [\"Surgutneftegas OAO\"], \"legendgroup\": \"Asia\", \"locations\": [\"RUS\"], \"marker\": {\"color\": \"#636efa\", \"size\": [0.57], \"sizemode\": \"area\", \"sizeref\": 0.0358, \"symbol\": \"circle\"}, \"mode\": \"markers\", \"name\": \"Asia\", \"showlegend\": true, \"type\": \"scattergeo\"}], \"name\": \"0.57\"}, {\"data\": [{\"geo\": \"geo\", \"hovertemplate\": \"<b>%{hovertext}</b><br><br>region=Asia<br>percent=%{marker.size}<br>Alpha-3 code=%{location}<extra></extra>\", \"hovertext\": [\"Qatar Petroleum Corp\", \"PT Pertamina\"], \"legendgroup\": \"Asia\", \"locations\": [\"QAT\", \"IDN\"], \"marker\": {\"color\": \"#636efa\", \"size\": [0.54, 0.54], \"sizemode\": \"area\", \"sizeref\": 0.0358, \"symbol\": \"circle\"}, \"mode\": \"markers\", \"name\": \"Asia\", \"showlegend\": true, \"type\": \"scattergeo\"}, {\"geo\": \"geo\", \"hovertemplate\": \"<b>%{hovertext}</b><br><br>region=North America<br>percent=%{marker.size}<br>Alpha-3 code=%{location}<extra></extra>\", \"hovertext\": [\"Alpha Natural Resources Inc\"], \"legendgroup\": \"North America\", \"locations\": [\"USA\"], \"marker\": {\"color\": \"#00cc96\", \"size\": [0.54], \"sizemode\": \"area\", \"sizeref\": 0.0358, \"symbol\": \"circle\"}, \"mode\": \"markers\", \"name\": \"North America\", \"showlegend\": true, \"type\": \"scattergeo\"}], \"name\": \"0.54\"}, {\"data\": [{\"geo\": \"geo\", \"hovertemplate\": \"<b>%{hovertext}</b><br><br>region=Asia<br>percent=%{marker.size}<br>Alpha-3 code=%{location}<extra></extra>\", \"hovertext\": [\"Kazakhstan Coal\"], \"legendgroup\": \"Asia\", \"locations\": [\"KAZ\"], \"marker\": {\"color\": \"#636efa\", \"size\": [0.53], \"sizemode\": \"area\", \"sizeref\": 0.0358, \"symbol\": \"circle\"}, \"mode\": \"markers\", \"name\": \"Asia\", \"showlegend\": true, \"type\": \"scattergeo\"}], \"name\": \"0.53\"}, {\"data\": [{\"geo\": \"geo\", \"hovertemplate\": \"<b>%{hovertext}</b><br><br>region=Europe<br>percent=%{marker.size}<br>Alpha-3 code=%{location}<extra></extra>\", \"hovertext\": [\"Statoil ASA\"], \"legendgroup\": \"Europe\", \"locations\": [\"NOR\"], \"marker\": {\"color\": \"#EF553B\", \"size\": [0.52], \"sizemode\": \"area\", \"sizeref\": 0.0358, \"symbol\": \"circle\"}, \"mode\": \"markers\", \"name\": \"Europe\", \"showlegend\": true, \"type\": \"scattergeo\"}], \"name\": \"0.52\"}, {\"data\": [{\"geo\": \"geo\", \"hovertemplate\": \"<b>%{hovertext}</b><br><br>region=North America<br>percent=%{marker.size}<br>Alpha-3 code=%{location}<extra></extra>\", \"hovertext\": [\"Consol Energy Inc\"], \"legendgroup\": \"North America\", \"locations\": [\"USA\"], \"marker\": {\"color\": \"#00cc96\", \"size\": [0.5], \"sizemode\": \"area\", \"sizeref\": 0.0358, \"symbol\": \"circle\"}, \"mode\": \"markers\", \"name\": \"North America\", \"showlegend\": true, \"type\": \"scattergeo\"}, {\"geo\": \"geo\", \"hovertemplate\": \"<b>%{hovertext}</b><br><br>region=Africa<br>percent=%{marker.size}<br>Alpha-3 code=%{location}<extra></extra>\", \"hovertext\": [\"National Oil Corporation of Libya\"], \"legendgroup\": \"Africa\", \"locations\": [\"LBY\"], \"marker\": {\"color\": \"#FFA15A\", \"size\": [0.5], \"sizemode\": \"area\", \"sizeref\": 0.0358, \"symbol\": \"circle\"}, \"mode\": \"markers\", \"name\": \"Africa\", \"showlegend\": true, \"type\": \"scattergeo\"}], \"name\": \"0.5\"}, {\"data\": [{\"geo\": \"geo\", \"hovertemplate\": \"<b>%{hovertext}</b><br><br>region=Europe<br>percent=%{marker.size}<br>Alpha-3 code=%{location}<extra></extra>\", \"hovertext\": [\"Ukraine Coal\"], \"legendgroup\": \"Europe\", \"locations\": [\"UKR\"], \"marker\": {\"color\": \"#EF553B\", \"size\": [0.49], \"sizemode\": \"area\", \"sizeref\": 0.0358, \"symbol\": \"circle\"}, \"mode\": \"markers\", \"name\": \"Europe\", \"showlegend\": true, \"type\": \"scattergeo\"}], \"name\": \"0.49\"}, {\"data\": [{\"geo\": \"geo\", \"hovertemplate\": \"<b>%{hovertext}</b><br><br>region=Europe<br>percent=%{marker.size}<br>Alpha-3 code=%{location}<extra></extra>\", \"hovertext\": [\"RWE AG\"], \"legendgroup\": \"Europe\", \"locations\": [\"DEU\"], \"marker\": {\"color\": \"#EF553B\", \"size\": [0.47], \"sizemode\": \"area\", \"sizeref\": 0.0358, \"symbol\": \"circle\"}, \"mode\": \"markers\", \"name\": \"Europe\", \"showlegend\": true, \"type\": \"scattergeo\"}], \"name\": \"0.47\"}, {\"data\": [{\"geo\": \"geo\", \"hovertemplate\": \"<b>%{hovertext}</b><br><br>region=Asia<br>percent=%{marker.size}<br>Alpha-3 code=%{location}<extra></extra>\", \"hovertext\": [\"Oil & Natural Gas Corp Ltd\"], \"legendgroup\": \"Asia\", \"locations\": [\"IND\"], \"marker\": {\"color\": \"#636efa\", \"size\": [0.4], \"sizemode\": \"area\", \"sizeref\": 0.0358, \"symbol\": \"circle\"}, \"mode\": \"markers\", \"name\": \"Asia\", \"showlegend\": true, \"type\": \"scattergeo\"}], \"name\": \"0.4\"}, {\"data\": [{\"geo\": \"geo\", \"hovertemplate\": \"<b>%{hovertext}</b><br><br>region=Europe<br>percent=%{marker.size}<br>Alpha-3 code=%{location}<extra></extra>\", \"hovertext\": [\"Glencore PLC\"], \"legendgroup\": \"Europe\", \"locations\": [\"CHE\"], \"marker\": {\"color\": \"#EF553B\", \"size\": [0.38], \"sizemode\": \"area\", \"sizeref\": 0.0358, \"symbol\": \"circle\"}, \"mode\": \"markers\", \"name\": \"Europe\", \"showlegend\": true, \"type\": \"scattergeo\"}], \"name\": \"0.38\"}, {\"data\": [{\"geo\": \"geo\", \"hovertemplate\": \"<b>%{hovertext}</b><br><br>region=Asia<br>percent=%{marker.size}<br>Alpha-3 code=%{location}<extra></extra>\", \"hovertext\": [\"TurkmenGaz\"], \"legendgroup\": \"Asia\", \"locations\": [\"TKM\"], \"marker\": {\"color\": \"#636efa\", \"size\": [0.36], \"sizemode\": \"area\", \"sizeref\": 0.0358, \"symbol\": \"circle\"}, \"mode\": \"markers\", \"name\": \"Asia\", \"showlegend\": true, \"type\": \"scattergeo\"}], \"name\": \"0.36\"}, {\"data\": [{\"geo\": \"geo\", \"hovertemplate\": \"<b>%{hovertext}</b><br><br>region=Africa<br>percent=%{marker.size}<br>Alpha-3 code=%{location}<extra></extra>\", \"hovertext\": [\"Sasol Ltd\"], \"legendgroup\": \"Africa\", \"locations\": [\"ZAF\"], \"marker\": {\"color\": \"#FFA15A\", \"size\": [0.35], \"sizemode\": \"area\", \"sizeref\": 0.0358, \"symbol\": \"circle\"}, \"mode\": \"markers\", \"name\": \"Africa\", \"showlegend\": true, \"type\": \"scattergeo\"}], \"name\": \"0.35\"}, {\"data\": [{\"geo\": \"geo\", \"hovertemplate\": \"<b>%{hovertext}</b><br><br>region=Europe<br>percent=%{marker.size}<br>Alpha-3 code=%{location}<extra></extra>\", \"hovertext\": [\"Repsol SA\"], \"legendgroup\": \"Europe\", \"locations\": [\"ESP\"], \"marker\": {\"color\": \"#EF553B\", \"size\": [0.33], \"sizemode\": \"area\", \"sizeref\": 0.0358, \"symbol\": \"circle\"}, \"mode\": \"markers\", \"name\": \"Europe\", \"showlegend\": true, \"type\": \"scattergeo\"}, {\"geo\": \"geo\", \"hovertemplate\": \"<b>%{hovertext}</b><br><br>region=North America<br>percent=%{marker.size}<br>Alpha-3 code=%{location}<extra></extra>\", \"hovertext\": [\"Anadarko Petroleum Corp\"], \"legendgroup\": \"North America\", \"locations\": [\"USA\"], \"marker\": {\"color\": \"#00cc96\", \"size\": [0.33], \"sizemode\": \"area\", \"sizeref\": 0.0358, \"symbol\": \"circle\"}, \"mode\": \"markers\", \"name\": \"North America\", \"showlegend\": true, \"type\": \"scattergeo\"}], \"name\": \"0.33\"}, {\"data\": [{\"geo\": \"geo\", \"hovertemplate\": \"<b>%{hovertext}</b><br><br>region=Asia<br>percent=%{marker.size}<br>Alpha-3 code=%{location}<extra></extra>\", \"hovertext\": [\"Petroleum Development Oman LLC\"], \"legendgroup\": \"Asia\", \"locations\": [\"OMN\"], \"marker\": {\"color\": \"#636efa\", \"size\": [0.31], \"sizemode\": \"area\", \"sizeref\": 0.0358, \"symbol\": \"circle\"}, \"mode\": \"markers\", \"name\": \"Asia\", \"showlegend\": true, \"type\": \"scattergeo\"}, {\"geo\": \"geo\", \"hovertemplate\": \"<b>%{hovertext}</b><br><br>region=Africa<br>percent=%{marker.size}<br>Alpha-3 code=%{location}<extra></extra>\", \"hovertext\": [\"Egyptian General Petroleum Corp\"], \"legendgroup\": \"Africa\", \"locations\": [\"EGY\"], \"marker\": {\"color\": \"#FFA15A\", \"size\": [0.31], \"sizemode\": \"area\", \"sizeref\": 0.0358, \"symbol\": \"circle\"}, \"mode\": \"markers\", \"name\": \"Africa\", \"showlegend\": true, \"type\": \"scattergeo\"}], \"name\": \"0.31\"}, {\"data\": [{\"geo\": \"geo\", \"hovertemplate\": \"<b>%{hovertext}</b><br><br>region=Europe<br>percent=%{marker.size}<br>Alpha-3 code=%{location}<extra></extra>\", \"hovertext\": [\"Czech Republic Coal\"], \"legendgroup\": \"Europe\", \"locations\": [\"CZE\"], \"marker\": {\"color\": \"#EF553B\", \"size\": [0.3], \"sizemode\": \"area\", \"sizeref\": 0.0358, \"symbol\": \"circle\"}, \"mode\": \"markers\", \"name\": \"Europe\", \"showlegend\": true, \"type\": \"scattergeo\"}], \"name\": \"0.3\"}, {\"data\": [{\"geo\": \"geo\", \"hovertemplate\": \"<b>%{hovertext}</b><br><br>region=Asia<br>percent=%{marker.size}<br>Alpha-3 code=%{location}<extra></extra>\", \"hovertext\": [\"China Petrochemical Corp (Sinopec)\"], \"legendgroup\": \"Asia\", \"locations\": [\"CHN\"], \"marker\": {\"color\": \"#636efa\", \"size\": [0.29], \"sizemode\": \"area\", \"sizeref\": 0.0358, \"symbol\": \"circle\"}, \"mode\": \"markers\", \"name\": \"Asia\", \"showlegend\": true, \"type\": \"scattergeo\"}], \"name\": \"0.29\"}, {\"data\": [{\"geo\": \"geo\", \"hovertemplate\": \"<b>%{hovertext}</b><br><br>region=Asia<br>percent=%{marker.size}<br>Alpha-3 code=%{location}<extra></extra>\", \"hovertext\": [\"China National Offshore Oil Corp Ltd (CNOOC)\"], \"legendgroup\": \"Asia\", \"locations\": [\"CHN\"], \"marker\": {\"color\": \"#636efa\", \"size\": [0.28], \"sizemode\": \"area\", \"sizeref\": 0.0358, \"symbol\": \"circle\"}, \"mode\": \"markers\", \"name\": \"Asia\", \"showlegend\": true, \"type\": \"scattergeo\"}], \"name\": \"0.28\"}, {\"data\": [{\"geo\": \"geo\", \"hovertemplate\": \"<b>%{hovertext}</b><br><br>region=Asia<br>percent=%{marker.size}<br>Alpha-3 code=%{location}<extra></extra>\", \"hovertext\": [\"Singareni Collieries Company\"], \"legendgroup\": \"Asia\", \"locations\": [\"IND\"], \"marker\": {\"color\": \"#636efa\", \"size\": [0.27], \"sizemode\": \"area\", \"sizeref\": 0.0358, \"symbol\": \"circle\"}, \"mode\": \"markers\", \"name\": \"Asia\", \"showlegend\": true, \"type\": \"scattergeo\"}, {\"geo\": \"geo\", \"hovertemplate\": \"<b>%{hovertext}</b><br><br>region=Latin America<br>percent=%{marker.size}<br>Alpha-3 code=%{location}<extra></extra>\", \"hovertext\": [\"Ecopetrol SA\"], \"legendgroup\": \"Latin America\", \"locations\": [\"COL\"], \"marker\": {\"color\": \"#ab63fa\", \"size\": [0.27], \"sizemode\": \"area\", \"sizeref\": 0.0358, \"symbol\": \"circle\"}, \"mode\": \"markers\", \"name\": \"Latin America\", \"showlegend\": true, \"type\": \"scattergeo\"}], \"name\": \"0.27\"}, {\"data\": [{\"geo\": \"geo\", \"hovertemplate\": \"<b>%{hovertext}</b><br><br>region=North America<br>percent=%{marker.size}<br>Alpha-3 code=%{location}<extra></extra>\", \"hovertext\": [\"Occidental Petroleum Corp\"], \"legendgroup\": \"North America\", \"locations\": [\"USA\"], \"marker\": {\"color\": \"#00cc96\", \"size\": [0.26], \"sizemode\": \"area\", \"sizeref\": 0.0358, \"symbol\": \"circle\"}, \"mode\": \"markers\", \"name\": \"North America\", \"showlegend\": true, \"type\": \"scattergeo\"}, {\"geo\": \"geo\", \"hovertemplate\": \"<b>%{hovertext}</b><br><br>region=Africa<br>percent=%{marker.size}<br>Alpha-3 code=%{location}<extra></extra>\", \"hovertext\": [\"Sonangol EP\"], \"legendgroup\": \"Africa\", \"locations\": [\"AGO\"], \"marker\": {\"color\": \"#FFA15A\", \"size\": [0.26], \"sizemode\": \"area\", \"sizeref\": 0.0358, \"symbol\": \"circle\"}, \"mode\": \"markers\", \"name\": \"Africa\", \"showlegend\": true, \"type\": \"scattergeo\"}], \"name\": \"0.26\"}, {\"data\": [{\"geo\": \"geo\", \"hovertemplate\": \"<b>%{hovertext}</b><br><br>region=Asia<br>percent=%{marker.size}<br>Alpha-3 code=%{location}<extra></extra>\", \"hovertext\": [\"North Korea Coal\", \"Bumi Resources\"], \"legendgroup\": \"Asia\", \"locations\": [\"PRK\", \"IDN\"], \"marker\": {\"color\": \"#636efa\", \"size\": [0.23, 0.23], \"sizemode\": \"area\", \"sizeref\": 0.0358, \"symbol\": \"circle\"}, \"mode\": \"markers\", \"name\": \"Asia\", \"showlegend\": true, \"type\": \"scattergeo\"}, {\"geo\": \"geo\", \"hovertemplate\": \"<b>%{hovertext}</b><br><br>region=Europe<br>percent=%{marker.size}<br>Alpha-3 code=%{location}<extra></extra>\", \"hovertext\": [\"Tatneft OAO\"], \"legendgroup\": \"Europe\", \"locations\": [\"RUS\"], \"marker\": {\"color\": \"#EF553B\", \"size\": [0.23], \"sizemode\": \"area\", \"sizeref\": 0.0358, \"symbol\": \"circle\"}, \"mode\": \"markers\", \"name\": \"Europe\", \"showlegend\": true, \"type\": \"scattergeo\"}], \"name\": \"0.23\"}, {\"data\": [{\"geo\": \"geo\", \"hovertemplate\": \"<b>%{hovertext}</b><br><br>region=North America<br>percent=%{marker.size}<br>Alpha-3 code=%{location}<extra></extra>\", \"hovertext\": [\"Suncor Energy Inc\"], \"legendgroup\": \"North America\", \"locations\": [\"CAN\"], \"marker\": {\"color\": \"#00cc96\", \"size\": [0.22], \"sizemode\": \"area\", \"sizeref\": 0.0358, \"symbol\": \"circle\"}, \"mode\": \"markers\", \"name\": \"North America\", \"showlegend\": true, \"type\": \"scattergeo\"}], \"name\": \"0.22\"}, {\"data\": [{\"geo\": \"geo\", \"hovertemplate\": \"<b>%{hovertext}</b><br><br>region=Europe<br>percent=%{marker.size}<br>Alpha-3 code=%{location}<extra></extra>\", \"hovertext\": [\"Petoro AS\"], \"legendgroup\": \"Europe\", \"locations\": [\"NOR\"], \"marker\": {\"color\": \"#EF553B\", \"size\": [0.21], \"sizemode\": \"area\", \"sizeref\": 0.0358, \"symbol\": \"circle\"}, \"mode\": \"markers\", \"name\": \"Europe\", \"showlegend\": true, \"type\": \"scattergeo\"}], \"name\": \"0.21\"}, {\"data\": [{\"geo\": \"geo\", \"hovertemplate\": \"<b>%{hovertext}</b><br><br>region=North America<br>percent=%{marker.size}<br>Alpha-3 code=%{location}<extra></extra>\", \"hovertext\": [\"Devon Energy Corp\"], \"legendgroup\": \"North America\", \"locations\": [\"USA\"], \"marker\": {\"color\": \"#00cc96\", \"size\": [0.2], \"sizemode\": \"area\", \"sizeref\": 0.0358, \"symbol\": \"circle\"}, \"mode\": \"markers\", \"name\": \"North America\", \"showlegend\": true, \"type\": \"scattergeo\"}], \"name\": \"0.2\"}, {\"data\": [{\"geo\": \"geo\", \"hovertemplate\": \"<b>%{hovertext}</b><br><br>region=North America<br>percent=%{marker.size}<br>Alpha-3 code=%{location}<extra></extra>\", \"hovertext\": [\"Natural Resource Partners LP\", \"Marathon Oil Corp\", \"Vistra Energy\"], \"legendgroup\": \"North America\", \"locations\": [\"USA\", \"USA\", \"USA\"], \"marker\": {\"color\": \"#00cc96\", \"size\": [0.19, 0.19, 0.19], \"sizemode\": \"area\", \"sizeref\": 0.0358, \"symbol\": \"circle\"}, \"mode\": \"markers\", \"name\": \"North America\", \"showlegend\": true, \"type\": \"scattergeo\"}], \"name\": \"0.19\"}, {\"data\": [{\"geo\": \"geo\", \"hovertemplate\": \"<b>%{hovertext}</b><br><br>region=North America<br>percent=%{marker.size}<br>Alpha-3 code=%{location}<extra></extra>\", \"hovertext\": [\"Encana Corp\"], \"legendgroup\": \"North America\", \"locations\": [\"USA\"], \"marker\": {\"color\": \"#00cc96\", \"size\": [0.18], \"sizemode\": \"area\", \"sizeref\": 0.0358, \"symbol\": \"circle\"}, \"mode\": \"markers\", \"name\": \"North America\", \"showlegend\": true, \"type\": \"scattergeo\"}], \"name\": \"0.18\"}, {\"data\": [{\"geo\": \"geo\", \"hovertemplate\": \"<b>%{hovertext}</b><br><br>region=North America<br>percent=%{marker.size}<br>Alpha-3 code=%{location}<extra></extra>\", \"hovertext\": [\"Canadian Natural Resources Ltd\"], \"legendgroup\": \"North America\", \"locations\": [\"CAN\"], \"marker\": {\"color\": \"#00cc96\", \"size\": [0.17], \"sizemode\": \"area\", \"sizeref\": 0.0358, \"symbol\": \"circle\"}, \"mode\": \"markers\", \"name\": \"North America\", \"showlegend\": true, \"type\": \"scattergeo\"}], \"name\": \"0.17\"}, {\"data\": [{\"geo\": \"geo\", \"hovertemplate\": \"<b>%{hovertext}</b><br><br>region=North America<br>percent=%{marker.size}<br>Alpha-3 code=%{location}<extra></extra>\", \"hovertext\": [\"Hess Corp\"], \"legendgroup\": \"North America\", \"locations\": [\"USA\"], \"marker\": {\"color\": \"#00cc96\", \"size\": [0.16], \"sizemode\": \"area\", \"sizeref\": 0.0358, \"symbol\": \"circle\"}, \"mode\": \"markers\", \"name\": \"North America\", \"showlegend\": true, \"type\": \"scattergeo\"}, {\"geo\": \"geo\", \"hovertemplate\": \"<b>%{hovertext}</b><br><br>region=Africa<br>percent=%{marker.size}<br>Alpha-3 code=%{location}<extra></extra>\", \"hovertext\": [\"Exxaro Resources Ltd\"], \"legendgroup\": \"Africa\", \"locations\": [\"ZAF\"], \"marker\": {\"color\": \"#FFA15A\", \"size\": [0.16], \"sizemode\": \"area\", \"sizeref\": 0.0358, \"symbol\": \"circle\"}, \"mode\": \"markers\", \"name\": \"Africa\", \"showlegend\": true, \"type\": \"scattergeo\"}], \"name\": \"0.16\"}, {\"data\": [{\"geo\": \"geo\", \"hovertemplate\": \"<b>%{hovertext}</b><br><br>region=Asia<br>percent=%{marker.size}<br>Alpha-3 code=%{location}<extra></extra>\", \"hovertext\": [\"Syrian Petroleum Co\"], \"legendgroup\": \"Asia\", \"locations\": [\"SYR\"], \"marker\": {\"color\": \"#636efa\", \"size\": [0.15], \"sizemode\": \"area\", \"sizeref\": 0.0358, \"symbol\": \"circle\"}, \"mode\": \"markers\", \"name\": \"Asia\", \"showlegend\": true, \"type\": \"scattergeo\"}, {\"geo\": \"geo\", \"hovertemplate\": \"<b>%{hovertext}</b><br><br>region=North America<br>percent=%{marker.size}<br>Alpha-3 code=%{location}<extra></extra>\", \"hovertext\": [\"Apache Corp\", \"Murray Coal\", \"Alliance Resource Partners LP\"], \"legendgroup\": \"North America\", \"locations\": [\"USA\", \"USA\", \"USA\"], \"marker\": {\"color\": \"#00cc96\", \"size\": [0.15, 0.15, 0.15], \"sizemode\": \"area\", \"sizeref\": 0.0358, \"symbol\": \"circle\"}, \"mode\": \"markers\", \"name\": \"North America\", \"showlegend\": true, \"type\": \"scattergeo\"}, {\"geo\": \"geo\", \"hovertemplate\": \"<b>%{hovertext}</b><br><br>region=Latin America<br>percent=%{marker.size}<br>Alpha-3 code=%{location}<extra></extra>\", \"hovertext\": [\"YPF SA\"], \"legendgroup\": \"Latin America\", \"locations\": [\"ARG\"], \"marker\": {\"color\": \"#ab63fa\", \"size\": [0.15], \"sizemode\": \"area\", \"sizeref\": 0.0358, \"symbol\": \"circle\"}, \"mode\": \"markers\", \"name\": \"Latin America\", \"showlegend\": true, \"type\": \"scattergeo\"}], \"name\": \"0.15\"}, {\"data\": [{\"geo\": \"geo\", \"hovertemplate\": \"<b>%{hovertext}</b><br><br>region=Europe<br>percent=%{marker.size}<br>Alpha-3 code=%{location}<extra></extra>\", \"hovertext\": [\"Novatek OAO\"], \"legendgroup\": \"Europe\", \"locations\": [\"RUS\"], \"marker\": {\"color\": \"#EF553B\", \"size\": [0.14], \"sizemode\": \"area\", \"sizeref\": 0.0358, \"symbol\": \"circle\"}, \"mode\": \"markers\", \"name\": \"Europe\", \"showlegend\": true, \"type\": \"scattergeo\"}], \"name\": \"0.14\"}, {\"data\": [{\"geo\": \"geo\", \"hovertemplate\": \"<b>%{hovertext}</b><br><br>region=Asia<br>percent=%{marker.size}<br>Alpha-3 code=%{location}<extra></extra>\", \"hovertext\": [\"KazMunayGas\", \"Adaro Energy PT\"], \"legendgroup\": \"Asia\", \"locations\": [\"KAZ\", \"IDN\"], \"marker\": {\"color\": \"#636efa\", \"size\": [0.13, 0.13], \"sizemode\": \"area\", \"sizeref\": 0.0358, \"symbol\": \"circle\"}, \"mode\": \"markers\", \"name\": \"Asia\", \"showlegend\": true, \"type\": \"scattergeo\"}, {\"geo\": \"geo\", \"hovertemplate\": \"<b>%{hovertext}</b><br><br>region=North America<br>percent=%{marker.size}<br>Alpha-3 code=%{location}<extra></extra>\", \"hovertext\": [\"NACCO Industries Inc\"], \"legendgroup\": \"North America\", \"locations\": [\"USA\"], \"marker\": {\"color\": \"#00cc96\", \"size\": [0.13], \"sizemode\": \"area\", \"sizeref\": 0.0358, \"symbol\": \"circle\"}, \"mode\": \"markers\", \"name\": \"North America\", \"showlegend\": true, \"type\": \"scattergeo\"}], \"name\": \"0.13\"}, {\"data\": [{\"geo\": \"geo\", \"hovertemplate\": \"<b>%{hovertext}</b><br><br>region=Asia<br>percent=%{marker.size}<br>Alpha-3 code=%{location}<extra></extra>\", \"hovertext\": [\"Inpex Corp\"], \"legendgroup\": \"Asia\", \"locations\": [\"JPN\"], \"marker\": {\"color\": \"#636efa\", \"size\": [0.12], \"sizemode\": \"area\", \"sizeref\": 0.0358, \"symbol\": \"circle\"}, \"mode\": \"markers\", \"name\": \"Asia\", \"showlegend\": true, \"type\": \"scattergeo\"}, {\"geo\": \"geo\", \"hovertemplate\": \"<b>%{hovertext}</b><br><br>region=North America<br>percent=%{marker.size}<br>Alpha-3 code=%{location}<extra></extra>\", \"hovertext\": [\"Kiewit Mining Group\"], \"legendgroup\": \"North America\", \"locations\": [\"USA\"], \"marker\": {\"color\": \"#00cc96\", \"size\": [0.12], \"sizemode\": \"area\", \"sizeref\": 0.0358, \"symbol\": \"circle\"}, \"mode\": \"markers\", \"name\": \"North America\", \"showlegend\": true, \"type\": \"scattergeo\"}, {\"geo\": \"geo\", \"hovertemplate\": \"<b>%{hovertext}</b><br><br>region=Latin America<br>percent=%{marker.size}<br>Alpha-3 code=%{location}<extra></extra>\", \"hovertext\": [\"Petroleos del Ecuador\"], \"legendgroup\": \"Latin America\", \"locations\": [\"ECU\"], \"marker\": {\"color\": \"#ab63fa\", \"size\": [0.12], \"sizemode\": \"area\", \"sizeref\": 0.0358, \"symbol\": \"circle\"}, \"mode\": \"markers\", \"name\": \"Latin America\", \"showlegend\": true, \"type\": \"scattergeo\"}], \"name\": \"0.12\"}, {\"data\": [{\"geo\": \"geo\", \"hovertemplate\": \"<b>%{hovertext}</b><br><br>region=Asia<br>percent=%{marker.size}<br>Alpha-3 code=%{location}<extra></extra>\", \"hovertext\": [\"Banpu Public Co Ltd\"], \"legendgroup\": \"Asia\", \"locations\": [\"THA\"], \"marker\": {\"color\": \"#636efa\", \"size\": [0.11], \"sizemode\": \"area\", \"sizeref\": 0.0358, \"symbol\": \"circle\"}, \"mode\": \"markers\", \"name\": \"Asia\", \"showlegend\": true, \"type\": \"scattergeo\"}, {\"geo\": \"geo\", \"hovertemplate\": \"<b>%{hovertext}</b><br><br>region=Europe<br>percent=%{marker.size}<br>Alpha-3 code=%{location}<extra></extra>\", \"hovertext\": [\"AP Moller (Maersk)\"], \"legendgroup\": \"Europe\", \"locations\": [\"DNK\"], \"marker\": {\"color\": \"#EF553B\", \"size\": [0.11], \"sizemode\": \"area\", \"sizeref\": 0.0358, \"symbol\": \"circle\"}, \"mode\": \"markers\", \"name\": \"Europe\", \"showlegend\": true, \"type\": \"scattergeo\"}, {\"geo\": \"geo\", \"hovertemplate\": \"<b>%{hovertext}</b><br><br>region=North America<br>percent=%{marker.size}<br>Alpha-3 code=%{location}<extra></extra>\", \"hovertext\": [\"EOG Resources Inc\", \"Husky Energy Inc\"], \"legendgroup\": \"North America\", \"locations\": [\"USA\", \"USA\"], \"marker\": {\"color\": \"#00cc96\", \"size\": [0.11, 0.11], \"sizemode\": \"area\", \"sizeref\": 0.0358, \"symbol\": \"circle\"}, \"mode\": \"markers\", \"name\": \"North America\", \"showlegend\": true, \"type\": \"scattergeo\"}], \"name\": \"0.11\"}, {\"data\": [{\"geo\": \"geo\", \"hovertemplate\": \"<b>%{hovertext}</b><br><br>region=Asia<br>percent=%{marker.size}<br>Alpha-3 code=%{location}<extra></extra>\", \"hovertext\": [\"Kideco Jaya Agung PT\", \"Bahrain Petroleum Co (BAPCO)\"], \"legendgroup\": \"Asia\", \"locations\": [\"IDN\", \"BHR\"], \"marker\": {\"color\": \"#636efa\", \"size\": [0.1, 0.1], \"sizemode\": \"area\", \"sizeref\": 0.0358, \"symbol\": \"circle\"}, \"mode\": \"markers\", \"name\": \"Asia\", \"showlegend\": true, \"type\": \"scattergeo\"}, {\"geo\": \"geo\", \"hovertemplate\": \"<b>%{hovertext}</b><br><br>region=North America<br>percent=%{marker.size}<br>Alpha-3 code=%{location}<extra></extra>\", \"hovertext\": [\"Westmoreland Coal Co\", \"Cloud Peak Energy Inc\", \"Chesapeake Energy Corp\"], \"legendgroup\": \"North America\", \"locations\": [\"USA\", \"USA\", \"USA\"], \"marker\": {\"color\": \"#00cc96\", \"size\": [0.1, 0.1, 0.1], \"sizemode\": \"area\", \"sizeref\": 0.0358, \"symbol\": \"circle\"}, \"mode\": \"markers\", \"name\": \"North America\", \"showlegend\": true, \"type\": \"scattergeo\"}], \"name\": \"0.1\"}, {\"data\": [{\"geo\": \"geo\", \"hovertemplate\": \"<b>%{hovertext}</b><br><br>region=North America<br>percent=%{marker.size}<br>Alpha-3 code=%{location}<extra></extra>\", \"hovertext\": [\"Teck Resources Ltd\"], \"legendgroup\": \"North America\", \"locations\": [\"CAN\"], \"marker\": {\"color\": \"#00cc96\", \"size\": [0.09], \"sizemode\": \"area\", \"sizeref\": 0.0358, \"symbol\": \"circle\"}, \"mode\": \"markers\", \"name\": \"North America\", \"showlegend\": true, \"type\": \"scattergeo\"}, {\"geo\": \"geo\", \"hovertemplate\": \"<b>%{hovertext}</b><br><br>region=Latin America<br>percent=%{marker.size}<br>Alpha-3 code=%{location}<extra></extra>\", \"hovertext\": [\"Drummond Co\"], \"legendgroup\": \"Latin America\", \"locations\": [\"COL\"], \"marker\": {\"color\": \"#ab63fa\", \"size\": [0.09], \"sizemode\": \"area\", \"sizeref\": 0.0358, \"symbol\": \"circle\"}, \"mode\": \"markers\", \"name\": \"Latin America\", \"showlegend\": true, \"type\": \"scattergeo\"}], \"name\": \"0.09\"}, {\"data\": [{\"geo\": \"geo\", \"hovertemplate\": \"<b>%{hovertext}</b><br><br>region=Asia<br>percent=%{marker.size}<br>Alpha-3 code=%{location}<extra></extra>\", \"hovertext\": [\"Turkmennebit\"], \"legendgroup\": \"Asia\", \"locations\": [\"TKM\"], \"marker\": {\"color\": \"#636efa\", \"size\": [0.07], \"sizemode\": \"area\", \"sizeref\": 0.0358, \"symbol\": \"circle\"}, \"mode\": \"markers\", \"name\": \"Asia\", \"showlegend\": true, \"type\": \"scattergeo\"}], \"name\": \"0.07\"}, {\"data\": [{\"geo\": \"geo\", \"hovertemplate\": \"<b>%{hovertext}</b><br><br>region=Asia<br>percent=%{marker.size}<br>Alpha-3 code=%{location}<extra></extra>\", \"hovertext\": [\"Berau Coal Energy Tbk PT\"], \"legendgroup\": \"Asia\", \"locations\": [\"IDN\"], \"marker\": {\"color\": \"#636efa\", \"size\": [0.06], \"sizemode\": \"area\", \"sizeref\": 0.0358, \"symbol\": \"circle\"}, \"mode\": \"markers\", \"name\": \"Asia\", \"showlegend\": true, \"type\": \"scattergeo\"}, {\"geo\": \"geo\", \"hovertemplate\": \"<b>%{hovertext}</b><br><br>region=Europe<br>percent=%{marker.size}<br>Alpha-3 code=%{location}<extra></extra>\", \"hovertext\": [\"OMV AG\"], \"legendgroup\": \"Europe\", \"locations\": [\"AUT\"], \"marker\": {\"color\": \"#EF553B\", \"size\": [0.06], \"sizemode\": \"area\", \"sizeref\": 0.0358, \"symbol\": \"circle\"}, \"mode\": \"markers\", \"name\": \"Europe\", \"showlegend\": true, \"type\": \"scattergeo\"}, {\"geo\": \"geo\", \"hovertemplate\": \"<b>%{hovertext}</b><br><br>region=North America<br>percent=%{marker.size}<br>Alpha-3 code=%{location}<extra></extra>\", \"hovertext\": [\"Noble Energy Inc\", \"Murphy Oil Corp\"], \"legendgroup\": \"North America\", \"locations\": [\"USA\", \"USA\"], \"marker\": {\"color\": \"#00cc96\", \"size\": [0.06, 0.06], \"sizemode\": \"area\", \"sizeref\": 0.0358, \"symbol\": \"circle\"}, \"mode\": \"markers\", \"name\": \"North America\", \"showlegend\": true, \"type\": \"scattergeo\"}], \"name\": \"0.06\"}, {\"data\": [{\"geo\": \"geo\", \"hovertemplate\": \"<b>%{hovertext}</b><br><br>region=Asia<br>percent=%{marker.size}<br>Alpha-3 code=%{location}<extra></extra>\", \"hovertext\": [\"Bukit Asam (Persero) Tbk PT\"], \"legendgroup\": \"Asia\", \"locations\": [\"IDN\"], \"marker\": {\"color\": \"#636efa\", \"size\": [0.05], \"sizemode\": \"area\", \"sizeref\": 0.0358, \"symbol\": \"circle\"}, \"mode\": \"markers\", \"name\": \"Asia\", \"showlegend\": true, \"type\": \"scattergeo\"}], \"name\": \"0.05\"}, {\"data\": [{\"geo\": \"geo\", \"hovertemplate\": \"<b>%{hovertext}</b><br><br>region=Asia<br>percent=%{marker.size}<br>Alpha-3 code=%{location}<extra></extra>\", \"hovertext\": [\"Indika Energy Tbk PT\"], \"legendgroup\": \"Asia\", \"locations\": [\"IDN\"], \"marker\": {\"color\": \"#636efa\", \"size\": [0.04], \"sizemode\": \"area\", \"sizeref\": 0.0358, \"symbol\": \"circle\"}, \"mode\": \"markers\", \"name\": \"Asia\", \"showlegend\": true, \"type\": \"scattergeo\"}, {\"geo\": \"geo\", \"hovertemplate\": \"<b>%{hovertext}</b><br><br>region=North America<br>percent=%{marker.size}<br>Alpha-3 code=%{location}<extra></extra>\", \"hovertext\": [\"Southwestern Energy Co\"], \"legendgroup\": \"North America\", \"locations\": [\"USA\"], \"marker\": {\"color\": \"#00cc96\", \"size\": [0.04], \"sizemode\": \"area\", \"sizeref\": 0.0358, \"symbol\": \"circle\"}, \"mode\": \"markers\", \"name\": \"North America\", \"showlegend\": true, \"type\": \"scattergeo\"}], \"name\": \"0.04\"}]);\n",
       "                        }).then(function(){\n",
       "                            \n",
       "var gd = document.getElementById('609d0328-d3cb-4901-927d-c3eee5bdaff4');\n",
       "var x = new MutationObserver(function (mutations, observer) {{\n",
       "        var display = window.getComputedStyle(gd).display;\n",
       "        if (!display || display === 'none') {{\n",
       "            console.log([gd, 'removed!']);\n",
       "            Plotly.purge(gd);\n",
       "            observer.disconnect();\n",
       "        }}\n",
       "}});\n",
       "\n",
       "// Listen for the removal of the full notebook cells\n",
       "var notebookContainer = gd.closest('#notebook-container');\n",
       "if (notebookContainer) {{\n",
       "    x.observe(notebookContainer, {childList: true});\n",
       "}}\n",
       "\n",
       "// Listen for the clearing of the current output cell\n",
       "var outputEl = gd.closest('.output');\n",
       "if (outputEl) {{\n",
       "    x.observe(outputEl, {childList: true});\n",
       "}}\n",
       "\n",
       "                        })                };                });            </script>        </div>"
      ]
     },
     "metadata": {},
     "output_type": "display_data"
    }
   ],
   "source": [
    "fig = px.scatter_geo(df_new, \n",
    "                     locations=\"Alpha-3 code\", \n",
    "                     color=\"region\", \n",
    "                     hover_name=\"company\", \n",
    "                     size=\"percent\",\n",
    "                     animation_frame= 'percent',\n",
    "                     projection=\"natural earth\")\n",
    "fig.show()"
   ]
  },
  {
   "cell_type": "code",
   "execution_count": 37,
   "metadata": {},
   "outputs": [
    {
     "data": {
      "application/vnd.plotly.v1+json": {
       "config": {
        "plotlyServerURL": "https://plot.ly"
       },
       "data": [
        {
         "coloraxis": "coloraxis",
         "geo": "geo",
         "hovertemplate": "<b>%{hovertext}</b><br><br>percent=%{z}<br>Alpha-3 code=%{location}<extra></extra>",
         "hovertext": [
          "China National Coal Group Company Limited"
         ],
         "locations": [
          "CHN"
         ],
         "name": "",
         "type": "choropleth",
         "z": [
          14.32
         ]
        }
       ],
       "frames": [
        {
         "data": [
          {
           "coloraxis": "coloraxis",
           "geo": "geo",
           "hovertemplate": "<b>%{hovertext}</b><br><br>percent=%{z}<br>Alpha-3 code=%{location}<extra></extra>",
           "hovertext": [
            "China National Coal Group Company Limited"
           ],
           "locations": [
            "CHN"
           ],
           "name": "",
           "type": "choropleth",
           "z": [
            14.32
           ]
          }
         ],
         "name": "14.32"
        },
        {
         "data": [
          {
           "coloraxis": "coloraxis",
           "geo": "geo",
           "hovertemplate": "<b>%{hovertext}</b><br><br>percent=%{z}<br>Alpha-3 code=%{location}<extra></extra>",
           "hovertext": [
            "Saudi Arabian Oil Company (Aramco)"
           ],
           "locations": [
            "SAU"
           ],
           "name": "",
           "type": "choropleth",
           "z": [
            4.5
           ]
          }
         ],
         "name": "4.5"
        },
        {
         "data": [
          {
           "coloraxis": "coloraxis",
           "geo": "geo",
           "hovertemplate": "<b>%{hovertext}</b><br><br>percent=%{z}<br>Alpha-3 code=%{location}<extra></extra>",
           "hovertext": [
            "Gazprom OAO"
           ],
           "locations": [
            "RUS"
           ],
           "name": "",
           "type": "choropleth",
           "z": [
            3.91
           ]
          }
         ],
         "name": "3.91"
        },
        {
         "data": [
          {
           "coloraxis": "coloraxis",
           "geo": "geo",
           "hovertemplate": "<b>%{hovertext}</b><br><br>percent=%{z}<br>Alpha-3 code=%{location}<extra></extra>",
           "hovertext": [
            "National Iranian Oil Co"
           ],
           "locations": [
            "IRN"
           ],
           "name": "",
           "type": "choropleth",
           "z": [
            2.28
           ]
          }
         ],
         "name": "2.28"
        },
        {
         "data": [
          {
           "coloraxis": "coloraxis",
           "geo": "geo",
           "hovertemplate": "<b>%{hovertext}</b><br><br>percent=%{z}<br>Alpha-3 code=%{location}<extra></extra>",
           "hovertext": [
            "ExxonMobil Corp"
           ],
           "locations": [
            "USA"
           ],
           "name": "",
           "type": "choropleth",
           "z": [
            1.98
           ]
          }
         ],
         "name": "1.98"
        },
        {
         "data": [
          {
           "coloraxis": "coloraxis",
           "geo": "geo",
           "hovertemplate": "<b>%{hovertext}</b><br><br>percent=%{z}<br>Alpha-3 code=%{location}<extra></extra>",
           "hovertext": [
            "Coal India",
            "Petroleos Mexicanos (Pemex)"
           ],
           "locations": [
            "IND",
            "MEX"
           ],
           "name": "",
           "type": "choropleth",
           "z": [
            1.87,
            1.87
           ]
          }
         ],
         "name": "1.87"
        },
        {
         "data": [
          {
           "coloraxis": "coloraxis",
           "geo": "geo",
           "hovertemplate": "<b>%{hovertext}</b><br><br>percent=%{z}<br>Alpha-3 code=%{location}<extra></extra>",
           "hovertext": [
            "Russia (Coal)"
           ],
           "locations": [
            "RUS"
           ],
           "name": "",
           "type": "choropleth",
           "z": [
            1.86
           ]
          }
         ],
         "name": "1.86"
        },
        {
         "data": [
          {
           "coloraxis": "coloraxis",
           "geo": "geo",
           "hovertemplate": "<b>%{hovertext}</b><br><br>percent=%{z}<br>Alpha-3 code=%{location}<extra></extra>",
           "hovertext": [
            "Royal Dutch Shell PLC"
           ],
           "locations": [
            "NLD"
           ],
           "name": "",
           "type": "choropleth",
           "z": [
            1.67
           ]
          }
         ],
         "name": "1.67"
        },
        {
         "data": [
          {
           "coloraxis": "coloraxis",
           "geo": "geo",
           "hovertemplate": "<b>%{hovertext}</b><br><br>percent=%{z}<br>Alpha-3 code=%{location}<extra></extra>",
           "hovertext": [
            "China National Petroleum Corp (CNPC)"
           ],
           "locations": [
            "CHN"
           ],
           "name": "",
           "type": "choropleth",
           "z": [
            1.56
           ]
          }
         ],
         "name": "1.56"
        },
        {
         "data": [
          {
           "coloraxis": "coloraxis",
           "geo": "geo",
           "hovertemplate": "<b>%{hovertext}</b><br><br>percent=%{z}<br>Alpha-3 code=%{location}<extra></extra>",
           "hovertext": [
            "BP PLC"
           ],
           "locations": [
            "GBR"
           ],
           "name": "",
           "type": "choropleth",
           "z": [
            1.53
           ]
          }
         ],
         "name": "1.53"
        },
        {
         "data": [
          {
           "coloraxis": "coloraxis",
           "geo": "geo",
           "hovertemplate": "<b>%{hovertext}</b><br><br>percent=%{z}<br>Alpha-3 code=%{location}<extra></extra>",
           "hovertext": [
            "Chevron Corp"
           ],
           "locations": [
            "USA"
           ],
           "name": "",
           "type": "choropleth",
           "z": [
            1.31
           ]
          }
         ],
         "name": "1.31"
        },
        {
         "data": [
          {
           "coloraxis": "coloraxis",
           "geo": "geo",
           "hovertemplate": "<b>%{hovertext}</b><br><br>percent=%{z}<br>Alpha-3 code=%{location}<extra></extra>",
           "hovertext": [
            "Petroleos de Venezuela SA (PDVSA)"
           ],
           "locations": [
            "VEN"
           ],
           "name": "",
           "type": "choropleth",
           "z": [
            1.23
           ]
          }
         ],
         "name": "1.23"
        },
        {
         "data": [
          {
           "coloraxis": "coloraxis",
           "geo": "geo",
           "hovertemplate": "<b>%{hovertext}</b><br><br>percent=%{z}<br>Alpha-3 code=%{location}<extra></extra>",
           "hovertext": [
            "Abu Dhabi National Oil Co"
           ],
           "locations": [
            "SAU"
           ],
           "name": "",
           "type": "choropleth",
           "z": [
            1.2
           ]
          }
         ],
         "name": "1.2"
        },
        {
         "data": [
          {
           "coloraxis": "coloraxis",
           "geo": "geo",
           "hovertemplate": "<b>%{hovertext}</b><br><br>percent=%{z}<br>Alpha-3 code=%{location}<extra></extra>",
           "hovertext": [
            "Poland Coal"
           ],
           "locations": [
            "POL"
           ],
           "name": "",
           "type": "choropleth",
           "z": [
            1.16
           ]
          }
         ],
         "name": "1.16"
        },
        {
         "data": [
          {
           "coloraxis": "coloraxis",
           "geo": "geo",
           "hovertemplate": "<b>%{hovertext}</b><br><br>percent=%{z}<br>Alpha-3 code=%{location}<extra></extra>",
           "hovertext": [
            "Peabody Energy Corp"
           ],
           "locations": [
            "USA"
           ],
           "name": "",
           "type": "choropleth",
           "z": [
            1.15
           ]
          }
         ],
         "name": "1.15"
        },
        {
         "data": [
          {
           "coloraxis": "coloraxis",
           "geo": "geo",
           "hovertemplate": "<b>%{hovertext}</b><br><br>percent=%{z}<br>Alpha-3 code=%{location}<extra></extra>",
           "hovertext": [
            "Sonatrach SPA",
            "Kuwait Petroleum Corp"
           ],
           "locations": [
            "DZA",
            "KWT"
           ],
           "name": "",
           "type": "choropleth",
           "z": [
            1,
            1
           ]
          }
         ],
         "name": "1.0"
        },
        {
         "data": [
          {
           "coloraxis": "coloraxis",
           "geo": "geo",
           "hovertemplate": "<b>%{hovertext}</b><br><br>percent=%{z}<br>Alpha-3 code=%{location}<extra></extra>",
           "hovertext": [
            "Total SA"
           ],
           "locations": [
            "FRA"
           ],
           "name": "",
           "type": "choropleth",
           "z": [
            0.95
           ]
          }
         ],
         "name": "0.95"
        },
        {
         "data": [
          {
           "coloraxis": "coloraxis",
           "geo": "geo",
           "hovertemplate": "<b>%{hovertext}</b><br><br>percent=%{z}<br>Alpha-3 code=%{location}<extra></extra>",
           "hovertext": [
            "BHP Billiton Ltd",
            "ConocoPhillips"
           ],
           "locations": [
            "AUS",
            "USA"
           ],
           "name": "",
           "type": "choropleth",
           "z": [
            0.91,
            0.91
           ]
          }
         ],
         "name": "0.91"
        }
       ],
       "layout": {
        "coloraxis": {
         "cmax": 14.32,
         "cmin": 0.77,
         "colorbar": {
          "title": {
           "text": "percent"
          }
         },
         "colorscale": [
          [
           0,
           "#0d0887"
          ],
          [
           0.1111111111111111,
           "#46039f"
          ],
          [
           0.2222222222222222,
           "#7201a8"
          ],
          [
           0.3333333333333333,
           "#9c179e"
          ],
          [
           0.4444444444444444,
           "#bd3786"
          ],
          [
           0.5555555555555556,
           "#d8576b"
          ],
          [
           0.6666666666666666,
           "#ed7953"
          ],
          [
           0.7777777777777778,
           "#fb9f3a"
          ],
          [
           0.8888888888888888,
           "#fdca26"
          ],
          [
           1,
           "#f0f921"
          ]
         ]
        },
        "geo": {
         "center": {},
         "domain": {
          "x": [
           0,
           1
          ],
          "y": [
           0,
           1
          ]
         }
        },
        "legend": {
         "tracegroupgap": 0
        },
        "margin": {
         "t": 60
        },
        "sliders": [
         {
          "active": 0,
          "currentvalue": {
           "prefix": "percent="
          },
          "len": 0.9,
          "pad": {
           "b": 10,
           "t": 60
          },
          "steps": [
           {
            "args": [
             [
              "14.32"
             ],
             {
              "frame": {
               "duration": 0,
               "redraw": true
              },
              "fromcurrent": true,
              "mode": "immediate",
              "transition": {
               "duration": 0,
               "easing": "linear"
              }
             }
            ],
            "label": "14.32",
            "method": "animate"
           },
           {
            "args": [
             [
              "4.5"
             ],
             {
              "frame": {
               "duration": 0,
               "redraw": true
              },
              "fromcurrent": true,
              "mode": "immediate",
              "transition": {
               "duration": 0,
               "easing": "linear"
              }
             }
            ],
            "label": "4.5",
            "method": "animate"
           },
           {
            "args": [
             [
              "3.91"
             ],
             {
              "frame": {
               "duration": 0,
               "redraw": true
              },
              "fromcurrent": true,
              "mode": "immediate",
              "transition": {
               "duration": 0,
               "easing": "linear"
              }
             }
            ],
            "label": "3.91",
            "method": "animate"
           },
           {
            "args": [
             [
              "2.28"
             ],
             {
              "frame": {
               "duration": 0,
               "redraw": true
              },
              "fromcurrent": true,
              "mode": "immediate",
              "transition": {
               "duration": 0,
               "easing": "linear"
              }
             }
            ],
            "label": "2.28",
            "method": "animate"
           },
           {
            "args": [
             [
              "1.98"
             ],
             {
              "frame": {
               "duration": 0,
               "redraw": true
              },
              "fromcurrent": true,
              "mode": "immediate",
              "transition": {
               "duration": 0,
               "easing": "linear"
              }
             }
            ],
            "label": "1.98",
            "method": "animate"
           },
           {
            "args": [
             [
              "1.87"
             ],
             {
              "frame": {
               "duration": 0,
               "redraw": true
              },
              "fromcurrent": true,
              "mode": "immediate",
              "transition": {
               "duration": 0,
               "easing": "linear"
              }
             }
            ],
            "label": "1.87",
            "method": "animate"
           },
           {
            "args": [
             [
              "1.86"
             ],
             {
              "frame": {
               "duration": 0,
               "redraw": true
              },
              "fromcurrent": true,
              "mode": "immediate",
              "transition": {
               "duration": 0,
               "easing": "linear"
              }
             }
            ],
            "label": "1.86",
            "method": "animate"
           },
           {
            "args": [
             [
              "1.67"
             ],
             {
              "frame": {
               "duration": 0,
               "redraw": true
              },
              "fromcurrent": true,
              "mode": "immediate",
              "transition": {
               "duration": 0,
               "easing": "linear"
              }
             }
            ],
            "label": "1.67",
            "method": "animate"
           },
           {
            "args": [
             [
              "1.56"
             ],
             {
              "frame": {
               "duration": 0,
               "redraw": true
              },
              "fromcurrent": true,
              "mode": "immediate",
              "transition": {
               "duration": 0,
               "easing": "linear"
              }
             }
            ],
            "label": "1.56",
            "method": "animate"
           },
           {
            "args": [
             [
              "1.53"
             ],
             {
              "frame": {
               "duration": 0,
               "redraw": true
              },
              "fromcurrent": true,
              "mode": "immediate",
              "transition": {
               "duration": 0,
               "easing": "linear"
              }
             }
            ],
            "label": "1.53",
            "method": "animate"
           },
           {
            "args": [
             [
              "1.31"
             ],
             {
              "frame": {
               "duration": 0,
               "redraw": true
              },
              "fromcurrent": true,
              "mode": "immediate",
              "transition": {
               "duration": 0,
               "easing": "linear"
              }
             }
            ],
            "label": "1.31",
            "method": "animate"
           },
           {
            "args": [
             [
              "1.23"
             ],
             {
              "frame": {
               "duration": 0,
               "redraw": true
              },
              "fromcurrent": true,
              "mode": "immediate",
              "transition": {
               "duration": 0,
               "easing": "linear"
              }
             }
            ],
            "label": "1.23",
            "method": "animate"
           },
           {
            "args": [
             [
              "1.2"
             ],
             {
              "frame": {
               "duration": 0,
               "redraw": true
              },
              "fromcurrent": true,
              "mode": "immediate",
              "transition": {
               "duration": 0,
               "easing": "linear"
              }
             }
            ],
            "label": "1.2",
            "method": "animate"
           },
           {
            "args": [
             [
              "1.16"
             ],
             {
              "frame": {
               "duration": 0,
               "redraw": true
              },
              "fromcurrent": true,
              "mode": "immediate",
              "transition": {
               "duration": 0,
               "easing": "linear"
              }
             }
            ],
            "label": "1.16",
            "method": "animate"
           },
           {
            "args": [
             [
              "1.15"
             ],
             {
              "frame": {
               "duration": 0,
               "redraw": true
              },
              "fromcurrent": true,
              "mode": "immediate",
              "transition": {
               "duration": 0,
               "easing": "linear"
              }
             }
            ],
            "label": "1.15",
            "method": "animate"
           },
           {
            "args": [
             [
              "1.0"
             ],
             {
              "frame": {
               "duration": 0,
               "redraw": true
              },
              "fromcurrent": true,
              "mode": "immediate",
              "transition": {
               "duration": 0,
               "easing": "linear"
              }
             }
            ],
            "label": "1.0",
            "method": "animate"
           },
           {
            "args": [
             [
              "0.95"
             ],
             {
              "frame": {
               "duration": 0,
               "redraw": true
              },
              "fromcurrent": true,
              "mode": "immediate",
              "transition": {
               "duration": 0,
               "easing": "linear"
              }
             }
            ],
            "label": "0.95",
            "method": "animate"
           },
           {
            "args": [
             [
              "0.91"
             ],
             {
              "frame": {
               "duration": 0,
               "redraw": true
              },
              "fromcurrent": true,
              "mode": "immediate",
              "transition": {
               "duration": 0,
               "easing": "linear"
              }
             }
            ],
            "label": "0.91",
            "method": "animate"
           }
          ],
          "x": 0.1,
          "xanchor": "left",
          "y": 0,
          "yanchor": "top"
         }
        ],
        "template": {
         "data": {
          "bar": [
           {
            "error_x": {
             "color": "#2a3f5f"
            },
            "error_y": {
             "color": "#2a3f5f"
            },
            "marker": {
             "line": {
              "color": "#E5ECF6",
              "width": 0.5
             }
            },
            "type": "bar"
           }
          ],
          "barpolar": [
           {
            "marker": {
             "line": {
              "color": "#E5ECF6",
              "width": 0.5
             }
            },
            "type": "barpolar"
           }
          ],
          "carpet": [
           {
            "aaxis": {
             "endlinecolor": "#2a3f5f",
             "gridcolor": "white",
             "linecolor": "white",
             "minorgridcolor": "white",
             "startlinecolor": "#2a3f5f"
            },
            "baxis": {
             "endlinecolor": "#2a3f5f",
             "gridcolor": "white",
             "linecolor": "white",
             "minorgridcolor": "white",
             "startlinecolor": "#2a3f5f"
            },
            "type": "carpet"
           }
          ],
          "choropleth": [
           {
            "colorbar": {
             "outlinewidth": 0,
             "ticks": ""
            },
            "type": "choropleth"
           }
          ],
          "contour": [
           {
            "colorbar": {
             "outlinewidth": 0,
             "ticks": ""
            },
            "colorscale": [
             [
              0,
              "#0d0887"
             ],
             [
              0.1111111111111111,
              "#46039f"
             ],
             [
              0.2222222222222222,
              "#7201a8"
             ],
             [
              0.3333333333333333,
              "#9c179e"
             ],
             [
              0.4444444444444444,
              "#bd3786"
             ],
             [
              0.5555555555555556,
              "#d8576b"
             ],
             [
              0.6666666666666666,
              "#ed7953"
             ],
             [
              0.7777777777777778,
              "#fb9f3a"
             ],
             [
              0.8888888888888888,
              "#fdca26"
             ],
             [
              1,
              "#f0f921"
             ]
            ],
            "type": "contour"
           }
          ],
          "contourcarpet": [
           {
            "colorbar": {
             "outlinewidth": 0,
             "ticks": ""
            },
            "type": "contourcarpet"
           }
          ],
          "heatmap": [
           {
            "colorbar": {
             "outlinewidth": 0,
             "ticks": ""
            },
            "colorscale": [
             [
              0,
              "#0d0887"
             ],
             [
              0.1111111111111111,
              "#46039f"
             ],
             [
              0.2222222222222222,
              "#7201a8"
             ],
             [
              0.3333333333333333,
              "#9c179e"
             ],
             [
              0.4444444444444444,
              "#bd3786"
             ],
             [
              0.5555555555555556,
              "#d8576b"
             ],
             [
              0.6666666666666666,
              "#ed7953"
             ],
             [
              0.7777777777777778,
              "#fb9f3a"
             ],
             [
              0.8888888888888888,
              "#fdca26"
             ],
             [
              1,
              "#f0f921"
             ]
            ],
            "type": "heatmap"
           }
          ],
          "heatmapgl": [
           {
            "colorbar": {
             "outlinewidth": 0,
             "ticks": ""
            },
            "colorscale": [
             [
              0,
              "#0d0887"
             ],
             [
              0.1111111111111111,
              "#46039f"
             ],
             [
              0.2222222222222222,
              "#7201a8"
             ],
             [
              0.3333333333333333,
              "#9c179e"
             ],
             [
              0.4444444444444444,
              "#bd3786"
             ],
             [
              0.5555555555555556,
              "#d8576b"
             ],
             [
              0.6666666666666666,
              "#ed7953"
             ],
             [
              0.7777777777777778,
              "#fb9f3a"
             ],
             [
              0.8888888888888888,
              "#fdca26"
             ],
             [
              1,
              "#f0f921"
             ]
            ],
            "type": "heatmapgl"
           }
          ],
          "histogram": [
           {
            "marker": {
             "colorbar": {
              "outlinewidth": 0,
              "ticks": ""
             }
            },
            "type": "histogram"
           }
          ],
          "histogram2d": [
           {
            "colorbar": {
             "outlinewidth": 0,
             "ticks": ""
            },
            "colorscale": [
             [
              0,
              "#0d0887"
             ],
             [
              0.1111111111111111,
              "#46039f"
             ],
             [
              0.2222222222222222,
              "#7201a8"
             ],
             [
              0.3333333333333333,
              "#9c179e"
             ],
             [
              0.4444444444444444,
              "#bd3786"
             ],
             [
              0.5555555555555556,
              "#d8576b"
             ],
             [
              0.6666666666666666,
              "#ed7953"
             ],
             [
              0.7777777777777778,
              "#fb9f3a"
             ],
             [
              0.8888888888888888,
              "#fdca26"
             ],
             [
              1,
              "#f0f921"
             ]
            ],
            "type": "histogram2d"
           }
          ],
          "histogram2dcontour": [
           {
            "colorbar": {
             "outlinewidth": 0,
             "ticks": ""
            },
            "colorscale": [
             [
              0,
              "#0d0887"
             ],
             [
              0.1111111111111111,
              "#46039f"
             ],
             [
              0.2222222222222222,
              "#7201a8"
             ],
             [
              0.3333333333333333,
              "#9c179e"
             ],
             [
              0.4444444444444444,
              "#bd3786"
             ],
             [
              0.5555555555555556,
              "#d8576b"
             ],
             [
              0.6666666666666666,
              "#ed7953"
             ],
             [
              0.7777777777777778,
              "#fb9f3a"
             ],
             [
              0.8888888888888888,
              "#fdca26"
             ],
             [
              1,
              "#f0f921"
             ]
            ],
            "type": "histogram2dcontour"
           }
          ],
          "mesh3d": [
           {
            "colorbar": {
             "outlinewidth": 0,
             "ticks": ""
            },
            "type": "mesh3d"
           }
          ],
          "parcoords": [
           {
            "line": {
             "colorbar": {
              "outlinewidth": 0,
              "ticks": ""
             }
            },
            "type": "parcoords"
           }
          ],
          "pie": [
           {
            "automargin": true,
            "type": "pie"
           }
          ],
          "scatter": [
           {
            "marker": {
             "colorbar": {
              "outlinewidth": 0,
              "ticks": ""
             }
            },
            "type": "scatter"
           }
          ],
          "scatter3d": [
           {
            "line": {
             "colorbar": {
              "outlinewidth": 0,
              "ticks": ""
             }
            },
            "marker": {
             "colorbar": {
              "outlinewidth": 0,
              "ticks": ""
             }
            },
            "type": "scatter3d"
           }
          ],
          "scattercarpet": [
           {
            "marker": {
             "colorbar": {
              "outlinewidth": 0,
              "ticks": ""
             }
            },
            "type": "scattercarpet"
           }
          ],
          "scattergeo": [
           {
            "marker": {
             "colorbar": {
              "outlinewidth": 0,
              "ticks": ""
             }
            },
            "type": "scattergeo"
           }
          ],
          "scattergl": [
           {
            "marker": {
             "colorbar": {
              "outlinewidth": 0,
              "ticks": ""
             }
            },
            "type": "scattergl"
           }
          ],
          "scattermapbox": [
           {
            "marker": {
             "colorbar": {
              "outlinewidth": 0,
              "ticks": ""
             }
            },
            "type": "scattermapbox"
           }
          ],
          "scatterpolar": [
           {
            "marker": {
             "colorbar": {
              "outlinewidth": 0,
              "ticks": ""
             }
            },
            "type": "scatterpolar"
           }
          ],
          "scatterpolargl": [
           {
            "marker": {
             "colorbar": {
              "outlinewidth": 0,
              "ticks": ""
             }
            },
            "type": "scatterpolargl"
           }
          ],
          "scatterternary": [
           {
            "marker": {
             "colorbar": {
              "outlinewidth": 0,
              "ticks": ""
             }
            },
            "type": "scatterternary"
           }
          ],
          "surface": [
           {
            "colorbar": {
             "outlinewidth": 0,
             "ticks": ""
            },
            "colorscale": [
             [
              0,
              "#0d0887"
             ],
             [
              0.1111111111111111,
              "#46039f"
             ],
             [
              0.2222222222222222,
              "#7201a8"
             ],
             [
              0.3333333333333333,
              "#9c179e"
             ],
             [
              0.4444444444444444,
              "#bd3786"
             ],
             [
              0.5555555555555556,
              "#d8576b"
             ],
             [
              0.6666666666666666,
              "#ed7953"
             ],
             [
              0.7777777777777778,
              "#fb9f3a"
             ],
             [
              0.8888888888888888,
              "#fdca26"
             ],
             [
              1,
              "#f0f921"
             ]
            ],
            "type": "surface"
           }
          ],
          "table": [
           {
            "cells": {
             "fill": {
              "color": "#EBF0F8"
             },
             "line": {
              "color": "white"
             }
            },
            "header": {
             "fill": {
              "color": "#C8D4E3"
             },
             "line": {
              "color": "white"
             }
            },
            "type": "table"
           }
          ]
         },
         "layout": {
          "annotationdefaults": {
           "arrowcolor": "#2a3f5f",
           "arrowhead": 0,
           "arrowwidth": 1
          },
          "autotypenumbers": "strict",
          "coloraxis": {
           "colorbar": {
            "outlinewidth": 0,
            "ticks": ""
           }
          },
          "colorscale": {
           "diverging": [
            [
             0,
             "#8e0152"
            ],
            [
             0.1,
             "#c51b7d"
            ],
            [
             0.2,
             "#de77ae"
            ],
            [
             0.3,
             "#f1b6da"
            ],
            [
             0.4,
             "#fde0ef"
            ],
            [
             0.5,
             "#f7f7f7"
            ],
            [
             0.6,
             "#e6f5d0"
            ],
            [
             0.7,
             "#b8e186"
            ],
            [
             0.8,
             "#7fbc41"
            ],
            [
             0.9,
             "#4d9221"
            ],
            [
             1,
             "#276419"
            ]
           ],
           "sequential": [
            [
             0,
             "#0d0887"
            ],
            [
             0.1111111111111111,
             "#46039f"
            ],
            [
             0.2222222222222222,
             "#7201a8"
            ],
            [
             0.3333333333333333,
             "#9c179e"
            ],
            [
             0.4444444444444444,
             "#bd3786"
            ],
            [
             0.5555555555555556,
             "#d8576b"
            ],
            [
             0.6666666666666666,
             "#ed7953"
            ],
            [
             0.7777777777777778,
             "#fb9f3a"
            ],
            [
             0.8888888888888888,
             "#fdca26"
            ],
            [
             1,
             "#f0f921"
            ]
           ],
           "sequentialminus": [
            [
             0,
             "#0d0887"
            ],
            [
             0.1111111111111111,
             "#46039f"
            ],
            [
             0.2222222222222222,
             "#7201a8"
            ],
            [
             0.3333333333333333,
             "#9c179e"
            ],
            [
             0.4444444444444444,
             "#bd3786"
            ],
            [
             0.5555555555555556,
             "#d8576b"
            ],
            [
             0.6666666666666666,
             "#ed7953"
            ],
            [
             0.7777777777777778,
             "#fb9f3a"
            ],
            [
             0.8888888888888888,
             "#fdca26"
            ],
            [
             1,
             "#f0f921"
            ]
           ]
          },
          "colorway": [
           "#636efa",
           "#EF553B",
           "#00cc96",
           "#ab63fa",
           "#FFA15A",
           "#19d3f3",
           "#FF6692",
           "#B6E880",
           "#FF97FF",
           "#FECB52"
          ],
          "font": {
           "color": "#2a3f5f"
          },
          "geo": {
           "bgcolor": "white",
           "lakecolor": "white",
           "landcolor": "#E5ECF6",
           "showlakes": true,
           "showland": true,
           "subunitcolor": "white"
          },
          "hoverlabel": {
           "align": "left"
          },
          "hovermode": "closest",
          "mapbox": {
           "style": "light"
          },
          "paper_bgcolor": "white",
          "plot_bgcolor": "#E5ECF6",
          "polar": {
           "angularaxis": {
            "gridcolor": "white",
            "linecolor": "white",
            "ticks": ""
           },
           "bgcolor": "#E5ECF6",
           "radialaxis": {
            "gridcolor": "white",
            "linecolor": "white",
            "ticks": ""
           }
          },
          "scene": {
           "xaxis": {
            "backgroundcolor": "#E5ECF6",
            "gridcolor": "white",
            "gridwidth": 2,
            "linecolor": "white",
            "showbackground": true,
            "ticks": "",
            "zerolinecolor": "white"
           },
           "yaxis": {
            "backgroundcolor": "#E5ECF6",
            "gridcolor": "white",
            "gridwidth": 2,
            "linecolor": "white",
            "showbackground": true,
            "ticks": "",
            "zerolinecolor": "white"
           },
           "zaxis": {
            "backgroundcolor": "#E5ECF6",
            "gridcolor": "white",
            "gridwidth": 2,
            "linecolor": "white",
            "showbackground": true,
            "ticks": "",
            "zerolinecolor": "white"
           }
          },
          "shapedefaults": {
           "line": {
            "color": "#2a3f5f"
           }
          },
          "ternary": {
           "aaxis": {
            "gridcolor": "white",
            "linecolor": "white",
            "ticks": ""
           },
           "baxis": {
            "gridcolor": "white",
            "linecolor": "white",
            "ticks": ""
           },
           "bgcolor": "#E5ECF6",
           "caxis": {
            "gridcolor": "white",
            "linecolor": "white",
            "ticks": ""
           }
          },
          "title": {
           "x": 0.05
          },
          "xaxis": {
           "automargin": true,
           "gridcolor": "white",
           "linecolor": "white",
           "ticks": "",
           "title": {
            "standoff": 15
           },
           "zerolinecolor": "white",
           "zerolinewidth": 2
          },
          "yaxis": {
           "automargin": true,
           "gridcolor": "white",
           "linecolor": "white",
           "ticks": "",
           "title": {
            "standoff": 15
           },
           "zerolinecolor": "white",
           "zerolinewidth": 2
          }
         }
        },
        "updatemenus": [
         {
          "buttons": [
           {
            "args": [
             null,
             {
              "frame": {
               "duration": 500,
               "redraw": true
              },
              "fromcurrent": true,
              "mode": "immediate",
              "transition": {
               "duration": 500,
               "easing": "linear"
              }
             }
            ],
            "label": "&#9654;",
            "method": "animate"
           },
           {
            "args": [
             [
              null
             ],
             {
              "frame": {
               "duration": 0,
               "redraw": true
              },
              "fromcurrent": true,
              "mode": "immediate",
              "transition": {
               "duration": 0,
               "easing": "linear"
              }
             }
            ],
            "label": "&#9724;",
            "method": "animate"
           }
          ],
          "direction": "left",
          "pad": {
           "r": 10,
           "t": 70
          },
          "showactive": false,
          "type": "buttons",
          "x": 0.1,
          "xanchor": "right",
          "y": 0,
          "yanchor": "top"
         }
        ]
       }
      },
      "text/html": [
       "<div>                            <div id=\"692cbc32-5038-4a22-a815-dd13cb2aadcb\" class=\"plotly-graph-div\" style=\"height:525px; width:100%;\"></div>            <script type=\"text/javascript\">                require([\"plotly\"], function(Plotly) {                    window.PLOTLYENV=window.PLOTLYENV || {};                                    if (document.getElementById(\"692cbc32-5038-4a22-a815-dd13cb2aadcb\")) {                    Plotly.newPlot(                        \"692cbc32-5038-4a22-a815-dd13cb2aadcb\",                        [{\"coloraxis\": \"coloraxis\", \"geo\": \"geo\", \"hovertemplate\": \"<b>%{hovertext}</b><br><br>percent=%{z}<br>Alpha-3 code=%{location}<extra></extra>\", \"hovertext\": [\"China National Coal Group Company Limited\"], \"locations\": [\"CHN\"], \"name\": \"\", \"type\": \"choropleth\", \"z\": [14.32]}],                        {\"coloraxis\": {\"cmax\": 14.32, \"cmin\": 0.77, \"colorbar\": {\"title\": {\"text\": \"percent\"}}, \"colorscale\": [[0.0, \"#0d0887\"], [0.1111111111111111, \"#46039f\"], [0.2222222222222222, \"#7201a8\"], [0.3333333333333333, \"#9c179e\"], [0.4444444444444444, \"#bd3786\"], [0.5555555555555556, \"#d8576b\"], [0.6666666666666666, \"#ed7953\"], [0.7777777777777778, \"#fb9f3a\"], [0.8888888888888888, \"#fdca26\"], [1.0, \"#f0f921\"]]}, \"geo\": {\"center\": {}, \"domain\": {\"x\": [0.0, 1.0], \"y\": [0.0, 1.0]}}, \"legend\": {\"tracegroupgap\": 0}, \"margin\": {\"t\": 60}, \"sliders\": [{\"active\": 0, \"currentvalue\": {\"prefix\": \"percent=\"}, \"len\": 0.9, \"pad\": {\"b\": 10, \"t\": 60}, \"steps\": [{\"args\": [[\"14.32\"], {\"frame\": {\"duration\": 0, \"redraw\": true}, \"fromcurrent\": true, \"mode\": \"immediate\", \"transition\": {\"duration\": 0, \"easing\": \"linear\"}}], \"label\": \"14.32\", \"method\": \"animate\"}, {\"args\": [[\"4.5\"], {\"frame\": {\"duration\": 0, \"redraw\": true}, \"fromcurrent\": true, \"mode\": \"immediate\", \"transition\": {\"duration\": 0, \"easing\": \"linear\"}}], \"label\": \"4.5\", \"method\": \"animate\"}, {\"args\": [[\"3.91\"], {\"frame\": {\"duration\": 0, \"redraw\": true}, \"fromcurrent\": true, \"mode\": \"immediate\", \"transition\": {\"duration\": 0, \"easing\": \"linear\"}}], \"label\": \"3.91\", \"method\": \"animate\"}, {\"args\": [[\"2.28\"], {\"frame\": {\"duration\": 0, \"redraw\": true}, \"fromcurrent\": true, \"mode\": \"immediate\", \"transition\": {\"duration\": 0, \"easing\": \"linear\"}}], \"label\": \"2.28\", \"method\": \"animate\"}, {\"args\": [[\"1.98\"], {\"frame\": {\"duration\": 0, \"redraw\": true}, \"fromcurrent\": true, \"mode\": \"immediate\", \"transition\": {\"duration\": 0, \"easing\": \"linear\"}}], \"label\": \"1.98\", \"method\": \"animate\"}, {\"args\": [[\"1.87\"], {\"frame\": {\"duration\": 0, \"redraw\": true}, \"fromcurrent\": true, \"mode\": \"immediate\", \"transition\": {\"duration\": 0, \"easing\": \"linear\"}}], \"label\": \"1.87\", \"method\": \"animate\"}, {\"args\": [[\"1.86\"], {\"frame\": {\"duration\": 0, \"redraw\": true}, \"fromcurrent\": true, \"mode\": \"immediate\", \"transition\": {\"duration\": 0, \"easing\": \"linear\"}}], \"label\": \"1.86\", \"method\": \"animate\"}, {\"args\": [[\"1.67\"], {\"frame\": {\"duration\": 0, \"redraw\": true}, \"fromcurrent\": true, \"mode\": \"immediate\", \"transition\": {\"duration\": 0, \"easing\": \"linear\"}}], \"label\": \"1.67\", \"method\": \"animate\"}, {\"args\": [[\"1.56\"], {\"frame\": {\"duration\": 0, \"redraw\": true}, \"fromcurrent\": true, \"mode\": \"immediate\", \"transition\": {\"duration\": 0, \"easing\": \"linear\"}}], \"label\": \"1.56\", \"method\": \"animate\"}, {\"args\": [[\"1.53\"], {\"frame\": {\"duration\": 0, \"redraw\": true}, \"fromcurrent\": true, \"mode\": \"immediate\", \"transition\": {\"duration\": 0, \"easing\": \"linear\"}}], \"label\": \"1.53\", \"method\": \"animate\"}, {\"args\": [[\"1.31\"], {\"frame\": {\"duration\": 0, \"redraw\": true}, \"fromcurrent\": true, \"mode\": \"immediate\", \"transition\": {\"duration\": 0, \"easing\": \"linear\"}}], \"label\": \"1.31\", \"method\": \"animate\"}, {\"args\": [[\"1.23\"], {\"frame\": {\"duration\": 0, \"redraw\": true}, \"fromcurrent\": true, \"mode\": \"immediate\", \"transition\": {\"duration\": 0, \"easing\": \"linear\"}}], \"label\": \"1.23\", \"method\": \"animate\"}, {\"args\": [[\"1.2\"], {\"frame\": {\"duration\": 0, \"redraw\": true}, \"fromcurrent\": true, \"mode\": \"immediate\", \"transition\": {\"duration\": 0, \"easing\": \"linear\"}}], \"label\": \"1.2\", \"method\": \"animate\"}, {\"args\": [[\"1.16\"], {\"frame\": {\"duration\": 0, \"redraw\": true}, \"fromcurrent\": true, \"mode\": \"immediate\", \"transition\": {\"duration\": 0, \"easing\": \"linear\"}}], \"label\": \"1.16\", \"method\": \"animate\"}, {\"args\": [[\"1.15\"], {\"frame\": {\"duration\": 0, \"redraw\": true}, \"fromcurrent\": true, \"mode\": \"immediate\", \"transition\": {\"duration\": 0, \"easing\": \"linear\"}}], \"label\": \"1.15\", \"method\": \"animate\"}, {\"args\": [[\"1.0\"], {\"frame\": {\"duration\": 0, \"redraw\": true}, \"fromcurrent\": true, \"mode\": \"immediate\", \"transition\": {\"duration\": 0, \"easing\": \"linear\"}}], \"label\": \"1.0\", \"method\": \"animate\"}, {\"args\": [[\"0.95\"], {\"frame\": {\"duration\": 0, \"redraw\": true}, \"fromcurrent\": true, \"mode\": \"immediate\", \"transition\": {\"duration\": 0, \"easing\": \"linear\"}}], \"label\": \"0.95\", \"method\": \"animate\"}, {\"args\": [[\"0.91\"], {\"frame\": {\"duration\": 0, \"redraw\": true}, \"fromcurrent\": true, \"mode\": \"immediate\", \"transition\": {\"duration\": 0, \"easing\": \"linear\"}}], \"label\": \"0.91\", \"method\": \"animate\"}], \"x\": 0.1, \"xanchor\": \"left\", \"y\": 0, \"yanchor\": \"top\"}], \"template\": {\"data\": {\"bar\": [{\"error_x\": {\"color\": \"#2a3f5f\"}, \"error_y\": {\"color\": \"#2a3f5f\"}, \"marker\": {\"line\": {\"color\": \"#E5ECF6\", \"width\": 0.5}}, \"type\": \"bar\"}], \"barpolar\": [{\"marker\": {\"line\": {\"color\": \"#E5ECF6\", \"width\": 0.5}}, \"type\": \"barpolar\"}], \"carpet\": [{\"aaxis\": {\"endlinecolor\": \"#2a3f5f\", \"gridcolor\": \"white\", \"linecolor\": \"white\", \"minorgridcolor\": \"white\", \"startlinecolor\": \"#2a3f5f\"}, \"baxis\": {\"endlinecolor\": \"#2a3f5f\", \"gridcolor\": \"white\", \"linecolor\": \"white\", \"minorgridcolor\": \"white\", \"startlinecolor\": \"#2a3f5f\"}, \"type\": \"carpet\"}], \"choropleth\": [{\"colorbar\": {\"outlinewidth\": 0, \"ticks\": \"\"}, \"type\": \"choropleth\"}], \"contour\": [{\"colorbar\": {\"outlinewidth\": 0, \"ticks\": \"\"}, \"colorscale\": [[0.0, \"#0d0887\"], [0.1111111111111111, \"#46039f\"], [0.2222222222222222, \"#7201a8\"], [0.3333333333333333, \"#9c179e\"], [0.4444444444444444, \"#bd3786\"], [0.5555555555555556, \"#d8576b\"], [0.6666666666666666, \"#ed7953\"], [0.7777777777777778, \"#fb9f3a\"], [0.8888888888888888, \"#fdca26\"], [1.0, \"#f0f921\"]], \"type\": \"contour\"}], \"contourcarpet\": [{\"colorbar\": {\"outlinewidth\": 0, \"ticks\": \"\"}, \"type\": \"contourcarpet\"}], \"heatmap\": [{\"colorbar\": {\"outlinewidth\": 0, \"ticks\": \"\"}, \"colorscale\": [[0.0, \"#0d0887\"], [0.1111111111111111, \"#46039f\"], [0.2222222222222222, \"#7201a8\"], [0.3333333333333333, \"#9c179e\"], [0.4444444444444444, \"#bd3786\"], [0.5555555555555556, \"#d8576b\"], [0.6666666666666666, \"#ed7953\"], [0.7777777777777778, \"#fb9f3a\"], [0.8888888888888888, \"#fdca26\"], [1.0, \"#f0f921\"]], \"type\": \"heatmap\"}], \"heatmapgl\": [{\"colorbar\": {\"outlinewidth\": 0, \"ticks\": \"\"}, \"colorscale\": [[0.0, \"#0d0887\"], [0.1111111111111111, \"#46039f\"], [0.2222222222222222, \"#7201a8\"], [0.3333333333333333, \"#9c179e\"], [0.4444444444444444, \"#bd3786\"], [0.5555555555555556, \"#d8576b\"], [0.6666666666666666, \"#ed7953\"], [0.7777777777777778, \"#fb9f3a\"], [0.8888888888888888, \"#fdca26\"], [1.0, \"#f0f921\"]], \"type\": \"heatmapgl\"}], \"histogram\": [{\"marker\": {\"colorbar\": {\"outlinewidth\": 0, \"ticks\": \"\"}}, \"type\": \"histogram\"}], \"histogram2d\": [{\"colorbar\": {\"outlinewidth\": 0, \"ticks\": \"\"}, \"colorscale\": [[0.0, \"#0d0887\"], [0.1111111111111111, \"#46039f\"], [0.2222222222222222, \"#7201a8\"], [0.3333333333333333, \"#9c179e\"], [0.4444444444444444, \"#bd3786\"], [0.5555555555555556, \"#d8576b\"], [0.6666666666666666, \"#ed7953\"], [0.7777777777777778, \"#fb9f3a\"], [0.8888888888888888, \"#fdca26\"], [1.0, \"#f0f921\"]], \"type\": \"histogram2d\"}], \"histogram2dcontour\": [{\"colorbar\": {\"outlinewidth\": 0, \"ticks\": \"\"}, \"colorscale\": [[0.0, \"#0d0887\"], [0.1111111111111111, \"#46039f\"], [0.2222222222222222, \"#7201a8\"], [0.3333333333333333, \"#9c179e\"], [0.4444444444444444, \"#bd3786\"], [0.5555555555555556, \"#d8576b\"], [0.6666666666666666, \"#ed7953\"], [0.7777777777777778, \"#fb9f3a\"], [0.8888888888888888, \"#fdca26\"], [1.0, \"#f0f921\"]], \"type\": \"histogram2dcontour\"}], \"mesh3d\": [{\"colorbar\": {\"outlinewidth\": 0, \"ticks\": \"\"}, \"type\": \"mesh3d\"}], \"parcoords\": [{\"line\": {\"colorbar\": {\"outlinewidth\": 0, \"ticks\": \"\"}}, \"type\": \"parcoords\"}], \"pie\": [{\"automargin\": true, \"type\": \"pie\"}], \"scatter\": [{\"marker\": {\"colorbar\": {\"outlinewidth\": 0, \"ticks\": \"\"}}, \"type\": \"scatter\"}], \"scatter3d\": [{\"line\": {\"colorbar\": {\"outlinewidth\": 0, \"ticks\": \"\"}}, \"marker\": {\"colorbar\": {\"outlinewidth\": 0, \"ticks\": \"\"}}, \"type\": \"scatter3d\"}], \"scattercarpet\": [{\"marker\": {\"colorbar\": {\"outlinewidth\": 0, \"ticks\": \"\"}}, \"type\": \"scattercarpet\"}], \"scattergeo\": [{\"marker\": {\"colorbar\": {\"outlinewidth\": 0, \"ticks\": \"\"}}, \"type\": \"scattergeo\"}], \"scattergl\": [{\"marker\": {\"colorbar\": {\"outlinewidth\": 0, \"ticks\": \"\"}}, \"type\": \"scattergl\"}], \"scattermapbox\": [{\"marker\": {\"colorbar\": {\"outlinewidth\": 0, \"ticks\": \"\"}}, \"type\": \"scattermapbox\"}], \"scatterpolar\": [{\"marker\": {\"colorbar\": {\"outlinewidth\": 0, \"ticks\": \"\"}}, \"type\": \"scatterpolar\"}], \"scatterpolargl\": [{\"marker\": {\"colorbar\": {\"outlinewidth\": 0, \"ticks\": \"\"}}, \"type\": \"scatterpolargl\"}], \"scatterternary\": [{\"marker\": {\"colorbar\": {\"outlinewidth\": 0, \"ticks\": \"\"}}, \"type\": \"scatterternary\"}], \"surface\": [{\"colorbar\": {\"outlinewidth\": 0, \"ticks\": \"\"}, \"colorscale\": [[0.0, \"#0d0887\"], [0.1111111111111111, \"#46039f\"], [0.2222222222222222, \"#7201a8\"], [0.3333333333333333, \"#9c179e\"], [0.4444444444444444, \"#bd3786\"], [0.5555555555555556, \"#d8576b\"], [0.6666666666666666, \"#ed7953\"], [0.7777777777777778, \"#fb9f3a\"], [0.8888888888888888, \"#fdca26\"], [1.0, \"#f0f921\"]], \"type\": \"surface\"}], \"table\": [{\"cells\": {\"fill\": {\"color\": \"#EBF0F8\"}, \"line\": {\"color\": \"white\"}}, \"header\": {\"fill\": {\"color\": \"#C8D4E3\"}, \"line\": {\"color\": \"white\"}}, \"type\": \"table\"}]}, \"layout\": {\"annotationdefaults\": {\"arrowcolor\": \"#2a3f5f\", \"arrowhead\": 0, \"arrowwidth\": 1}, \"autotypenumbers\": \"strict\", \"coloraxis\": {\"colorbar\": {\"outlinewidth\": 0, \"ticks\": \"\"}}, \"colorscale\": {\"diverging\": [[0, \"#8e0152\"], [0.1, \"#c51b7d\"], [0.2, \"#de77ae\"], [0.3, \"#f1b6da\"], [0.4, \"#fde0ef\"], [0.5, \"#f7f7f7\"], [0.6, \"#e6f5d0\"], [0.7, \"#b8e186\"], [0.8, \"#7fbc41\"], [0.9, \"#4d9221\"], [1, \"#276419\"]], \"sequential\": [[0.0, \"#0d0887\"], [0.1111111111111111, \"#46039f\"], [0.2222222222222222, \"#7201a8\"], [0.3333333333333333, \"#9c179e\"], [0.4444444444444444, \"#bd3786\"], [0.5555555555555556, \"#d8576b\"], [0.6666666666666666, \"#ed7953\"], [0.7777777777777778, \"#fb9f3a\"], [0.8888888888888888, \"#fdca26\"], [1.0, \"#f0f921\"]], \"sequentialminus\": [[0.0, \"#0d0887\"], [0.1111111111111111, \"#46039f\"], [0.2222222222222222, \"#7201a8\"], [0.3333333333333333, \"#9c179e\"], [0.4444444444444444, \"#bd3786\"], [0.5555555555555556, \"#d8576b\"], [0.6666666666666666, \"#ed7953\"], [0.7777777777777778, \"#fb9f3a\"], [0.8888888888888888, \"#fdca26\"], [1.0, \"#f0f921\"]]}, \"colorway\": [\"#636efa\", \"#EF553B\", \"#00cc96\", \"#ab63fa\", \"#FFA15A\", \"#19d3f3\", \"#FF6692\", \"#B6E880\", \"#FF97FF\", \"#FECB52\"], \"font\": {\"color\": \"#2a3f5f\"}, \"geo\": {\"bgcolor\": \"white\", \"lakecolor\": \"white\", \"landcolor\": \"#E5ECF6\", \"showlakes\": true, \"showland\": true, \"subunitcolor\": \"white\"}, \"hoverlabel\": {\"align\": \"left\"}, \"hovermode\": \"closest\", \"mapbox\": {\"style\": \"light\"}, \"paper_bgcolor\": \"white\", \"plot_bgcolor\": \"#E5ECF6\", \"polar\": {\"angularaxis\": {\"gridcolor\": \"white\", \"linecolor\": \"white\", \"ticks\": \"\"}, \"bgcolor\": \"#E5ECF6\", \"radialaxis\": {\"gridcolor\": \"white\", \"linecolor\": \"white\", \"ticks\": \"\"}}, \"scene\": {\"xaxis\": {\"backgroundcolor\": \"#E5ECF6\", \"gridcolor\": \"white\", \"gridwidth\": 2, \"linecolor\": \"white\", \"showbackground\": true, \"ticks\": \"\", \"zerolinecolor\": \"white\"}, \"yaxis\": {\"backgroundcolor\": \"#E5ECF6\", \"gridcolor\": \"white\", \"gridwidth\": 2, \"linecolor\": \"white\", \"showbackground\": true, \"ticks\": \"\", \"zerolinecolor\": \"white\"}, \"zaxis\": {\"backgroundcolor\": \"#E5ECF6\", \"gridcolor\": \"white\", \"gridwidth\": 2, \"linecolor\": \"white\", \"showbackground\": true, \"ticks\": \"\", \"zerolinecolor\": \"white\"}}, \"shapedefaults\": {\"line\": {\"color\": \"#2a3f5f\"}}, \"ternary\": {\"aaxis\": {\"gridcolor\": \"white\", \"linecolor\": \"white\", \"ticks\": \"\"}, \"baxis\": {\"gridcolor\": \"white\", \"linecolor\": \"white\", \"ticks\": \"\"}, \"bgcolor\": \"#E5ECF6\", \"caxis\": {\"gridcolor\": \"white\", \"linecolor\": \"white\", \"ticks\": \"\"}}, \"title\": {\"x\": 0.05}, \"xaxis\": {\"automargin\": true, \"gridcolor\": \"white\", \"linecolor\": \"white\", \"ticks\": \"\", \"title\": {\"standoff\": 15}, \"zerolinecolor\": \"white\", \"zerolinewidth\": 2}, \"yaxis\": {\"automargin\": true, \"gridcolor\": \"white\", \"linecolor\": \"white\", \"ticks\": \"\", \"title\": {\"standoff\": 15}, \"zerolinecolor\": \"white\", \"zerolinewidth\": 2}}}, \"updatemenus\": [{\"buttons\": [{\"args\": [null, {\"frame\": {\"duration\": 500, \"redraw\": true}, \"fromcurrent\": true, \"mode\": \"immediate\", \"transition\": {\"duration\": 500, \"easing\": \"linear\"}}], \"label\": \"&#9654;\", \"method\": \"animate\"}, {\"args\": [[null], {\"frame\": {\"duration\": 0, \"redraw\": true}, \"fromcurrent\": true, \"mode\": \"immediate\", \"transition\": {\"duration\": 0, \"easing\": \"linear\"}}], \"label\": \"&#9724;\", \"method\": \"animate\"}], \"direction\": \"left\", \"pad\": {\"r\": 10, \"t\": 70}, \"showactive\": false, \"type\": \"buttons\", \"x\": 0.1, \"xanchor\": \"right\", \"y\": 0, \"yanchor\": \"top\"}]},                        {\"responsive\": true}                    ).then(function(){\n",
       "                            Plotly.addFrames('692cbc32-5038-4a22-a815-dd13cb2aadcb', [{\"data\": [{\"coloraxis\": \"coloraxis\", \"geo\": \"geo\", \"hovertemplate\": \"<b>%{hovertext}</b><br><br>percent=%{z}<br>Alpha-3 code=%{location}<extra></extra>\", \"hovertext\": [\"China National Coal Group Company Limited\"], \"locations\": [\"CHN\"], \"name\": \"\", \"z\": [14.32], \"type\": \"choropleth\"}], \"name\": \"14.32\"}, {\"data\": [{\"coloraxis\": \"coloraxis\", \"geo\": \"geo\", \"hovertemplate\": \"<b>%{hovertext}</b><br><br>percent=%{z}<br>Alpha-3 code=%{location}<extra></extra>\", \"hovertext\": [\"Saudi Arabian Oil Company (Aramco)\"], \"locations\": [\"SAU\"], \"name\": \"\", \"z\": [4.5], \"type\": \"choropleth\"}], \"name\": \"4.5\"}, {\"data\": [{\"coloraxis\": \"coloraxis\", \"geo\": \"geo\", \"hovertemplate\": \"<b>%{hovertext}</b><br><br>percent=%{z}<br>Alpha-3 code=%{location}<extra></extra>\", \"hovertext\": [\"Gazprom OAO\"], \"locations\": [\"RUS\"], \"name\": \"\", \"z\": [3.91], \"type\": \"choropleth\"}], \"name\": \"3.91\"}, {\"data\": [{\"coloraxis\": \"coloraxis\", \"geo\": \"geo\", \"hovertemplate\": \"<b>%{hovertext}</b><br><br>percent=%{z}<br>Alpha-3 code=%{location}<extra></extra>\", \"hovertext\": [\"National Iranian Oil Co\"], \"locations\": [\"IRN\"], \"name\": \"\", \"z\": [2.28], \"type\": \"choropleth\"}], \"name\": \"2.28\"}, {\"data\": [{\"coloraxis\": \"coloraxis\", \"geo\": \"geo\", \"hovertemplate\": \"<b>%{hovertext}</b><br><br>percent=%{z}<br>Alpha-3 code=%{location}<extra></extra>\", \"hovertext\": [\"ExxonMobil Corp\"], \"locations\": [\"USA\"], \"name\": \"\", \"z\": [1.98], \"type\": \"choropleth\"}], \"name\": \"1.98\"}, {\"data\": [{\"coloraxis\": \"coloraxis\", \"geo\": \"geo\", \"hovertemplate\": \"<b>%{hovertext}</b><br><br>percent=%{z}<br>Alpha-3 code=%{location}<extra></extra>\", \"hovertext\": [\"Coal India\", \"Petroleos Mexicanos (Pemex)\"], \"locations\": [\"IND\", \"MEX\"], \"name\": \"\", \"z\": [1.87, 1.87], \"type\": \"choropleth\"}], \"name\": \"1.87\"}, {\"data\": [{\"coloraxis\": \"coloraxis\", \"geo\": \"geo\", \"hovertemplate\": \"<b>%{hovertext}</b><br><br>percent=%{z}<br>Alpha-3 code=%{location}<extra></extra>\", \"hovertext\": [\"Russia (Coal)\"], \"locations\": [\"RUS\"], \"name\": \"\", \"z\": [1.86], \"type\": \"choropleth\"}], \"name\": \"1.86\"}, {\"data\": [{\"coloraxis\": \"coloraxis\", \"geo\": \"geo\", \"hovertemplate\": \"<b>%{hovertext}</b><br><br>percent=%{z}<br>Alpha-3 code=%{location}<extra></extra>\", \"hovertext\": [\"Royal Dutch Shell PLC\"], \"locations\": [\"NLD\"], \"name\": \"\", \"z\": [1.67], \"type\": \"choropleth\"}], \"name\": \"1.67\"}, {\"data\": [{\"coloraxis\": \"coloraxis\", \"geo\": \"geo\", \"hovertemplate\": \"<b>%{hovertext}</b><br><br>percent=%{z}<br>Alpha-3 code=%{location}<extra></extra>\", \"hovertext\": [\"China National Petroleum Corp (CNPC)\"], \"locations\": [\"CHN\"], \"name\": \"\", \"z\": [1.56], \"type\": \"choropleth\"}], \"name\": \"1.56\"}, {\"data\": [{\"coloraxis\": \"coloraxis\", \"geo\": \"geo\", \"hovertemplate\": \"<b>%{hovertext}</b><br><br>percent=%{z}<br>Alpha-3 code=%{location}<extra></extra>\", \"hovertext\": [\"BP PLC\"], \"locations\": [\"GBR\"], \"name\": \"\", \"z\": [1.53], \"type\": \"choropleth\"}], \"name\": \"1.53\"}, {\"data\": [{\"coloraxis\": \"coloraxis\", \"geo\": \"geo\", \"hovertemplate\": \"<b>%{hovertext}</b><br><br>percent=%{z}<br>Alpha-3 code=%{location}<extra></extra>\", \"hovertext\": [\"Chevron Corp\"], \"locations\": [\"USA\"], \"name\": \"\", \"z\": [1.31], \"type\": \"choropleth\"}], \"name\": \"1.31\"}, {\"data\": [{\"coloraxis\": \"coloraxis\", \"geo\": \"geo\", \"hovertemplate\": \"<b>%{hovertext}</b><br><br>percent=%{z}<br>Alpha-3 code=%{location}<extra></extra>\", \"hovertext\": [\"Petroleos de Venezuela SA (PDVSA)\"], \"locations\": [\"VEN\"], \"name\": \"\", \"z\": [1.23], \"type\": \"choropleth\"}], \"name\": \"1.23\"}, {\"data\": [{\"coloraxis\": \"coloraxis\", \"geo\": \"geo\", \"hovertemplate\": \"<b>%{hovertext}</b><br><br>percent=%{z}<br>Alpha-3 code=%{location}<extra></extra>\", \"hovertext\": [\"Abu Dhabi National Oil Co\"], \"locations\": [\"SAU\"], \"name\": \"\", \"z\": [1.2], \"type\": \"choropleth\"}], \"name\": \"1.2\"}, {\"data\": [{\"coloraxis\": \"coloraxis\", \"geo\": \"geo\", \"hovertemplate\": \"<b>%{hovertext}</b><br><br>percent=%{z}<br>Alpha-3 code=%{location}<extra></extra>\", \"hovertext\": [\"Poland Coal\"], \"locations\": [\"POL\"], \"name\": \"\", \"z\": [1.16], \"type\": \"choropleth\"}], \"name\": \"1.16\"}, {\"data\": [{\"coloraxis\": \"coloraxis\", \"geo\": \"geo\", \"hovertemplate\": \"<b>%{hovertext}</b><br><br>percent=%{z}<br>Alpha-3 code=%{location}<extra></extra>\", \"hovertext\": [\"Peabody Energy Corp\"], \"locations\": [\"USA\"], \"name\": \"\", \"z\": [1.15], \"type\": \"choropleth\"}], \"name\": \"1.15\"}, {\"data\": [{\"coloraxis\": \"coloraxis\", \"geo\": \"geo\", \"hovertemplate\": \"<b>%{hovertext}</b><br><br>percent=%{z}<br>Alpha-3 code=%{location}<extra></extra>\", \"hovertext\": [\"Sonatrach SPA\", \"Kuwait Petroleum Corp\"], \"locations\": [\"DZA\", \"KWT\"], \"name\": \"\", \"z\": [1.0, 1.0], \"type\": \"choropleth\"}], \"name\": \"1.0\"}, {\"data\": [{\"coloraxis\": \"coloraxis\", \"geo\": \"geo\", \"hovertemplate\": \"<b>%{hovertext}</b><br><br>percent=%{z}<br>Alpha-3 code=%{location}<extra></extra>\", \"hovertext\": [\"Total SA\"], \"locations\": [\"FRA\"], \"name\": \"\", \"z\": [0.95], \"type\": \"choropleth\"}], \"name\": \"0.95\"}, {\"data\": [{\"coloraxis\": \"coloraxis\", \"geo\": \"geo\", \"hovertemplate\": \"<b>%{hovertext}</b><br><br>percent=%{z}<br>Alpha-3 code=%{location}<extra></extra>\", \"hovertext\": [\"BHP Billiton Ltd\", \"ConocoPhillips\"], \"locations\": [\"AUS\", \"USA\"], \"name\": \"\", \"z\": [0.91, 0.91], \"type\": \"choropleth\"}], \"name\": \"0.91\"}]);\n",
       "                        }).then(function(){\n",
       "                            \n",
       "var gd = document.getElementById('692cbc32-5038-4a22-a815-dd13cb2aadcb');\n",
       "var x = new MutationObserver(function (mutations, observer) {{\n",
       "        var display = window.getComputedStyle(gd).display;\n",
       "        if (!display || display === 'none') {{\n",
       "            console.log([gd, 'removed!']);\n",
       "            Plotly.purge(gd);\n",
       "            observer.disconnect();\n",
       "        }}\n",
       "}});\n",
       "\n",
       "// Listen for the removal of the full notebook cells\n",
       "var notebookContainer = gd.closest('#notebook-container');\n",
       "if (notebookContainer) {{\n",
       "    x.observe(notebookContainer, {childList: true});\n",
       "}}\n",
       "\n",
       "// Listen for the clearing of the current output cell\n",
       "var outputEl = gd.closest('.output');\n",
       "if (outputEl) {{\n",
       "    x.observe(outputEl, {childList: true});\n",
       "}}\n",
       "\n",
       "                        })                };                });            </script>        </div>"
      ]
     },
     "metadata": {},
     "output_type": "display_data"
    }
   ],
   "source": [
    "fig = px.choropleth(df21, \n",
    "                    locations=\"Alpha-3 code\", \n",
    "                    color=\"percent\",\n",
    "                    hover_name=\"company\", \n",
    "                    animation_frame=\"percent\", \n",
    "                    range_color=[0.77,14.32])\n",
    "fig.show()"
   ]
  },
  {
   "cell_type": "code",
   "execution_count": null,
   "metadata": {},
   "outputs": [],
   "source": []
  }
 ],
 "metadata": {
  "kernelspec": {
   "display_name": "Python 3",
   "language": "python",
   "name": "python3"
  },
  "language_info": {
   "codemirror_mode": {
    "name": "ipython",
    "version": 3
   },
   "file_extension": ".py",
   "mimetype": "text/x-python",
   "name": "python",
   "nbconvert_exporter": "python",
   "pygments_lexer": "ipython3",
   "version": "3.8.3"
  }
 },
 "nbformat": 4,
 "nbformat_minor": 4
}
